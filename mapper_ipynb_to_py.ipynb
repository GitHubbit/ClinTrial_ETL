{
 "cells": [
  {
   "cell_type": "markdown",
   "id": "da527b7e-2d30-4660-b6ee-1a63bc9df48f",
   "metadata": {},
   "source": [
    "### THIS SCRIPT USES MetaMap to try and map the bulk of terms, and Name Resolver to pick up what's left"
   ]
  },
  {
   "cell_type": "code",
   "execution_count": 1,
   "id": "730291b8-7f12-4e72-bfa6-4c7ae33ae738",
   "metadata": {
    "tags": []
   },
   "outputs": [
    {
     "data": {
      "text/html": [
       "<style>.container { width:100% !important; }</style>"
      ],
      "text/plain": [
       "<IPython.core.display.HTML object>"
      ]
     },
     "metadata": {},
     "output_type": "display_data"
    },
    {
     "data": {
      "text/html": [
       "<style>.output_result { max-width:100% !important; }</style>"
      ],
      "text/plain": [
       "<IPython.core.display.HTML object>"
      ]
     },
     "metadata": {},
     "output_type": "display_data"
    }
   ],
   "source": [
    "# display cells to maximum width \n",
    "from IPython.display import display, HTML\n",
    "display(HTML(\"<style>.container { width:100% !important; }</style>\"))\n",
    "display(HTML(\"<style>.output_result { max-width:100% !important; }</style>\"))\n",
    "\n",
    "# lets you preint multiple outputs per cell, not just last\n",
    "from IPython.core.interactiveshell import InteractiveShell\n",
    "InteractiveShell.ast_node_interactivity = \"all\""
   ]
  },
  {
   "cell_type": "code",
   "execution_count": 2,
   "id": "70b0f433-c7bb-4b98-aa7b-1d1e6ad1e3b4",
   "metadata": {
    "tags": []
   },
   "outputs": [],
   "source": [
    "import pandas as pd\n",
    "import requests\n",
    "import bs4\n",
    "from bs4 import BeautifulSoup\n",
    "import re\n",
    "import collections\n",
    "import os\n",
    "import json\n",
    "import numpy as np\n",
    "import pickle\n",
    "from functools import reduce\n",
    "import time\n",
    "from time import sleep\n",
    "# import concurrent\n",
    "import concurrent.futures\n",
    "import multiprocessing\n",
    "import datetime as dt\n",
    "from datetime import date\n",
    "import pathlib\n",
    "import configparser\n",
    "import sys\n",
    "import urllib\n",
    "import zipfile\n",
    "import csv\n",
    "sys.path.insert(0, '/Volumes/TOSHIBA_EXT/ISB/clinical_trials/pymetamap-master')\n",
    "from pymetamap import MetaMap  # https://github.com/AnthonyMRios/pymetamap/blob/master/pymetamap/SubprocessBackend.py\n",
    "from pandas import ExcelWriter\n",
    "import ast\n",
    "import glob\n",
    "from tqdm import tqdm\n",
    "import subprocess\n",
    "import shlex\n",
    "from collections import Counter\n",
    "\n",
    "# %pip install thefuzz\n",
    "# %pip install levenshtein\n",
    "# %pip install xlsxwriter\n",
    "# %pip install ratelimit\n",
    "\n",
    "from thefuzz import fuzz # fuzzy matching explained: https://www.datacamp.com/tutorial/fuzzy-string-python"
   ]
  },
  {
   "cell_type": "code",
   "execution_count": 3,
   "id": "23d4d831-06e5-4439-920e-b6495d81adc3",
   "metadata": {
    "tags": []
   },
   "outputs": [],
   "source": [
    "def get_token_sort_ratio(str1, str2):\n",
    "    \"\"\" fuzzy matching explained: https://www.datacamp.com/tutorial/fuzzy-string-python \"\"\"\n",
    "    try:\n",
    "        return fuzz.token_sort_ratio(str1, str2)\n",
    "    except:\n",
    "        return None\n",
    "\n",
    "def get_token_set_ratio(str1, str2):\n",
    "    \"\"\" fuzzy matching explained: https://www.datacamp.com/tutorial/fuzzy-string-python \"\"\"\n",
    "    try:\n",
    "        return fuzz.token_set_ratio(str1, str2)\n",
    "    except:\n",
    "        return None  \n",
    "\n",
    "def get_similarity_score(str1, str2):\n",
    "    \"\"\" fuzzy matching explained: https://www.datacamp.com/tutorial/fuzzy-string-python \"\"\"\n",
    "    try:\n",
    "        return fuzz.ratio(str1, str2)\n",
    "    except:\n",
    "        return None\n",
    "    \n",
    "def convert_seconds_to_hms(seconds):\n",
    "    \"\"\" converts the elapsed time or runtime to hours, min, sec \"\"\"\n",
    "    hours = seconds // 3600\n",
    "    seconds %= 3600\n",
    "    minutes = seconds // 60\n",
    "    seconds %= 60\n",
    "    return hours, minutes, seconds\n",
    "\n",
    "def de_ascii_er(text):\n",
    "    non_ascii = \"[^\\x00-\\x7F]\"\n",
    "    pattern = re.compile(r\"[^\\x00-\\x7F]\")\n",
    "    non_ascii_text = re.sub(pattern, ' ', text)\n",
    "    return non_ascii_text\n",
    "\n",
    "def start_metamap_servers(metamap_dirs):\n",
    "    global metamap_pos_server_dir\n",
    "    global metamap_wsd_server_dir\n",
    "    metamap_pos_server_dir = 'bin/skrmedpostctl' # Part of speech tagger\n",
    "    metamap_wsd_server_dir = 'bin/wsdserverctl' # Word sense disambiguation \n",
    "    \n",
    "    metamap_executable_path_pos = os.path.join(metamap_dirs['metamap_base_dir'], metamap_pos_server_dir)\n",
    "    metamap_executable_path_wsd = os.path.join(metamap_dirs['metamap_base_dir'], metamap_wsd_server_dir)\n",
    "    command_pos = [metamap_executable_path_pos, 'start']\n",
    "    command_wsd = [metamap_executable_path_wsd, 'start']\n",
    "\n",
    "    # Start servers, with open portion redirects output of metamap server printing output to NULL\n",
    "    with open(os.devnull, \"w\") as fnull:\n",
    "        result_post = subprocess.call(command_pos, stdout = fnull, stderr = fnull)\n",
    "        result_wsd = subprocess.call(command_wsd, stdout = fnull, stderr = fnull)\n",
    "    sleep(5)\n",
    "\n",
    "def stop_metamap_servers(metamap_dirs):\n",
    "    metamap_executable_path_pos = os.path.join(metamap_dirs['metamap_base_dir'], metamap_pos_server_dir)\n",
    "    metamap_executable_path_wsd = os.path.join(metamap_dirs['metamap_base_dir'], metamap_wsd_server_dir)\n",
    "    command_pos = [metamap_executable_path_pos, 'stop']\n",
    "    command_wsd = [metamap_executable_path_wsd, 'stop']\n",
    "    \n",
    "    # Stop servers, with open portion redirects output of metamap server printing output to NULL\n",
    "    with open(os.devnull, \"w\") as fnull:\n",
    "        result_post = subprocess.call(command_pos, stdout = fnull, stderr = fnull)\n",
    "        result_wsd = subprocess.call(command_wsd, stdout = fnull, stderr = fnull)\n",
    "    sleep(2)  \n",
    "    \n",
    "def add_mappings_to_cache(flag_and_path):\n",
    "    relevant_date = flag_and_path[\"date_string\"]   # get date of bulk download of clinical trial data\n",
    "    with open(\"metamapped_terms_cache.tsv\", 'a+', encoding=\"utf-8\") as cache:\n",
    "        with open(f\"{relevant_date}_metamap_output.tsv\", 'r', encoding=\"utf-8\", errors='ignore') as new_metamapped_terms:\n",
    "            # Read the first line from new_metamapped_terms to move the cursor\n",
    "            line = new_metamapped_terms.readline()\n",
    "\n",
    "            # Move the cursor to the position after the first line\n",
    "            while line:\n",
    "                line = new_metamapped_terms.readline()\n",
    "                if line:\n",
    "                    # Append the line to file_1\n",
    "                    cache.write(line)\n",
    "    \"\"\" Remove duplicate rows from cache \"\"\"\n",
    "    cache = pd.read_csv(\"metamapped_terms_cache.tsv\", sep='\\t', index_col=False, header=0, on_bad_lines = 'warn')\n",
    "    cache = cache.drop_duplicates()\n",
    "    cache.to_csv('metamapped_terms_cache.tsv', sep=\"\\t\", index=False, header=True) # output deduplicated cache terms to TSV\n",
    "\n",
    "def add_manually_selected_terms_to_cache():\n",
    "    # -----     ------     GENERATE MANUALLY SELECTED CACHE     -----     ------  #\n",
    "    try:\n",
    "        #  --- --- --   CONDITIONS     --- --- --   #\n",
    "        files = glob.glob(\"*.xlsx\")\n",
    "        conditions_manselected_files = [i for i in files if \"conditions_manual_review\" in i if not i.startswith(\"~\")][0]  \n",
    "        conditions_manselected = pd.read_excel(conditions_manselected_files)\n",
    "        conditions_manselected.name.ffill(inplace=True)\n",
    "        conditions_manselected.orig_con.ffill(inplace=True)\n",
    "        conditions_manselected = conditions_manselected[~conditions_manselected['manually_selected_CURIE'].isnull()] # check if the conditions got mapped to any CURIEs\n",
    "        conditions_manselected.drop([\"curie_info\"], axis = 1, inplace = True)\n",
    "        conditions_manselected.rename(columns = {'name':'original_clin_trial_term', 'orig_con':'modified_clin_trial_term'}, inplace = True)\n",
    "\n",
    "        with open('conditions_manually_selected_cache.tsv', 'a') as output:\n",
    "            conditions_manselected.to_csv(output, mode='a',sep=\"\\t\", index=False, header=output.tell()==0)\n",
    "        \"\"\" Remove duplicate rows from cache \"\"\"\n",
    "        cache = pd.read_csv(\"conditions_manually_selected_cache.tsv\", sep='\\t', index_col=False, header=0, on_bad_lines = 'warn')\n",
    "        cache = cache.drop_duplicates()\n",
    "        cache.to_csv('conditions_manually_selected_cache.tsv', sep=\"\\t\", index=False, header=True) # output deduplicated cache terms to TSV\n",
    "\n",
    "        #  --- --- --   INTERVENTIONS and Alternate INTERVENTIONS   --- --- --   #\n",
    "        files = glob.glob(\"*.xlsx\")\n",
    "        interventions_manselected_files = [i for i in files if \"interventions_manual_review\" in i if not i.startswith(\"~\")][0]  \n",
    "        interventions_manselected = pd.read_excel(interventions_manselected_files)\n",
    "        interventions_manselected.name.ffill(inplace=True)\n",
    "        interventions_manselected.orig_int.ffill(inplace=True)\n",
    "        interventions_manselected = interventions_manselected[~interventions_manselected['manually_selected_CURIE'].isnull()] # check if the conditions got mapped to any CURIEs\n",
    "        interventions_manselected.drop([\"curie_info\", \"description\"], axis = 1, inplace = True)\n",
    "        interventions_manselected.rename(columns = {'name':'original_clin_trial_term', 'orig_int':'modified_clin_trial_term'}, inplace = True)\n",
    "\n",
    "        with open('interventions_manually_selected_cache.tsv', 'a') as output:\n",
    "            interventions_manselected.to_csv(output, mode='a',sep=\"\\t\", index=False, header=output.tell()==0)\n",
    "        \"\"\" Remove duplicate rows from cache \"\"\"\n",
    "        cache = pd.read_csv(\"interventions_manually_selected_cache.tsv\", sep='\\t', index_col=False, header=0, on_bad_lines = 'warn')\n",
    "        cache = cache.drop_duplicates()\n",
    "        cache.to_csv('interventions_manually_selected_cache.tsv', sep=\"\\t\", index=False, header=True) # output deduplicated cache terms to TSV\n",
    "    except:\n",
    "        print(\"No terms in manual select column; either column is empty or bug. Proceeding without them\")\n",
    "        \n",
    "def check_os():\n",
    "    if \"linux\" in sys.platform:\n",
    "        print(\"Linux platform detected\")\n",
    "        metamap_base_dir = \"{}/metamap/\".format(pathlib.Path.cwd().parents[0])\n",
    "        metamap_bin_dir = 'bin/metamap20'\n",
    "    else:\n",
    "        metamap_base_dir = '/Volumes/TOSHIBA_EXT/ISB/clinical_trials/public_mm/' # for running on local\n",
    "        metamap_bin_dir = 'bin/metamap18'\n",
    "        \n",
    "    return {\"metamap_base_dir\":metamap_base_dir, \"metamap_bin_dir\":metamap_bin_dir}  \n"
   ]
  },
  {
   "cell_type": "code",
   "execution_count": 5,
   "id": "6746b051-2524-4d93-ad30-69e7fcd225e0",
   "metadata": {
    "tags": []
   },
   "outputs": [],
   "source": [
    "def get_raw_ct_data():\n",
    "    term_program_flag = True\n",
    "    global data_dir\n",
    "    global data_extracted\n",
    "    \n",
    "    try:\n",
    "        # get all the links and associated dates of upload into a dict called date_link\n",
    "        url_all = \"https://aact.ctti-clinicaltrials.org/download\"\n",
    "        response = requests.get(url_all)\n",
    "        soup = BeautifulSoup(response.text, features=\"lxml\")\n",
    "        body = soup.find_all('option') #Find all\n",
    "        date_link = {}\n",
    "        for el in body:\n",
    "            tags = el.find('a')\n",
    "            try:\n",
    "                zip_name = tags.contents[0].split()[0]\n",
    "                date = zip_name.split(\"_\")[0]\n",
    "                date = dt.datetime.strptime(date, '%Y%m%d').date()\n",
    "                date_link[date] = tags.get('href')\n",
    "            except:\n",
    "                pass\n",
    "        latest_file_date = max(date_link.keys())   # get the date of the latest upload\n",
    "        url = date_link[latest_file_date]   # get the corresponding download link of the latest upload so we can download the raw data\n",
    "        date_string = latest_file_date.strftime(\"%m_%d_%Y\")\n",
    "        data_dir = \"{}/data\".format(pathlib.Path.cwd())\n",
    "        data_extracted = data_dir + \"/{}_extracted\".format(date_string)\n",
    "        data_path = \"{}/{}_pipe-delimited-export.zip\".format(data_dir, date_string)\n",
    "    except:\n",
    "        print(\"continue\")\n",
    "\n",
    "    if not os.path.exists(data_path):   # if folder containing most recent data doesn't exist, download and extract it into data folder\n",
    "\n",
    "        term_program_flag = False   # flag below for terminating program if latest download exists (KG is assumed up to date)\n",
    "        print(\"Attempting download of Clinical Trial data as of {}\\n\".format(date_string))\n",
    "        try:\n",
    "            response = requests.get(url)\n",
    "            if response.status_code == 200:\n",
    "                with open(data_path, 'wb') as file:\n",
    "                    file.write(response.content)\n",
    "                print(\"Finished download of zip\")\n",
    "                with zipfile.ZipFile(data_path, 'r') as download:\n",
    "                    print(\"Unzipping data\")\n",
    "                    download.extractall(data_extracted)\n",
    "        except:\n",
    "            print(\"Failed to scrape AACT for download. Please navigate to https://aact.ctti-clinicaltrials.org/download and manually download zip file.\")\n",
    "            print(\"Please store the downloaded zip in the /data directory. This should be the only item besides the cache file, condition manual review file, and intervention manual review file, in the directory at this time.\")\n",
    "            done = input(\"Type Done when done: \")\n",
    "            if done == \"Done\":\n",
    "                data_dir = \"{}/data\".format(pathlib.Path.cwd())\n",
    "                # list_of_files = glob.glob(data_dir + \"/*\") # get all files in directory\n",
    "                try:\n",
    "                    # latest_file = max(list_of_files, key=os.path.getctime) # get the most recent file in the directory\n",
    "                    pattern = os.path.join(data_dir, \"*.zip\")\n",
    "                    zip_file = glob.glob(pattern) # look for file in directory that ends in \".zip\"\n",
    "                    zip_file = zip_file[0]\n",
    "                    print(\"File found at: \")\n",
    "                    print(zip_file)\n",
    "                    # print(latest_file)\n",
    "                    print(\"Please make sure this the correct zip file from AACT\")\n",
    "                    if not os.path.exists(data_extracted):   # if folder of unzipped data does not exist, unzip\n",
    "                        try:\n",
    "                            with zipfile.ZipFile(zip_file, 'r') as download:\n",
    "                                print(\"Unzipping data into\")\n",
    "                                cttime = os.path.getctime(zip_file)\n",
    "                                date_string = dt.datetime.fromtimestamp(cttime).strftime('%m_%d_%Y')\n",
    "                                data_extracted = data_dir + \"/{}_extracted\".format(date_string)\n",
    "                                print(data_extracted)\n",
    "                                download.extractall(data_extracted)\n",
    "                        except:\n",
    "                            pattern = os.path.join(data_dir, \"*_extracted\")\n",
    "                            extracted_file = glob.glob(pattern) # look for file in directory that ends in \"_extracted\"\n",
    "                            data_extracted = extracted_file[0]\n",
    "                            extracted_name = os.path.basename(os.path.normpath(extracted_file[0]))\n",
    "                            date_string = extracted_name.replace('_extracted', '')\n",
    "                            print(\"Assuming data is already unzipped\")\n",
    "                        \n",
    "                except:\n",
    "                    print(\"Unable to download and extract Clincal Trial data.\")\n",
    "                    print(\"Cannot find pipe-delimited zip in /data folder.\")\n",
    "    else:\n",
    "        print(\"KG is already up to date.\")\n",
    "\n",
    "    return {\"term_program_flag\": term_program_flag, \"data_extracted_path\": data_extracted, \"date_string\": date_string}\n"
   ]
  },
  {
   "cell_type": "code",
   "execution_count": 6,
   "id": "c4850c49-b00e-422a-805b-137fccb7cd94",
   "metadata": {
    "tags": []
   },
   "outputs": [],
   "source": [
    "def read_raw_ct_data(flag_and_path, subset_size):\n",
    "    if flag_and_path[\"term_program_flag\"]:\n",
    "        print(\"Exiting program. Assuming KG has already been constructed from most recent data dump from AACT.\")\n",
    "        exit()\n",
    "    else:\n",
    "        data_extracted = flag_and_path[\"data_extracted_path\"]\n",
    "        # read in pipe-delimited files \n",
    "        conditions_df = pd.read_csv(data_extracted + '/conditions.txt', sep='|', index_col=False, header=0, on_bad_lines = 'warn')\n",
    "        interventions_df = pd.read_csv(data_extracted + '/interventions.txt', sep='|', index_col=False, header=0, on_bad_lines = 'warn')\n",
    "        interventions_alts_df = pd.read_csv(data_extracted + '/intervention_other_names.txt', sep='|', index_col=False, header=0, on_bad_lines = 'warn')\n",
    "\n",
    "        if subset_size:   # if a subset size is given, we are running this script on a small subset of the dataset\n",
    "            conditions_df = conditions_df.sample(n=subset_size)\n",
    "            interventions_df = interventions_df.sample(n=subset_size)\n",
    "            interventions_alts_df = interventions_alts_df.sample(n=subset_size)\n",
    "    \n",
    "    df_dict = {\"conditions\": conditions_df, \"interventions\": interventions_df, \"interventions_alts\": interventions_alts_df}\n",
    "    return df_dict\n"
   ]
  },
  {
   "cell_type": "markdown",
   "id": "fd612efd-e483-4754-8edd-3dc45fe95e88",
   "metadata": {},
   "source": [
    "# Check against cache, retrieve terms not already mapped"
   ]
  },
  {
   "cell_type": "code",
   "execution_count": 7,
   "id": "eddc0c83-10b4-4065-b2bb-1bad9cb0e63a",
   "metadata": {
    "tags": []
   },
   "outputs": [],
   "source": [
    "def check_against_cache(df_dict):\n",
    "    conditions_list = df_dict['conditions'].name.unique().tolist()\n",
    "    conditions_list = [str(i) for i in conditions_list]\n",
    "    conditions_list = list(set([i.lower() for i in conditions_list]))\n",
    "    \n",
    "    interventions_list = df_dict['interventions'].name.unique().tolist()\n",
    "    interventions_list = [str(i) for i in interventions_list]\n",
    "    interventions_list = list(set([i.lower() for i in interventions_list]))\n",
    "    \n",
    "    interventions_alts_list = df_dict['interventions_alts'].name.unique().tolist()\n",
    "    interventions_alts_list = [str(i) for i in interventions_alts_list]\n",
    "    interventions_alts_list = list(set([i.lower() for i in interventions_alts_list]))\n",
    "    \n",
    "    try:        \n",
    "        cache_df = pd.read_csv(\"mapping_cache.tsv\", sep =\"\\t\", index_col=False, header=0, on_bad_lines = 'warn')\n",
    "        \n",
    "        conditions_cache = cache_df[cache_df[\"term_type\"] == \"condition\"]\n",
    "        conditions_cache = conditions_cache['clintrial_term'].unique().tolist()\n",
    "        conditions_cache = list(set([i.lower() for i in conditions_cache]))\n",
    "        \n",
    "        conditions_new = [x for x in conditions_list if x not in conditions_cache] # find conditions not in the cache (i.g. new conditions to map)\n",
    "        conditions_new = list(filter(None, conditions_new))\n",
    "        conditions_new = [str(i) for i in conditions_new]\n",
    "        \n",
    "        interventions_cache = cache_df[cache_df[\"term_type\"] == \"intervention\"]\n",
    "        interventions_cache = interventions_cache['clintrial_term'].unique().tolist()\n",
    "        interventions_cache = list(set([i.lower() for i in interventions_cache]))\n",
    "        \n",
    "        interventions_new = [x for x in interventions_list if x not in interventions_cache] # find interventions not in the cache (i.g. new interventions to map)\n",
    "        interventions_new = list(filter(None, interventions_new))\n",
    "        interventions_new = [str(i) for i in interventions_new]\n",
    "        \n",
    "        interventions_alts_cache = cache_df[cache_df[\"term_type\"] == \"intervention_alternate\"]\n",
    "        interventions_alts_cache = interventions_alts_cache['clintrial_term'].unique().tolist()\n",
    "        interventions_alts_cache = list(set([i.lower() for i in interventions_alts_cache]))\n",
    "        \n",
    "        interventions_alts_new = [x for x in interventions_alts_list if x not in interventions_alts_cache] # find interventions_alts not in the cache (i.g. new interventions_alts to map)\n",
    "        interventions_alts_new = list(filter(None, interventions_alts_new))\n",
    "        interventions_alts_new = [str(i) for i in interventions_alts_new]\n",
    "        \n",
    "    except:\n",
    "        print(\"No cache of terms found. Proceeding to map entire KG from scratch\")\n",
    "        conditions_new = conditions_list\n",
    "        interventions_new = interventions_list\n",
    "        interventions_alts_new = interventions_alts_list\n",
    "        \n",
    "    dict_new_terms = {\"conditions\": conditions_new, \"interventions\": interventions_new, \"interventions_alts\": interventions_alts_new}\n",
    "\n",
    "    return dict_new_terms\n"
   ]
  },
  {
   "cell_type": "markdown",
   "id": "6a9a77e9-7ead-4ee6-a4df-d2aa636cc893",
   "metadata": {},
   "source": [
    "# Map new terms using Mapper"
   ]
  },
  {
   "cell_type": "code",
   "execution_count": 8,
   "id": "ee1c310c-1087-4d72-bef2-53f535f92e6d",
   "metadata": {
    "tags": []
   },
   "outputs": [],
   "source": [
    "def get_nr_response(orig_term):\n",
    "    def create_session():\n",
    "        s = requests.Session()\n",
    "        return s\n",
    "    \n",
    "    sess = create_session()\n",
    "    \n",
    "    \"\"\"   Runs Name Resolver   \"\"\"\n",
    "    nr_url = 'https://name-resolution-sri.renci.org/lookup'\n",
    "    max_retries = 3 \n",
    "    \n",
    "    input_term = orig_term # in MetaMap, we have to potentially deascii the term and lower case it...for Name Resolver, we don't need to do that. To keep columns consist with MetaMap output, we just keep it and say the original term and the input term are the same. For MetaMap, they might be different\n",
    "    retries = 0\n",
    "    params = {'string':orig_term, 'limit':1} # limit -1 makes this return all available equivalent CURIEs name resolver can give (deprecated)\n",
    "    while retries <= max_retries:\n",
    "        try:\n",
    "            r = sess.post(nr_url, params=params)\n",
    "            if r.status_code == 200:\n",
    "                mapping_tool_response = r.json()  # process Name Resolver response\n",
    "                return mapping_tool_response\n",
    "            else:\n",
    "                return None\n",
    "        except (requests.RequestException, ConnectionResetError, OSError) as ex:\n",
    "            print(f\"\\nName Resolver request failed for term: {term}. Error: {ex}\")\n",
    "            retries += 1\n",
    "            if retries < max_retries:\n",
    "                print(f\"Retrying ({retries}/{max_retries}) after a delay.\")\n",
    "                time.sleep(2 ** retries)  # Increase the delay between retries exponentially\n",
    "            else:\n",
    "                print(f\"Max retries (Name Resolver) reached for term: {term}.\")\n",
    "                return None\n",
    "    \n",
    "    # request_count +=1\n",
    "    # if request_count % 50 == 0:  # if 50 requests to API have been made, sleep 10 secs\n",
    "    #     time.sleep(10)  \n",
    "    "
   ]
  },
  {
   "cell_type": "code",
   "execution_count": 16,
   "id": "0c24efc4-8cab-4094-b2e4-bdb7c6fe5af7",
   "metadata": {
    "tags": []
   },
   "outputs": [],
   "source": [
    "# # nr_response = get_nr_response(orig_term)\n",
    "# # ['mapping_tool', 'term_type', 'clintrial_term', 'input_term', 'mapping_tool_response', 'score']\n",
    "# for i in [\"cordiceps\", \"chocolate\", \"diabetes mellitus\", \"blipadbloo\", \"catheter\", \"humira®\"]:\n",
    "#     nr_result = get_nr_response(i)\n",
    "#     if nr_result:\n",
    "#         nr_result\n",
    "#         nr_curie = nr_result[0][\"curie\"]\n",
    "#         nr_name = nr_result[0][\"label\"]\n",
    "#         nr_type = nr_result[0][\"types\"][0]\n",
    "#         nr_score = nr_result[0][\"score\"]\n",
    "#         new_concept_dict = {\"nameresolver_preferred_name\": nr_name,\n",
    "#                              \"nameresolver_cui\": nr_curie,\n",
    "#                              \"nameresolver_score\": nr_score,\n",
    "#                              \"nameresolver_semtypes\": nr_type}\n",
    "#     else:\n",
    "#         print(\"nothing returned from NR\")"
   ]
  },
  {
   "cell_type": "code",
   "execution_count": 9,
   "id": "9c54f747-2f68-49f5-b020-06ca183ba75f",
   "metadata": {
    "tags": []
   },
   "outputs": [],
   "source": [
    "def run_mappers(term_pair, params, mm, term_type, csv_writer):\n",
    "    mapping_tool = \"metamap\"\n",
    "    orig_term = term_pair[0]\n",
    "    input_term = term_pair[1]\n",
    "    from_mapper = []\n",
    "    \n",
    "    # Format of output TSV: header = ['mapping_tool', 'term_type', 'clintrial_term', 'input_term', 'mapping_tool_response', 'score']\n",
    "\n",
    "    if params.get(\"exclude_sts\") is None: # exclude_sts is used for Interventions. restrict_to_sts is used for Conditions. So, the logic is, if we're mapping Conditions, execute \"if\" part of code. If we're mapping Interventions, execute \"else\" part of code\n",
    "        try:\n",
    "            concepts,error = mm.extract_concepts([input_term],\n",
    "                                     restrict_to_sts = params[\"restrict_to_sts\"],\n",
    "                                     term_processing = params[\"term_processing\"],\n",
    "                                     ignore_word_order = params[\"ignore_word_order\"],\n",
    "                                     strict_model = params[\"strict_model\"],)\n",
    "                                                    \n",
    "            if concepts:   # if MetaMap gives response, process response\n",
    "                for concept in concepts:\n",
    "                    concept_info = []\n",
    "                    concept_info.extend([mapping_tool, term_type, orig_term, input_term]) # Format of output TSV: header = ['mapping_tool', 'term_type', 'clintrial_term', 'input_term', 'mapping_tool_response', 'score']\n",
    "                    concept = concept._asdict()\n",
    "                    new_concept_dict  = {\"metamap_preferred_name\": concept.get(\"preferred_name\"),\n",
    "                                         \"metamap_cui\": concept.get(\"cui\"),\n",
    "                                         \"metamap_score\": concept.get(\"score\"),\n",
    "                                         \"metamap_semtypes\": concept.get(\"semtypes\")}\n",
    "                    concept_info.append(new_concept_dict)\n",
    "                    concept_info.append(None) # this is for the score column, empty bc not scored yet\n",
    "                    from_mapper.append(concept_info)\n",
    "            else:   # if MetaMap fails, try using Name Resolver and process response\n",
    "                nr_response = get_nr_response(orig_term)\n",
    "                # run_mappers.nrcalls += 1\n",
    "                if nr_response: # if Name Resolver gives response, process repsonse\n",
    "                    input_term = orig_term # no preprocessing (lowercasing or deascii-ing) necessary to submit terms to Name Resolver (unlike MetaMap)\n",
    "                    mapping_tool = \"nameresolver\"\n",
    "                    concept_info = []\n",
    "                    \n",
    "                    nr_curie = nr_response[0][\"curie\"]\n",
    "                    nr_name = nr_response[0][\"label\"]\n",
    "                    nr_type = nr_response[0][\"types\"][0]\n",
    "                    nr_score = nr_response[0][\"score\"]\n",
    "                    new_concept_dict = {\"nameresolver_preferred_name\": nr_name,\n",
    "                                         \"nameresolver_cui\": nr_curie,\n",
    "                                         \"nameresolver_score\": nr_score,\n",
    "                                         \"nameresolver_semtypes\": nr_type}\n",
    "                    concept_info.extend([mapping_tool, term_type, orig_term, input_term])\n",
    "                    concept_info.append(new_concept_dict)\n",
    "                    concept_info.append(None) # this is for the score column, empty bc not scored yet\n",
    "                    from_mapper.append(concept_info)\n",
    "                else:\n",
    "                    print(\"Nothing returned from NR or Metamap\")\n",
    "                    concept_info.extend([mapping_tool, term_type, orig_term, input_term, None, None])\n",
    "                    from_mapper.append(concept_info)\n",
    "        except:\n",
    "            print(\"Nothing returned from NR or Metamap\")\n",
    "            concept_info.extend([mapping_tool, term_type, orig_term, input_term, None, None])\n",
    "            from_mapper.append(concept_info)\n",
    "            \n",
    "    else:   # Else block triggered if mapping Interventions\n",
    "        try:\n",
    "            concepts,error = mm.extract_concepts([input_term],\n",
    "                                                 exclude_sts = params[\"exclude_sts\"],\n",
    "                                                 term_processing = params[\"term_processing\"],\n",
    "                                                 ignore_word_order = params[\"ignore_word_order\"],\n",
    "                                                 strict_model = params[\"strict_model\"],) \n",
    "                                                   \n",
    "            if concepts:   # if MetaMap gives response, process response\n",
    "                for concept in concepts:\n",
    "                    concept_info = []\n",
    "                    concept_info.extend([mapping_tool, term_type, orig_term, input_term]) # Format of output TSV: header = ['mapping_tool', 'term_type', 'clintrial_term', 'input_term', 'mapping_tool_response', 'score']\n",
    "                    concept = concept._asdict()\n",
    "                    new_concept_dict  = {\"metamap_preferred_name\": concept.get(\"preferred_name\"),\n",
    "                                         \"metamap_cui\": concept.get(\"cui\"),\n",
    "                                         \"metamap_score\": concept.get(\"score\"),\n",
    "                                         \"metamap_semtypes\": concept.get(\"semtypes\")}\n",
    "                    concept_info.append(new_concept_dict)\n",
    "                    concept_info.append(None) # this is for the score column, empty bc not scored yet\n",
    "                    from_mapper.append(concept_info)\n",
    "            else:   # if MetaMap fails, try using Name Resolver and process response\n",
    "                print(\"ATTEMPTING NAME RESOLVER HERE\")\n",
    "                nr_response = get_nr_response(orig_term)\n",
    "                # run_mappers.nrcalls += 1\n",
    "                if nr_response: # if Name Resolver gives response, process repsonse\n",
    "                    input_term = orig_term # no preprocessing (lowercasing or deascii-ing) necessary to submit terms to Name Resolver (unlike MetaMap)\n",
    "                    mapping_tool = \"nameresolver\"\n",
    "                    concept_info = []\n",
    "                    \n",
    "                    nr_curie = nr_response[0][\"curie\"]\n",
    "                    nr_name = nr_response[0][\"label\"]\n",
    "                    nr_type = nr_response[0][\"types\"][0]\n",
    "                    nr_score = nr_response[0][\"score\"]\n",
    "                    new_concept_dict = {\"nameresolver_preferred_name\": nr_name,\n",
    "                                        \"nameresolver_cui\": nr_curie,\n",
    "                                        \"nameresolver_score\": nr_score,\n",
    "                                        \"nameresolver_semtypes\": nr_type}\n",
    "                    concept_info.extend([mapping_tool, term_type, orig_term, input_term])\n",
    "                    concept_info.append(new_concept_dict)\n",
    "                    concept_info.append(None) # this is for the score column, empty bc not scored yet\n",
    "                    from_mapper.append(concept_info)\n",
    "                else:\n",
    "                    print(\"Nothing returned from NR or Metamap\")\n",
    "                    concept_info.extend([mapping_tool, term_type, orig_term, input_term, None, None])\n",
    "                    from_mapper.append(concept_info)\n",
    "        except:\n",
    "            print(\"Nothing returned from NR or Metamap\")\n",
    "            concept_info.extend([mapping_tool, term_type, orig_term, input_term, None, None])\n",
    "            from_mapper.append(concept_info)\n",
    "\n",
    "    for result in from_mapper:\n",
    "        print(result)\n",
    "        csv_writer.writerow(result)\n",
    "    # return from_metamap"
   ]
  },
  {
   "cell_type": "code",
   "execution_count": 11,
   "id": "485fd6bb-2e4a-40f5-bbc9-e92af2c16a87",
   "metadata": {
    "tags": []
   },
   "outputs": [],
   "source": [
    "def parallelize_mappers(term_pair_list, params, term_type, csv_writer):\n",
    "\n",
    "    LENGTH = len(term_pair_list)  # Number of iterations required to fill progress bar (pbar)\n",
    "    pbar = tqdm(total=LENGTH, desc=\"% {}s mapped\".format(term_type), position=0, leave=True, mininterval = LENGTH/20, bar_format='{l_bar}{bar:20}{r_bar}{bar:-10b}')  # Init progress bar\n",
    "\n",
    "    start_metamap_servers(metamap_dirs) # start the MetaMap servers\n",
    "    mm = MetaMap.get_instance(metamap_dirs[\"metamap_base_dir\"] + metamap_dirs[\"metamap_bin_dir\"])\n",
    "    with concurrent.futures.ThreadPoolExecutor((multiprocessing.cpu_count()*2) - 1) as executor:\n",
    "        futures = [executor.submit(run_mappers, term_pair, params, mm, term_type, csv_writer) for term_pair in term_pair_list]\n",
    "        for _ in concurrent.futures.as_completed(futures):\n",
    "            pbar.update(n=1)  # Increments counter\n",
    "    stop_metamap_servers(metamap_dirs) # stop the MetaMap servers\n",
    "    "
   ]
  },
  {
   "cell_type": "code",
   "execution_count": 12,
   "id": "1f79ca09-cac5-4f30-a262-ff86690265e7",
   "metadata": {
    "tags": []
   },
   "outputs": [],
   "source": [
    "def term_list_to_mappers(dict_new_terms):   \n",
    "    metamap_version = [int(s) for s in re.findall(r'\\d+', metamap_dirs.get('metamap_bin_dir'))] # get MetaMap version being run \n",
    "    deasciier = np.vectorize(de_ascii_er) # vectorize function\n",
    "    \n",
    "    # open mapping cache to add mapped terms\n",
    "    mapping_filename = \"mapping_cache.tsv\"\n",
    "    if os.path.exists(mapping_filename):\n",
    "        output = open(mapping_filename, 'a', newline='') \n",
    "        csv_writer = csv.writer(output, delimiter='\\t')\n",
    "    else:\n",
    "        output = open(mapping_filename, 'w+', newline='')\n",
    "        col_names = ['mapping_tool', 'term_type', 'clintrial_term', 'input_term', 'mapping_tool_response', 'score']\n",
    "        csv_writer = csv.writer(output, delimiter='\\t')\n",
    "        csv_writer.writerow(col_names)\n",
    "\n",
    "    #  - Conditions\n",
    "    condition_semantic_type_restriction = ['acab,anab,cgab,comd,dsyn,inpo,mobd,neop,patf,clna,fndg']  # see https://lhncbc.nlm.nih.gov/ii/tools/MetaMap/Docs/SemanticTypes_2018AB.txt for semantic types (\"acab,anab,etc.\")\n",
    "    conditions = dict_new_terms.get(\"conditions\")\n",
    "    condition_params = {\"restrict_to_sts\":condition_semantic_type_restriction, \"term_processing\":True, \"ignore_word_order\":True, \"strict_model\":False} # strict_model and relaxed_model are presumably opposites? relaxed_model = True is what I want, but that option appears to be broken in Pymetamap (returns no results when used). Using strict_model = False instead...\n",
    "    # conditon_term_type = \"condition\"\n",
    "\n",
    "    #  - Interventions\n",
    "    condition_semantic_type_restriction = ['acab,anab,cgab,comd,dsyn,inpo,mobd,neop,patf,clna,fndg']  # see https://lhncbc.nlm.nih.gov/ii/tools/MetaMap/Docs/SemanticTypes_2018AB.txt for semantic types (\"acab,anab,etc.\")\n",
    "    interventions = dict_new_terms.get(\"interventions\")\n",
    "    intervention_params = {\"exclude_sts\":condition_semantic_type_restriction, \"term_processing\":True, \"ignore_word_order\":True, \"strict_model\":False} # strict_model and relaxed_model are presumably opposites? relaxed_model = True is what I want, but that option appears to be broken in Pymetamap (returns no results when used). Using strict_model = False instead...\n",
    "    # intervention_term_type = \"intervention\"\n",
    "\n",
    "    #  - Alternate Interventions\n",
    "    condition_semantic_type_restriction = ['acab,anab,cgab,comd,dsyn,inpo,mobd,neop,patf,clna,fndg']  # see https://lhncbc.nlm.nih.gov/ii/tools/MetaMap/Docs/SemanticTypes_2018AB.txt for semantic types (\"acab,anab,etc.\")\n",
    "    interventions_alts = dict_new_terms.get(\"interventions_alts\")\n",
    "    intervention_params = {\"exclude_sts\":condition_semantic_type_restriction, \"term_processing\":True, \"ignore_word_order\":True, \"strict_model\":False} # strict_model and relaxed_model are presumably opposites? relaxed_model = True is what I want, but that option appears to be broken in Pymetamap (returns no results when used). Using strict_model = False instead...\n",
    "    # intervention_alternate_term_type = \"intervention_alternate\"\n",
    "    \n",
    "    if metamap_version[0] >= 20:\n",
    "        print(\"MetaMap version >= 2020, conduct mapping on original terms\")\n",
    "        parallelize_mappers(list(zip(conditions, conditions)), condition_params, \"condition\", csv_writer)\n",
    "        parallelize_mappers(list(zip(interventions, interventions)), intervention_params, \"intervention\", csv_writer)\n",
    "        parallelize_mappers(list(zip(interventions_alts, interventions_alts)), intervention_alts_params, \"alternate_intervention\", csv_writer)\n",
    "    else:\n",
    "        print(\"MetaMap version < 2020, conduct mapping on terms after removing ascii characters\")\n",
    "        deascii_cons = deasciier(conditions)\n",
    "        deascii_ints = deasciier(interventions)\n",
    "        deascii_int_alts = deasciier(interventions_alts)\n",
    "        parallelize_mappers(list(zip(conditions, deascii_cons)), condition_params, \"condition\", csv_writer)\n",
    "        parallelize_mappers(list(zip(interventions, deascii_ints)), intervention_params, \"intervention\", csv_writer)\n",
    "        parallelize_mappers(list(zip(interventions_alts, deascii_int_alts)), intervention_params, \"intervention_alternate\", csv_writer)\n",
    "\n",
    "    output.close()\n",
    "    \n",
    "    \"\"\" Remove duplicate rows from cache \"\"\"\n",
    "    cache = pd.read_csv(mapping_filename, sep='\\t', index_col=False, header=0, on_bad_lines = 'warn')\n",
    "    cache = cache.drop_duplicates()\n",
    "    cache.to_csv(mapping_filename, sep=\"\\t\", index=False, header=True) # output deduplicated cache terms to TSV\n"
   ]
  },
  {
   "cell_type": "code",
   "execution_count": null,
   "id": "30b40eb7-50af-40e8-8fc8-8cc4e506285c",
   "metadata": {
    "tags": []
   },
   "outputs": [],
   "source": [
    "# # def score_metamap_mappings():\n",
    "\n",
    "\n",
    "# header = True\n",
    "# with pd.read_csv(\"mapping_cache.tsv\", sep='\\t', index_col=False, header=0, on_bad_lines = 'warn', chunksize=1000) as reader:\n",
    "#     for chunk in reader:\n",
    "#         chunk[\"scored\"] = np.where(~chunk[\"score\"].isnull(), chunk[\"score\"],\n",
    "#                                    np.where((chunk.score.isnull())&(chunk.mapping_tool == \"metamap\"),\n",
    "#         df['d'] = np.where(df.a.isnull(),\n",
    "#          np.nan,\n",
    "#          np.where((df.b == \"N\")&(~df.c.isnull()),\n",
    "#                   df.a*df.c,\n",
    "#                   df.a))\n",
    "        \n",
    "        \n",
    "#         for i, row in chunk.iterrows():\n",
    "#             print(type(row[\"score\"]))\n",
    "#             if not row[\"score\"].isnull():\n",
    "#                 print(i)\n",
    "# #                 break\n",
    "#             elif pd.isnull(row[\"score\"]) and row[\"mapping_tool\"] == \"metamap\":\n",
    "#                 mm_dict = ast.literal_eval(row[\"mapping_tool_response\"])\n",
    "#                 mapped_term = mm_dict['metamap_preferred_name']\n",
    "#                 sort_ratio_score = get_token_sort_ratio(row[\"clintrial_term\"], mapped_term)\n",
    "#                 similarity_score = get_similarity_score(row[\"clintrial_term\"], mapped_term)\n",
    "#                 max_score = max(sort_ratio_score, similarity_score)\n",
    "#                 chunk.at[i, \"score\"] = max_score\n",
    "#             elif pd.isnull(row[\"score\"]) and row[\"mapping_tool\"] == \"nameresolver\":\n",
    "#                 break\n",
    "            \n",
    "#             chunk.to_csv(\"mapping_cache_scored.tsv\", header=header, sep=\"\\t\", index=False, mode='a+')\n",
    "#             header = False\n",
    "\n",
    "#       header = True\n",
    "# for chunk in chunks:\n",
    "\n",
    "#     chunk.to_csv(os.path.join(folder, new_folder, \"new_file_\" + filename),\n",
    "#         header=header, cols=[['TIME','STUFF']], mode='a')\n",
    "\n",
    "#     header = False          \n",
    "                \n",
    "            \n",
    "# original_clintrial_term = row[\"clintrial_term\"]\n"
   ]
  },
  {
   "cell_type": "code",
   "execution_count": 13,
   "id": "98ceddf5-0ebe-41d9-9b89-85fc647f4136",
   "metadata": {
    "tags": []
   },
   "outputs": [
    {
     "name": "stdout",
     "output_type": "stream",
     "text": [
      "Attempting download of Clinical Trial data as of 02_21_2024\n",
      "\n",
      "Failed to scrape AACT for download. Please navigate to https://aact.ctti-clinicaltrials.org/download and manually download zip file.\n",
      "Please store the downloaded zip in the /data directory. This should be the only item besides the cache file, condition manual review file, and intervention manual review file, in the directory at this time.\n"
     ]
    },
    {
     "name": "stdin",
     "output_type": "stream",
     "text": [
      "Type Done when done:  Done\n"
     ]
    },
    {
     "name": "stdout",
     "output_type": "stream",
     "text": [
      "File found at: \n",
      "/Users/Kamileh/Work/ISB/NCATS_BiomedicalTranslator/Projects/ClinicalTrials/ETL_Python/data/8vstm2enpo0ocbo2z7oypqurhgmz.zip\n",
      "Please make sure this the correct zip file from AACT\n",
      "Unzipping data into\n",
      "/Users/Kamileh/Work/ISB/NCATS_BiomedicalTranslator/Projects/ClinicalTrials/ETL_Python/data/02_20_2024_extracted\n",
      "MetaMap version < 2020, conduct mapping on terms after removing ascii characters\n"
     ]
    },
    {
     "name": "stderr",
     "output_type": "stream",
     "text": [
      "% conditions mapped:   5%|█                   | 1/19 [00:11<03:27, 11."
     ]
    },
    {
     "name": "stdout",
     "output_type": "stream",
     "text": [
      "['metamap', 'condition', 'pneumoperitoneum [c06.844.670]', 'pneumoperitoneum [c06.844.670]', {'metamap_preferred_name': 'Pneumoperitoneum', 'metamap_cui': 'C0032320', 'metamap_score': '9.87', 'metamap_semtypes': '[dsyn]'}, None]\n",
      "['metamap', 'condition', 'bacteremia', 'bacteremia', {'metamap_preferred_name': 'Bacteremia', 'metamap_cui': 'C0004610', 'metamap_score': '19.41', 'metamap_semtypes': '[dsyn]'}, None]\n",
      "['metamap', 'condition', 'bacteremia', 'bacteremia', {'metamap_preferred_name': 'Bacteremia, CTCAE', 'metamap_cui': 'C4553946', 'metamap_score': '3.64', 'metamap_semtypes': '[fndg]'}, None]\n",
      "['metamap', 'condition', 'cataract', 'cataract', {'metamap_preferred_name': 'Cataract', 'metamap_cui': 'C0086543', 'metamap_score': '9.95', 'metamap_semtypes': '[acab]'}, None]\n",
      "['metamap', 'condition', 'cataract', 'cataract', {'metamap_preferred_name': 'Cataract, CTCAE 5.0', 'metamap_cui': 'C4555209', 'metamap_score': '3.64', 'metamap_semtypes': '[fndg]'}, None]\n",
      "['metamap', 'condition', 'ulcerative colitis flare', 'ulcerative colitis flare', {'metamap_preferred_name': 'Ulcerative Colitis Flare', 'metamap_cui': 'C4053902', 'metamap_score': '3.77', 'metamap_semtypes': '[dsyn]'}, None]\n",
      "['metamap', 'condition', 'pain', 'pain', {'metamap_preferred_name': 'Pain NOS, CTCAE', 'metamap_cui': 'C1962977', 'metamap_score': '3.64', 'metamap_semtypes': '[fndg]'}, None]\n",
      "['metamap', 'condition', 'pain', 'pain', {'metamap_preferred_name': 'Pain, CTCAE', 'metamap_cui': 'C4553004', 'metamap_score': '3.64', 'metamap_semtypes': '[fndg]'}, None]\n",
      "['metamap', 'condition', 'influenza a', 'influenza a', {'metamap_preferred_name': 'Influenza A', 'metamap_cui': 'C2062441', 'metamap_score': '3.72', 'metamap_semtypes': '[dsyn]'}, None]\n"
     ]
    },
    {
     "name": "stderr",
     "output_type": "stream",
     "text": [
      "% conditions mapped:  37%|███████▎            | 7/19 [00:13<00:17,  1."
     ]
    },
    {
     "name": "stdout",
     "output_type": "stream",
     "text": [
      "['metamap', 'condition', 'carcinoma, renal cell', 'carcinoma, renal cell', {'metamap_preferred_name': 'Renal Cell Carcinoma', 'metamap_cui': 'C0007134', 'metamap_score': '19.49', 'metamap_semtypes': '[neop]'}, None]\n",
      "['metamap', 'condition', 'cardiovascular diseases', 'cardiovascular diseases', {'metamap_preferred_name': 'Cardiovascular Diseases', 'metamap_cui': 'C0007222', 'metamap_score': '3.72', 'metamap_semtypes': '[dsyn]'}, None]\n",
      "['nameresolver', 'condition', 'character', 'character', {'nameresolver_preferred_name': 'Character change', 'nameresolver_cui': 'UMLS:C0235181', 'nameresolver_score': 20.734428, 'nameresolver_semtypes': 'biolink:Disease'}, None]\n",
      "['metamap', 'condition', 'hodgkin disease', 'hodgkin disease', {'metamap_preferred_name': 'Hodgkin Disease', 'metamap_cui': 'C0019829', 'metamap_score': '16.33', 'metamap_semtypes': '[neop]'}, None]\n"
     ]
    },
    {
     "name": "stderr",
     "output_type": "stream",
     "text": [
      "% conditions mapped:  58%|███████████▌        | 11/19 [00:17<00:10,  1"
     ]
    },
    {
     "name": "stdout",
     "output_type": "stream",
     "text": [
      "['nameresolver', 'condition', 'healthy volunteers', 'healthy volunteers', {'nameresolver_preferred_name': 'Healthy Volunteers', 'nameresolver_cui': 'UMLS:C1708335', 'nameresolver_score': 102.17507, 'nameresolver_semtypes': 'biolink:PopulationOfIndividualOrganisms'}, None]\n",
      "['metamap', 'condition', 'electromagnetic interference', 'electromagnetic interference', {'metamap_preferred_name': 'Electromagnetic Interference Associated with Medical Device', 'metamap_cui': 'C1880489', 'metamap_score': '3.72', 'metamap_semtypes': '[fndg]'}, None]\n",
      "['metamap', 'condition', 'electromagnetic interference', 'electromagnetic interference', {'metamap_preferred_name': 'Electromagnetic interference', 'metamap_cui': 'C1504600', 'metamap_score': '3.72', 'metamap_semtypes': '[fndg]'}, None]\n",
      "['metamap', 'condition', 'polyps gallbladder', 'polyps gallbladder', {'metamap_preferred_name': 'Polyp of gallbladder', 'metamap_cui': 'C0262493', 'metamap_score': '3.72', 'metamap_semtypes': '[neop]'}, None]\n",
      "['metamap', 'condition', 'transplant; failure, liver', 'transplant; failure, liver', {'metamap_preferred_name': 'Liver transplant failure', 'metamap_cui': 'C0400969', 'metamap_score': '3.71', 'metamap_semtypes': '[patf]'}, None]\n"
     ]
    },
    {
     "name": "stderr",
     "output_type": "stream",
     "text": [
      "% conditions mapped:  79%|███████████████▊    | 15/19 [00:19<00:03,  1"
     ]
    },
    {
     "name": "stdout",
     "output_type": "stream",
     "text": [
      "['metamap', 'condition', 'high altitude cerebral edema', 'high altitude cerebral edema', {'metamap_preferred_name': 'High altitude cerebral edema', 'metamap_cui': 'C0472390', 'metamap_score': '3.81', 'metamap_semtypes': '[dsyn]'}, None]\n",
      "['metamap', 'condition', 'hypoventilation', 'hypoventilation', {'metamap_preferred_name': 'Hypoventilation', 'metamap_cui': 'C3203358', 'metamap_score': '13.10', 'metamap_semtypes': '[patf]'}, None]\n",
      "['metamap', 'condition', 'peripheral artery disease', 'peripheral artery disease', {'metamap_preferred_name': 'Peripheral Arterial Diseases', 'metamap_cui': 'C1704436', 'metamap_score': '19.54', 'metamap_semtypes': '[dsyn]'}, None]\n",
      "['metamap', 'condition', 'peripheral artery disease', 'peripheral artery disease', {'metamap_preferred_name': 'Peripheral arterial stenosis', 'metamap_cui': 'C4025272', 'metamap_score': '3.77', 'metamap_semtypes': '[dsyn]'}, None]\n"
     ]
    },
    {
     "name": "stderr",
     "output_type": "stream",
     "text": [
      "% conditions mapped:  95%|██████████████████▉ | 18/19 [00:20<00:00,  1"
     ]
    },
    {
     "name": "stdout",
     "output_type": "stream",
     "text": [
      "['metamap', 'condition', 'microvascular angina', 'microvascular angina', {'metamap_preferred_name': 'Microvascular Angina', 'metamap_cui': 'C0206064', 'metamap_score': '16.33', 'metamap_semtypes': '[dsyn]'}, None]\n",
      "['metamap', 'condition', 'breast cancer female', 'breast cancer female', {'metamap_preferred_name': 'Malignant neoplasm of female breast', 'metamap_cui': 'C0235653', 'metamap_score': '3.77', 'metamap_semtypes': '[neop]'}, None]\n"
     ]
    },
    {
     "name": "stderr",
     "output_type": "stream",
     "text": [
      "% conditions mapped: 100%|████████████████████| 19/19 [00:23<00:00,  1\n",
      "% interventions mapped:   5%|█                   | 1/19 [00:09<02:53, "
     ]
    },
    {
     "name": "stdout",
     "output_type": "stream",
     "text": [
      "['metamap', 'intervention', 'etoposide', 'etoposide', {'metamap_preferred_name': 'Etoposide', 'metamap_cui': 'C0015133', 'metamap_score': '28.87', 'metamap_semtypes': '[orch,phsu]'}, None]\n"
     ]
    },
    {
     "name": "stderr",
     "output_type": "stream",
     "text": [
      "% interventions mapped:  11%|██                  | 2/19 [00:10<01:18, "
     ]
    },
    {
     "name": "stdout",
     "output_type": "stream",
     "text": [
      "['metamap', 'intervention', 'rotem-algorithm', 'rotem-algorithm', {'metamap_preferred_name': 'algorithm', 'metamap_cui': 'C0002045', 'metamap_score': '9.90', 'metamap_semtypes': '[inpr]'}, None]\n",
      "['metamap', 'intervention', 'rotem-algorithm', 'rotem-algorithm', {'metamap_preferred_name': 'Observation Method - algorithm', 'metamap_cui': 'C1553907', 'metamap_score': '3.59', 'metamap_semtypes': '[ftcn]'}, None]\n",
      "ATTEMPTING NAME RESOLVER HERE\n",
      "['metamap', 'intervention', 'nasal glucagon (ng)', 'nasal glucagon (ng)', {'metamap_preferred_name': None, 'metamap_cui': None, 'metamap_score': None, 'metamap_semtypes': None}, None]\n",
      "['metamap', 'intervention', 'nasal glucagon (ng)', 'nasal glucagon (ng)', {'metamap_preferred_name': 'Glucagon', 'metamap_cui': 'C0017687', 'metamap_score': '19.36', 'metamap_semtypes': '[aapp,horm,phsu]'}, None]\n",
      "['metamap', 'intervention', 'nasal glucagon (ng)', 'nasal glucagon (ng)', {'metamap_preferred_name': 'Nose', 'metamap_cui': 'C0028429', 'metamap_score': '12.91', 'metamap_semtypes': '[bpoc]'}, None]\n",
      "['metamap', 'intervention', 'nasal glucagon (ng)', 'nasal glucagon (ng)', {'metamap_preferred_name': 'glucagon (rDNA)', 'metamap_cui': 'C0876232', 'metamap_score': '3.59', 'metamap_semtypes': '[aapp,horm,phsu]'}, None]\n",
      "['metamap', 'intervention', 'nasal glucagon (ng)', 'nasal glucagon (ng)', {'metamap_preferred_name': 'glucagon, human', 'metamap_cui': 'C0772088', 'metamap_score': '3.59', 'metamap_semtypes': '[aapp,horm,phsu]'}, None]\n",
      "['nameresolver', 'intervention', 'covid infection', 'covid infection', {'nameresolver_preferred_name': 'COVID-19 variant infection', 'nameresolver_cui': 'UMLS:C5559546', 'nameresolver_score': 23.232904, 'nameresolver_semtypes': 'biolink:Disease'}, None]\n",
      "['metamap', 'intervention', 'sklb1028 dose escalation', 'sklb1028 dose escalation', {'metamap_preferred_name': 'SKLB1028', 'metamap_cui': 'C3501119', 'metamap_score': '12.90', 'metamap_semtypes': '[orch,phsu]'}, None]\n",
      "['metamap', 'intervention', 'sklb1028 dose escalation', 'sklb1028 dose escalation', {'metamap_preferred_name': 'Dose Escalation', 'metamap_cui': 'C3816728', 'metamap_score': '3.64', 'metamap_semtypes': '[ftcn]'}, None]\n",
      "['metamap', 'intervention', 'sklb1028 dose escalation', 'sklb1028 dose escalation', {'metamap_preferred_name': 'Titration Study', 'metamap_cui': 'C2983683', 'metamap_score': '3.64', 'metamap_semtypes': '[resa]'}, None]\n"
     ]
    },
    {
     "name": "stderr",
     "output_type": "stream",
     "text": [
      "% interventions mapped:  32%|██████▎             | 6/19 [00:12<00:17, "
     ]
    },
    {
     "name": "stdout",
     "output_type": "stream",
     "text": [
      "['metamap', 'intervention', 'ropivacaine 20ml 5mg/ml+ placebo', 'ropivacaine 20ml 5mg/ml+ placebo', {'metamap_preferred_name': 'ropivacaine', 'metamap_cui': 'C0073571', 'metamap_score': '16.04', 'metamap_semtypes': '[orch,phsu]'}, None]\n",
      "['metamap', 'intervention', 'ropivacaine 20ml 5mg/ml+ placebo', 'ropivacaine 20ml 5mg/ml+ placebo', {'metamap_preferred_name': 'Placebos', 'metamap_cui': 'C0032042', 'metamap_score': '6.71', 'metamap_semtypes': '[topp]'}, None]\n",
      "['metamap', 'intervention', 'ropivacaine 20ml 5mg/ml+ placebo', 'ropivacaine 20ml 5mg/ml+ placebo', {'metamap_preferred_name': 'Placebo Control', 'metamap_cui': 'C1706408', 'metamap_score': '3.55', 'metamap_semtypes': '[resa]'}, None]\n",
      "['metamap', 'intervention', 'ropivacaine 20ml 5mg/ml+ placebo', 'ropivacaine 20ml 5mg/ml+ placebo', {'metamap_preferred_name': 'placebo', 'metamap_cui': 'C1696465', 'metamap_score': '3.55', 'metamap_semtypes': '[bodm]'}, None]\n",
      "['metamap', 'intervention', 'ropivacaine 20ml 5mg/ml+ placebo', 'ropivacaine 20ml 5mg/ml+ placebo', {'metamap_preferred_name': '/mL', 'metamap_cui': 'C0439526', 'metamap_score': '3.43', 'metamap_semtypes': '[qnco]'}, None]\n",
      "['metamap', 'intervention', 'ropivacaine 20ml 5mg/ml+ placebo', 'ropivacaine 20ml 5mg/ml+ placebo', {'metamap_preferred_name': 'THPO wt Allele', 'metamap_cui': 'C1705224', 'metamap_score': '3.43', 'metamap_semtypes': '[gngm]'}, None]\n",
      "['metamap', 'intervention', 'ropivacaine 20ml 5mg/ml+ placebo', 'ropivacaine 20ml 5mg/ml+ placebo', {'metamap_preferred_name': 'Thrombopoietin, human', 'metamap_cui': 'C3887665', 'metamap_score': '3.43', 'metamap_semtypes': '[aapp,bacs]'}, None]\n"
     ]
    },
    {
     "name": "stderr",
     "output_type": "stream",
     "text": [
      "% interventions mapped:  42%|████████▍           | 8/19 [00:13<00:11, "
     ]
    },
    {
     "name": "stdout",
     "output_type": "stream",
     "text": [
      "['metamap', 'intervention', 'telemedicine based healthcare programme', 'telemedicine based healthcare programme', {'metamap_preferred_name': 'Telemedicine', 'metamap_cui': 'C0162648', 'metamap_score': '12.89', 'metamap_semtypes': '[hlca]'}, None]\n",
      "['metamap', 'intervention', 'telemedicine based healthcare programme', 'telemedicine based healthcare programme', {'metamap_preferred_name': 'health care program', 'metamap_cui': 'C0679897', 'metamap_score': '3.61', 'metamap_semtypes': '[hlca]'}, None]\n",
      "['metamap', 'intervention', 'telemedicine based healthcare programme', 'telemedicine based healthcare programme', {'metamap_preferred_name': 'Base - General Qualifier', 'metamap_cui': 'C1705938', 'metamap_score': '3.43', 'metamap_semtypes': '[idcn]'}, None]\n",
      "['metamap', 'intervention', 'telemedicine based healthcare programme', 'telemedicine based healthcare programme', {'metamap_preferred_name': 'Basis - conceptual entity', 'metamap_cui': 'C1527178', 'metamap_score': '3.43', 'metamap_semtypes': '[ftcn]'}, None]\n",
      "['metamap', 'intervention', 'non-adjuvanted a(h1n1)v influenza vaccine', 'non-adjuvanted a(h1n1)v influenza vaccine', {'metamap_preferred_name': 'Influenza virus vaccine', 'metamap_cui': 'C0021403', 'metamap_score': '16.04', 'metamap_semtypes': '[imft,phsu]'}, None]\n",
      "['metamap', 'intervention', 'non-adjuvanted a(h1n1)v influenza vaccine', 'non-adjuvanted a(h1n1)v influenza vaccine', {'metamap_preferred_name': 'Negation', 'metamap_cui': 'C1518422', 'metamap_score': '3.54', 'metamap_semtypes': '[ftcn]'}, None]\n",
      "['metamap', 'intervention', 'non-adjuvanted a(h1n1)v influenza vaccine', 'non-adjuvanted a(h1n1)v influenza vaccine', {'metamap_preferred_name': 'vaccine adjuvant', 'metamap_cui': 'C1519886', 'metamap_score': '3.43', 'metamap_semtypes': '[chvf]'}, None]\n",
      "['metamap', 'intervention', 'non-adjuvanted a(h1n1)v influenza vaccine', 'non-adjuvanted a(h1n1)v influenza vaccine', {'metamap_preferred_name': 'H1N1', 'metamap_cui': 'C0580264', 'metamap_score': '3.42', 'metamap_semtypes': '[inpr]'}, None]\n",
      "['metamap', 'intervention', 'dfmo', 'dfmo', {'metamap_preferred_name': 'Eflornithine', 'metamap_cui': 'C0002260', 'metamap_score': '16.26', 'metamap_semtypes': '[aapp,phsu]'}, None]\n"
     ]
    },
    {
     "name": "stderr",
     "output_type": "stream",
     "text": [
      "% interventions mapped:  53%|██████████▌         | 10/19 [00:16<00:10,"
     ]
    },
    {
     "name": "stdout",
     "output_type": "stream",
     "text": [
      "['metamap', 'intervention', 'surgery', 'surgery', {'metamap_preferred_name': 'Surgical aspects', 'metamap_cui': 'C0038895', 'metamap_score': '22.57', 'metamap_semtypes': '[ftcn]'}, None]\n",
      "['metamap', 'intervention', 'surgery', 'surgery', {'metamap_preferred_name': 'General surgery specialty', 'metamap_cui': 'C1274039', 'metamap_score': '13.10', 'metamap_semtypes': '[bmod]'}, None]\n",
      "['metamap', 'intervention', 'surgery', 'surgery', {'metamap_preferred_name': 'Operative Surgical Procedures', 'metamap_cui': 'C0543467', 'metamap_score': '3.64', 'metamap_semtypes': '[topp]'}, None]\n",
      "['metamap', 'intervention', 'surgery', 'surgery', {'metamap_preferred_name': 'Surgery specialty', 'metamap_cui': 'C0038894', 'metamap_score': '3.64', 'metamap_semtypes': '[bmod]'}, None]\n",
      "['metamap', 'intervention', 'multifunctional birthing ball', 'multifunctional birthing ball', {'metamap_preferred_name': 'Birthing ball', 'metamap_cui': 'C4068784', 'metamap_score': '3.64', 'metamap_semtypes': '[medd]'}, None]\n",
      "ATTEMPTING NAME RESOLVER HERE\n"
     ]
    },
    {
     "name": "stderr",
     "output_type": "stream",
     "text": [
      "% interventions mapped:  63%|████████████▋       | 12/19 [00:17<00:07,"
     ]
    },
    {
     "name": "stdout",
     "output_type": "stream",
     "text": [
      "['nameresolver', 'intervention', 'atg', 'atg', {'nameresolver_preferred_name': 'ATG 016', 'nameresolver_cui': 'UMLS:C5557451', 'nameresolver_score': 19.83688, 'nameresolver_semtypes': 'biolink:ChemicalEntity'}, None]\n",
      "['metamap', 'intervention', 'use of the device dbl-4pen', 'use of the device dbl-4pen', {'metamap_preferred_name': 'Use of', 'metamap_cui': 'C1524063', 'metamap_score': '3.58', 'metamap_semtypes': '[ftcn]'}, None]\n",
      "['metamap', 'intervention', 'use of the device dbl-4pen', 'use of the device dbl-4pen', {'metamap_preferred_name': 'Devices', 'metamap_cui': 'C0699733', 'metamap_score': '3.42', 'metamap_semtypes': '[mnob]'}, None]\n",
      "['metamap', 'intervention', 'use of the device dbl-4pen', 'use of the device dbl-4pen', {'metamap_preferred_name': 'Medical Devices', 'metamap_cui': 'C0025080', 'metamap_score': '3.42', 'metamap_semtypes': '[medd]'}, None]\n",
      "['metamap', 'intervention', 'resistance training', 'resistance training', {'metamap_preferred_name': 'Resistance Training', 'metamap_cui': 'C0872279', 'metamap_score': '22.64', 'metamap_semtypes': '[topp]'}, None]\n",
      "['metamap', 'intervention', 'resistance training', 'resistance training', {'metamap_preferred_name': 'Resistance education', 'metamap_cui': 'C0814409', 'metamap_score': '3.72', 'metamap_semtypes': '[hlca]'}, None]\n",
      "['metamap', 'intervention', 'spironolactone', 'spironolactone', {'metamap_preferred_name': 'Spironolactone', 'metamap_cui': 'C0037982', 'metamap_score': '19.41', 'metamap_semtypes': '[orch,phsu]'}, None]\n",
      "['metamap', 'intervention', 'sugar-sweetened beverage reduction education for preschool children', 'sugar-sweetened beverage reduction education for preschool children', {'metamap_preferred_name': 'Child, Preschool', 'metamap_cui': 'C0008100', 'metamap_score': '12.88', 'metamap_semtypes': '[aggp]'}, None]\n",
      "['metamap', 'intervention', 'sugar-sweetened beverage reduction education for preschool children', 'sugar-sweetened beverage reduction education for preschool children', {'metamap_preferred_name': 'Beverages', 'metamap_cui': 'C0005329', 'metamap_score': '9.73', 'metamap_semtypes': '[food]'}, None]\n",
      "['metamap', 'intervention', 'sugar-sweetened beverage reduction education for preschool children', 'sugar-sweetened beverage reduction education for preschool children', {'metamap_preferred_name': 'Sugars', 'metamap_cui': 'C0242209', 'metamap_score': '6.57', 'metamap_semtypes': '[orch,phsu]'}, None]\n",
      "['metamap', 'intervention', 'sugar-sweetened beverage reduction education for preschool children', 'sugar-sweetened beverage reduction education for preschool children', {'metamap_preferred_name': 'School child', 'metamap_cui': 'C0260267', 'metamap_score': '3.56', 'metamap_semtypes': '[aggp]'}, None]\n",
      "['metamap', 'intervention', 'sugar-sweetened beverage reduction education for preschool children', 'sugar-sweetened beverage reduction education for preschool children', {'metamap_preferred_name': 'Carbohydrates', 'metamap_cui': 'C0007004', 'metamap_score': '3.42', 'metamap_semtypes': '[orch]'}, None]\n",
      "['metamap', 'intervention', 'sugar-sweetened beverage reduction education for preschool children', 'sugar-sweetened beverage reduction education for preschool children', {'metamap_preferred_name': 'Pre-school (environment)', 'metamap_cui': 'C0424930', 'metamap_score': '3.42', 'metamap_semtypes': '[mnob]'}, None]\n",
      "['metamap', 'intervention', 'sugar-sweetened beverage reduction education for preschool children', 'sugar-sweetened beverage reduction education for preschool children', {'metamap_preferred_name': 'Preschool', 'metamap_cui': 'C4552917', 'metamap_score': '3.42', 'metamap_semtypes': '[mnob,orgt]'}, None]\n",
      "['metamap', 'intervention', 'sugar-sweetened beverage reduction education for preschool children', 'sugar-sweetened beverage reduction education for preschool children', {'metamap_preferred_name': 'RAW SUGAR', 'metamap_cui': 'C3665462', 'metamap_score': '3.42', 'metamap_semtypes': '[bodm,orch]'}, None]\n",
      "['metamap', 'intervention', 'sugar-sweetened beverage reduction education for preschool children', 'sugar-sweetened beverage reduction education for preschool children', {'metamap_preferred_name': 'Reduced', 'metamap_cui': 'C0392756', 'metamap_score': '3.42', 'metamap_semtypes': '[qlco]'}, None]\n",
      "['metamap', 'intervention', 'sugar-sweetened beverage reduction education for preschool children', 'sugar-sweetened beverage reduction education for preschool children', {'metamap_preferred_name': 'Reduction (chemical)', 'metamap_cui': 'C0301630', 'metamap_score': '3.42', 'metamap_semtypes': '[npop]'}, None]\n",
      "['metamap', 'intervention', 'sugar-sweetened beverage reduction education for preschool children', 'sugar-sweetened beverage reduction education for preschool children', {'metamap_preferred_name': 'Reduction procedure', 'metamap_cui': 'C1293152', 'metamap_score': '3.42', 'metamap_semtypes': '[topp]'}, None]\n",
      "['metamap', 'intervention', 'sugar-sweetened beverage reduction education for preschool children', 'sugar-sweetened beverage reduction education for preschool children', {'metamap_preferred_name': 'Surgical reduction', 'metamap_cui': 'C4551656', 'metamap_score': '3.42', 'metamap_semtypes': '[topp]'}, None]\n"
     ]
    },
    {
     "name": "stderr",
     "output_type": "stream",
     "text": [
      "% interventions mapped:  89%|█████████████████▉  | 17/19 [00:19<00:01,"
     ]
    },
    {
     "name": "stdout",
     "output_type": "stream",
     "text": [
      "['metamap', 'intervention', 'emergency vital room', 'emergency vital room', {'metamap_preferred_name': 'Accident and Emergency department', 'metamap_cui': 'C0562508', 'metamap_score': '19.39', 'metamap_semtypes': '[hcro,mnob]'}, None]\n",
      "['metamap', 'intervention', 'emergency vital room', 'emergency vital room', {'metamap_preferred_name': 'Vital (qualifier value)', 'metamap_cui': 'C0442732', 'metamap_score': '3.44', 'metamap_semtypes': '[qlco]'}, None]\n",
      "['metamap', 'intervention', 'emergency vital room', 'emergency vital room', {'metamap_preferred_name': 'Vital High Nitrogen Enteral Nutrition', 'metamap_cui': 'C1875856', 'metamap_score': '3.44', 'metamap_semtypes': '[food]'}, None]\n",
      "['metamap', 'intervention', 'physiotherapy combined with pain education', 'physiotherapy combined with pain education', {'metamap_preferred_name': 'Combined physical therapy', 'metamap_cui': 'C0700642', 'metamap_score': '3.58', 'metamap_semtypes': '[topp]'}, None]\n",
      "['metamap', 'intervention', 'physiotherapy combined with pain education', 'physiotherapy combined with pain education', {'metamap_preferred_name': 'Pain education', 'metamap_cui': 'C3266592', 'metamap_score': '3.45', 'metamap_semtypes': '[hlca]'}, None]\n"
     ]
    },
    {
     "name": "stderr",
     "output_type": "stream",
     "text": [
      "% interventions mapped: 100%|████████████████████| 19/19 [00:20<00:00,"
     ]
    },
    {
     "name": "stdout",
     "output_type": "stream",
     "text": [
      "['metamap', 'intervention', 'indomethacin(kahira pharma&chem,ind,co.cairo-egypt)', 'indomethacin(kahira pharma&chem,ind,co.cairo-egypt)', {'metamap_preferred_name': 'Indomethacin', 'metamap_cui': 'C0021246', 'metamap_score': '16.16', 'metamap_semtypes': '[orch,phsu]'}, None]\n",
      "['metamap', 'intervention', 'indomethacin(kahira pharma&chem,ind,co.cairo-egypt)', 'indomethacin(kahira pharma&chem,ind,co.cairo-egypt)', {'metamap_preferred_name': 'Colombia', 'metamap_cui': 'C3245499', 'metamap_score': '12.88', 'metamap_semtypes': '[geoa]'}, None]\n",
      "['metamap', 'intervention', 'indomethacin(kahira pharma&chem,ind,co.cairo-egypt)', 'indomethacin(kahira pharma&chem,ind,co.cairo-egypt)', {'metamap_preferred_name': 'Egypt', 'metamap_cui': 'C0013715', 'metamap_score': '12.88', 'metamap_semtypes': '[geoa]'}, None]\n",
      "['metamap', 'intervention', 'indomethacin(kahira pharma&chem,ind,co.cairo-egypt)', 'indomethacin(kahira pharma&chem,ind,co.cairo-egypt)', {'metamap_preferred_name': 'Chemical procedure', 'metamap_cui': 'C0201682', 'metamap_score': '3.42', 'metamap_semtypes': '[lbpr]'}, None]\n",
      "['metamap', 'intervention', 'indomethacin(kahira pharma&chem,ind,co.cairo-egypt)', 'indomethacin(kahira pharma&chem,ind,co.cairo-egypt)', {'metamap_preferred_name': 'Improvised Nuclear Device', 'metamap_cui': 'C4049864', 'metamap_score': '3.42', 'metamap_semtypes': '[mnob]'}, None]\n"
     ]
    },
    {
     "name": "stderr",
     "output_type": "stream",
     "text": [
      "% interventions mapped: 100%|████████████████████| 19/19 [00:22<00:00,\n",
      "% intervention_alternates mapped:   5%|█                   | 1/19 [00:"
     ]
    },
    {
     "name": "stdout",
     "output_type": "stream",
     "text": [
      "['metamap', 'intervention_alternate', 'methylthioninium chloride', 'methylthioninium chloride', {'metamap_preferred_name': 'Methylene blue', 'metamap_cui': 'C0025746', 'metamap_score': '16.33', 'metamap_semtypes': '[irda,orch,phsu]'}, None]\n",
      "['metamap', 'intervention_alternate', 'progesterone', 'progesterone', {'metamap_preferred_name': 'Progesterone', 'metamap_cui': 'C0033308', 'metamap_score': '22.57', 'metamap_semtypes': '[horm,orch,phsu]'}, None]\n",
      "['metamap', 'intervention_alternate', 'progesterone', 'progesterone', {'metamap_preferred_name': 'Progesterone [EPC]', 'metamap_cui': 'C2757070', 'metamap_score': '3.64', 'metamap_semtypes': '[phsu]'}, None]\n",
      "['metamap', 'intervention_alternate', 'erchonia evrl laser', 'erchonia evrl laser', {'metamap_preferred_name': 'Lasers', 'metamap_cui': 'C0023089', 'metamap_score': '9.88', 'metamap_semtypes': '[mnob]'}, None]\n",
      "['metamap', 'intervention_alternate', 'erchonia evrl laser', 'erchonia evrl laser', {'metamap_preferred_name': 'Laser Device Component', 'metamap_cui': 'C1706315', 'metamap_score': '3.57', 'metamap_semtypes': '[medd]'}, None]\n",
      "['metamap', 'intervention_alternate', 'erchonia evrl laser', 'erchonia evrl laser', {'metamap_preferred_name': 'Laser plant', 'metamap_cui': 'C1023865', 'metamap_score': '3.57', 'metamap_semtypes': '[plnt]'}, None]\n",
      "['metamap', 'intervention_alternate', 'erchonia evrl laser', 'erchonia evrl laser', {'metamap_preferred_name': 'Laser-generated electromagnetic radiation', 'metamap_cui': 'C0458142', 'metamap_score': '3.57', 'metamap_semtypes': '[phpr]'}, None]\n",
      "['metamap', 'intervention_alternate', 'rituximab biosimilar bi 695500', 'rituximab biosimilar bi 695500', {'metamap_preferred_name': 'Rituximab Biosimilar BI 695500', 'metamap_cui': 'C4048259', 'metamap_score': '3.81', 'metamap_semtypes': '[aapp,imft,phsu]'}, None]\n"
     ]
    },
    {
     "name": "stderr",
     "output_type": "stream",
     "text": [
      "% intervention_alternates mapped:  32%|██████▎             | 6/19 [00:"
     ]
    },
    {
     "name": "stdout",
     "output_type": "stream",
     "text": [
      "['metamap', 'intervention_alternate', 'budesonide via mucosal atomization device', 'budesonide via mucosal atomization device', {'metamap_preferred_name': 'Budesonide', 'metamap_cui': 'C0054201', 'metamap_score': '22.48', 'metamap_semtypes': '[orch,phsu]'}, None]\n",
      "['metamap', 'intervention_alternate', 'budesonide via mucosal atomization device', 'budesonide via mucosal atomization device', {'metamap_preferred_name': 'Mucous Membrane', 'metamap_cui': 'C0026724', 'metamap_score': '9.74', 'metamap_semtypes': '[tisu]'}, None]\n",
      "['metamap', 'intervention_alternate', 'budesonide via mucosal atomization device', 'budesonide via mucosal atomization device', {'metamap_preferred_name': 'Devices', 'metamap_cui': 'C0699733', 'metamap_score': '3.43', 'metamap_semtypes': '[mnob]'}, None]\n",
      "['metamap', 'intervention_alternate', 'budesonide via mucosal atomization device', 'budesonide via mucosal atomization device', {'metamap_preferred_name': 'Medical Devices', 'metamap_cui': 'C0025080', 'metamap_score': '3.43', 'metamap_semtypes': '[medd]'}, None]\n",
      "['metamap', 'intervention_alternate', 'single stent insertion', 'single stent insertion', {'metamap_preferred_name': 'Unmarried person', 'metamap_cui': 'C0037179', 'metamap_score': '22.36', 'metamap_semtypes': '[popg]'}, None]\n",
      "['metamap', 'intervention_alternate', 'single stent insertion', 'single stent insertion', {'metamap_preferred_name': 'Placement of stent', 'metamap_cui': 'C0522776', 'metamap_score': '3.64', 'metamap_semtypes': '[topp]'}, None]\n",
      "['metamap', 'intervention_alternate', 'single stent insertion', 'single stent insertion', {'metamap_preferred_name': 'Singular', 'metamap_cui': 'C0205171', 'metamap_score': '3.44', 'metamap_semtypes': '[qnco]'}, None]\n",
      "['metamap', 'intervention_alternate', 'mindfulness based stress reduction', 'mindfulness based stress reduction', {'metamap_preferred_name': 'Mindfulness', 'metamap_cui': 'C3542996', 'metamap_score': '16.18', 'metamap_semtypes': '[menp]'}, None]\n",
      "['metamap', 'intervention_alternate', 'mindfulness based stress reduction', 'mindfulness based stress reduction', {'metamap_preferred_name': 'stress reduction', 'metamap_cui': 'C0679002', 'metamap_score': '3.61', 'metamap_semtypes': '[inbe]'}, None]\n",
      "['metamap', 'intervention_alternate', 'mindfulness based stress reduction', 'mindfulness based stress reduction', {'metamap_preferred_name': 'Base - General Qualifier', 'metamap_cui': 'C1705938', 'metamap_score': '3.56', 'metamap_semtypes': '[idcn]'}, None]\n",
      "['metamap', 'intervention_alternate', 'mindfulness based stress reduction', 'mindfulness based stress reduction', {'metamap_preferred_name': 'Basis - conceptual entity', 'metamap_cui': 'C1527178', 'metamap_score': '3.56', 'metamap_semtypes': '[ftcn]'}, None]\n",
      "['metamap', 'intervention_alternate', 'mindfulness based stress reduction', 'mindfulness based stress reduction', {'metamap_preferred_name': 'Mental concentration', 'metamap_cui': 'C0086045', 'metamap_score': '3.56', 'metamap_semtypes': '[menp]'}, None]\n",
      "['metamap', 'intervention_alternate', 'ly-188011', 'ly-188011', {'metamap_preferred_name': 'LY 188011', 'metamap_cui': 'C0701235', 'metamap_score': '3.72', 'metamap_semtypes': '[nnon]'}, None]\n",
      "['metamap', 'intervention_alternate', 'dexamethasonum', 'dexamethasonum', {'metamap_preferred_name': 'Dexamethasone', 'metamap_cui': 'C0011777', 'metamap_score': '22.57', 'metamap_semtypes': '[orch,phsu]'}, None]\n",
      "['metamap', 'intervention_alternate', 'zyban', 'zyban', {'metamap_preferred_name': 'Zyban', 'metamap_cui': 'C0751626', 'metamap_score': '3.64', 'metamap_semtypes': '[orch,phsu]'}, None]\n"
     ]
    },
    {
     "name": "stderr",
     "output_type": "stream",
     "text": [
      "% intervention_alternates mapped:  58%|███████████▌        | 11/19 [00"
     ]
    },
    {
     "name": "stdout",
     "output_type": "stream",
     "text": [
      "['metamap', 'intervention_alternate', 'matched placebo', 'matched placebo', {'metamap_preferred_name': 'Placebos', 'metamap_cui': 'C0032042', 'metamap_score': '6.74', 'metamap_semtypes': '[topp]'}, None]\n",
      "['metamap', 'intervention_alternate', 'matched placebo', 'matched placebo', {'metamap_preferred_name': 'Placebo Control', 'metamap_cui': 'C1706408', 'metamap_score': '3.59', 'metamap_semtypes': '[resa]'}, None]\n",
      "['metamap', 'intervention_alternate', 'matched placebo', 'matched placebo', {'metamap_preferred_name': 'placebo', 'metamap_cui': 'C1696465', 'metamap_score': '3.59', 'metamap_semtypes': '[bodm]'}, None]\n",
      "['metamap', 'intervention_alternate', 'matched placebo', 'matched placebo', {'metamap_preferred_name': 'MATCHING', 'metamap_cui': 'C0150103', 'metamap_score': '3.45', 'metamap_semtypes': '[resa]'}, None]\n",
      "['metamap', 'intervention_alternate', 'matched placebo', 'matched placebo', {'metamap_preferred_name': 'Match', 'metamap_cui': 'C1708943', 'metamap_score': '3.45', 'metamap_semtypes': '[qlco]'}, None]\n",
      "['metamap', 'intervention_alternate', 'adriamycin', 'adriamycin', {'metamap_preferred_name': 'Adriamycin', 'metamap_cui': 'C0085752', 'metamap_score': '28.87', 'metamap_semtypes': '[orch,phsu]'}, None]\n",
      "['metamap', 'intervention_alternate', 'vincasar', 'vincasar', {'metamap_preferred_name': 'Vincasar', 'metamap_cui': 'C0733847', 'metamap_score': '25.72', 'metamap_semtypes': '[orch,phsu]'}, None]\n",
      "['metamap', 'intervention_alternate', 'n-ice cream', 'n-ice cream', {'metamap_preferred_name': 'Ice Cream', 'metamap_cui': 'C0020747', 'metamap_score': '16.26', 'metamap_semtypes': '[food]'}, None]\n"
     ]
    },
    {
     "name": "stderr",
     "output_type": "stream",
     "text": [
      "% intervention_alternates mapped:  79%|███████████████▊    | 15/19 [00"
     ]
    },
    {
     "name": "stdout",
     "output_type": "stream",
     "text": [
      "['metamap', 'intervention_alternate', 'early mobilization', 'early mobilization', {'metamap_preferred_name': 'Early Mobilization', 'metamap_cui': 'C0013459', 'metamap_score': '19.49', 'metamap_semtypes': '[topp]'}, None]\n"
     ]
    },
    {
     "name": "stderr",
     "output_type": "stream",
     "text": [
      "% intervention_alternates mapped:  95%|██████████████████▉ | 18/19 [00"
     ]
    },
    {
     "name": "stdout",
     "output_type": "stream",
     "text": [
      "['metamap', 'intervention_alternate', 'bms-936558', 'bms-936558', {'metamap_preferred_name': 'BMS-936558', 'metamap_cui': 'C4552119', 'metamap_score': '28.95', 'metamap_semtypes': '[aapp,imft,phsu]'}, None]\n",
      "['metamap', 'intervention_alternate', 'botox cosmetic', 'botox cosmetic', {'metamap_preferred_name': 'Cosmetics', 'metamap_cui': 'C0010164', 'metamap_score': '9.76', 'metamap_semtypes': '[mnob]'}, None]\n",
      "['metamap', 'intervention_alternate', 'botox cosmetic', 'botox cosmetic', {'metamap_preferred_name': 'Botox', 'metamap_cui': 'C0700702', 'metamap_score': '3.59', 'metamap_semtypes': '[orch,phsu]'}, None]\n",
      "['metamap', 'intervention_alternate', 'botox cosmetic', 'botox cosmetic', {'metamap_preferred_name': 'Cosmetic procedure', 'metamap_cui': 'C0442965', 'metamap_score': '3.45', 'metamap_semtypes': '[topp]'}, None]\n",
      "['metamap', 'intervention_alternate', 'g-csf', 'g-csf', {'metamap_preferred_name': 'Granulocyte Colony-Stimulating Factor', 'metamap_cui': 'C0079459', 'metamap_score': '22.64', 'metamap_semtypes': '[aapp,imft]'}, None]\n",
      "['metamap', 'intervention_alternate', 'dermabond, histoacryl, or sutures --patients could be randomized to.', 'dermabond, histoacryl, or sutures --patients could be randomized to.', {'metamap_preferred_name': 'Histacryl', 'metamap_cui': 'C0878094', 'metamap_score': '19.19', 'metamap_semtypes': '[bodm,orch]'}, None]\n",
      "['metamap', 'intervention_alternate', 'dermabond, histoacryl, or sutures --patients could be randomized to.', 'dermabond, histoacryl, or sutures --patients could be randomized to.', {'metamap_preferred_name': 'Randomization', 'metamap_cui': 'C0034656', 'metamap_score': '16.04', 'metamap_semtypes': '[resa]'}, None]\n",
      "['metamap', 'intervention_alternate', 'dermabond, histoacryl, or sutures --patients could be randomized to.', 'dermabond, histoacryl, or sutures --patients could be randomized to.', {'metamap_preferred_name': 'Surgical sutures', 'metamap_cui': 'C0038969', 'metamap_score': '12.88', 'metamap_semtypes': '[medd]'}, None]\n",
      "['metamap', 'intervention_alternate', 'dermabond, histoacryl, or sutures --patients could be randomized to.', 'dermabond, histoacryl, or sutures --patients could be randomized to.', {'metamap_preferred_name': 'Patients', 'metamap_cui': 'C0030705', 'metamap_score': '6.57', 'metamap_semtypes': '[podg]'}, None]\n",
      "['metamap', 'intervention_alternate', 'dermabond, histoacryl, or sutures --patients could be randomized to.', 'dermabond, histoacryl, or sutures --patients could be randomized to.', {'metamap_preferred_name': 'DERMABOND', 'metamap_cui': 'C1530215', 'metamap_score': '3.54', 'metamap_semtypes': '[bodm,orch]'}, None]\n",
      "['metamap', 'intervention_alternate', 'dermabond, histoacryl, or sutures --patients could be randomized to.', 'dermabond, histoacryl, or sutures --patients could be randomized to.', {'metamap_preferred_name': 'Suture Joint', 'metamap_cui': 'C0502420', 'metamap_score': '3.42', 'metamap_semtypes': '[bsoj]'}, None]\n"
     ]
    },
    {
     "name": "stderr",
     "output_type": "stream",
     "text": [
      "% intervention_alternates mapped: 100%|████████████████████| 19/19 [00\n"
     ]
    }
   ],
   "source": [
    "flag_and_path = get_raw_ct_data() # download raw data\n",
    "global metamap_dirs\n",
    "metamap_dirs = check_os()\n",
    "subset_size = 20\n",
    "df_dict = read_raw_ct_data(flag_and_path, subset_size) # read the clinical trial data\n",
    "dict_new_terms = check_against_cache(df_dict) # use the existing cache of MetaMapped terms so that only new terms are mapped\n",
    "term_list_to_mappers(dict_new_terms)"
   ]
  },
  {
   "cell_type": "code",
   "execution_count": null,
   "id": "31a8f0ed-1b9b-45fd-ba6d-a1271db493cb",
   "metadata": {},
   "outputs": [],
   "source": []
  },
  {
   "cell_type": "code",
   "execution_count": null,
   "id": "e9775bd6-feaf-4536-a7d9-0b981f00df6f",
   "metadata": {},
   "outputs": [],
   "source": []
  },
  {
   "cell_type": "code",
   "execution_count": null,
   "id": "011a2122-0904-4b7c-938c-90ccf6027170",
   "metadata": {},
   "outputs": [],
   "source": []
  },
  {
   "cell_type": "code",
   "execution_count": null,
   "id": "b9297205-dc21-4f39-8e91-ad3f004ece85",
   "metadata": {},
   "outputs": [],
   "source": []
  },
  {
   "cell_type": "code",
   "execution_count": null,
   "id": "1e6c8425-0bc6-4908-b979-c388c0b2be2f",
   "metadata": {},
   "outputs": [],
   "source": []
  },
  {
   "cell_type": "code",
   "execution_count": null,
   "id": "64a7955a-24a6-4bc1-82b2-5d4c8d81b59e",
   "metadata": {},
   "outputs": [],
   "source": []
  },
  {
   "cell_type": "code",
   "execution_count": null,
   "id": "3b8ddb07-a201-4573-8841-cb55a6ca0399",
   "metadata": {},
   "outputs": [],
   "source": []
  },
  {
   "cell_type": "code",
   "execution_count": null,
   "id": "588dde2b-142d-4d88-9b6b-eb49c6fb5033",
   "metadata": {},
   "outputs": [],
   "source": [
    "\n",
    "flag_and_path = get_raw_ct_data() # download raw data\n",
    "\n",
    "global metamap_dirs\n",
    "metamap_dirs = check_os()\n",
    "df_dict = read_raw_ct_data(flag_and_path, subset_size) # read the clinical trial data\n",
    "dict_new_terms = check_against_cache(df_dict, flag_and_path) # use the existing cache of MetaMapped terms so that only new terms are mapped\n",
    "\n",
    "term_list_to_mm(dict_new_terms, flag_and_path) # map new terms using MetaMap\n",
    "\n",
    "map_to_trial(flag_and_path) # map MetaMap terms back to trial \n",
    "score_mappings(flag_and_path) # score the mappings\n",
    "auto_select_curies(flag_and_path) # select CURIEs automatically that pass score threshold\n",
    "\n",
    "# compile_curies_for_trials(flag_and_path) # select CURIEs automatically that pass score threshold\n",
    "\n"
   ]
  }
 ],
 "metadata": {
  "kernelspec": {
   "display_name": "Python 3 (ipykernel)",
   "language": "python",
   "name": "python3"
  },
  "language_info": {
   "codemirror_mode": {
    "name": "ipython",
    "version": 3
   },
   "file_extension": ".py",
   "mimetype": "text/x-python",
   "name": "python",
   "nbconvert_exporter": "python",
   "pygments_lexer": "ipython3",
   "version": "3.11.5"
  }
 },
 "nbformat": 4,
 "nbformat_minor": 5
}
