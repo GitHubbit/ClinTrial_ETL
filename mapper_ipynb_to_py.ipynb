{
 "cells": [
  {
   "cell_type": "markdown",
   "id": "da527b7e-2d30-4660-b6ee-1a63bc9df48f",
   "metadata": {},
   "source": [
    "### THIS SCRIPT USES MetaMap to try and map the bulk of terms, and Name Resolver to pick up what's left"
   ]
  },
  {
   "cell_type": "code",
   "execution_count": 1,
   "id": "730291b8-7f12-4e72-bfa6-4c7ae33ae738",
   "metadata": {
    "tags": []
   },
   "outputs": [
    {
     "data": {
      "text/html": [
       "<style>.container { width:100% !important; }</style>"
      ],
      "text/plain": [
       "<IPython.core.display.HTML object>"
      ]
     },
     "metadata": {},
     "output_type": "display_data"
    },
    {
     "data": {
      "text/html": [
       "<style>.output_result { max-width:100% !important; }</style>"
      ],
      "text/plain": [
       "<IPython.core.display.HTML object>"
      ]
     },
     "metadata": {},
     "output_type": "display_data"
    }
   ],
   "source": [
    "# display cells to maximum width \n",
    "from IPython.display import display, HTML\n",
    "display(HTML(\"<style>.container { width:100% !important; }</style>\"))\n",
    "display(HTML(\"<style>.output_result { max-width:100% !important; }</style>\"))\n",
    "\n",
    "# lets you preint multiple outputs per cell, not just last\n",
    "from IPython.core.interactiveshell import InteractiveShell\n",
    "InteractiveShell.ast_node_interactivity = \"all\""
   ]
  },
  {
   "cell_type": "code",
   "execution_count": 2,
   "id": "70b0f433-c7bb-4b98-aa7b-1d1e6ad1e3b4",
   "metadata": {
    "tags": []
   },
   "outputs": [],
   "source": [
    "import pandas as pd\n",
    "import requests\n",
    "import bs4\n",
    "from bs4 import BeautifulSoup\n",
    "import re\n",
    "import collections\n",
    "import os\n",
    "import json\n",
    "import numpy as np\n",
    "import pickle\n",
    "from functools import reduce\n",
    "import time\n",
    "from time import sleep\n",
    "# import concurrent\n",
    "import concurrent.futures\n",
    "import multiprocessing\n",
    "import datetime as dt\n",
    "from datetime import date\n",
    "import pathlib\n",
    "import configparser\n",
    "import sys\n",
    "import urllib\n",
    "import zipfile\n",
    "import csv\n",
    "sys.path.insert(0, '/Volumes/TOSHIBA_EXT/ISB/clinical_trials/pymetamap-master')\n",
    "from pymetamap import MetaMap  # https://github.com/AnthonyMRios/pymetamap/blob/master/pymetamap/SubprocessBackend.py\n",
    "from pandas import ExcelWriter\n",
    "import ast\n",
    "import glob\n",
    "from tqdm import tqdm\n",
    "import subprocess\n",
    "import shlex\n",
    "from collections import Counter\n",
    "\n",
    "# %pip install thefuzz\n",
    "# %pip install levenshtein\n",
    "# %pip install xlsxwriter\n",
    "# %pip install ratelimit\n",
    "\n",
    "from thefuzz import fuzz # fuzzy matching explained: https://www.datacamp.com/tutorial/fuzzy-string-python"
   ]
  },
  {
   "cell_type": "code",
   "execution_count": 3,
   "id": "23d4d831-06e5-4439-920e-b6495d81adc3",
   "metadata": {
    "tags": []
   },
   "outputs": [],
   "source": [
    "def get_token_sort_ratio(str1, str2):\n",
    "    \"\"\" fuzzy matching explained: https://www.datacamp.com/tutorial/fuzzy-string-python \"\"\"\n",
    "    try:\n",
    "        return fuzz.token_sort_ratio(str1, str2)\n",
    "    except:\n",
    "        return None\n",
    "\n",
    "def get_token_set_ratio(str1, str2):\n",
    "    \"\"\" fuzzy matching explained: https://www.datacamp.com/tutorial/fuzzy-string-python \"\"\"\n",
    "    try:\n",
    "        return fuzz.token_set_ratio(str1, str2)\n",
    "    except:\n",
    "        return None  \n",
    "\n",
    "def get_similarity_score(str1, str2):\n",
    "    \"\"\" fuzzy matching explained: https://www.datacamp.com/tutorial/fuzzy-string-python \"\"\"\n",
    "    try:\n",
    "        return fuzz.ratio(str1, str2)\n",
    "    except:\n",
    "        return None\n",
    "    \n",
    "def convert_seconds_to_hms(seconds):\n",
    "    \"\"\" converts the elapsed time or runtime to hours, min, sec \"\"\"\n",
    "    hours = seconds // 3600\n",
    "    seconds %= 3600\n",
    "    minutes = seconds // 60\n",
    "    seconds %= 60\n",
    "    return hours, minutes, seconds\n",
    "\n",
    "def de_ascii_er(text):\n",
    "    non_ascii = \"[^\\x00-\\x7F]\"\n",
    "    pattern = re.compile(r\"[^\\x00-\\x7F]\")\n",
    "    non_ascii_text = re.sub(pattern, ' ', text)\n",
    "    return non_ascii_text\n",
    "\n",
    "def start_metamap_servers(metamap_dirs):\n",
    "    global metamap_pos_server_dir\n",
    "    global metamap_wsd_server_dir\n",
    "    metamap_pos_server_dir = 'bin/skrmedpostctl' # Part of speech tagger\n",
    "    metamap_wsd_server_dir = 'bin/wsdserverctl' # Word sense disambiguation \n",
    "    \n",
    "    metamap_executable_path_pos = os.path.join(metamap_dirs['metamap_base_dir'], metamap_pos_server_dir)\n",
    "    metamap_executable_path_wsd = os.path.join(metamap_dirs['metamap_base_dir'], metamap_wsd_server_dir)\n",
    "    command_pos = [metamap_executable_path_pos, 'start']\n",
    "    command_wsd = [metamap_executable_path_wsd, 'start']\n",
    "\n",
    "    # Start servers, with open portion redirects output of metamap server printing output to NULL\n",
    "    with open(os.devnull, \"w\") as fnull:\n",
    "        result_post = subprocess.call(command_pos, stdout = fnull, stderr = fnull)\n",
    "        result_wsd = subprocess.call(command_wsd, stdout = fnull, stderr = fnull)\n",
    "    sleep(5)\n",
    "\n",
    "def stop_metamap_servers(metamap_dirs):\n",
    "    metamap_executable_path_pos = os.path.join(metamap_dirs['metamap_base_dir'], metamap_pos_server_dir)\n",
    "    metamap_executable_path_wsd = os.path.join(metamap_dirs['metamap_base_dir'], metamap_wsd_server_dir)\n",
    "    command_pos = [metamap_executable_path_pos, 'stop']\n",
    "    command_wsd = [metamap_executable_path_wsd, 'stop']\n",
    "    \n",
    "    # Stop servers, with open portion redirects output of metamap server printing output to NULL\n",
    "    with open(os.devnull, \"w\") as fnull:\n",
    "        result_post = subprocess.call(command_pos, stdout = fnull, stderr = fnull)\n",
    "        result_wsd = subprocess.call(command_wsd, stdout = fnull, stderr = fnull)\n",
    "    sleep(2)  \n",
    "    \n",
    "def add_mappings_to_cache(flag_and_path):\n",
    "    relevant_date = flag_and_path[\"date_string\"]   # get date of bulk download of clinical trial data\n",
    "    with open(\"metamapped_terms_cache.tsv\", 'a+', encoding=\"utf-8\") as cache:\n",
    "        with open(f\"{relevant_date}_metamap_output.tsv\", 'r', encoding=\"utf-8\", errors='ignore') as new_metamapped_terms:\n",
    "            # Read the first line from new_metamapped_terms to move the cursor\n",
    "            line = new_metamapped_terms.readline()\n",
    "\n",
    "            # Move the cursor to the position after the first line\n",
    "            while line:\n",
    "                line = new_metamapped_terms.readline()\n",
    "                if line:\n",
    "                    # Append the line to file_1\n",
    "                    cache.write(line)\n",
    "    \"\"\" Remove duplicate rows from cache \"\"\"\n",
    "    cache = pd.read_csv(\"metamapped_terms_cache.tsv\", sep='\\t', index_col=False, header=0, on_bad_lines = 'warn')\n",
    "    cache = cache.drop_duplicates()\n",
    "    cache.to_csv('metamapped_terms_cache.tsv', sep=\"\\t\", index=False, header=True) # output deduplicated cache terms to TSV\n",
    "\n",
    "def add_manually_selected_terms_to_cache():\n",
    "    # -----     ------     GENERATE MANUALLY SELECTED CACHE     -----     ------  #\n",
    "    try:\n",
    "        #  --- --- --   CONDITIONS     --- --- --   #\n",
    "        files = glob.glob(\"*.xlsx\")\n",
    "        conditions_manselected_files = [i for i in files if \"conditions_manual_review\" in i if not i.startswith(\"~\")][0]  \n",
    "        conditions_manselected = pd.read_excel(conditions_manselected_files)\n",
    "        conditions_manselected.name.ffill(inplace=True)\n",
    "        conditions_manselected.orig_con.ffill(inplace=True)\n",
    "        conditions_manselected = conditions_manselected[~conditions_manselected['manually_selected_CURIE'].isnull()] # check if the conditions got mapped to any CURIEs\n",
    "        conditions_manselected.drop([\"curie_info\"], axis = 1, inplace = True)\n",
    "        conditions_manselected.rename(columns = {'name':'original_clin_trial_term', 'orig_con':'modified_clin_trial_term'}, inplace = True)\n",
    "\n",
    "        with open('conditions_manually_selected_cache.tsv', 'a') as output:\n",
    "            conditions_manselected.to_csv(output, mode='a',sep=\"\\t\", index=False, header=output.tell()==0)\n",
    "        \"\"\" Remove duplicate rows from cache \"\"\"\n",
    "        cache = pd.read_csv(\"conditions_manually_selected_cache.tsv\", sep='\\t', index_col=False, header=0, on_bad_lines = 'warn')\n",
    "        cache = cache.drop_duplicates()\n",
    "        cache.to_csv('conditions_manually_selected_cache.tsv', sep=\"\\t\", index=False, header=True) # output deduplicated cache terms to TSV\n",
    "\n",
    "        #  --- --- --   INTERVENTIONS and Alternate INTERVENTIONS   --- --- --   #\n",
    "        files = glob.glob(\"*.xlsx\")\n",
    "        interventions_manselected_files = [i for i in files if \"interventions_manual_review\" in i if not i.startswith(\"~\")][0]  \n",
    "        interventions_manselected = pd.read_excel(interventions_manselected_files)\n",
    "        interventions_manselected.name.ffill(inplace=True)\n",
    "        interventions_manselected.orig_int.ffill(inplace=True)\n",
    "        interventions_manselected = interventions_manselected[~interventions_manselected['manually_selected_CURIE'].isnull()] # check if the conditions got mapped to any CURIEs\n",
    "        interventions_manselected.drop([\"curie_info\", \"description\"], axis = 1, inplace = True)\n",
    "        interventions_manselected.rename(columns = {'name':'original_clin_trial_term', 'orig_int':'modified_clin_trial_term'}, inplace = True)\n",
    "\n",
    "        with open('interventions_manually_selected_cache.tsv', 'a') as output:\n",
    "            interventions_manselected.to_csv(output, mode='a',sep=\"\\t\", index=False, header=output.tell()==0)\n",
    "        \"\"\" Remove duplicate rows from cache \"\"\"\n",
    "        cache = pd.read_csv(\"interventions_manually_selected_cache.tsv\", sep='\\t', index_col=False, header=0, on_bad_lines = 'warn')\n",
    "        cache = cache.drop_duplicates()\n",
    "        cache.to_csv('interventions_manually_selected_cache.tsv', sep=\"\\t\", index=False, header=True) # output deduplicated cache terms to TSV\n",
    "    except:\n",
    "        print(\"No terms in manual select column; either column is empty or bug. Proceeding without them\")\n",
    "        \n",
    "def check_os():\n",
    "    if \"linux\" in sys.platform:\n",
    "        print(\"Linux platform detected\")\n",
    "        metamap_base_dir = \"{}/metamap/\".format(pathlib.Path.cwd().parents[0])\n",
    "        metamap_bin_dir = 'bin/metamap20'\n",
    "    else:\n",
    "        metamap_base_dir = '/Volumes/TOSHIBA_EXT/ISB/clinical_trials/public_mm/' # for running on local\n",
    "        metamap_bin_dir = 'bin/metamap18'\n",
    "        \n",
    "    return {\"metamap_base_dir\":metamap_base_dir, \"metamap_bin_dir\":metamap_bin_dir}  \n"
   ]
  },
  {
   "cell_type": "code",
   "execution_count": 5,
   "id": "6746b051-2524-4d93-ad30-69e7fcd225e0",
   "metadata": {
    "tags": []
   },
   "outputs": [],
   "source": [
    "def get_raw_ct_data():\n",
    "    term_program_flag = True\n",
    "    global data_dir\n",
    "    global data_extracted\n",
    "    \n",
    "    try:\n",
    "        # get all the links and associated dates of upload into a dict called date_link\n",
    "        url_all = \"https://aact.ctti-clinicaltrials.org/download\"\n",
    "        response = requests.get(url_all)\n",
    "        soup = BeautifulSoup(response.text, features=\"lxml\")\n",
    "        body = soup.find_all('option') #Find all\n",
    "        date_link = {}\n",
    "        for el in body:\n",
    "            tags = el.find('a')\n",
    "            try:\n",
    "                zip_name = tags.contents[0].split()[0]\n",
    "                date = zip_name.split(\"_\")[0]\n",
    "                date = dt.datetime.strptime(date, '%Y%m%d').date()\n",
    "                date_link[date] = tags.get('href')\n",
    "            except:\n",
    "                pass\n",
    "        latest_file_date = max(date_link.keys())   # get the date of the latest upload\n",
    "        url = date_link[latest_file_date]   # get the corresponding download link of the latest upload so we can download the raw data\n",
    "        date_string = latest_file_date.strftime(\"%m_%d_%Y\")\n",
    "        data_dir = \"{}/data\".format(pathlib.Path.cwd())\n",
    "        data_extracted = data_dir + \"/{}_extracted\".format(date_string)\n",
    "        data_path = \"{}/{}_pipe-delimited-export.zip\".format(data_dir, date_string)\n",
    "    except:\n",
    "        print(\"continue\")\n",
    "\n",
    "    if not os.path.exists(data_path):   # if folder containing most recent data doesn't exist, download and extract it into data folder\n",
    "\n",
    "        term_program_flag = False   # flag below for terminating program if latest download exists (KG is assumed up to date)\n",
    "        print(\"Attempting download of Clinical Trial data as of {}\\n\".format(date_string))\n",
    "        try:\n",
    "            response = requests.get(url)\n",
    "            if response.status_code == 200:\n",
    "                with open(data_path, 'wb') as file:\n",
    "                    file.write(response.content)\n",
    "                print(\"Finished download of zip\")\n",
    "                with zipfile.ZipFile(data_path, 'r') as download:\n",
    "                    print(\"Unzipping data\")\n",
    "                    download.extractall(data_extracted)\n",
    "        except:\n",
    "            print(\"Failed to scrape AACT for download. Please navigate to https://aact.ctti-clinicaltrials.org/download and manually download zip file.\")\n",
    "            print(\"Please store the downloaded zip in the /data directory. This should be the only item besides the cache file, condition manual review file, and intervention manual review file, in the directory at this time.\")\n",
    "            done = input(\"Type Done when done: \")\n",
    "            if done == \"Done\":\n",
    "                data_dir = \"{}/data\".format(pathlib.Path.cwd())\n",
    "                # list_of_files = glob.glob(data_dir + \"/*\") # get all files in directory\n",
    "                try:\n",
    "                    # latest_file = max(list_of_files, key=os.path.getctime) # get the most recent file in the directory\n",
    "                    pattern = os.path.join(data_dir, \"*.zip\")\n",
    "                    zip_file = glob.glob(pattern) # look for file in directory that ends in \".zip\"\n",
    "                    zip_file = zip_file[0]\n",
    "                    print(\"File found at: \")\n",
    "                    print(zip_file)\n",
    "                    # print(latest_file)\n",
    "                    print(\"Please make sure this the correct zip file from AACT\")\n",
    "                    if not os.path.exists(data_extracted):   # if folder of unzipped data does not exist, unzip\n",
    "                        try:\n",
    "                            with zipfile.ZipFile(zip_file, 'r') as download:\n",
    "                                print(\"Unzipping data into\")\n",
    "                                cttime = os.path.getctime(zip_file)\n",
    "                                date_string = dt.datetime.fromtimestamp(cttime).strftime('%m_%d_%Y')\n",
    "                                data_extracted = data_dir + \"/{}_extracted\".format(date_string)\n",
    "                                print(data_extracted)\n",
    "                                download.extractall(data_extracted)\n",
    "                        except:\n",
    "                            pattern = os.path.join(data_dir, \"*_extracted\")\n",
    "                            extracted_file = glob.glob(pattern) # look for file in directory that ends in \"_extracted\"\n",
    "                            data_extracted = extracted_file[0]\n",
    "                            extracted_name = os.path.basename(os.path.normpath(extracted_file[0]))\n",
    "                            date_string = extracted_name.replace('_extracted', '')\n",
    "                            print(\"Assuming data is already unzipped\")\n",
    "                        \n",
    "                except:\n",
    "                    print(\"Unable to download and extract Clincal Trial data.\")\n",
    "                    print(\"Cannot find pipe-delimited zip in /data folder.\")\n",
    "    else:\n",
    "        print(\"KG is already up to date.\")\n",
    "\n",
    "    return {\"term_program_flag\": term_program_flag, \"data_extracted_path\": data_extracted, \"date_string\": date_string}\n"
   ]
  },
  {
   "cell_type": "code",
   "execution_count": 6,
   "id": "c4850c49-b00e-422a-805b-137fccb7cd94",
   "metadata": {
    "tags": []
   },
   "outputs": [],
   "source": [
    "def read_raw_ct_data(flag_and_path, subset_size):\n",
    "    if flag_and_path[\"term_program_flag\"]:\n",
    "        print(\"Exiting program. Assuming KG has already been constructed from most recent data dump from AACT.\")\n",
    "        exit()\n",
    "    else:\n",
    "        data_extracted = flag_and_path[\"data_extracted_path\"]\n",
    "        # read in pipe-delimited files \n",
    "        conditions_df = pd.read_csv(data_extracted + '/conditions.txt', sep='|', index_col=False, header=0, on_bad_lines = 'warn')\n",
    "        interventions_df = pd.read_csv(data_extracted + '/interventions.txt', sep='|', index_col=False, header=0, on_bad_lines = 'warn')\n",
    "        interventions_alts_df = pd.read_csv(data_extracted + '/intervention_other_names.txt', sep='|', index_col=False, header=0, on_bad_lines = 'warn')\n",
    "\n",
    "        if subset_size:   # if a subset size is given, we are running this script on a small subset of the dataset\n",
    "            conditions_df = conditions_df.sample(n=subset_size)\n",
    "            interventions_df = interventions_df.sample(n=subset_size)\n",
    "            interventions_alts_df = interventions_alts_df.sample(n=subset_size)\n",
    "    \n",
    "    df_dict = {\"conditions\": conditions_df, \"interventions\": interventions_df, \"interventions_alts\": interventions_alts_df}\n",
    "    return df_dict\n"
   ]
  },
  {
   "cell_type": "markdown",
   "id": "fd612efd-e483-4754-8edd-3dc45fe95e88",
   "metadata": {},
   "source": [
    "# Check against cache, retrieve terms not already mapped"
   ]
  },
  {
   "cell_type": "code",
   "execution_count": 7,
   "id": "eddc0c83-10b4-4065-b2bb-1bad9cb0e63a",
   "metadata": {
    "tags": []
   },
   "outputs": [],
   "source": [
    "def check_against_cache(df_dict):\n",
    "    conditions_list = df_dict['conditions'].name.unique().tolist()\n",
    "    conditions_list = [str(i) for i in conditions_list]\n",
    "    conditions_list = list(set([i.lower() for i in conditions_list]))\n",
    "    \n",
    "    interventions_list = df_dict['interventions'].name.unique().tolist()\n",
    "    interventions_list = [str(i) for i in interventions_list]\n",
    "    interventions_list = list(set([i.lower() for i in interventions_list]))\n",
    "    \n",
    "    interventions_alts_list = df_dict['interventions_alts'].name.unique().tolist()\n",
    "    interventions_alts_list = [str(i) for i in interventions_alts_list]\n",
    "    interventions_alts_list = list(set([i.lower() for i in interventions_alts_list]))\n",
    "    \n",
    "    try:        \n",
    "        cache_df = pd.read_csv(\"mapping_cache.tsv\", sep =\"\\t\", index_col=False, header=0, on_bad_lines = 'warn')\n",
    "        \n",
    "        conditions_cache = cache_df[cache_df[\"term_type\"] == \"condition\"]\n",
    "        conditions_cache = conditions_cache['clintrial_term'].unique().tolist()\n",
    "        conditions_cache = list(set([i.lower() for i in conditions_cache]))\n",
    "        \n",
    "        conditions_new = [x for x in conditions_list if x not in conditions_cache] # find conditions not in the cache (i.g. new conditions to map)\n",
    "        conditions_new = list(filter(None, conditions_new))\n",
    "        conditions_new = [str(i) for i in conditions_new]\n",
    "        \n",
    "        interventions_cache = cache_df[cache_df[\"term_type\"] == \"intervention\"]\n",
    "        interventions_cache = interventions_cache['clintrial_term'].unique().tolist()\n",
    "        interventions_cache = list(set([i.lower() for i in interventions_cache]))\n",
    "        \n",
    "        interventions_new = [x for x in interventions_list if x not in interventions_cache] # find interventions not in the cache (i.g. new interventions to map)\n",
    "        interventions_new = list(filter(None, interventions_new))\n",
    "        interventions_new = [str(i) for i in interventions_new]\n",
    "        \n",
    "        interventions_alts_cache = cache_df[cache_df[\"term_type\"] == \"intervention_alternate\"]\n",
    "        interventions_alts_cache = interventions_alts_cache['clintrial_term'].unique().tolist()\n",
    "        interventions_alts_cache = list(set([i.lower() for i in interventions_alts_cache]))\n",
    "        \n",
    "        interventions_alts_new = [x for x in interventions_alts_list if x not in interventions_alts_cache] # find interventions_alts not in the cache (i.g. new interventions_alts to map)\n",
    "        interventions_alts_new = list(filter(None, interventions_alts_new))\n",
    "        interventions_alts_new = [str(i) for i in interventions_alts_new]\n",
    "        \n",
    "    except:\n",
    "        print(\"No cache of terms found. Proceeding to map entire KG from scratch\")\n",
    "        conditions_new = conditions_list\n",
    "        interventions_new = interventions_list\n",
    "        interventions_alts_new = interventions_alts_list\n",
    "        \n",
    "    dict_new_terms = {\"conditions\": conditions_new, \"interventions\": interventions_new, \"interventions_alts\": interventions_alts_new}\n",
    "\n",
    "    return dict_new_terms\n"
   ]
  },
  {
   "cell_type": "markdown",
   "id": "6a9a77e9-7ead-4ee6-a4df-d2aa636cc893",
   "metadata": {},
   "source": [
    "# Map new terms using Mapper"
   ]
  },
  {
   "cell_type": "code",
   "execution_count": 17,
   "id": "ee1c310c-1087-4d72-bef2-53f535f92e6d",
   "metadata": {
    "tags": []
   },
   "outputs": [],
   "source": [
    "def get_nr_response(orig_term):\n",
    "    def create_session():\n",
    "        s = requests.Session()\n",
    "        return s\n",
    "        def api_calls(resp, *args, **kwargs):\n",
    "            total = 40\n",
    "            print(total)\n",
    "        s.hooks[\"response\"] = api_calls\n",
    " \n",
    "    sess = create_session()\n",
    " \n",
    "    \"\"\"   Runs Name Resolver   \"\"\"\n",
    "    nr_url = 'https://name-resolution-sri.renci.org/lookup'\n",
    "    max_retries = 3 \n",
    "    \n",
    "    input_term = orig_term # in MetaMap, we have to potentially deascii the term and lower case it...for Name Resolver, we don't need to do that. To keep columns consist with MetaMap output, we just keep it and say the original term and the input term are the same. For MetaMap, they might be different\n",
    "    retries = 0\n",
    "    params = {'string':orig_term, 'limit':1} # limit -1 makes this return all available equivalent CURIEs name resolver can give (deprecated)\n",
    "    while retries <= max_retries:\n",
    "        try:\n",
    "            r = sess.post(nr_url, params=params)\n",
    "            if r.status_code == 200:\n",
    "                mapping_tool_response = r.json()  # process Name Resolver response\n",
    "                return mapping_tool_response\n",
    "            else:\n",
    "                return None\n",
    "        except (requests.RequestException, ConnectionResetError, OSError) as ex:\n",
    "            print(f\"\\nName Resolver request failed for term: {term}. Error: {ex}\")\n",
    "            retries += 1\n",
    "            if retries < max_retries:\n",
    "                print(f\"Retrying ({retries}/{max_retries}) after a delay.\")\n",
    "                time.sleep(2 ** retries)  # Increase the delay between retries exponentially\n",
    "            else:\n",
    "                print(f\"Max retries (Name Resolver) reached for term: {term}.\")\n",
    "                return None\n",
    "    \n",
    "    # request_count +=1\n",
    "    # if request_count % 50 == 0:  # if 50 requests to API have been made, sleep 10 secs\n",
    "    #     time.sleep(10)  \n",
    "    "
   ]
  },
  {
   "cell_type": "code",
   "execution_count": 16,
   "id": "0c24efc4-8cab-4094-b2e4-bdb7c6fe5af7",
   "metadata": {
    "tags": []
   },
   "outputs": [],
   "source": [
    "# # nr_response = get_nr_response(orig_term)\n",
    "# # ['mapping_tool', 'term_type', 'clintrial_term', 'input_term', 'mapping_tool_response', 'score']\n",
    "# for i in [\"cordiceps\", \"chocolate\", \"diabetes mellitus\", \"blipadbloo\", \"catheter\", \"humira®\"]:\n",
    "#     nr_result = get_nr_response(i)\n",
    "#     if nr_result:\n",
    "#         nr_result\n",
    "#         nr_curie = nr_result[0][\"curie\"]\n",
    "#         nr_name = nr_result[0][\"label\"]\n",
    "#         nr_type = nr_result[0][\"types\"][0]\n",
    "#         nr_score = nr_result[0][\"score\"]\n",
    "#         new_concept_dict = {\"nameresolver_preferred_name\": nr_name,\n",
    "#                              \"nameresolver_cui\": nr_curie,\n",
    "#                              \"nameresolver_score\": nr_score,\n",
    "#                              \"nameresolver_semtypes\": nr_type}\n",
    "#     else:\n",
    "#         print(\"nothing returned from NR\")"
   ]
  },
  {
   "cell_type": "code",
   "execution_count": 44,
   "id": "1b60d026-6fdb-44bc-8cf2-6ae28d2edcf6",
   "metadata": {
    "tags": []
   },
   "outputs": [],
   "source": [
    "# I'm only getting 1 concept from Name Resolver. \n",
    "# Both MetaMap and Name Resolver return several, \n",
    "# but I only take 1 from Name Resolver bc they have a preferred concept.\n",
    "# MetaMap's 2nd or 3rd result is often the best one, so I collect all of them and try to score\"\n",
    "\n",
    "def process_metamap_concept(concept):\n",
    "    concept = concept._asdict()\n",
    "    concept_dict  = {\"mapped_name\": concept.get(\"preferred_name\"),\n",
    "                     \"mapped_curie\": concept.get(\"cui\"),\n",
    "                     \"mapped_score\": concept.get(\"score\"),\n",
    "                     \"mapped_semtypes\": concept.get(\"semtypes\")}\n",
    "    return concept_dict\n",
    "\n",
    "def process_nameresolver_response(nr_response):              \n",
    "    nr_curie = nr_response[0][\"curie\"]\n",
    "    nr_name = nr_response[0][\"label\"]\n",
    "    nr_type = nr_response[0][\"types\"][0]\n",
    "    nr_score = nr_response[0][\"score\"]\n",
    "    concept_dict = {\"mapped_name\": nr_name,\n",
    "                    \"mapped_curie\": nr_curie,\n",
    "                    \"mapped_score\": nr_score,\n",
    "                    \"mapped_semtypes\": nr_type}\n",
    "    return concept_dict"
   ]
  },
  {
   "cell_type": "code",
   "execution_count": 42,
   "id": "1292c371-6c17-4102-8f17-0f45846c23b9",
   "metadata": {
    "tags": []
   },
   "outputs": [],
   "source": [
    "def run_mappers(term_pair, params, mm, term_type, csv_writer):\n",
    "\n",
    "    orig_term = term_pair[0]\n",
    "    input_term = term_pair[1]\n",
    "    from_mapper = []\n",
    "    \n",
    "    # Format of output TSV: header = ['mapping_tool', 'term_type', 'clintrial_term', 'input_term', 'mapping_tool_response', 'score']\n",
    "\n",
    "    if params.get(\"exclude_sts\") is None: # exclude_sts is used for Interventions. restrict_to_sts is used for Conditions. So, the logic is, if we're mapping Conditions, execute \"if\" part of code. If we're mapping Interventions, execute \"else\" part of code\n",
    "        try:\n",
    "            concepts,error = mm.extract_concepts([input_term],\n",
    "                                                 restrict_to_sts = params[\"restrict_to_sts\"],\n",
    "                                                 term_processing = params[\"term_processing\"],\n",
    "                                                 ignore_word_order = params[\"ignore_word_order\"],\n",
    "                                                 strict_model = params[\"strict_model\"],)\n",
    "                                                    \n",
    "            if concepts:   # if MetaMap gives response, process response\n",
    "                mapping_tool = \"metamap\"\n",
    "                for concept in concepts:\n",
    "                    concept_info = []\n",
    "                    new_concept_dict = process_metamap_concept(concept)\n",
    "                    concept_info.extend([mapping_tool, term_type, orig_term, input_term, new_concept_dict, None]) # score column is empty, Format of output TSV: header = ['mapping_tool', 'term_type', 'clintrial_term', 'input_term', 'mapping_tool_response', 'score']\n",
    "                    from_mapper.append(concept_info)\n",
    "            else:   # if MetaMap fails, try using Name Resolver and process response\n",
    "                nr_response = get_nr_response(orig_term)\n",
    "                if nr_response: # if Name Resolver gives response, process repsonse\n",
    "                    input_term = orig_term # no preprocessing (lowercasing or deascii-ing) necessary to submit terms to Name Resolver (unlike MetaMap)\n",
    "                    mapping_tool = \"nameresolver\"\n",
    "                    concept_info = []\n",
    "                    new_concept_dict = process_nameresolver_response(nr_response)\n",
    "                    concept_info.extend([mapping_tool, term_type, orig_term, input_term, new_concept_dict, None]) # Add None for score column, empty bc not scored yet\n",
    "                    from_mapper.append(concept_info)\n",
    "                else:\n",
    "                    concept_info = []\n",
    "                    print(\"Nothing returned from NR or Metamap\")\n",
    "                    concept_info.extend([\"mapping_tools_failed\", term_type, orig_term, input_term, None, None])\n",
    "                    from_mapper.append(concept_info)\n",
    "        except:\n",
    "            concept_info = []\n",
    "            print(\"Nothing returned from NR or Metamap\")\n",
    "            concept_info.extend([\"mapping_tools_failed\", term_type, orig_term, input_term, None, None])\n",
    "            from_mapper.append(concept_info)\n",
    "            \n",
    "    else:   # Else block triggered if mapping Interventions\n",
    "        try:\n",
    "            concepts,error = mm.extract_concepts([input_term],\n",
    "                                                 exclude_sts = params[\"exclude_sts\"],\n",
    "                                                 term_processing = params[\"term_processing\"],\n",
    "                                                 ignore_word_order = params[\"ignore_word_order\"],\n",
    "                                                 strict_model = params[\"strict_model\"],) \n",
    "                                                   \n",
    "            if concepts:   # if MetaMap gives response, process response\n",
    "                mapping_tool = \"metamap\"\n",
    "                for concept in concepts:\n",
    "                    concept_info = []\n",
    "                    new_concept_dict = process_metamap_concept(concept)\n",
    "                    concept_info.extend([mapping_tool, term_type, orig_term, input_term, new_concept_dict, None]) # Format of output TSV: header = ['mapping_tool', 'term_type', 'clintrial_term', 'input_term', 'mapping_tool_response', 'score']\n",
    "                    from_mapper.append(concept_info)\n",
    "            else:   # if MetaMap fails, try using Name Resolver and process response\n",
    "                nr_response = get_nr_response(orig_term) \n",
    "                if nr_response: # if Name Resolver gives response, process repsonse\n",
    "                    input_term = orig_term # no preprocessing (lowercasing or deascii-ing) necessary to submit terms to Name Resolver (unlike MetaMap)\n",
    "                    mapping_tool = \"nameresolver\"\n",
    "                    concept_info = []\n",
    "                    new_concept_dict = process_nameresolver_response(nr_response)\n",
    "                    concept_info.extend([mapping_tool, term_type, orig_term, input_term, new_concept_dict, None])\n",
    "                    from_mapper.append(concept_info)\n",
    "                else:\n",
    "                    concept_info = []\n",
    "                    print(\"Nothing returned from NR or Metamap\")\n",
    "                    concept_info.extend([\"mapping_tools_failed\", term_type, orig_term, input_term, None, None])\n",
    "                    from_mapper.append(concept_info)\n",
    "        except:\n",
    "            concept_info = []\n",
    "            print(\"Nothing returned from NR or Metamap\")\n",
    "            concept_info.extend([\"mapping_tools_failed\", term_type, orig_term, input_term, None, None])\n",
    "            from_mapper.append(concept_info)\n",
    "\n",
    "    for result in from_mapper:\n",
    "        # print(result)\n",
    "        csv_writer.writerow(result)\n",
    "    # return from_metamap"
   ]
  },
  {
   "cell_type": "code",
   "execution_count": 35,
   "id": "485fd6bb-2e4a-40f5-bbc9-e92af2c16a87",
   "metadata": {
    "tags": []
   },
   "outputs": [],
   "source": [
    "def parallelize_mappers(term_pair_list, params, term_type, csv_writer):\n",
    "\n",
    "    LENGTH = len(term_pair_list)  # Number of iterations required to fill progress bar (pbar)\n",
    "    pbar = tqdm(total=LENGTH, desc=\"% {}s mapped\".format(term_type), position=0, leave=True, mininterval = LENGTH/20, bar_format='{l_bar}{bar:20}{r_bar}{bar:-10b}')  # Init progress bar\n",
    "\n",
    "    start_metamap_servers(metamap_dirs) # start the MetaMap servers\n",
    "    mm = MetaMap.get_instance(metamap_dirs[\"metamap_base_dir\"] + metamap_dirs[\"metamap_bin_dir\"])\n",
    "    with concurrent.futures.ThreadPoolExecutor((multiprocessing.cpu_count()*2) - 1) as executor:\n",
    "        futures = [executor.submit(run_mappers, term_pair, params, mm, term_type, csv_writer) for term_pair in term_pair_list]\n",
    "        for _ in concurrent.futures.as_completed(futures):\n",
    "            pbar.update(n=1)  # Increments counter\n",
    "    stop_metamap_servers(metamap_dirs) # stop the MetaMap servers\n",
    "    "
   ]
  },
  {
   "cell_type": "code",
   "execution_count": 36,
   "id": "1f79ca09-cac5-4f30-a262-ff86690265e7",
   "metadata": {
    "tags": []
   },
   "outputs": [],
   "source": [
    "def term_list_to_mappers(dict_new_terms):   \n",
    "    metamap_version = [int(s) for s in re.findall(r'\\d+', metamap_dirs.get('metamap_bin_dir'))] # get MetaMap version being run \n",
    "    deasciier = np.vectorize(de_ascii_er) # vectorize function\n",
    "    \n",
    "    # open mapping cache to add mapped terms\n",
    "    mapping_filename = \"mapping_cache.tsv\"\n",
    "    if os.path.exists(mapping_filename):\n",
    "        output = open(mapping_filename, 'a', newline='') \n",
    "        csv_writer = csv.writer(output, delimiter='\\t')\n",
    "    else:\n",
    "        output = open(mapping_filename, 'w+', newline='')\n",
    "        col_names = ['mapping_tool', 'term_type', 'clintrial_term', 'input_term', 'mapping_tool_response', 'score']\n",
    "        csv_writer = csv.writer(output, delimiter='\\t')\n",
    "        csv_writer.writerow(col_names)\n",
    "\n",
    "    #  - Conditions\n",
    "    condition_semantic_type_restriction = ['acab,anab,cgab,comd,dsyn,inpo,mobd,neop,patf,clna,fndg']  # see https://lhncbc.nlm.nih.gov/ii/tools/MetaMap/Docs/SemanticTypes_2018AB.txt for semantic types (\"acab,anab,etc.\")\n",
    "    conditions = dict_new_terms.get(\"conditions\")\n",
    "    condition_params = {\"restrict_to_sts\":condition_semantic_type_restriction, \"term_processing\":True, \"ignore_word_order\":True, \"strict_model\":False} # strict_model and relaxed_model are presumably opposites? relaxed_model = True is what I want, but that option appears to be broken in Pymetamap (returns no results when used). Using strict_model = False instead...\n",
    "    # conditon_term_type = \"condition\"\n",
    "\n",
    "    #  - Interventions\n",
    "    condition_semantic_type_restriction = ['acab,anab,cgab,comd,dsyn,inpo,mobd,neop,patf,clna,fndg']  # see https://lhncbc.nlm.nih.gov/ii/tools/MetaMap/Docs/SemanticTypes_2018AB.txt for semantic types (\"acab,anab,etc.\")\n",
    "    interventions = dict_new_terms.get(\"interventions\")\n",
    "    intervention_params = {\"exclude_sts\":condition_semantic_type_restriction, \"term_processing\":True, \"ignore_word_order\":True, \"strict_model\":False} # strict_model and relaxed_model are presumably opposites? relaxed_model = True is what I want, but that option appears to be broken in Pymetamap (returns no results when used). Using strict_model = False instead...\n",
    "    # intervention_term_type = \"intervention\"\n",
    "\n",
    "    #  - Alternate Interventions\n",
    "    condition_semantic_type_restriction = ['acab,anab,cgab,comd,dsyn,inpo,mobd,neop,patf,clna,fndg']  # see https://lhncbc.nlm.nih.gov/ii/tools/MetaMap/Docs/SemanticTypes_2018AB.txt for semantic types (\"acab,anab,etc.\")\n",
    "    interventions_alts = dict_new_terms.get(\"interventions_alts\")\n",
    "    intervention_params = {\"exclude_sts\":condition_semantic_type_restriction, \"term_processing\":True, \"ignore_word_order\":True, \"strict_model\":False} # strict_model and relaxed_model are presumably opposites? relaxed_model = True is what I want, but that option appears to be broken in Pymetamap (returns no results when used). Using strict_model = False instead...\n",
    "    # intervention_alternate_term_type = \"intervention_alternate\"\n",
    "    \n",
    "    if metamap_version[0] >= 20:\n",
    "        print(\"MetaMap version >= 2020, conduct mapping on original terms\")\n",
    "        parallelize_mappers(list(zip(conditions, conditions)), condition_params, \"condition\", csv_writer)\n",
    "        parallelize_mappers(list(zip(interventions, interventions)), intervention_params, \"intervention\", csv_writer)\n",
    "        parallelize_mappers(list(zip(interventions_alts, interventions_alts)), intervention_alts_params, \"alternate_intervention\", csv_writer)\n",
    "    else:\n",
    "        print(\"MetaMap version < 2020, conduct mapping on terms after removing ascii characters\")\n",
    "        deascii_cons = deasciier(conditions)\n",
    "        deascii_ints = deasciier(interventions)\n",
    "        deascii_int_alts = deasciier(interventions_alts)\n",
    "        parallelize_mappers(list(zip(conditions, deascii_cons)), condition_params, \"condition\", csv_writer)\n",
    "        parallelize_mappers(list(zip(interventions, deascii_ints)), intervention_params, \"intervention\", csv_writer)\n",
    "        parallelize_mappers(list(zip(interventions_alts, deascii_int_alts)), intervention_params, \"intervention_alternate\", csv_writer)\n",
    "\n",
    "    output.close()\n",
    "    \n",
    "    \"\"\" Remove duplicate rows from cache \"\"\"\n",
    "    cache = pd.read_csv(mapping_filename, sep='\\t', index_col=False, header=0, on_bad_lines = 'warn')\n",
    "    cache = cache.drop_duplicates()\n",
    "    cache.to_csv(mapping_filename, sep=\"\\t\", index=False, header=True) # output deduplicated cache terms to TSV\n"
   ]
  },
  {
   "cell_type": "code",
   "execution_count": null,
   "id": "30b40eb7-50af-40e8-8fc8-8cc4e506285c",
   "metadata": {
    "tags": []
   },
   "outputs": [],
   "source": [
    "# # def score_metamap_mappings():\n",
    "\n",
    "\n",
    "# header = True\n",
    "# with pd.read_csv(\"mapping_cache.tsv\", sep='\\t', index_col=False, header=0, on_bad_lines = 'warn', chunksize=1000) as reader:\n",
    "#     for chunk in reader:\n",
    "#         chunk[\"scored\"] = np.where(~chunk[\"score\"].isnull(), chunk[\"score\"],\n",
    "#                                    np.where((chunk.score.isnull())&(chunk.mapping_tool == \"metamap\"),\n",
    "#         df['d'] = np.where(df.a.isnull(),\n",
    "#          np.nan,\n",
    "#          np.where((df.b == \"N\")&(~df.c.isnull()),\n",
    "#                   df.a*df.c,\n",
    "#                   df.a))\n",
    "        \n",
    "        \n",
    "#         for i, row in chunk.iterrows():\n",
    "#             print(type(row[\"score\"]))\n",
    "#             if not row[\"score\"].isnull():\n",
    "#                 print(i)\n",
    "# #                 break\n",
    "#             elif pd.isnull(row[\"score\"]) and row[\"mapping_tool\"] == \"metamap\":\n",
    "#                 mm_dict = ast.literal_eval(row[\"mapping_tool_response\"])\n",
    "#                 mapped_term = mm_dict['metamap_preferred_name']\n",
    "#                 sort_ratio_score = get_token_sort_ratio(row[\"clintrial_term\"], mapped_term)\n",
    "#                 similarity_score = get_similarity_score(row[\"clintrial_term\"], mapped_term)\n",
    "#                 max_score = max(sort_ratio_score, similarity_score)\n",
    "#                 chunk.at[i, \"score\"] = max_score\n",
    "#             elif pd.isnull(row[\"score\"]) and row[\"mapping_tool\"] == \"nameresolver\":\n",
    "#                 break\n",
    "            \n",
    "#             chunk.to_csv(\"mapping_cache_scored.tsv\", header=header, sep=\"\\t\", index=False, mode='a+')\n",
    "#             header = False\n",
    "\n",
    "#       header = True\n",
    "# for chunk in chunks:\n",
    "\n",
    "#     chunk.to_csv(os.path.join(folder, new_folder, \"new_file_\" + filename),\n",
    "#         header=header, cols=[['TIME','STUFF']], mode='a')\n",
    "\n",
    "#     header = False          \n",
    "                \n",
    "            \n",
    "# original_clintrial_term = row[\"clintrial_term\"]\n"
   ]
  },
  {
   "cell_type": "code",
   "execution_count": 46,
   "id": "98ceddf5-0ebe-41d9-9b89-85fc647f4136",
   "metadata": {},
   "outputs": [
    {
     "name": "stdout",
     "output_type": "stream",
     "text": [
      "Attempting download of Clinical Trial data as of 02_21_2024\n",
      "\n",
      "Failed to scrape AACT for download. Please navigate to https://aact.ctti-clinicaltrials.org/download and manually download zip file.\n",
      "Please store the downloaded zip in the /data directory. This should be the only item besides the cache file, condition manual review file, and intervention manual review file, in the directory at this time.\n"
     ]
    },
    {
     "name": "stdin",
     "output_type": "stream",
     "text": [
      "Type Done when done:  Done\n"
     ]
    },
    {
     "name": "stdout",
     "output_type": "stream",
     "text": [
      "File found at: \n",
      "/Users/Kamileh/Work/ISB/NCATS_BiomedicalTranslator/Projects/ClinicalTrials/ETL_Python/data/8vstm2enpo0ocbo2z7oypqurhgmz.zip\n",
      "Please make sure this the correct zip file from AACT\n",
      "Unzipping data into\n",
      "/Users/Kamileh/Work/ISB/NCATS_BiomedicalTranslator/Projects/ClinicalTrials/ETL_Python/data/02_20_2024_extracted\n",
      "MetaMap version < 2020, conduct mapping on terms after removing ascii characters\n"
     ]
    },
    {
     "name": "stderr",
     "output_type": "stream",
     "text": [
      "% conditions mapped:   3%|▋                   | 1/29 [00:13<06:29, 13."
     ]
    },
    {
     "name": "stdout",
     "output_type": "stream",
     "text": [
      "['metamap', 'condition', 'poliomyelitis', 'poliomyelitis', {'mapped_name': 'Poliomyelitis', 'mapped_curie': 'C0032371', 'mapped_score': '16.26', 'mapped_semtypes': '[dsyn]'}, None]\n",
      "['metamap', 'condition', 'gastroparesis', 'gastroparesis', {'mapped_name': 'Gastroparesis', 'mapped_curie': 'C0152020', 'mapped_score': '16.26', 'mapped_semtypes': '[dsyn]'}, None]\n",
      "['metamap', 'condition', 'gastroparesis', 'gastroparesis', {'mapped_name': 'Gastroparesis, CTCAE', 'mapped_curie': 'C4552807', 'mapped_score': '3.64', 'mapped_semtypes': '[fndg]'}, None]\n",
      "['metamap', 'condition', 'sars-cov2', 'sars-cov2', {'mapped_name': 'Severe Acute Respiratory Syndrome', 'mapped_curie': 'C1175175', 'mapped_score': '19.22', 'mapped_semtypes': '[dsyn]'}, None]\n",
      "['metamap', 'condition', 'leukemia', 'leukemia', {'mapped_name': 'leukemia', 'mapped_curie': 'C0023418', 'mapped_score': '9.95', 'mapped_semtypes': '[neop]'}, None]\n",
      "['metamap', 'condition', 'leukemia', 'leukemia', {'mapped_name': 'Childhood Leukemia', 'mapped_curie': 'C1332977', 'mapped_score': '3.64', 'mapped_semtypes': '[neop]'}, None]\n",
      "['metamap', 'condition', 'depression, anxiety', 'depression, anxiety', {'mapped_name': 'Mixed anxiety and depressive disorder', 'mapped_curie': 'C0338908', 'mapped_score': '3.68', 'mapped_semtypes': '[mobd]'}, None]\n",
      "['metamap', 'condition', 'treatment resistant depression', 'treatment resistant depression', {'mapped_name': 'Depressive Disorder, Treatment-Resistant', 'mapped_curie': 'C2063866', 'mapped_score': '13.23', 'mapped_semtypes': '[mobd]'}, None]\n"
     ]
    },
    {
     "name": "stderr",
     "output_type": "stream",
     "text": [
      "% conditions mapped:  24%|████▊               | 7/29 [00:15<00:38,  1."
     ]
    },
    {
     "name": "stdout",
     "output_type": "stream",
     "text": [
      "['metamap', 'condition', 'autistic disorder of childhood onset with full syndrome', 'autistic disorder of childhood onset with full syndrome', {'mapped_name': 'Autistic Disorder', 'mapped_curie': 'C0004352', 'mapped_score': '16.28', 'mapped_semtypes': '[mobd]'}, None]\n",
      "['metamap', 'condition', 'autistic disorder of childhood onset with full syndrome', 'autistic disorder of childhood onset with full syndrome', {'mapped_name': 'Syndrome', 'mapped_curie': 'C0039082', 'mapped_score': '12.88', 'mapped_semtypes': '[dsyn]'}, None]\n",
      "['metamap', 'condition', 'irritable bowel syndrome', 'irritable bowel syndrome', {'mapped_name': 'Irritable Bowel Syndrome', 'mapped_curie': 'C0022104', 'mapped_score': '19.54', 'mapped_semtypes': '[dsyn]'}, None]\n",
      "['metamap', 'condition', 'atrial fibrillation', 'atrial fibrillation', {'mapped_name': 'Atrial Fibrillation', 'mapped_curie': 'C0004238', 'mapped_score': '13.18', 'mapped_semtypes': '[dsyn]'}, None]\n",
      "['metamap', 'condition', 'atrial fibrillation', 'atrial fibrillation', {'mapped_name': 'Atrial Fibrillation, CTCAE', 'mapped_curie': 'C1963067', 'mapped_score': '3.72', 'mapped_semtypes': '[fndg]'}, None]\n",
      "['metamap', 'condition', 'stargardt disease', 'stargardt disease', {'mapped_name': \"Stargardt's disease\", 'mapped_curie': 'C0271093', 'mapped_score': '3.72', 'mapped_semtypes': '[dsyn]'}, None]\n",
      "['metamap', 'condition', 'parkinson disease', 'parkinson disease', {'mapped_name': 'Parkinson Disease', 'mapped_curie': 'C0030567', 'mapped_score': '19.49', 'mapped_semtypes': '[dsyn]'}, None]\n"
     ]
    },
    {
     "name": "stderr",
     "output_type": "stream",
     "text": [
      "% conditions mapped:  41%|████████▎           | 12/29 [00:22<00:25,  1"
     ]
    },
    {
     "name": "stdout",
     "output_type": "stream",
     "text": [
      "['metamap', 'condition', 'atopic dermatitis', 'atopic dermatitis', {'mapped_name': 'Dermatitis, Atopic', 'mapped_curie': 'C0011615', 'mapped_score': '13.18', 'mapped_semtypes': '[dsyn]'}, None]\n",
      "['metamap', 'condition', 'atopic dermatitis', 'atopic dermatitis', {'mapped_name': 'Eczema', 'mapped_curie': 'C0013595', 'mapped_score': '13.18', 'mapped_semtypes': '[dsyn]'}, None]\n",
      "['metamap', 'condition', 'primary dysmenorrhea', 'primary dysmenorrhea', {'mapped_name': 'Primary dysmenorrhea', 'mapped_curie': 'C0149875', 'mapped_score': '3.72', 'mapped_semtypes': '[dsyn]'}, None]\n",
      "['metamap', 'condition', 'healthy diet', 'healthy diet', {'mapped_name': 'Healthy Diet', 'mapped_curie': 'C0452415', 'mapped_score': '16.33', 'mapped_semtypes': '[fndg]'}, None]\n"
     ]
    },
    {
     "name": "stderr",
     "output_type": "stream",
     "text": [
      "% conditions mapped:  52%|██████████▎         | 15/29 [00:26<00:20,  1"
     ]
    },
    {
     "name": "stdout",
     "output_type": "stream",
     "text": [
      "['metamap', 'condition', 'respiratory failure', 'respiratory failure', {'mapped_name': 'Respiratory Failure', 'mapped_curie': 'C1145670', 'mapped_score': '10.02', 'mapped_semtypes': '[dsyn]'}, None]\n",
      "['metamap', 'condition', 'respiratory failure', 'respiratory failure', {'mapped_name': 'Respiratory Failure, CTCAE', 'mapped_curie': 'C4552651', 'mapped_score': '3.72', 'mapped_semtypes': '[fndg]'}, None]\n",
      "['metamap', 'condition', 'cchs with neuroblastoma', 'cchs with neuroblastoma', {'mapped_name': 'Neuroblastoma', 'mapped_curie': 'C0027819', 'mapped_score': '25.52', 'mapped_semtypes': '[neop]'}, None]\n",
      "['metamap', 'condition', 'cchs with neuroblastoma', 'cchs with neuroblastoma', {'mapped_name': 'Congenital central hypoventilation', 'mapped_curie': 'C1275808', 'mapped_score': '13.03', 'mapped_semtypes': '[dsyn]'}, None]\n",
      "['metamap', 'condition', 'cchs with neuroblastoma', 'cchs with neuroblastoma', {'mapped_name': 'Central neuroblastoma', 'mapped_curie': 'C0700095', 'mapped_score': '3.44', 'mapped_semtypes': '[neop]'}, None]\n",
      "['metamap', 'condition', 'cchs with neuroblastoma', 'cchs with neuroblastoma', {'mapped_name': 'Childhood Neuroblastoma', 'mapped_curie': 'C4086165', 'mapped_score': '3.44', 'mapped_semtypes': '[neop]'}, None]\n"
     ]
    },
    {
     "name": "stderr",
     "output_type": "stream",
     "text": [
      "% conditions mapped:  59%|███████████▋        | 17/29 [00:28<00:15,  1"
     ]
    },
    {
     "name": "stdout",
     "output_type": "stream",
     "text": [
      "['metamap', 'condition', 'neuroblastoma', 'neuroblastoma', {'mapped_name': 'Neuroblastoma', 'mapped_curie': 'C0027819', 'mapped_score': '25.72', 'mapped_semtypes': '[neop]'}, None]\n",
      "['metamap', 'condition', 'neuroblastoma', 'neuroblastoma', {'mapped_name': 'Central neuroblastoma', 'mapped_curie': 'C0700095', 'mapped_score': '3.64', 'mapped_semtypes': '[neop]'}, None]\n",
      "['metamap', 'condition', 'neuroblastoma', 'neuroblastoma', {'mapped_name': 'Childhood Neuroblastoma', 'mapped_curie': 'C4086165', 'mapped_score': '3.64', 'mapped_semtypes': '[neop]'}, None]\n",
      "['metamap', 'condition', 'back pain', 'back pain', {'mapped_name': 'Back Pain, CTCAE 3.0', 'mapped_curie': 'C1963071', 'mapped_score': '3.72', 'mapped_semtypes': '[fndg]'}, None]\n",
      "['metamap', 'condition', 'back pain', 'back pain', {'mapped_name': 'Back Pain, CTCAE 5.0', 'mapped_curie': 'C4553945', 'mapped_score': '3.72', 'mapped_semtypes': '[fndg]'}, None]\n",
      "['nameresolver', 'condition', 'hiv prevention', 'hiv prevention', {'mapped_name': 'HIV prevention', 'mapped_curie': 'UMLS:C0150413', 'mapped_score': 98.02548, 'mapped_semtypes': 'biolink:Procedure'}, None]\n"
     ]
    },
    {
     "name": "stderr",
     "output_type": "stream",
     "text": [
      "% conditions mapped:  69%|█████████████▊      | 20/29 [00:30<00:09,  1"
     ]
    },
    {
     "name": "stdout",
     "output_type": "stream",
     "text": [
      "['metamap', 'condition', 'chronic neck pain', 'chronic neck pain', {'mapped_name': 'Chronic neck pain', 'mapped_curie': 'C0746815', 'mapped_score': '3.77', 'mapped_semtypes': '[fndg]'}, None]\n",
      "['metamap', 'condition', 'genetic diseases, x-linked', 'genetic diseases, x-linked', {'mapped_name': 'Genetic Diseases, X-Linked', 'mapped_curie': 'C1138434', 'mapped_score': '10.04', 'mapped_semtypes': '[dsyn]'}, None]\n",
      "['metamap', 'condition', 'preoperative radiologic findings', 'preoperative radiologic findings', {'mapped_name': 'Radiologic finding', 'mapped_curie': 'C1290916', 'mapped_score': '3.62', 'mapped_semtypes': '[fndg]'}, None]\n"
     ]
    },
    {
     "name": "stderr",
     "output_type": "stream",
     "text": [
      "% conditions mapped:  79%|███████████████▊    | 23/29 [00:33<00:06,  1"
     ]
    },
    {
     "name": "stdout",
     "output_type": "stream",
     "text": [
      "['metamap', 'condition', 'cholelithiasis', 'cholelithiasis', {'mapped_name': 'Cholelithiasis', 'mapped_curie': 'C0008350', 'mapped_score': '9.95', 'mapped_semtypes': '[dsyn]'}, None]\n",
      "['metamap', 'condition', 'stem cell transplant complications', 'stem cell transplant complications', {'mapped_name': 'Complications of stem cell transplant', 'mapped_curie': 'C3251587', 'mapped_score': '3.81', 'mapped_semtypes': '[patf]'}, None]\n"
     ]
    },
    {
     "name": "stderr",
     "output_type": "stream",
     "text": [
      "% conditions mapped:  86%|█████████████████▏  | 25/29 [00:35<00:04,  1"
     ]
    },
    {
     "name": "stdout",
     "output_type": "stream",
     "text": [
      "['metamap', 'condition', 'deep vein thrombosis (dvt)', 'deep vein thrombosis (dvt)', {'mapped_name': None, 'mapped_curie': None, 'mapped_score': None, 'mapped_semtypes': None}, None]\n",
      "['metamap', 'condition', 'deep vein thrombosis (dvt)', 'deep vein thrombosis (dvt)', {'mapped_name': 'Deep Vein Thrombosis', 'mapped_curie': 'C0149871', 'mapped_score': '16.39', 'mapped_semtypes': '[dsyn]'}, None]\n",
      "['nameresolver', 'condition', 'allergic rhinoconjunctivitis', 'allergic rhinoconjunctivitis', {'mapped_name': 'Allergic', 'mapped_curie': 'UMLS:C0700624', 'mapped_score': 100.71954, 'mapped_semtypes': 'biolink:InformationContentEntity'}, None]\n",
      "['metamap', 'condition', 'sezary syndrome', 'sezary syndrome', {'mapped_name': 'Sezary Syndrome', 'mapped_curie': 'C0036920', 'mapped_score': '25.80', 'mapped_semtypes': '[neop]'}, None]\n",
      "['nameresolver', 'condition', 'feeding behavior', 'feeding behavior', {'mapped_name': 'feeding behavior', 'mapped_curie': 'GO:0007631', 'mapped_score': 99.11896, 'mapped_semtypes': 'biolink:BiologicalProcess'}, None]\n"
     ]
    },
    {
     "name": "stderr",
     "output_type": "stream",
     "text": [
      "% conditions mapped: 100%|████████████████████| 29/29 [00:37<00:00,  1"
     ]
    },
    {
     "name": "stdout",
     "output_type": "stream",
     "text": [
      "['metamap', 'condition', 'mild cognitive impairment', 'mild cognitive impairment', {'mapped_name': 'Mild cognitive disorder', 'mapped_curie': 'C1270972', 'mapped_score': '3.77', 'mapped_semtypes': '[mobd]'}, None]\n"
     ]
    },
    {
     "name": "stderr",
     "output_type": "stream",
     "text": [
      "% conditions mapped: 100%|████████████████████| 29/29 [00:39<00:00,  1\n",
      "% interventions mapped:   3%|▋                   | 1/29 [00:11<05:08, "
     ]
    },
    {
     "name": "stdout",
     "output_type": "stream",
     "text": [
      "Nothing returned from NR or Metamap\n",
      "['mapping_tools_failed', 'intervention', 'eyepeace', 'eyepeace', None, None]\n",
      "['metamap', 'intervention', 'dexrazoxane hydrochloride', 'dexrazoxane hydrochloride', {'mapped_name': 'Dexrazoxane hydrochloride', 'mapped_curie': 'C0982118', 'mapped_score': '3.72', 'mapped_semtypes': '[orch,phsu]'}, None]\n"
     ]
    },
    {
     "name": "stderr",
     "output_type": "stream",
     "text": [
      "% interventions mapped:  10%|██                  | 3/29 [00:12<01:30, "
     ]
    },
    {
     "name": "stdout",
     "output_type": "stream",
     "text": [
      "['metamap', 'intervention', 'passive recovery', 'passive recovery', {'mapped_name': 'Recovery - action', 'mapped_curie': 'C0237820', 'mapped_score': '3.59', 'mapped_semtypes': '[acty]'}, None]\n",
      "['metamap', 'intervention', 'passive recovery', 'passive recovery', {'mapped_name': 'Recovery - healing process', 'mapped_curie': 'C2004454', 'mapped_score': '3.59', 'mapped_semtypes': '[orgf]'}, None]\n",
      "['metamap', 'intervention', 'passive recovery', 'passive recovery', {'mapped_name': 'recovery - adjustment', 'mapped_curie': 'C1555688', 'mapped_score': '3.59', 'mapped_semtypes': '[qnco]'}, None]\n",
      "['metamap', 'intervention', 'passive recovery', 'passive recovery', {'mapped_name': 'Passive', 'mapped_curie': 'C3686820', 'mapped_score': '3.45', 'mapped_semtypes': '[qlco]'}, None]\n",
      "['metamap', 'intervention', 'clinical scales', 'clinical scales', {'mapped_name': 'Integumentary scale', 'mapped_curie': 'C0222045', 'mapped_score': '3.59', 'mapped_semtypes': '[bpoc]'}, None]\n",
      "['metamap', 'intervention', 'clinical scales', 'clinical scales', {'mapped_name': 'Weight measurement scales', 'mapped_curie': 'C0175659', 'mapped_score': '3.59', 'mapped_semtypes': '[medd]'}, None]\n",
      "['metamap', 'intervention', 'clinical scales', 'clinical scales', {'mapped_name': 'Clinical', 'mapped_curie': 'C0205210', 'mapped_score': '3.45', 'mapped_semtypes': '[qlco]'}, None]\n",
      "['metamap', 'intervention', 'comparator: placebo to tolterodine tartrate', 'comparator: placebo to tolterodine tartrate', {'mapped_name': 'tolterodine tartrate', 'mapped_curie': 'C0724710', 'mapped_score': '25.53', 'mapped_semtypes': '[orch,phsu]'}, None]\n",
      "['metamap', 'intervention', 'comparator: placebo to tolterodine tartrate', 'comparator: placebo to tolterodine tartrate', {'mapped_name': 'Placebos', 'mapped_curie': 'C0032042', 'mapped_score': '6.58', 'mapped_semtypes': '[topp]'}, None]\n",
      "['metamap', 'intervention', 'comparator: placebo to tolterodine tartrate', 'comparator: placebo to tolterodine tartrate', {'mapped_name': 'Comparator', 'mapped_curie': 'C4553390', 'mapped_score': '3.55', 'mapped_semtypes': '[inpr]'}, None]\n",
      "['metamap', 'intervention', 'comparator: placebo to tolterodine tartrate', 'comparator: placebo to tolterodine tartrate', {'mapped_name': 'Comparator Device', 'mapped_curie': 'C1707454', 'mapped_score': '3.55', 'mapped_semtypes': '[mnob]'}, None]\n",
      "['metamap', 'intervention', 'comparator: placebo to tolterodine tartrate', 'comparator: placebo to tolterodine tartrate', {'mapped_name': 'Study Control', 'mapped_curie': 'C4553389', 'mapped_score': '3.55', 'mapped_semtypes': '[cnce]'}, None]\n",
      "['metamap', 'intervention', 'comparator: placebo to tolterodine tartrate', 'comparator: placebo to tolterodine tartrate', {'mapped_name': 'Placebo Control', 'mapped_curie': 'C1706408', 'mapped_score': '3.43', 'mapped_semtypes': '[resa]'}, None]\n",
      "['metamap', 'intervention', 'comparator: placebo to tolterodine tartrate', 'comparator: placebo to tolterodine tartrate', {'mapped_name': 'placebo', 'mapped_curie': 'C1696465', 'mapped_score': '3.43', 'mapped_semtypes': '[bodm]'}, None]\n"
     ]
    },
    {
     "name": "stderr",
     "output_type": "stream",
     "text": [
      "% interventions mapped:  21%|████▏               | 6/29 [00:14<00:41, "
     ]
    },
    {
     "name": "stdout",
     "output_type": "stream",
     "text": [
      "['metamap', 'intervention', 'orthokeratology with aspheric wide inversion zone design in the optical zone', 'orthokeratology with aspheric wide inversion zone design in the optical zone', {'mapped_name': 'Vision', 'mapped_curie': 'C0042789', 'mapped_score': '16.00', 'mapped_semtypes': '[orgf]'}, None]\n",
      "['metamap', 'intervention', 'orthokeratology with aspheric wide inversion zone design in the optical zone', 'orthokeratology with aspheric wide inversion zone design in the optical zone', {'mapped_name': 'Orthokeratology', 'mapped_curie': 'C1533088', 'mapped_score': '3.54', 'mapped_semtypes': '[topp]'}, None]\n",
      "['metamap', 'intervention', 'orthokeratology with aspheric wide inversion zone design in the optical zone', 'orthokeratology with aspheric wide inversion zone design in the optical zone', {'mapped_name': 'CDISC SEND Study Design Terminology', 'mapped_curie': 'C2983265', 'mapped_score': '3.42', 'mapped_semtypes': '[inpr]'}, None]\n",
      "['metamap', 'intervention', 'orthokeratology with aspheric wide inversion zone design in the optical zone', 'orthokeratology with aspheric wide inversion zone design in the optical zone', {'mapped_name': 'Design', 'mapped_curie': 'C1707689', 'mapped_score': '3.42', 'mapped_semtypes': '[acty]'}, None]\n",
      "['metamap', 'intervention', 'orthokeratology with aspheric wide inversion zone design in the optical zone', 'orthokeratology with aspheric wide inversion zone design in the optical zone', {'mapped_name': 'Inversion', 'mapped_curie': 'C2349984', 'mapped_score': '3.42', 'mapped_semtypes': '[ftcn]'}, None]\n",
      "['metamap', 'intervention', 'orthokeratology with aspheric wide inversion zone design in the optical zone', 'orthokeratology with aspheric wide inversion zone design in the optical zone', {'mapped_name': 'Widening', 'mapped_curie': 'C0332464', 'mapped_score': '3.42', 'mapped_semtypes': '[spco]'}, None]\n",
      "['metamap', 'intervention', 'orthokeratology with aspheric wide inversion zone design in the optical zone', 'orthokeratology with aspheric wide inversion zone design in the optical zone', {'mapped_name': 'Zone', 'mapped_curie': 'C1710706', 'mapped_score': '3.42', 'mapped_semtypes': '[spco]'}, None]\n",
      "['metamap', 'intervention', 'orthokeratology with aspheric wide inversion zone design in the optical zone', 'orthokeratology with aspheric wide inversion zone design in the optical zone', {'mapped_name': 'Specialized Stand Alone Plan - Vision', 'mapped_curie': 'C4085584', 'mapped_score': '3.38', 'mapped_semtypes': '[hcro]'}, None]\n",
      "['metamap', 'intervention', 'questionnary and interviews', 'questionnary and interviews', {'mapped_name': 'Interview', 'mapped_curie': 'C0021822', 'mapped_score': '16.05', 'mapped_semtypes': '[acty]'}, None]\n",
      "['metamap', 'intervention', 'questionnary and interviews', 'questionnary and interviews', {'mapped_name': 'Published Interview', 'mapped_curie': 'C0935630', 'mapped_score': '12.90', 'mapped_semtypes': '[inpr]'}, None]\n"
     ]
    },
    {
     "name": "stderr",
     "output_type": "stream",
     "text": [
      "% interventions mapped:  28%|█████▌              | 8/29 [00:18<00:36, "
     ]
    },
    {
     "name": "stdout",
     "output_type": "stream",
     "text": [
      "['metamap', 'intervention', 'comparative study between transdermal fentanyl and melatonin patches on postoperative pain relief after lumber laminectomy', 'comparative study between transdermal fentanyl and melatonin patches on postoperative pain relief after lumber laminectomy', {'mapped_name': 'Melatonin', 'mapped_curie': 'C0025219', 'mapped_score': '19.19', 'mapped_semtypes': '[horm,orch,phsu]'}, None]\n",
      "['metamap', 'intervention', 'comparative study between transdermal fentanyl and melatonin patches on postoperative pain relief after lumber laminectomy', 'comparative study between transdermal fentanyl and melatonin patches on postoperative pain relief after lumber laminectomy', {'mapped_name': 'Fentanyl', 'mapped_curie': 'C0015846', 'mapped_score': '12.88', 'mapped_semtypes': '[orch,phsu]'}, None]\n",
      "['metamap', 'intervention', 'comparative study between transdermal fentanyl and melatonin patches on postoperative pain relief after lumber laminectomy', 'comparative study between transdermal fentanyl and melatonin patches on postoperative pain relief after lumber laminectomy', {'mapped_name': 'Laminectomy', 'mapped_curie': 'C0022983', 'mapped_score': '9.72', 'mapped_semtypes': '[topp]'}, None]\n",
      "['metamap', 'intervention', 'comparative study between transdermal fentanyl and melatonin patches on postoperative pain relief after lumber laminectomy', 'comparative study between transdermal fentanyl and melatonin patches on postoperative pain relief after lumber laminectomy', {'mapped_name': 'comparative study publication', 'mapped_curie': 'C0009491', 'mapped_score': '6.70', 'mapped_semtypes': '[inpr]'}, None]\n",
      "['metamap', 'intervention', 'comparative study between transdermal fentanyl and melatonin patches on postoperative pain relief after lumber laminectomy', 'comparative study between transdermal fentanyl and melatonin patches on postoperative pain relief after lumber laminectomy', {'mapped_name': 'Transdermal System', 'mapped_curie': 'C0991556', 'mapped_score': '6.58', 'mapped_semtypes': '[medd]'}, None]\n",
      "['metamap', 'intervention', 'comparative study between transdermal fentanyl and melatonin patches on postoperative pain relief after lumber laminectomy', 'comparative study between transdermal fentanyl and melatonin patches on postoperative pain relief after lumber laminectomy', {'mapped_name': 'comparative study research', 'mapped_curie': 'C1579762', 'mapped_score': '3.54', 'mapped_semtypes': '[resa]'}, None]\n",
      "['metamap', 'intervention', 'comparative study between transdermal fentanyl and melatonin patches on postoperative pain relief after lumber laminectomy', 'comparative study between transdermal fentanyl and melatonin patches on postoperative pain relief after lumber laminectomy', {'mapped_name': 'postoperative analgesia', 'mapped_curie': 'C0853389', 'mapped_score': '3.43', 'mapped_semtypes': '[topp]'}, None]\n",
      "['metamap', 'intervention', 'comparative study between transdermal fentanyl and melatonin patches on postoperative pain relief after lumber laminectomy', 'comparative study between transdermal fentanyl and melatonin patches on postoperative pain relief after lumber laminectomy', {'mapped_name': 'Transdermal Patch Dosing Unit', 'mapped_curie': 'C2348814', 'mapped_score': '3.42', 'mapped_semtypes': '[qnco]'}, None]\n",
      "['metamap', 'intervention', 'comparative study between transdermal fentanyl and melatonin patches on postoperative pain relief after lumber laminectomy', 'comparative study between transdermal fentanyl and melatonin patches on postoperative pain relief after lumber laminectomy', {'mapped_name': 'Fentanyl measurement', 'mapped_curie': 'C0524136', 'mapped_score': '3.41', 'mapped_semtypes': '[lbpr]'}, None]\n",
      "['metamap', 'intervention', 'comparative study between transdermal fentanyl and melatonin patches on postoperative pain relief after lumber laminectomy', 'comparative study between transdermal fentanyl and melatonin patches on postoperative pain relief after lumber laminectomy', {'mapped_name': 'Recombinant melatonin', 'mapped_curie': 'C1527137', 'mapped_score': '3.41', 'mapped_semtypes': '[horm,orch,phsu]'}, None]\n",
      "['metamap', 'intervention', 'step count goals', 'step count goals', {'mapped_name': 'objective (goal)', 'mapped_curie': 'C0018017', 'mapped_score': '9.88', 'mapped_semtypes': '[inpr]'}, None]\n",
      "['metamap', 'intervention', 'step count goals', 'step count goals', {'mapped_name': 'Count', 'mapped_curie': 'C0750480', 'mapped_score': '3.44', 'mapped_semtypes': '[qnco]'}, None]\n",
      "['metamap', 'intervention', 'step count goals', 'step count goals', {'mapped_name': 'Count Dosing Unit', 'mapped_curie': 'C1705566', 'mapped_score': '3.44', 'mapped_semtypes': '[qnco]'}, None]\n",
      "['metamap', 'intervention', 'step count goals', 'step count goals', {'mapped_name': 'Increment', 'mapped_curie': 'C1705117', 'mapped_score': '3.44', 'mapped_semtypes': '[qnco]'}, None]\n",
      "['metamap', 'intervention', 'step count goals', 'step count goals', {'mapped_name': 'Stair (equipment)', 'mapped_curie': 'C2825408', 'mapped_score': '3.44', 'mapped_semtypes': '[mnob]'}, None]\n",
      "['metamap', 'intervention', 'step count goals', 'step count goals', {'mapped_name': 'Step (specific stage)', 'mapped_curie': 'C1261552', 'mapped_score': '3.44', 'mapped_semtypes': '[cnce]'}, None]\n",
      "['metamap', 'intervention', 'step count goals', 'step count goals', {'mapped_name': 'Step Unit of Distance', 'mapped_curie': 'C3814463', 'mapped_score': '3.44', 'mapped_semtypes': '[qnco]'}, None]\n",
      "['metamap', 'intervention', 'step count goals', 'step count goals', {'mapped_name': 'Treatment Step', 'mapped_curie': 'C1704379', 'mapped_score': '3.44', 'mapped_semtypes': '[ftcn]'}, None]\n",
      "['metamap', 'intervention', 'crystal ultra', 'crystal ultra', {'mapped_name': 'ultra', 'mapped_curie': 'C0728475', 'mapped_score': '3.59', 'mapped_semtypes': '[medd]'}, None]\n",
      "['metamap', 'intervention', 'crystal ultra', 'crystal ultra', {'mapped_name': 'Crystal - human material', 'mapped_curie': 'C0427896', 'mapped_score': '3.45', 'mapped_semtypes': '[bdsu]'}, None]\n",
      "['metamap', 'intervention', 'crystal ultra', 'crystal ultra', {'mapped_name': 'Crystal - natural material', 'mapped_curie': 'C4551577', 'mapped_score': '3.45', 'mapped_semtypes': '[chvs]'}, None]\n",
      "['metamap', 'intervention', 'crystal ultra', 'crystal ultra', {'mapped_name': 'Crystal Device', 'mapped_curie': 'C1704641', 'mapped_score': '3.45', 'mapped_semtypes': '[mnob]'}, None]\n",
      "['metamap', 'intervention', 'crystal ultra', 'crystal ultra', {'mapped_name': 'Crystal Structure', 'mapped_curie': 'C0444626', 'mapped_score': '3.45', 'mapped_semtypes': '[chvs]'}, None]\n",
      "['metamap', 'intervention', 'neural mobilization', 'neural mobilization', {'mapped_name': 'Therapeutic Mobilization', 'mapped_curie': 'C0185112', 'mapped_score': '3.59', 'mapped_semtypes': '[topp]'}, None]\n",
      "['metamap', 'intervention', 'neural mobilization', 'neural mobilization', {'mapped_name': 'mobilization', 'mapped_curie': 'C0300926', 'mapped_score': '3.59', 'mapped_semtypes': '[ftcn]'}, None]\n",
      "['metamap', 'intervention', 'neural mobilization', 'neural mobilization', {'mapped_name': 'neural', 'mapped_curie': 'C3714606', 'mapped_score': '3.45', 'mapped_semtypes': '[ftcn]'}, None]\n"
     ]
    },
    {
     "name": "stderr",
     "output_type": "stream",
     "text": [
      "% interventions mapped:  41%|████████▎           | 12/29 [00:20<00:18,"
     ]
    },
    {
     "name": "stdout",
     "output_type": "stream",
     "text": [
      "['metamap', 'intervention', 'enteric coated mycophenolate sodium', 'enteric coated mycophenolate sodium', {'mapped_name': 'mycophenolate sodium', 'mapped_curie': 'C1337395', 'mapped_score': '3.61', 'mapped_semtypes': '[antb,orch]'}, None]\n",
      "['metamap', 'intervention', 'enteric coated mycophenolate sodium', 'enteric coated mycophenolate sodium', {'mapped_name': 'Coating (film)', 'mapped_curie': 'C1522408', 'mapped_score': '3.43', 'mapped_semtypes': '[qlco]'}, None]\n",
      "['metamap', 'intervention', 'enteric coated mycophenolate sodium', 'enteric coated mycophenolate sodium', {'mapped_name': 'Enteral', 'mapped_curie': 'C1304890', 'mapped_score': '3.43', 'mapped_semtypes': '[spco]'}, None]\n",
      "['metamap', 'intervention', 'idarubicin', 'idarubicin', {'mapped_name': 'Idarubicin', 'mapped_curie': 'C0020789', 'mapped_score': '28.87', 'mapped_semtypes': '[orch,phsu]'}, None]\n",
      "['metamap', 'intervention', 'quetiapine', 'quetiapine', {'mapped_name': 'quetiapine', 'mapped_curie': 'C0123091', 'mapped_score': '3.64', 'mapped_semtypes': '[orch,phsu]'}, None]\n"
     ]
    },
    {
     "name": "stderr",
     "output_type": "stream",
     "text": [
      "% interventions mapped:  52%|██████████▎         | 15/29 [00:24<00:16,"
     ]
    },
    {
     "name": "stdout",
     "output_type": "stream",
     "text": [
      "['metamap', 'intervention', 'rituximab [mabthera/rituxan]', 'rituximab [mabthera/rituxan]', {'mapped_name': 'rituximab', 'mapped_curie': 'C0393022', 'mapped_score': '28.80', 'mapped_semtypes': '[aapp,imft,phsu]'}, None]\n",
      "['metamap', 'intervention', 'rituximab [mabthera/rituxan]', 'rituximab [mabthera/rituxan]', {'mapped_name': 'Mabthera', 'mapped_curie': 'C1314901', 'mapped_score': '28.67', 'mapped_semtypes': '[aapp,imft,phsu]'}, None]\n",
      "['metamap', 'intervention', 'rituximab [mabthera/rituxan]', 'rituximab [mabthera/rituxan]', {'mapped_name': 'Rituxan', 'mapped_curie': 'C0732355', 'mapped_score': '28.67', 'mapped_semtypes': '[aapp,imft,phsu]'}, None]\n",
      "['metamap', 'intervention', 'pneumovax', 'pneumovax', {'mapped_name': 'Pneumovax', 'mapped_curie': 'C0071315', 'mapped_score': '19.41', 'mapped_semtypes': '[imft,phsu]'}, None]\n"
     ]
    },
    {
     "name": "stderr",
     "output_type": "stream",
     "text": [
      "% interventions mapped:  59%|███████████▋        | 17/29 [00:26<00:14,"
     ]
    },
    {
     "name": "stdout",
     "output_type": "stream",
     "text": [
      "['metamap', 'intervention', 'form 3 of azd5718 tablets', 'form 3 of azd5718 tablets', {'mapped_name': 'Tablet Dosage Form', 'mapped_curie': 'C0039225', 'mapped_score': '9.86', 'mapped_semtypes': '[bodm]'}, None]\n",
      "['metamap', 'intervention', 'form 3 of azd5718 tablets', 'form 3 of azd5718 tablets', {'mapped_name': 'Manufactured form', 'mapped_curie': 'C0376315', 'mapped_score': '6.71', 'mapped_semtypes': '[mnob]'}, None]\n",
      "['metamap', 'intervention', 'form 3 of azd5718 tablets', 'form 3 of azd5718 tablets', {'mapped_name': 'Formation', 'mapped_curie': 'C1522492', 'mapped_score': '3.55', 'mapped_semtypes': '[ftcn]'}, None]\n",
      "['metamap', 'intervention', 'form 3 of azd5718 tablets', 'form 3 of azd5718 tablets', {'mapped_name': 'Qualitative form', 'mapped_curie': 'C0348078', 'mapped_score': '3.55', 'mapped_semtypes': '[qlco]'}, None]\n",
      "['metamap', 'intervention', 'aspirin enteric-coated tablets & atorvastatin calcium', 'aspirin enteric-coated tablets & atorvastatin calcium', {'mapped_name': 'Atorvastatin calcium', 'mapped_curie': 'C0286650', 'mapped_score': '3.58', 'mapped_semtypes': '[orch,phsu]'}, None]\n",
      "['metamap', 'intervention', 'aspirin enteric-coated tablets & atorvastatin calcium', 'aspirin enteric-coated tablets & atorvastatin calcium', {'mapped_name': 'Aspirin Delayed Release Oral Tablet', 'mapped_curie': 'C1244973', 'mapped_score': '3.50', 'mapped_semtypes': '[clnd]'}, None]\n",
      "['metamap', 'intervention', 'il-1ra', 'il-1ra', {'mapped_name': 'Interleukin 1 Receptor Antagonist Protein', 'mapped_curie': 'C1704264', 'mapped_score': '16.33', 'mapped_semtypes': '[aapp,phsu]'}, None]\n",
      "['metamap', 'intervention', 'il-1ra', 'il-1ra', {'mapped_name': 'IL1RN protein, human', 'mapped_curie': 'C1504688', 'mapped_score': '13.18', 'mapped_semtypes': '[aapp,phsu]'}, None]\n",
      "['metamap', 'intervention', 'il-1ra', 'il-1ra', {'mapped_name': 'IL1RN wt Allele', 'mapped_curie': 'C3273854', 'mapped_score': '3.72', 'mapped_semtypes': '[gngm]'}, None]\n",
      "['metamap', 'intervention', 'il-1ra', 'il-1ra', {'mapped_name': 'Interleukin 1 Receptor Antagonist Measurement', 'mapped_curie': 'C3812686', 'mapped_score': '3.72', 'mapped_semtypes': '[lbpr]'}, None]\n",
      "['metamap', 'intervention', 'il-1ra', 'il-1ra', {'mapped_name': 'anakinra', 'mapped_curie': 'C0245109', 'mapped_score': '3.72', 'mapped_semtypes': '[aapp,phsu]'}, None]\n",
      "['metamap', 'intervention', 'il-1ra', 'il-1ra', {'mapped_name': 'interleukin-1 receptor antagonist activity', 'mapped_curie': 'C1149393', 'mapped_score': '3.72', 'mapped_semtypes': '[moft]'}, None]\n",
      "['metamap', 'intervention', 'standard first line anti-tb drugs', 'standard first line anti-tb drugs', {'mapped_name': 'Drugs - dental services', 'mapped_curie': 'C3687832', 'mapped_score': '3.55', 'mapped_semtypes': '[topp]'}, None]\n",
      "['metamap', 'intervention', 'standard first line anti-tb drugs', 'standard first line anti-tb drugs', {'mapped_name': 'Pharmaceutical Preparations', 'mapped_curie': 'C0013227', 'mapped_score': '3.55', 'mapped_semtypes': '[phsu]'}, None]\n",
      "['metamap', 'intervention', 'standard first line anti-tb drugs', 'standard first line anti-tb drugs', {'mapped_name': 'Blood group antibody E', 'mapped_curie': 'C0947659', 'mapped_score': '3.44', 'mapped_semtypes': '[aapp,imft]'}, None]\n",
      "['metamap', 'intervention', 'standard first line anti-tb drugs', 'standard first line anti-tb drugs', {'mapped_name': 'Blood group antibody e', 'mapped_curie': 'C0313106', 'mapped_score': '3.44', 'mapped_semtypes': '[aapp,imft]'}, None]\n",
      "['metamap', 'intervention', 'standard first line anti-tb drugs', 'standard first line anti-tb drugs', {'mapped_name': 'First (number)', 'mapped_curie': 'C0205435', 'mapped_score': '3.42', 'mapped_semtypes': '[qnco]'}, None]\n",
      "['metamap', 'intervention', 'standard first line anti-tb drugs', 'standard first line anti-tb drugs', {'mapped_name': 'Firstly', 'mapped_curie': 'C1279901', 'mapped_score': '3.42', 'mapped_semtypes': '[qlco]'}, None]\n",
      "['metamap', 'intervention', 'standard first line anti-tb drugs', 'standard first line anti-tb drugs', {'mapped_name': 'Intravascular line', 'mapped_curie': 'C0700221', 'mapped_score': '3.42', 'mapped_semtypes': '[medd]'}, None]\n",
      "['metamap', 'intervention', 'standard first line anti-tb drugs', 'standard first line anti-tb drugs', {'mapped_name': 'Line Specimen', 'mapped_curie': 'C1550648', 'mapped_score': '3.42', 'mapped_semtypes': '[sbst]'}, None]\n",
      "['metamap', 'intervention', 'standard first line anti-tb drugs', 'standard first line anti-tb drugs', {'mapped_name': 'Line Unit of Length', 'mapped_curie': 'C1552960', 'mapped_score': '3.42', 'mapped_semtypes': '[qnco]'}, None]\n",
      "['metamap', 'intervention', 'standard first line anti-tb drugs', 'standard first line anti-tb drugs', {'mapped_name': 'Linear', 'mapped_curie': 'C0205132', 'mapped_score': '3.42', 'mapped_semtypes': '[spco]'}, None]\n",
      "['metamap', 'intervention', 'standard first line anti-tb drugs', 'standard first line anti-tb drugs', {'mapped_name': 'Standard (document)', 'mapped_curie': 'C2828392', 'mapped_score': '3.42', 'mapped_semtypes': '[inpr]'}, None]\n",
      "['metamap', 'intervention', 'standard first line anti-tb drugs', 'standard first line anti-tb drugs', {'mapped_name': 'Standard (qualifier)', 'mapped_curie': 'C1442989', 'mapped_score': '3.42', 'mapped_semtypes': '[qlco]'}, None]\n",
      "['metamap', 'intervention', 'td-1473 dose b', 'td-1473 dose b', {'mapped_name': 'Trinidad and Tobago', 'mapped_curie': 'C0041061', 'mapped_score': '16.05', 'mapped_semtypes': '[geoa]'}, None]\n",
      "['metamap', 'intervention', 'td-1473 dose b', 'td-1473 dose b', {'mapped_name': 'Dosage', 'mapped_curie': 'C0178602', 'mapped_score': '3.43', 'mapped_semtypes': '[qnco]'}, None]\n",
      "['metamap', 'intervention', 'td-1473 dose b', 'td-1473 dose b', {'mapped_name': 'Trial Disease Assessments Domain', 'mapped_curie': 'C3889651', 'mapped_score': '3.43', 'mapped_semtypes': '[inpr]'}, None]\n",
      "['metamap', 'intervention', 'td-1473 dose b', 'td-1473 dose b', {'mapped_name': 'Unit dose', 'mapped_curie': 'C0869039', 'mapped_score': '3.43', 'mapped_semtypes': '[qnco]'}, None]\n",
      "['metamap', 'intervention', 'td-1473 dose b', 'td-1473 dose b', {'mapped_name': 'diphtheria, tetanus toxoids and acellular pertussis vaccine', 'mapped_curie': 'C3526553', 'mapped_score': '3.43', 'mapped_semtypes': '[imft,phsu]'}, None]\n",
      "['metamap', 'intervention', 'td-1473 dose b', 'td-1473 dose b', {'mapped_name': 'transaxial diameter', 'mapped_curie': 'C4255247', 'mapped_score': '3.43', 'mapped_semtypes': '[qnco]'}, None]\n",
      "['metamap', 'intervention', 'exercise-oriented training', 'exercise-oriented training', {'mapped_name': 'Exercise Training', 'mapped_curie': 'C4279936', 'mapped_score': '16.24', 'mapped_semtypes': '[dora]'}, None]\n",
      "['metamap', 'intervention', 'exercise-oriented training', 'exercise-oriented training', {'mapped_name': 'Orientation (spatial)', 'mapped_curie': 'C1704322', 'mapped_score': '12.90', 'mapped_semtypes': '[spco]'}, None]\n"
     ]
    },
    {
     "name": "stderr",
     "output_type": "stream",
     "text": [
      "% interventions mapped:  79%|███████████████▊    | 23/29 [00:29<00:04,"
     ]
    },
    {
     "name": "stdout",
     "output_type": "stream",
     "text": [
      "['metamap', 'intervention', 'intraosseous', 'intraosseous', {'mapped_name': 'Intraosseous Route of Drug Administration', 'mapped_curie': 'C0595613', 'mapped_score': '3.48', 'mapped_semtypes': '[ftcn]'}, None]\n",
      "['metamap', 'intervention', 'rapamycin', 'rapamycin', {'mapped_name': 'Sirolimus', 'mapped_curie': 'C0072980', 'mapped_score': '13.10', 'mapped_semtypes': '[antb,orch]'}, None]\n",
      "['metamap', 'intervention', 'alendronate sodium', 'alendronate sodium', {'mapped_name': 'Alendronate Sodium', 'mapped_curie': 'C0700482', 'mapped_score': '16.33', 'mapped_semtypes': '[orch,phsu]'}, None]\n"
     ]
    },
    {
     "name": "stderr",
     "output_type": "stream",
     "text": [
      "% interventions mapped:  90%|█████████████████▉  | 26/29 [00:33<00:02,"
     ]
    },
    {
     "name": "stdout",
     "output_type": "stream",
     "text": [
      "['metamap', 'intervention', 'neuromuscular electrical stimulation', 'neuromuscular electrical stimulation', {'mapped_name': 'Neuromuscular Electrical Stimulation', 'mapped_curie': 'C2985393', 'mapped_score': '3.77', 'mapped_semtypes': '[topp]'}, None]\n",
      "['metamap', 'intervention', 'forefoot bone surgery', 'forefoot bone surgery', {'mapped_name': 'Operation on bone', 'mapped_curie': 'C0185131', 'mapped_score': '3.64', 'mapped_semtypes': '[topp]'}, None]\n",
      "['metamap', 'intervention', 'forefoot bone surgery', 'forefoot bone surgery', {'mapped_name': 'Forefoot', 'mapped_curie': 'C1510667', 'mapped_score': '3.44', 'mapped_semtypes': '[bpoc]'}, None]\n",
      "['metamap', 'intervention', 'forefoot bone surgery', 'forefoot bone surgery', {'mapped_name': 'Forefoot of quadruped', 'mapped_curie': 'C1630649', 'mapped_score': '3.44', 'mapped_semtypes': '[bpoc]'}, None]\n",
      "['metamap', 'intervention', 'forefoot bone surgery', 'forefoot bone surgery', {'mapped_name': 'Forepaw', 'mapped_curie': 'C1533572', 'mapped_score': '3.44', 'mapped_semtypes': '[bpoc]'}, None]\n",
      "['metamap', 'intervention', 'positron emission tomography (pet) image combined with computed tomography (ct) (pet/ct)', 'positron emission tomography (pet) image combined with computed tomography (ct) (pet/ct)', {'mapped_name': None, 'mapped_curie': None, 'mapped_score': None, 'mapped_semtypes': None}, None]\n",
      "['metamap', 'intervention', 'positron emission tomography (pet) image combined with computed tomography (ct) (pet/ct)', 'positron emission tomography (pet) image combined with computed tomography (ct) (pet/ct)', {'mapped_name': None, 'mapped_curie': None, 'mapped_score': None, 'mapped_semtypes': None}, None]\n",
      "['metamap', 'intervention', 'positron emission tomography (pet) image combined with computed tomography (ct) (pet/ct)', 'positron emission tomography (pet) image combined with computed tomography (ct) (pet/ct)', {'mapped_name': 'PET/CT scan', 'mapped_curie': 'C1699633', 'mapped_score': '25.54', 'mapped_semtypes': '[diap]'}, None]\n",
      "['metamap', 'intervention', 'positron emission tomography (pet) image combined with computed tomography (ct) (pet/ct)', 'positron emission tomography (pet) image combined with computed tomography (ct) (pet/ct)', {'mapped_name': 'Image', 'mapped_curie': 'C1704922', 'mapped_score': '3.53', 'mapped_semtypes': '[inpr]'}, None]\n",
      "['metamap', 'intervention', 'positron emission tomography (pet) image combined with computed tomography (ct) (pet/ct)', 'positron emission tomography (pet) image combined with computed tomography (ct) (pet/ct)', {'mapped_name': 'Image (foundation metadata concept)', 'mapped_curie': 'C3542466', 'mapped_score': '3.53', 'mapped_semtypes': '[inpr]'}, None]\n",
      "['metamap', 'intervention', 'positron emission tomography (pet) image combined with computed tomography (ct) (pet/ct)', 'positron emission tomography (pet) image combined with computed tomography (ct) (pet/ct)', {'mapped_name': 'Medical Image', 'mapped_curie': 'C1704254', 'mapped_score': '3.53', 'mapped_semtypes': '[inpr]'}, None]\n",
      "['metamap', 'intervention', 'positron emission tomography (pet) image combined with computed tomography (ct) (pet/ct)', 'positron emission tomography (pet) image combined with computed tomography (ct) (pet/ct)', {'mapped_name': 'Combined', 'mapped_curie': 'C0205195', 'mapped_score': '3.42', 'mapped_semtypes': '[qlco]'}, None]\n"
     ]
    },
    {
     "name": "stderr",
     "output_type": "stream",
     "text": [
      "% interventions mapped: 100%|████████████████████| 29/29 [00:35<00:00,"
     ]
    },
    {
     "name": "stdout",
     "output_type": "stream",
     "text": [
      "['metamap', 'intervention', 'anti-human ccl24 monoclonal antibody (cm-101)', 'anti-human ccl24 monoclonal antibody (cm-101)', {'mapped_name': 'Homo sapiens', 'mapped_curie': 'C0086418', 'mapped_score': '28.66', 'mapped_semtypes': '[humn]'}, None]\n",
      "['metamap', 'intervention', 'anti-human ccl24 monoclonal antibody (cm-101)', 'anti-human ccl24 monoclonal antibody (cm-101)', {'mapped_name': 'Monoclonal Antibodies', 'mapped_curie': 'C0003250', 'mapped_score': '22.49', 'mapped_semtypes': '[aapp,imft]'}, None]\n",
      "['metamap', 'intervention', 'anti-human ccl24 monoclonal antibody (cm-101)', 'anti-human ccl24 monoclonal antibody (cm-101)', {'mapped_name': 'Chemokine CCL24', 'mapped_curie': 'C0538075', 'mapped_score': '22.35', 'mapped_semtypes': '[aapp,imft]'}, None]\n",
      "['metamap', 'intervention', 'anti-human ccl24 monoclonal antibody (cm-101)', 'anti-human ccl24 monoclonal antibody (cm-101)', {'mapped_name': 'CCL24 protein, human', 'mapped_curie': 'C1701443', 'mapped_score': '12.88', 'mapped_semtypes': '[aapp,bacs]'}, None]\n",
      "['metamap', 'intervention', 'anti-human ccl24 monoclonal antibody (cm-101)', 'anti-human ccl24 monoclonal antibody (cm-101)', {'mapped_name': 'Human Immunoglobulin [EPC]', 'mapped_curie': 'C3537193', 'mapped_score': '3.56', 'mapped_semtypes': '[phsu]'}, None]\n",
      "['metamap', 'intervention', 'anti-human ccl24 monoclonal antibody (cm-101)', 'anti-human ccl24 monoclonal antibody (cm-101)', {'mapped_name': 'Immune Globulin (Human)', 'mapped_curie': 'C0358321', 'mapped_score': '3.56', 'mapped_semtypes': '[aapp,imft,phsu]'}, None]\n",
      "['metamap', 'intervention', 'anti-human ccl24 monoclonal antibody (cm-101)', 'anti-human ccl24 monoclonal antibody (cm-101)', {'mapped_name': 'CM 101', 'mapped_curie': 'C0284216', 'mapped_score': '3.44', 'mapped_semtypes': '[orch,phsu]'}, None]\n",
      "['metamap', 'intervention', 'anti-human ccl24 monoclonal antibody (cm-101)', 'anti-human ccl24 monoclonal antibody (cm-101)', {'mapped_name': 'Blood group antibody E', 'mapped_curie': 'C0947659', 'mapped_score': '3.44', 'mapped_semtypes': '[aapp,imft]'}, None]\n",
      "['metamap', 'intervention', 'anti-human ccl24 monoclonal antibody (cm-101)', 'anti-human ccl24 monoclonal antibody (cm-101)', {'mapped_name': 'Blood group antibody e', 'mapped_curie': 'C0313106', 'mapped_score': '3.44', 'mapped_semtypes': '[aapp,imft]'}, None]\n",
      "['metamap', 'intervention', 'anti-human ccl24 monoclonal antibody (cm-101)', 'anti-human ccl24 monoclonal antibody (cm-101)', {'mapped_name': 'CCL24 gene', 'mapped_curie': 'C1332687', 'mapped_score': '3.42', 'mapped_semtypes': '[gngm]'}, None]\n"
     ]
    },
    {
     "name": "stderr",
     "output_type": "stream",
     "text": [
      "% interventions mapped: 100%|████████████████████| 29/29 [00:37<00:00,\n",
      "% intervention_alternates mapped:   3%|▋                   | 1/30 [00:"
     ]
    },
    {
     "name": "stdout",
     "output_type": "stream",
     "text": [
      "['metamap', 'intervention_alternate', 'cleaning', 'cleaning', {'mapped_name': 'Cleaning (activity)', 'mapped_curie': 'C1947930', 'mapped_score': '3.60', 'mapped_semtypes': '[acty]'}, None]\n",
      "['metamap', 'intervention_alternate', 'pf-05280586', 'pf-05280586', {'mapped_name': 'Rituximab Biosimilar PF-05280586', 'mapped_curie': 'C4048258', 'mapped_score': '3.72', 'mapped_semtypes': '[aapp,imft,phsu]'}, None]\n",
      "['metamap', 'intervention_alternate', 'specific immunotherapy', 'specific immunotherapy', {'mapped_name': 'Biological Response Modifiers', 'mapped_curie': 'C0005525', 'mapped_score': '13.05', 'mapped_semtypes': '[imft,phsu]'}, None]\n",
      "['metamap', 'intervention_alternate', 'specific immunotherapy', 'specific immunotherapy', {'mapped_name': 'Immunotherapy', 'mapped_curie': 'C0021083', 'mapped_score': '13.05', 'mapped_semtypes': '[topp]'}, None]\n",
      "['metamap', 'intervention_alternate', 'specific immunotherapy', 'specific immunotherapy', {'mapped_name': 'Entity Determiner - specific', 'mapped_curie': 'C1552740', 'mapped_score': '3.59', 'mapped_semtypes': '[inpr]'}, None]\n",
      "['metamap', 'intervention_alternate', 'specific immunotherapy', 'specific immunotherapy', {'mapped_name': 'Specific qualifier value', 'mapped_curie': 'C0205369', 'mapped_score': '3.59', 'mapped_semtypes': '[qlco]'}, None]\n"
     ]
    },
    {
     "name": "stderr",
     "output_type": "stream",
     "text": [
      "% intervention_alternates mapped:  13%|██▋                 | 4/30 [00:"
     ]
    },
    {
     "name": "stdout",
     "output_type": "stream",
     "text": [
      "['metamap', 'intervention_alternate', 'oral jak inhibitor', 'oral jak inhibitor', {'mapped_name': 'Janus kinase', 'mapped_curie': 'C0597721', 'mapped_score': '25.52', 'mapped_semtypes': '[aapp,enzy]'}, None]\n",
      "['metamap', 'intervention_alternate', 'oral jak inhibitor', 'oral jak inhibitor', {'mapped_name': 'Inhibitor', 'mapped_curie': 'C1999216', 'mapped_score': '3.57', 'mapped_semtypes': '[qlco]'}, None]\n",
      "['metamap', 'intervention_alternate', 'oral jak inhibitor', 'oral jak inhibitor', {'mapped_name': 'JAK activity', 'mapped_curie': 'C1150611', 'mapped_score': '3.44', 'mapped_semtypes': '[moft]'}, None]\n",
      "['metamap', 'intervention_alternate', 'oral jak inhibitor', 'oral jak inhibitor', {'mapped_name': 'Oral', 'mapped_curie': 'C0442027', 'mapped_score': '3.44', 'mapped_semtypes': '[spco]'}, None]\n",
      "['metamap', 'intervention_alternate', 'cat scan', 'cat scan', {'mapped_name': 'X-Ray Computed Tomography', 'mapped_curie': 'C0040405', 'mapped_score': '22.64', 'mapped_semtypes': '[diap]'}, None]\n",
      "['metamap', 'intervention_alternate', 'cat scan', 'cat scan', {'mapped_name': 'CAT Scan Section ID', 'mapped_curie': 'C1547980', 'mapped_score': '3.72', 'mapped_semtypes': '[inpr]'}, None]\n"
     ]
    },
    {
     "name": "stderr",
     "output_type": "stream",
     "text": [
      "% intervention_alternates mapped:  20%|████                | 6/30 [00:"
     ]
    },
    {
     "name": "stdout",
     "output_type": "stream",
     "text": [
      "['nameresolver', 'intervention_alternate', 'prednicot', 'prednicot', {'mapped_name': 'Prednicot', 'mapped_curie': 'UMLS:C1170535', 'mapped_score': 97.21777, 'mapped_semtypes': 'biolink:ChemicalEntity'}, None]\n",
      "['metamap', 'intervention_alternate', 'adinepar', 'adinepar', {'mapped_name': 'Adinepar', 'mapped_curie': 'C1517775', 'mapped_score': '3.64', 'mapped_semtypes': '[orch,phsu]'}, None]\n",
      "['metamap', 'intervention_alternate', 'kd', 'kd', {'mapped_name': 'AR wt Allele', 'mapped_curie': 'C1705240', 'mapped_score': '3.64', 'mapped_semtypes': '[gngm]'}, None]\n"
     ]
    },
    {
     "name": "stderr",
     "output_type": "stream",
     "text": [
      "% intervention_alternates mapped:  30%|██████              | 9/30 [00:"
     ]
    },
    {
     "name": "stdout",
     "output_type": "stream",
     "text": [
      "['metamap', 'intervention_alternate', 'precedex', 'precedex', {'mapped_name': 'Precedex', 'mapped_curie': 'C0876757', 'mapped_score': '16.26', 'mapped_semtypes': '[orch,phsu]'}, None]\n",
      "['nameresolver', 'intervention_alternate', 'smri', 'smri', {'mapped_name': 'Coralliophila fontanangioyae', 'mapped_curie': 'NCBITaxon:644099', 'mapped_score': 1.0, 'mapped_semtypes': 'biolink:OrganismTaxon'}, None]\n"
     ]
    },
    {
     "name": "stderr",
     "output_type": "stream",
     "text": [
      "% intervention_alternates mapped:  37%|███████▎            | 11/30 [00"
     ]
    },
    {
     "name": "stdout",
     "output_type": "stream",
     "text": [
      "['metamap', 'intervention_alternate', 'bi 655066', 'bi 655066', {'mapped_name': 'BI 655066', 'mapped_curie': 'C4078397', 'mapped_score': '13.18', 'mapped_semtypes': '[imft]'}, None]\n",
      "['metamap', 'intervention_alternate', 'ac-1204', 'ac-1204', {'mapped_name': 'Actinium', 'mapped_curie': 'C0001246', 'mapped_score': '19.36', 'mapped_semtypes': '[elii]'}, None]\n",
      "['metamap', 'intervention_alternate', 'ac-1204', 'ac-1204', {'mapped_name': 'Antigua and Barbuda', 'mapped_curie': 'C0003354', 'mapped_score': '16.21', 'mapped_semtypes': '[geoa]'}, None]\n",
      "['metamap', 'intervention_alternate', 'ac-1204', 'ac-1204', {'mapped_name': 'ASAH1 protein, human', 'mapped_curie': 'C2000891', 'mapped_score': '13.05', 'mapped_semtypes': '[aapp,enzy]'}, None]\n",
      "['metamap', 'intervention_alternate', 'ac-1204', 'ac-1204', {'mapped_name': 'ASAH1 gene', 'mapped_curie': 'C1412573', 'mapped_score': '3.59', 'mapped_semtypes': '[gngm]'}, None]\n",
      "['metamap', 'intervention_alternate', 'ac-1204', 'ac-1204', {'mapped_name': 'ASAH1 wt Allele', 'mapped_curie': 'C3539770', 'mapped_score': '3.59', 'mapped_semtypes': '[gngm]'}, None]\n",
      "['nameresolver', 'intervention_alternate', 'zulresso', 'zulresso', {'mapped_name': '', 'mapped_curie': 'RXCUI:2121782', 'mapped_score': 14.012424, 'mapped_semtypes': 'biolink:Drug'}, None]\n"
     ]
    },
    {
     "name": "stderr",
     "output_type": "stream",
     "text": [
      "% intervention_alternates mapped:  47%|█████████▎          | 14/30 [00"
     ]
    },
    {
     "name": "stdout",
     "output_type": "stream",
     "text": [
      "['metamap', 'intervention_alternate', 'cis-platinum ii', 'cis-platinum ii', {'mapped_name': 'Cisplatin', 'mapped_curie': 'C0008838', 'mapped_score': '10.08', 'mapped_semtypes': '[inch,phsu]'}, None]\n",
      "['metamap', 'intervention_alternate', 'platinol- aq', 'platinol- aq', {'mapped_name': 'Platinol- AQ', 'mapped_curie': 'C0722652', 'mapped_score': '3.72', 'mapped_semtypes': '[inch,phsu]'}, None]\n",
      "['metamap', 'intervention_alternate', 'continuous infusion of remifentanil at 0.05 ~ 2 mcg/kg/min with sevoflurane concentration of 1 mac', 'continuous infusion of remifentanil at 0.05 ~ 2 mcg/kg/min with sevoflurane concentration of 1 mac', {'mapped_name': 'Macrophage-1 Antigen', 'mapped_curie': 'C0079785', 'mapped_score': '25.50', 'mapped_semtypes': '[aapp,imft]'}, None]\n",
      "['metamap', 'intervention_alternate', 'continuous infusion of remifentanil at 0.05 ~ 2 mcg/kg/min with sevoflurane concentration of 1 mac', 'continuous infusion of remifentanil at 0.05 ~ 2 mcg/kg/min with sevoflurane concentration of 1 mac', {'mapped_name': 'remifentanil', 'mapped_curie': 'C0246631', 'mapped_score': '16.03', 'mapped_semtypes': '[orch,phsu]'}, None]\n",
      "['metamap', 'intervention_alternate', 'continuous infusion of remifentanil at 0.05 ~ 2 mcg/kg/min with sevoflurane concentration of 1 mac', 'continuous infusion of remifentanil at 0.05 ~ 2 mcg/kg/min with sevoflurane concentration of 1 mac', {'mapped_name': 'sevoflurane', 'mapped_curie': 'C0074414', 'mapped_score': '16.03', 'mapped_semtypes': '[orch,phsu]'}, None]\n",
      "['metamap', 'intervention_alternate', 'continuous infusion of remifentanil at 0.05 ~ 2 mcg/kg/min with sevoflurane concentration of 1 mac', 'continuous infusion of remifentanil at 0.05 ~ 2 mcg/kg/min with sevoflurane concentration of 1 mac', {'mapped_name': 'Continuous infusion', 'mapped_curie': 'C0444889', 'mapped_score': '3.54', 'mapped_semtypes': '[topp]'}, None]\n",
      "['metamap', 'intervention_alternate', 'continuous infusion of remifentanil at 0.05 ~ 2 mcg/kg/min with sevoflurane concentration of 1 mac', 'continuous infusion of remifentanil at 0.05 ~ 2 mcg/kg/min with sevoflurane concentration of 1 mac', {'mapped_name': 'Microgram per Kilogram per Minute', 'mapped_curie': 'C1300567', 'mapped_score': '3.43', 'mapped_semtypes': '[qnco]'}, None]\n",
      "['metamap', 'intervention_alternate', 'continuous infusion of remifentanil at 0.05 ~ 2 mcg/kg/min with sevoflurane concentration of 1 mac', 'continuous infusion of remifentanil at 0.05 ~ 2 mcg/kg/min with sevoflurane concentration of 1 mac', {'mapped_name': '0.05', 'mapped_curie': 'C4517411', 'mapped_score': '3.42', 'mapped_semtypes': '[qnco]'}, None]\n",
      "['metamap', 'intervention_alternate', 'continuous infusion of remifentanil at 0.05 ~ 2 mcg/kg/min with sevoflurane concentration of 1 mac', 'continuous infusion of remifentanil at 0.05 ~ 2 mcg/kg/min with sevoflurane concentration of 1 mac', {'mapped_name': 'ITGB2 wt Allele', 'mapped_curie': 'C1706333', 'mapped_score': '3.42', 'mapped_semtypes': '[gngm]'}, None]\n",
      "['metamap', 'intervention_alternate', 'continuous infusion of remifentanil at 0.05 ~ 2 mcg/kg/min with sevoflurane concentration of 1 mac', 'continuous infusion of remifentanil at 0.05 ~ 2 mcg/kg/min with sevoflurane concentration of 1 mac', {'mapped_name': 'acireductone dioxygenase [iron(II)-requiring] activity', 'mapped_curie': 'C1817569', 'mapped_score': '3.42', 'mapped_semtypes': '[moft]'}, None]\n",
      "['metamap', 'intervention_alternate', 'continuous infusion of remifentanil at 0.05 ~ 2 mcg/kg/min with sevoflurane concentration of 1 mac', 'continuous infusion of remifentanil at 0.05 ~ 2 mcg/kg/min with sevoflurane concentration of 1 mac', {'mapped_name': 'Able to Concentrate Question', 'mapped_curie': 'C3827302', 'mapped_score': '3.41', 'mapped_semtypes': '[inpr]'}, None]\n",
      "['metamap', 'intervention_alternate', 'continuous infusion of remifentanil at 0.05 ~ 2 mcg/kg/min with sevoflurane concentration of 1 mac', 'continuous infusion of remifentanil at 0.05 ~ 2 mcg/kg/min with sevoflurane concentration of 1 mac', {'mapped_name': 'Concentration measurement', 'mapped_curie': 'C1446561', 'mapped_score': '3.41', 'mapped_semtypes': '[qnco]'}, None]\n",
      "['metamap', 'intervention_alternate', 'continuous infusion of remifentanil at 0.05 ~ 2 mcg/kg/min with sevoflurane concentration of 1 mac', 'continuous infusion of remifentanil at 0.05 ~ 2 mcg/kg/min with sevoflurane concentration of 1 mac', {'mapped_name': 'Mental concentration', 'mapped_curie': 'C0086045', 'mapped_score': '3.41', 'mapped_semtypes': '[menp]'}, None]\n"
     ]
    },
    {
     "name": "stderr",
     "output_type": "stream",
     "text": [
      "% intervention_alternates mapped:  57%|███████████▎        | 17/30 [00"
     ]
    },
    {
     "name": "stdout",
     "output_type": "stream",
     "text": [
      "['metamap', 'intervention_alternate', 'dexmedetomidine hydrochloride', 'dexmedetomidine hydrochloride', {'mapped_name': 'Dexmedetomidine Hydrochloride', 'mapped_curie': 'C0752310', 'mapped_score': '16.33', 'mapped_semtypes': '[orch,phsu]'}, None]\n",
      "['metamap', 'intervention_alternate', 'nutritional evaluation (nrs 2002)', 'nutritional evaluation (nrs 2002)', {'mapped_name': 'Nutrition Assessment', 'mapped_curie': 'C0028708', 'mapped_score': '16.22', 'mapped_semtypes': '[diap]'}, None]\n",
      "['metamap', 'intervention_alternate', 'nutritional evaluation (nrs 2002)', 'nutritional evaluation (nrs 2002)', {'mapped_name': 'Diet education', 'mapped_curie': 'C0204932', 'mapped_score': '3.61', 'mapped_semtypes': '[edac]'}, None]\n",
      "['metamap', 'intervention_alternate', 'nutritional evaluation (nrs 2002)', 'nutritional evaluation (nrs 2002)', {'mapped_name': 'Numeric Rating Scale', 'mapped_curie': 'C4050142', 'mapped_score': '3.43', 'mapped_semtypes': '[inpr]'}, None]\n",
      "['metamap', 'intervention_alternate', 'nutritional evaluation (nrs 2002)', 'nutritional evaluation (nrs 2002)', {'mapped_name': 'SPNS1 gene', 'mapped_curie': 'C2240043', 'mapped_score': '3.43', 'mapped_semtypes': '[gngm]'}, None]\n"
     ]
    },
    {
     "name": "stderr",
     "output_type": "stream",
     "text": [
      "% intervention_alternates mapped:  63%|████████████▋       | 19/30 [00"
     ]
    },
    {
     "name": "stdout",
     "output_type": "stream",
     "text": [
      "['metamap', 'intervention_alternate', 'mk-965', 'mk-965', {'mapped_name': 'MK-965', 'mapped_curie': 'C1522682', 'mapped_score': '3.72', 'mapped_semtypes': '[aapp,enzy,phsu]'}, None]\n"
     ]
    },
    {
     "name": "stderr",
     "output_type": "stream",
     "text": [
      "% intervention_alternates mapped:  70%|██████████████      | 21/30 [00"
     ]
    },
    {
     "name": "stdout",
     "output_type": "stream",
     "text": [
      "['metamap', 'intervention_alternate', 't-spot.tb test', 't-spot.tb test', {'mapped_name': 'Spot test', 'mapped_curie': 'C0201812', 'mapped_score': '3.60', 'mapped_semtypes': '[lbpr]'}, None]\n",
      "['metamap', 'intervention_alternate', 'ocular mini insert (omi)', 'ocular mini insert (omi)', {'mapped_name': None, 'mapped_curie': None, 'mapped_score': None, 'mapped_semtypes': None}, None]\n",
      "['metamap', 'intervention_alternate', 'ocular mini insert (omi)', 'ocular mini insert (omi)', {'mapped_name': 'Vision', 'mapped_curie': 'C0042789', 'mapped_score': '16.05', 'mapped_semtypes': '[orgf]'}, None]\n",
      "['metamap', 'intervention_alternate', 'ocular mini insert (omi)', 'ocular mini insert (omi)', {'mapped_name': 'Eye', 'mapped_curie': 'C0015392', 'mapped_score': '12.90', 'mapped_semtypes': '[bpoc]'}, None]\n",
      "['metamap', 'intervention_alternate', 'ocular mini insert (omi)', 'ocular mini insert (omi)', {'mapped_name': 'Mini', 'mapped_curie': 'C0445542', 'mapped_score': '3.57', 'mapped_semtypes': '[orga]'}, None]\n",
      "['metamap', 'intervention_alternate', 'ocular mini insert (omi)', 'ocular mini insert (omi)', {'mapped_name': 'Clinical act of insertion', 'mapped_curie': 'C0441587', 'mapped_score': '3.44', 'mapped_semtypes': '[hlca]'}, None]\n",
      "['metamap', 'intervention_alternate', 'ocular mini insert (omi)', 'ocular mini insert (omi)', {'mapped_name': 'Insert (object)', 'mapped_curie': 'C1883719', 'mapped_score': '3.44', 'mapped_semtypes': '[ftcn]'}, None]\n",
      "['metamap', 'intervention_alternate', 'ocular mini insert (omi)', 'ocular mini insert (omi)', {'mapped_name': 'Insert (solid dose form)', 'mapped_curie': 'C1743766', 'mapped_score': '3.44', 'mapped_semtypes': '[medd]'}, None]\n",
      "['metamap', 'intervention_alternate', 'ocular mini insert (omi)', 'ocular mini insert (omi)', {'mapped_name': 'Ocular (qualifier)', 'mapped_curie': 'C1299003', 'mapped_score': '3.44', 'mapped_semtypes': '[ftcn]'}, None]\n",
      "['metamap', 'intervention_alternate', 'ocular mini insert (omi)', 'ocular mini insert (omi)', {'mapped_name': 'Orbital region', 'mapped_curie': 'C0700042', 'mapped_score': '3.44', 'mapped_semtypes': '[blor]'}, None]\n",
      "['metamap', 'intervention_alternate', 'buspar', 'buspar', {'mapped_name': 'Buspar', 'mapped_curie': 'C0600122', 'mapped_score': '16.26', 'mapped_semtypes': '[orch,phsu]'}, None]\n",
      "['metamap', 'intervention_alternate', 'busulfex', 'busulfex', {'mapped_name': 'Busulfex', 'mapped_curie': 'C0939273', 'mapped_score': '25.72', 'mapped_semtypes': '[orch,phsu]'}, None]\n"
     ]
    },
    {
     "name": "stderr",
     "output_type": "stream",
     "text": [
      "% intervention_alternates mapped:  80%|████████████████    | 24/30 [00"
     ]
    },
    {
     "name": "stdout",
     "output_type": "stream",
     "text": [
      "['metamap', 'intervention_alternate', 'nal-iri', 'nal-iri', {'mapped_name': 'irinotecan liposomal', 'mapped_curie': 'C4057931', 'mapped_score': '3.72', 'mapped_semtypes': '[orch,phsu]'}, None]\n",
      "['metamap', 'intervention_alternate', 'gemzar', 'gemzar', {'mapped_name': 'Gemzar', 'mapped_curie': 'C0338133', 'mapped_score': '3.64', 'mapped_semtypes': '[nnon,phsu]'}, None]\n",
      "['metamap', 'intervention_alternate', 'sirolimus', 'sirolimus', {'mapped_name': 'Sirolimus', 'mapped_curie': 'C0072980', 'mapped_score': '13.10', 'mapped_semtypes': '[antb,orch]'}, None]\n"
     ]
    },
    {
     "name": "stderr",
     "output_type": "stream",
     "text": [
      "% intervention_alternates mapped:  93%|██████████████████▋ | 28/30 [00"
     ]
    },
    {
     "name": "stdout",
     "output_type": "stream",
     "text": [
      "['metamap', 'intervention_alternate', 'mdx-ctla4', 'mdx-ctla4', {'mapped_name': 'MDX-CTLA-4', 'mapped_curie': 'C1691227', 'mapped_score': '28.95', 'mapped_semtypes': '[aapp,imft,phsu]'}, None]\n",
      "['metamap', 'intervention_alternate', 'mdx-ctla4', 'mdx-ctla4', {'mapped_name': 'cytotoxic T-lymphocyte antigen 4', 'mapped_curie': 'C0111208', 'mapped_score': '22.64', 'mapped_semtypes': '[aapp,imft]'}, None]\n",
      "['metamap', 'intervention_alternate', 'prevenar 13', 'prevenar 13', {'mapped_name': 'Prevnar 13', 'mapped_curie': 'C2756364', 'mapped_score': '3.72', 'mapped_semtypes': '[imft,orch,phsu]'}, None]\n",
      "['metamap', 'intervention_alternate', 'bupivacaine liposome injectable suspension', 'bupivacaine liposome injectable suspension', {'mapped_name': 'Liposomal Bupivacaine', 'mapped_curie': 'C4086546', 'mapped_score': '3.81', 'mapped_semtypes': '[orch,phsu]'}, None]\n"
     ]
    },
    {
     "name": "stderr",
     "output_type": "stream",
     "text": [
      "% intervention_alternates mapped: 100%|████████████████████| 30/30 [02"
     ]
    },
    {
     "name": "stdout",
     "output_type": "stream",
     "text": [
      "['nameresolver', 'intervention_alternate', '4-demethoxydaunomycin', '4-demethoxydaunomycin', {'mapped_name': '6-Deoxy-4-demethoxydaunomycin', 'mapped_curie': 'PUBCHEM.COMPOUND:158476', 'mapped_score': 12.188611, 'mapped_semtypes': 'biolink:SmallMolecule'}, None]\n"
     ]
    },
    {
     "name": "stderr",
     "output_type": "stream",
     "text": [
      "% intervention_alternates mapped: 100%|████████████████████| 30/30 [02\n"
     ]
    }
   ],
   "source": [
    "flag_and_path = get_raw_ct_data() # download raw data\n",
    "global metamap_dirs\n",
    "metamap_dirs = check_os()\n",
    "subset_size = 30\n",
    "df_dict = read_raw_ct_data(flag_and_path, subset_size) # read the clinical trial data\n",
    "dict_new_terms = check_against_cache(df_dict) # use the existing cache of MetaMapped terms so that only new terms are mapped\n",
    "term_list_to_mappers(dict_new_terms)"
   ]
  },
  {
   "cell_type": "code",
   "execution_count": null,
   "id": "31a8f0ed-1b9b-45fd-ba6d-a1271db493cb",
   "metadata": {},
   "outputs": [],
   "source": []
  },
  {
   "cell_type": "code",
   "execution_count": null,
   "id": "e9775bd6-feaf-4536-a7d9-0b981f00df6f",
   "metadata": {},
   "outputs": [],
   "source": []
  },
  {
   "cell_type": "code",
   "execution_count": null,
   "id": "011a2122-0904-4b7c-938c-90ccf6027170",
   "metadata": {},
   "outputs": [],
   "source": []
  },
  {
   "cell_type": "code",
   "execution_count": null,
   "id": "b9297205-dc21-4f39-8e91-ad3f004ece85",
   "metadata": {},
   "outputs": [],
   "source": []
  },
  {
   "cell_type": "code",
   "execution_count": null,
   "id": "1e6c8425-0bc6-4908-b979-c388c0b2be2f",
   "metadata": {},
   "outputs": [],
   "source": []
  },
  {
   "cell_type": "code",
   "execution_count": null,
   "id": "64a7955a-24a6-4bc1-82b2-5d4c8d81b59e",
   "metadata": {},
   "outputs": [],
   "source": []
  },
  {
   "cell_type": "code",
   "execution_count": null,
   "id": "3b8ddb07-a201-4573-8841-cb55a6ca0399",
   "metadata": {},
   "outputs": [],
   "source": []
  },
  {
   "cell_type": "code",
   "execution_count": null,
   "id": "588dde2b-142d-4d88-9b6b-eb49c6fb5033",
   "metadata": {},
   "outputs": [],
   "source": [
    "\n",
    "flag_and_path = get_raw_ct_data() # download raw data\n",
    "\n",
    "global metamap_dirs\n",
    "metamap_dirs = check_os()\n",
    "df_dict = read_raw_ct_data(flag_and_path, subset_size) # read the clinical trial data\n",
    "dict_new_terms = check_against_cache(df_dict, flag_and_path) # use the existing cache of MetaMapped terms so that only new terms are mapped\n",
    "\n",
    "term_list_to_mm(dict_new_terms, flag_and_path) # map new terms using MetaMap\n",
    "\n",
    "map_to_trial(flag_and_path) # map MetaMap terms back to trial \n",
    "score_mappings(flag_and_path) # score the mappings\n",
    "auto_select_curies(flag_and_path) # select CURIEs automatically that pass score threshold\n",
    "\n",
    "# compile_curies_for_trials(flag_and_path) # select CURIEs automatically that pass score threshold\n",
    "\n"
   ]
  }
 ],
 "metadata": {
  "kernelspec": {
   "display_name": "Python 3 (ipykernel)",
   "language": "python",
   "name": "python3"
  },
  "language_info": {
   "codemirror_mode": {
    "name": "ipython",
    "version": 3
   },
   "file_extension": ".py",
   "mimetype": "text/x-python",
   "name": "python",
   "nbconvert_exporter": "python",
   "pygments_lexer": "ipython3",
   "version": "3.11.5"
  }
 },
 "nbformat": 4,
 "nbformat_minor": 5
}
