{
 "cells": [
  {
   "cell_type": "code",
   "execution_count": 17,
   "id": "65e8f2b3",
   "metadata": {},
   "outputs": [],
   "source": [
    "import os\n",
    "import requests\n",
    "from urllib.request import urlopen\n",
    "from bs4 import BeautifulSoup\n",
    "from datetime import date\n",
    "import datetime as dt\n",
    "import pandas as pd\n",
    "import sys\n",
    "import csv\n",
    "import numpy as np\n",
    "import multiprocessing\n",
    "import re\n",
    "from collections import namedtuple\n",
    "# For pausing\n",
    "from time import sleep\n",
    "os.environ[\"JAVA_HOME\"] = \"/Library/Java/JavaVirtualMachines/jdk1.8.0_251.jdk/Contents/Home\"\n",
    "import pickle\n",
    "from itertools import repeat\n",
    "import psycopg2\n",
    "import pandas.io.sql as sqlio\n",
    "# adding Folder_2/subfolder to the system path\n",
    "sys.path.insert(0, '/Volumes/TOSHIBA_EXT/ISB/clinical_trials/pymetamap-master')\n",
    "from pymetamap import MetaMap\n",
    "\n",
    "import json\n",
    "import argparse\n",
    "import lxml\n",
    "\n",
    "# from Authentication import *\n",
    "import requests\n",
    "import json\n",
    "from requests.adapters import HTTPAdapter\n",
    "from requests.packages.urllib3.util.retry import Retry\n"
   ]
  },
  {
   "cell_type": "code",
   "execution_count": 18,
   "id": "6461cbcd",
   "metadata": {},
   "outputs": [
    {
     "name": "stdout",
     "output_type": "stream",
     "text": [
      "[datetime.date(2022, 7, 5), datetime.date(2022, 7, 4), datetime.date(2022, 7, 3), datetime.date(2022, 7, 2), datetime.date(2022, 7, 1), datetime.date(2022, 6, 30), datetime.date(2022, 6, 29), datetime.date(2022, 6, 28), datetime.date(2022, 6, 27), datetime.date(2022, 6, 26), datetime.date(2022, 6, 25), datetime.date(2022, 6, 24), datetime.date(2022, 6, 23), datetime.date(2022, 6, 22), datetime.date(2022, 6, 21), datetime.date(2022, 6, 20), datetime.date(2022, 6, 18), datetime.date(2022, 6, 16), datetime.date(2022, 6, 15), datetime.date(2022, 6, 14), datetime.date(2022, 6, 13), datetime.date(2022, 6, 12), datetime.date(2022, 6, 11), datetime.date(2022, 6, 10), datetime.date(2022, 6, 9), datetime.date(2022, 6, 8), datetime.date(2022, 6, 7), datetime.date(2022, 6, 6), datetime.date(2022, 6, 5), datetime.date(2022, 6, 4), datetime.date(2022, 6, 3), datetime.date(2022, 6, 2), datetime.date(2022, 6, 1), datetime.date(2022, 5, 1), datetime.date(2022, 4, 1), datetime.date(2022, 3, 1), datetime.date(2022, 2, 1), datetime.date(2022, 1, 4), datetime.date(2021, 12, 1), datetime.date(2021, 11, 1), datetime.date(2021, 10, 4), datetime.date(2021, 9, 1), datetime.date(2021, 6, 1), datetime.date(2021, 5, 1), datetime.date(2021, 4, 1), datetime.date(2021, 3, 1), datetime.date(2021, 2, 1), datetime.date(2021, 1, 1), datetime.date(2020, 12, 1), datetime.date(2020, 11, 1), datetime.date(2020, 10, 1), datetime.date(2020, 9, 1), datetime.date(2020, 8, 1), datetime.date(2020, 7, 1), datetime.date(2020, 6, 1), datetime.date(2020, 5, 1), datetime.date(2020, 4, 1), datetime.date(2020, 3, 1), datetime.date(2020, 2, 1), datetime.date(2020, 1, 1), datetime.date(2019, 12, 1), datetime.date(2019, 11, 1), datetime.date(2019, 10, 1), datetime.date(2019, 9, 1), datetime.date(2019, 8, 1), datetime.date(2019, 7, 1), datetime.date(2019, 6, 1), datetime.date(2019, 5, 1), datetime.date(2019, 4, 1), datetime.date(2019, 3, 1), datetime.date(2019, 2, 1), datetime.date(2019, 1, 1), datetime.date(2018, 12, 1), datetime.date(2018, 11, 1), datetime.date(2018, 10, 1), datetime.date(2018, 9, 1), datetime.date(2018, 8, 1), datetime.date(2018, 7, 1), datetime.date(2018, 6, 1), datetime.date(2018, 5, 1), datetime.date(2018, 4, 1), datetime.date(2018, 3, 14), datetime.date(2018, 2, 1), datetime.date(2018, 1, 11), datetime.date(2017, 12, 17), datetime.date(2017, 11, 2), datetime.date(2017, 10, 17), datetime.date(2017, 9, 6), datetime.date(2017, 8, 11), datetime.date(2017, 7, 3), datetime.date(2017, 6, 13), datetime.date(2017, 5, 2), datetime.date(2017, 4, 3), datetime.date(2017, 3, 9), datetime.date(2017, 2, 18), datetime.date(2017, 1, 5)]\n"
     ]
    }
   ],
   "source": [
    "url = \"https://aact.ctti-clinicaltrials.org/pipe_files\"\n",
    "response = requests.get(url)\n",
    "soup = BeautifulSoup(response.text)\n",
    "upload_dates = []\n",
    "zip_files = []\n",
    "links = []\n",
    "body = soup.find_all('td', attrs={'class': 'file-archive'}) #Find all\n",
    "for el in body:\n",
    "    tags = el.find('a')\n",
    "    try:\n",
    "        if 'href' in tags.attrs:   # looking for href inside anchor tag    \n",
    "            link = \"https://aact.ctti-clinicaltrials.org\" + tags.get('href')\n",
    "            links.append(link)\n",
    "            last_upload = link.split(\"/\")[-1]\n",
    "            zip_files.append(last_upload)\n",
    "            date_upload = last_upload.split(\"_\")[0]\n",
    "            upload_dates.append(date_upload)    # appending link to list of links\n",
    "    except:    # pass if list missing anchor tag or anchor tag does not has a href params \n",
    "        pass\n",
    "    \n",
    "\n",
    "upload_dates = [dt.datetime.strptime(date, '%Y%m%d').date() for date in upload_dates] # convert all strings in list into datetime objects\n",
    "print(upload_dates)\n"
   ]
  },
  {
   "cell_type": "code",
   "execution_count": 19,
   "id": "8b131946",
   "metadata": {},
   "outputs": [
    {
     "name": "stdout",
     "output_type": "stream",
     "text": [
      "2022-07-05\n"
     ]
    }
   ],
   "source": [
    "# most_recent_date = max(upload_dates)\n",
    "# # print(most_recent_date)\n",
    "\n",
    "# today = dt.date.today()\n",
    "\n",
    "# UNCOMMENT LINE BELOW WHEN IN PRODUCTION, THIS IS FOR TESTING PURPOSES\n",
    "most_recent_date = max(upload_dates)\n",
    "print(most_recent_date)\n",
    "# # fix this to run entire script should the current date be \n",
    "# if most_recent_date > today:\n",
    "#     print(most_recent_date)\n",
    "# else:\n",
    "#     print(\"ya\")\n",
    "    \n",
    "    \n",
    "    \n",
    "    \n",
    "#     date_file_df = pd.DataFrame(list(zip(upload_dates, zip_files, links)))\n",
    "#     print(links[0])\n",
    "#     resp = urlopen(links[0])\n",
    "# else:\n",
    "#     print(\"Local instance of clinical trials data is already up to date.\")\n",
    "\n",
    "# fix this to run entire script should the current date be \n",
    "# if most_recent_date > today:\n",
    "#     date_file_df = pd.DataFrame(list(zip(upload_dates, zip_files, links)))\n",
    "#     print(links[0])\n",
    "#     resp = urlopen(links[0])\n",
    "# else:\n",
    "#     print(\"Local instance of clinical trials data is already up to date.\")"
   ]
  },
  {
   "cell_type": "code",
   "execution_count": null,
   "id": "474dc2d1",
   "metadata": {},
   "outputs": [],
   "source": [
    "with open('last_executed_time', 'w') as f:\n",
    "    f.write(str(now.timestamp()))"
   ]
  },
  {
   "cell_type": "code",
   "execution_count": 20,
   "id": "68a15c1b",
   "metadata": {},
   "outputs": [
    {
     "name": "stdout",
     "output_type": "stream",
     "text": [
      "https://aact.ctti-clinicaltrials.org/static/exported_files/monthly/20220705_pipe-delimited-export.zip\n"
     ]
    }
   ],
   "source": [
    "# get most recent file\n",
    "# https://aact.ctti-clinicaltrials.org/static/exported_files/monthly/20220301_pipe-delimited-export.zip # example url download\n",
    "\n",
    "# most_recent_date = max(upload_dates)\n",
    "# most_recent_date\n",
    "# # %Y-%m-%d\n",
    "# print(most_recent_date.strftime(\"%Y%m%d\"))\n",
    "\n",
    "# print(max(upload_dates).strftime(\"%Y%m%d\"))\n",
    "\n",
    "print(\"https://aact.ctti-clinicaltrials.org/static/exported_files/monthly/{}_pipe-delimited-export.zip\".format(max(upload_dates).strftime(\"%Y%m%d\")))\n",
    "\n",
    "\n"
   ]
  },
  {
   "cell_type": "code",
   "execution_count": null,
   "id": "ed2c59d5",
   "metadata": {},
   "outputs": [],
   "source": []
  }
 ],
 "metadata": {
  "kernelspec": {
   "display_name": "Python 3",
   "language": "python",
   "name": "python3"
  },
  "language_info": {
   "codemirror_mode": {
    "name": "ipython",
    "version": 3
   },
   "file_extension": ".py",
   "mimetype": "text/x-python",
   "name": "python",
   "nbconvert_exporter": "python",
   "pygments_lexer": "ipython3",
   "version": "3.7.6"
  }
 },
 "nbformat": 4,
 "nbformat_minor": 5
}
