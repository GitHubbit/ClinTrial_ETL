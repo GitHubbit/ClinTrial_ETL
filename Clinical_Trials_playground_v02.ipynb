{
 "cells": [
  {
   "cell_type": "code",
   "execution_count": 66,
   "id": "46803085",
   "metadata": {},
   "outputs": [],
   "source": [
    "import os\n",
    "import requests\n",
    "from urllib.request import urlopen\n",
    "import pathlib\n",
    "from bs4 import BeautifulSoup\n",
    "from datetime import date\n",
    "import datetime as dt\n",
    "import pandas as pd\n",
    "import sys\n",
    "import csv\n",
    "import numpy as np\n",
    "import multiprocessing\n",
    "import re\n",
    "from collections import namedtuple\n",
    "# For pausing\n",
    "from time import sleep\n",
    "os.environ[\"JAVA_HOME\"] = \"/Library/Java/JavaVirtualMachines/jdk1.8.0_251.jdk/Contents/Home\"\n",
    "import pickle\n",
    "from itertools import repeat\n",
    "import psycopg2\n",
    "import pandas.io.sql as sqlio\n",
    "# adding Folder_2/subfolder to the system path\n",
    "sys.path.insert(0, '/Volumes/TOSHIBA_EXT/ISB/clinical_trials/pymetamap-master')\n",
    "from pymetamap import MetaMap\n",
    "\n",
    "import json\n",
    "import argparse\n",
    "import lxml\n",
    "\n",
    "# from Authentication import *\n",
    "import requests\n",
    "import json\n",
    "from requests.adapters import HTTPAdapter\n",
    "from requests.packages.urllib3.util.retry import Retry\n"
   ]
  },
  {
   "cell_type": "code",
   "execution_count": 100,
   "id": "53f69ee0",
   "metadata": {},
   "outputs": [
    {
     "name": "stdout",
     "output_type": "stream",
     "text": [
      "[datetime.date(2022, 7, 12), datetime.date(2022, 7, 11), datetime.date(2022, 7, 7), datetime.date(2022, 7, 6), datetime.date(2022, 7, 5), datetime.date(2022, 7, 4), datetime.date(2022, 7, 3), datetime.date(2022, 7, 2), datetime.date(2022, 7, 1), datetime.date(2022, 6, 30), datetime.date(2022, 6, 29), datetime.date(2022, 6, 28), datetime.date(2022, 6, 27), datetime.date(2022, 6, 26), datetime.date(2022, 6, 25), datetime.date(2022, 6, 24), datetime.date(2022, 6, 23), datetime.date(2022, 6, 22), datetime.date(2022, 6, 21), datetime.date(2022, 6, 20), datetime.date(2022, 6, 18), datetime.date(2022, 6, 16), datetime.date(2022, 6, 15), datetime.date(2022, 6, 14), datetime.date(2022, 6, 13), datetime.date(2022, 6, 12), datetime.date(2022, 6, 11), datetime.date(2022, 6, 10), datetime.date(2022, 6, 9), datetime.date(2022, 6, 8), datetime.date(2022, 6, 7), datetime.date(2022, 6, 6), datetime.date(2022, 6, 5), datetime.date(2022, 6, 4), datetime.date(2022, 6, 3), datetime.date(2022, 6, 2), datetime.date(2022, 6, 1), datetime.date(2022, 5, 1), datetime.date(2022, 4, 1), datetime.date(2022, 3, 1), datetime.date(2022, 2, 1), datetime.date(2022, 1, 4), datetime.date(2021, 12, 1), datetime.date(2021, 11, 1), datetime.date(2021, 10, 4), datetime.date(2021, 9, 1), datetime.date(2021, 6, 1), datetime.date(2021, 5, 1), datetime.date(2021, 4, 1), datetime.date(2021, 3, 1), datetime.date(2021, 2, 1), datetime.date(2021, 1, 1), datetime.date(2020, 12, 1), datetime.date(2020, 11, 1), datetime.date(2020, 10, 1), datetime.date(2020, 9, 1), datetime.date(2020, 8, 1), datetime.date(2020, 7, 1), datetime.date(2020, 6, 1), datetime.date(2020, 5, 1), datetime.date(2020, 4, 1), datetime.date(2020, 3, 1), datetime.date(2020, 2, 1), datetime.date(2020, 1, 1), datetime.date(2019, 12, 1), datetime.date(2019, 11, 1), datetime.date(2019, 10, 1), datetime.date(2019, 9, 1), datetime.date(2019, 8, 1), datetime.date(2019, 7, 1), datetime.date(2019, 6, 1), datetime.date(2019, 5, 1), datetime.date(2019, 4, 1), datetime.date(2019, 3, 1), datetime.date(2019, 2, 1), datetime.date(2019, 1, 1), datetime.date(2018, 12, 1), datetime.date(2018, 11, 1), datetime.date(2018, 10, 1), datetime.date(2018, 9, 1), datetime.date(2018, 8, 1), datetime.date(2018, 7, 1), datetime.date(2018, 6, 1), datetime.date(2018, 5, 1), datetime.date(2018, 4, 1), datetime.date(2018, 3, 14), datetime.date(2018, 2, 1), datetime.date(2018, 1, 11), datetime.date(2017, 12, 17), datetime.date(2017, 11, 2), datetime.date(2017, 10, 17), datetime.date(2017, 9, 6), datetime.date(2017, 8, 11), datetime.date(2017, 7, 3), datetime.date(2017, 6, 13), datetime.date(2017, 5, 2), datetime.date(2017, 4, 3), datetime.date(2017, 3, 9), datetime.date(2017, 2, 18), datetime.date(2017, 1, 5)]\n",
      "20220712\n"
     ]
    }
   ],
   "source": [
    "url = \"https://aact.ctti-clinicaltrials.org/pipe_files\"\n",
    "response = requests.get(url)\n",
    "soup = BeautifulSoup(response.text)\n",
    "upload_dates = []\n",
    "zip_files = []\n",
    "links = []\n",
    "body = soup.find_all('td', attrs={'class': 'file-archive'}) #Find all\n",
    "for el in body:\n",
    "    tags = el.find('a')\n",
    "    try:\n",
    "        if 'href' in tags.attrs:   # looking for href inside anchor tag    \n",
    "            link = \"https://aact.ctti-clinicaltrials.org\" + tags.get('href')\n",
    "            links.append(link)\n",
    "            last_upload = link.split(\"/\")[-1]\n",
    "            zip_files.append(last_upload)\n",
    "            date_upload = last_upload.split(\"_\")[0]\n",
    "            upload_dates.append(date_upload)    # appending link to list of links\n",
    "    except:    # pass if list missing anchor tag or anchor tag does not has a href params \n",
    "        pass\n",
    "    \n",
    "\n",
    "upload_dates = [dt.datetime.strptime(date, '%Y%m%d').date() for date in upload_dates] # convert all strings in list into datetime objects\n",
    "print(upload_dates)\n",
    "\n",
    "latest_file_date = max(upload_dates)\n",
    "latest_file_date = latest_file_date.strftime('%Y%m%d') \n"
   ]
  },
  {
   "cell_type": "code",
   "execution_count": 95,
   "id": "02ee0299",
   "metadata": {},
   "outputs": [
    {
     "ename": "AttributeError",
     "evalue": "'_io.BufferedWriter' object has no attribute 'extractall'",
     "output_type": "error",
     "traceback": [
      "\u001b[0;31m----------------------------------------------------------------------\u001b[0m",
      "\u001b[0;31mAttributeError\u001b[0m                       Traceback (most recent call last)",
      "\u001b[0;32m<ipython-input-95-7b50f212d0f2>\u001b[0m in \u001b[0;36m<module>\u001b[0;34m\u001b[0m\n\u001b[1;32m     11\u001b[0m     \u001b[0;32mwith\u001b[0m \u001b[0mopen\u001b[0m\u001b[0;34m(\u001b[0m\u001b[0mdata_path\u001b[0m\u001b[0;34m,\u001b[0m \u001b[0;34m'wb'\u001b[0m\u001b[0;34m)\u001b[0m \u001b[0;32mas\u001b[0m \u001b[0mdownload\u001b[0m\u001b[0;34m:\u001b[0m\u001b[0;34m\u001b[0m\u001b[0;34m\u001b[0m\u001b[0m\n\u001b[1;32m     12\u001b[0m         \u001b[0mdownload\u001b[0m\u001b[0;34m.\u001b[0m\u001b[0mwrite\u001b[0m\u001b[0;34m(\u001b[0m\u001b[0mreq\u001b[0m\u001b[0;34m.\u001b[0m\u001b[0mcontent\u001b[0m\u001b[0;34m)\u001b[0m\u001b[0;34m\u001b[0m\u001b[0;34m\u001b[0m\u001b[0m\n\u001b[0;32m---> 13\u001b[0;31m         \u001b[0mdownload\u001b[0m\u001b[0;34m.\u001b[0m\u001b[0mextractall\u001b[0m\u001b[0;34m(\u001b[0m\u001b[0mdata_extracted\u001b[0m\u001b[0;34m)\u001b[0m\u001b[0;34m\u001b[0m\u001b[0;34m\u001b[0m\u001b[0m\n\u001b[0m\u001b[1;32m     14\u001b[0m \u001b[0;34m\u001b[0m\u001b[0m\n\u001b[1;32m     15\u001b[0m \u001b[0;34m\u001b[0m\u001b[0m\n",
      "\u001b[0;31mAttributeError\u001b[0m: '_io.BufferedWriter' object has no attribute 'extractall'"
     ]
    }
   ],
   "source": [
    "import urllib\n",
    "import zipfile\n",
    "url = \"https://aact.ctti-clinicaltrials.org/static/exported_files/daily/{}_pipe-delimited-export.zip\".format(latest_file_date)\n",
    "data_dir = \"{}/data\".format(pathlib.Path.cwd().parents[0])\n",
    "data_extracted = data_dir + \"/{}_extracted\".format(latest_file_date)\n",
    "data_path = pathlib.Path.cwd().parents[0] / \"{}/{}_pipe-delimited-export.zip\".format(data_dir, latest_file_date)\n",
    "\n",
    "if not os.path.exists(data_path):\n",
    "    req = requests.get(url)\n",
    "    with open(data_path, 'wb') as download:\n",
    "        download.write(req.content)      \n",
    "    with zipfile.ZipFile(data_path, 'r') as download:\n",
    "        download.extractall(data_extracted)     \n",
    "    driver()\n",
    "else:\n",
    "    print(\"KG is already up to date.\")\n",
    "    \n",
    "print(\"Finished download\")\n",
    "\n",
    "\n"
   ]
  },
  {
   "cell_type": "code",
   "execution_count": 96,
   "id": "9beee09f",
   "metadata": {},
   "outputs": [],
   "source": []
  },
  {
   "cell_type": "code",
   "execution_count": 91,
   "id": "09d927e7",
   "metadata": {},
   "outputs": [
    {
     "name": "stdout",
     "output_type": "stream",
     "text": [
      "/Users/Kamileh/Work/ISB/NCATS_BiomedicalTranslator/Projects/ClinicalTrials/data/20220705_extracted\n"
     ]
    }
   ],
   "source": [
    "print(data_dir + \"/{}_extracted\".format(latest_file_date))"
   ]
  },
  {
   "cell_type": "code",
   "execution_count": 69,
   "id": "ce43b5c4",
   "metadata": {},
   "outputs": [
    {
     "name": "stdout",
     "output_type": "stream",
     "text": [
      "https://aact.ctti-clinicaltrials.org/static/exported_files/daily/20220705_pipe-delimited-export.zip\n",
      "new data\n",
      "/Users/Kamileh/Work/ISB/NCATS_BiomedicalTranslator/Projects/ClinicalTrials/data/20220705_pipe-delimited-export.zip\n"
     ]
    }
   ],
   "source": [
    "from io import BytesIO\n",
    "# https://aact.ctti-clinicaltrials.org/static/exported_files/daily/20220701_pipe-delimited-export.zip\n",
    "data_dir = \"{}/data\".format(pathlib.Path.cwd().parents[0])\n",
    "data_path = pathlib.Path.cwd().parents[0] / \"{}/{}_pipe-delimited-export.zip\".format(data_dir, latest_file_date)\n",
    "URL = \"https://aact.ctti-clinicaltrials.org/static/exported_files/daily/{}_pipe-delimited-export.zip\".format(latest_file_date)\n",
    "\n",
    "# print(URL)\n",
    "# if not os.path.exists(data_path):\n",
    "# #     data_path.write_bytes(requests.get(URL).content)\n",
    "#     req = requests.get(URL)\n",
    "#     zipfile = ZipFile(BytesIO(req.content))\n",
    "# #     driver()\n",
    "# else:\n",
    "#     print(\"KG is already up to date.\")\n",
    "  \n",
    "    \n",
    "def driver(zipfile):\n",
    "    print(\"hi\")\n",
    "#     for line in zipfile.open(file).readlines():\n",
    "#         print(line.decode('utf-8'))\n",
    "\n",
    "print(URL)\n",
    "if not os.path.exists(data_path):\n",
    "#     resp = urlopen(URL)\n",
    "#     zipfile = ZipFile(BytesIO(resp.read()))\n",
    "#     print(zipfile)\n",
    "#     driver(zipfile)\n",
    "    print(\"new data\")\n",
    "    print(data_path)\n",
    "else:\n",
    "    print(\"KG is already up to date.\")\n",
    "    \n",
    "\n",
    "\n",
    "# from io import BytesIO\n",
    "# from zipfile import ZipFile\n",
    "# from urllib.request import urlopen\n",
    "# # or: requests.get(url).content\n",
    "\n",
    "# resp = urlopen(\"http://www.test.com/file.zip\")\n",
    "# zipfile = ZipFile(BytesIO(resp.read()))\n",
    "# for line in zipfile.open(file).readlines():\n",
    "#     print(line.decode('utf-8'))\n",
    "    \n",
    "    "
   ]
  },
  {
   "cell_type": "code",
   "execution_count": null,
   "id": "0e1b6452",
   "metadata": {},
   "outputs": [],
   "source": [
    "from zipfile import ZipFile\n",
    "file_name = \"my_python_files.zip\"\n",
    "  \n",
    "# opening the zip file in READ mode\n",
    "with ZipFile(file_name, 'r') as zip:\n",
    "    # printing all the contents of the zip file\n",
    "    zip.printdir()\n",
    "  \n",
    "    # extracting all the files\n",
    "    print('Extracting all the files now...')\n",
    "    zip.extractall()\n",
    "    print('Done!')"
   ]
  },
  {
   "cell_type": "code",
   "execution_count": 54,
   "id": "f119892e",
   "metadata": {},
   "outputs": [
    {
     "name": "stdout",
     "output_type": "stream",
     "text": [
      "/Users/Kamileh/Work/ISB/NCATS_BiomedicalTranslator/Projects/ClinicalTrials/data/20220705_pipe-delimited-export.zip\n"
     ]
    },
    {
     "ename": "BadZipFile",
     "evalue": "File is not a zip file",
     "output_type": "error",
     "traceback": [
      "\u001b[0;31m----------------------------------------------------------------------\u001b[0m",
      "\u001b[0;31mBadZipFile\u001b[0m                           Traceback (most recent call last)",
      "\u001b[0;32m<ipython-input-54-079c51636bfa>\u001b[0m in \u001b[0;36m<module>\u001b[0;34m\u001b[0m\n\u001b[1;32m      3\u001b[0m \u001b[0mprint\u001b[0m\u001b[0;34m(\u001b[0m\u001b[0mdata_path\u001b[0m\u001b[0;34m)\u001b[0m\u001b[0;34m\u001b[0m\u001b[0;34m\u001b[0m\u001b[0m\n\u001b[1;32m      4\u001b[0m \u001b[0;31m# opening the zip file in READ mode\u001b[0m\u001b[0;34m\u001b[0m\u001b[0;34m\u001b[0m\u001b[0;34m\u001b[0m\u001b[0m\n\u001b[0;32m----> 5\u001b[0;31m \u001b[0;32mwith\u001b[0m \u001b[0mZipFile\u001b[0m\u001b[0;34m(\u001b[0m\u001b[0mdata_path\u001b[0m\u001b[0;34m,\u001b[0m \u001b[0;34m'r'\u001b[0m\u001b[0;34m)\u001b[0m \u001b[0;32mas\u001b[0m \u001b[0mzip\u001b[0m\u001b[0;34m:\u001b[0m\u001b[0;34m\u001b[0m\u001b[0;34m\u001b[0m\u001b[0m\n\u001b[0m\u001b[1;32m      6\u001b[0m     \u001b[0mprint\u001b[0m\u001b[0;34m(\u001b[0m\u001b[0mdata_path\u001b[0m\u001b[0;34m)\u001b[0m\u001b[0;34m\u001b[0m\u001b[0;34m\u001b[0m\u001b[0m\n\u001b[1;32m      7\u001b[0m \u001b[0;31m#     zip.extractall()\u001b[0m\u001b[0;34m\u001b[0m\u001b[0;34m\u001b[0m\u001b[0;34m\u001b[0m\u001b[0m\n",
      "\u001b[0;32m~/opt/anaconda3/lib/python3.7/zipfile.py\u001b[0m in \u001b[0;36m__init__\u001b[0;34m(self, file, mode, compression, allowZip64, compresslevel)\u001b[0m\n\u001b[1;32m   1256\u001b[0m         \u001b[0;32mtry\u001b[0m\u001b[0;34m:\u001b[0m\u001b[0;34m\u001b[0m\u001b[0;34m\u001b[0m\u001b[0m\n\u001b[1;32m   1257\u001b[0m             \u001b[0;32mif\u001b[0m \u001b[0mmode\u001b[0m \u001b[0;34m==\u001b[0m \u001b[0;34m'r'\u001b[0m\u001b[0;34m:\u001b[0m\u001b[0;34m\u001b[0m\u001b[0;34m\u001b[0m\u001b[0m\n\u001b[0;32m-> 1258\u001b[0;31m                 \u001b[0mself\u001b[0m\u001b[0;34m.\u001b[0m\u001b[0m_RealGetContents\u001b[0m\u001b[0;34m(\u001b[0m\u001b[0;34m)\u001b[0m\u001b[0;34m\u001b[0m\u001b[0;34m\u001b[0m\u001b[0m\n\u001b[0m\u001b[1;32m   1259\u001b[0m             \u001b[0;32melif\u001b[0m \u001b[0mmode\u001b[0m \u001b[0;32min\u001b[0m \u001b[0;34m(\u001b[0m\u001b[0;34m'w'\u001b[0m\u001b[0;34m,\u001b[0m \u001b[0;34m'x'\u001b[0m\u001b[0;34m)\u001b[0m\u001b[0;34m:\u001b[0m\u001b[0;34m\u001b[0m\u001b[0;34m\u001b[0m\u001b[0m\n\u001b[1;32m   1260\u001b[0m                 \u001b[0;31m# set the modified flag so central directory gets written\u001b[0m\u001b[0;34m\u001b[0m\u001b[0;34m\u001b[0m\u001b[0;34m\u001b[0m\u001b[0m\n",
      "\u001b[0;32m~/opt/anaconda3/lib/python3.7/zipfile.py\u001b[0m in \u001b[0;36m_RealGetContents\u001b[0;34m(self)\u001b[0m\n\u001b[1;32m   1323\u001b[0m             \u001b[0;32mraise\u001b[0m \u001b[0mBadZipFile\u001b[0m\u001b[0;34m(\u001b[0m\u001b[0;34m\"File is not a zip file\"\u001b[0m\u001b[0;34m)\u001b[0m\u001b[0;34m\u001b[0m\u001b[0;34m\u001b[0m\u001b[0m\n\u001b[1;32m   1324\u001b[0m         \u001b[0;32mif\u001b[0m \u001b[0;32mnot\u001b[0m \u001b[0mendrec\u001b[0m\u001b[0;34m:\u001b[0m\u001b[0;34m\u001b[0m\u001b[0;34m\u001b[0m\u001b[0m\n\u001b[0;32m-> 1325\u001b[0;31m             \u001b[0;32mraise\u001b[0m \u001b[0mBadZipFile\u001b[0m\u001b[0;34m(\u001b[0m\u001b[0;34m\"File is not a zip file\"\u001b[0m\u001b[0;34m)\u001b[0m\u001b[0;34m\u001b[0m\u001b[0;34m\u001b[0m\u001b[0m\n\u001b[0m\u001b[1;32m   1326\u001b[0m         \u001b[0;32mif\u001b[0m \u001b[0mself\u001b[0m\u001b[0;34m.\u001b[0m\u001b[0mdebug\u001b[0m \u001b[0;34m>\u001b[0m \u001b[0;36m1\u001b[0m\u001b[0;34m:\u001b[0m\u001b[0;34m\u001b[0m\u001b[0;34m\u001b[0m\u001b[0m\n\u001b[1;32m   1327\u001b[0m             \u001b[0mprint\u001b[0m\u001b[0;34m(\u001b[0m\u001b[0mendrec\u001b[0m\u001b[0;34m)\u001b[0m\u001b[0;34m\u001b[0m\u001b[0;34m\u001b[0m\u001b[0m\n",
      "\u001b[0;31mBadZipFile\u001b[0m: File is not a zip file"
     ]
    }
   ],
   "source": [
    "from zipfile import ZipFile\n",
    "# file_name = \"my_python_files.zip\"\n",
    "print(data_path)\n",
    "# opening the zip file in READ mode\n",
    "with ZipFile(data_path, 'r') as zip:\n",
    "    print(data_path)\n",
    "#     zip.extractall()"
   ]
  },
  {
   "cell_type": "code",
   "execution_count": null,
   "id": "1aa82c6e",
   "metadata": {},
   "outputs": [],
   "source": []
  },
  {
   "cell_type": "code",
   "execution_count": null,
   "id": "04a2c9d3",
   "metadata": {},
   "outputs": [],
   "source": []
  },
  {
   "cell_type": "code",
   "execution_count": null,
   "id": "935bafc0",
   "metadata": {},
   "outputs": [],
   "source": []
  },
  {
   "cell_type": "code",
   "execution_count": null,
   "id": "f53c6858",
   "metadata": {},
   "outputs": [],
   "source": []
  },
  {
   "cell_type": "code",
   "execution_count": null,
   "id": "9bb0565a",
   "metadata": {},
   "outputs": [],
   "source": []
  },
  {
   "cell_type": "code",
   "execution_count": null,
   "id": "0387f83f",
   "metadata": {},
   "outputs": [],
   "source": []
  },
  {
   "cell_type": "code",
   "execution_count": null,
   "id": "3baf6b94",
   "metadata": {},
   "outputs": [],
   "source": [
    "zip.extractall()"
   ]
  }
 ],
 "metadata": {
  "kernelspec": {
   "display_name": "Python 3",
   "language": "python",
   "name": "python3"
  },
  "language_info": {
   "codemirror_mode": {
    "name": "ipython",
    "version": 3
   },
   "file_extension": ".py",
   "mimetype": "text/x-python",
   "name": "python",
   "nbconvert_exporter": "python",
   "pygments_lexer": "ipython3",
   "version": "3.7.6"
  }
 },
 "nbformat": 4,
 "nbformat_minor": 5
}
