{
 "cells": [
  {
   "cell_type": "code",
   "execution_count": null,
   "metadata": {},
   "outputs": [],
   "source": [
    "# %%capture\n",
    "# !pip install git+https://github.com/biothings/biothings_explorer#egg=biothings_explorer"
   ]
  },
  {
   "cell_type": "code",
   "execution_count": 1,
   "metadata": {},
   "outputs": [],
   "source": [
    "import os\n",
    "import requests\n",
    "from urllib.request import urlopen\n",
    "from bs4 import BeautifulSoup\n",
    "from datetime import date\n",
    "import datetime as dt\n",
    "import pandas as pd\n",
    "import sys\n",
    "import csv\n",
    "import numpy as np\n",
    "import multiprocessing"
   ]
  },
  {
   "cell_type": "code",
   "execution_count": 2,
   "metadata": {},
   "outputs": [],
   "source": [
    "import psycopg2\n",
    "import pandas.io.sql as sqlio\n",
    "# from tabulate import tabulate"
   ]
  },
  {
   "cell_type": "code",
   "execution_count": 3,
   "metadata": {},
   "outputs": [],
   "source": [
    "import json\n",
    "import argparse\n",
    "import lxml\n",
    "import config\n",
    "\n",
    "# from Authentication import *\n",
    "import requests\n",
    "import json\n",
    "from requests.adapters import HTTPAdapter\n",
    "from requests.packages.urllib3.util.retry import Retry\n"
   ]
  },
  {
   "cell_type": "code",
   "execution_count": null,
   "metadata": {},
   "outputs": [],
   "source": [
    "url = \"https://aact.ctti-clinicaltrials.org/pipe_files\"\n",
    "response = requests.get(url)"
   ]
  },
  {
   "cell_type": "code",
   "execution_count": null,
   "metadata": {},
   "outputs": [],
   "source": [
    "from bs4 import BeautifulSoup\n",
    "soup = BeautifulSoup(response.text)\n",
    "# print(soup.prettify())"
   ]
  },
  {
   "cell_type": "code",
   "execution_count": null,
   "metadata": {},
   "outputs": [],
   "source": [
    "\n",
    "# https://aact.ctti-clinicaltrials.org/static/exported_files/monthly/20220301_pipe-delimited-export.zip\n",
    "# https://aact.ctti-clinicaltrials.org/static/exported_files/monthly/20220801_pipe-delimited-export.zip\n",
    "upload_dates = []\n",
    "zip_files = []\n",
    "links = []\n",
    "body = soup.find_all('td', attrs={'class': 'file-archive'}) #Find all\n",
    "for el in body:\n",
    "    tags = el.find('a')\n",
    "    try:\n",
    "        if 'href' in tags.attrs:   # looking for href inside anchor tag    \n",
    "            link = \"https://aact.ctti-clinicaltrials.org\" + tags.get('href')\n",
    "            links.append(link)\n",
    "            last_upload = link.split(\"/\")[-1]\n",
    "            zip_files.append(last_upload)\n",
    "            date_upload = last_upload.split(\"_\")[0]\n",
    "            upload_dates.append(date_upload)    # appending link to list of links\n",
    "    except:    # pass if list missing anchor tag or anchor tag does not has a href params \n",
    "        pass\n",
    "    \n",
    "print(upload_dates)\n",
    "\n",
    "upload_dates = [dt.datetime.strptime(date, '%Y%m%d').date() for date in upload_dates] # convert all strings in list into datetime objects\n"
   ]
  },
  {
   "cell_type": "code",
   "execution_count": null,
   "metadata": {},
   "outputs": [],
   "source": [
    "most_recent_date = max(upload_dates)\n",
    "# print(most_recent_date)\n",
    "\n",
    "today = dt.date.today()\n",
    "\n",
    "# UNCOMMENT LINE BELOW WHEN IN PRODUCTION, THIS IS FOR TESTING PURPOSES\n",
    "most_recent_date = min(upload_dates)\n",
    "\n",
    "# fix this to run entire script should the current date be \n",
    "if most_recent_date < today:\n",
    "#     date_file_df = pd.DataFrame(list(zip(upload_dates, zip_files, links)))\n",
    "#     print(links[0])\n",
    "    resp = urlopen(links[0])\n",
    "else:\n",
    "    print(\"Local instance of clinical trials data is already up to date.\")\n",
    "\n"
   ]
  },
  {
   "cell_type": "code",
   "execution_count": null,
   "metadata": {},
   "outputs": [],
   "source": [
    "pd.set_option('display.max_colwidth', 3000)\n",
    "# date_file_df[2]"
   ]
  },
  {
   "cell_type": "code",
   "execution_count": null,
   "metadata": {},
   "outputs": [],
   "source": [
    "os.getcwd()\n"
   ]
  },
  {
   "cell_type": "code",
   "execution_count": 4,
   "metadata": {},
   "outputs": [],
   "source": [
    "# connect to DB and get the column names of the table\n",
    "con = None\n",
    "con = psycopg2.connect(database=\"aact\")\n",
    "con.rollback()\n",
    "cursor = con.cursor()\n",
    "\n",
    "con.autocommit = True # SQL statement is treated as a transaction and is automatically committed right after it is executed\n",
    "# grab the conditions\n",
    "sql = '''SELECT * FROM ctgov.conditions;'''\n",
    "cursor.execute(sql)\n",
    "column_names = [desc[0] for desc in cursor.description]\n",
    "tuples = cursor.fetchall()\n",
    "conditions_df = pd.DataFrame(tuples, columns=column_names)\n",
    "\n",
    "#grab the browse_conditions\n",
    "sql = '''SELECT * FROM ctgov.browse_conditions;'''\n",
    "cursor.execute(sql)\n",
    "column_names = [desc[0] for desc in cursor.description]\n",
    "tuples = cursor.fetchall()\n",
    "browse_conditions_df = pd.DataFrame(tuples, columns=column_names)\n",
    "\n",
    "#grab the interventions\n",
    "sql = '''SELECT * FROM ctgov.interventions;'''\n",
    "cursor.execute(sql)\n",
    "column_names = [desc[0] for desc in cursor.description]\n",
    "tuples = cursor.fetchall()\n",
    "interventions_df = pd.DataFrame(tuples, columns=column_names)\n",
    "\n",
    "#grab the browse_interventions\n",
    "sql = '''SELECT * FROM ctgov.browse_interventions;'''\n",
    "cursor.execute(sql)\n",
    "column_names = [desc[0] for desc in cursor.description]\n",
    "tuples = cursor.fetchall()\n",
    "browse_interventions_df = pd.DataFrame(tuples, columns=column_names)\n",
    "\n",
    "con.close()\n"
   ]
  },
  {
   "cell_type": "code",
   "execution_count": 5,
   "metadata": {},
   "outputs": [
    {
     "data": {
      "text/html": [
       "<div>\n",
       "<style scoped>\n",
       "    .dataframe tbody tr th:only-of-type {\n",
       "        vertical-align: middle;\n",
       "    }\n",
       "\n",
       "    .dataframe tbody tr th {\n",
       "        vertical-align: top;\n",
       "    }\n",
       "\n",
       "    .dataframe thead th {\n",
       "        text-align: right;\n",
       "    }\n",
       "</style>\n",
       "<table border=\"1\" class=\"dataframe\">\n",
       "  <thead>\n",
       "    <tr style=\"text-align: right;\">\n",
       "      <th></th>\n",
       "      <th>int_id</th>\n",
       "      <th>int_nctid</th>\n",
       "      <th>int_type</th>\n",
       "      <th>int_name</th>\n",
       "      <th>int_description</th>\n",
       "    </tr>\n",
       "  </thead>\n",
       "  <tbody>\n",
       "    <tr>\n",
       "      <th>0</th>\n",
       "      <td>4547568</td>\n",
       "      <td>NCT01340339</td>\n",
       "      <td>Device</td>\n",
       "      <td>Phototherapy</td>\n",
       "      <td>Fluorescent reverse phototherapy (7 white ligh...</td>\n",
       "    </tr>\n",
       "    <tr>\n",
       "      <th>1</th>\n",
       "      <td>4547569</td>\n",
       "      <td>NCT01340339</td>\n",
       "      <td>Device</td>\n",
       "      <td>Phototherapy</td>\n",
       "      <td>super LED reverse phototherapy (17 bulbs arran...</td>\n",
       "    </tr>\n",
       "    <tr>\n",
       "      <th>2</th>\n",
       "      <td>4547570</td>\n",
       "      <td>NCT01340365</td>\n",
       "      <td>Behavioral</td>\n",
       "      <td>Tai Chi Exercise</td>\n",
       "      <td>Practicing Tai Chi exercise 4 times a week for...</td>\n",
       "    </tr>\n",
       "    <tr>\n",
       "      <th>3</th>\n",
       "      <td>4547571</td>\n",
       "      <td>NCT01340365</td>\n",
       "      <td>Behavioral</td>\n",
       "      <td>Tai Chi</td>\n",
       "      <td>Usual care, individuals attend testing session...</td>\n",
       "    </tr>\n",
       "    <tr>\n",
       "      <th>4</th>\n",
       "      <td>4547572</td>\n",
       "      <td>NCT01340391</td>\n",
       "      <td>Device</td>\n",
       "      <td>Omnicast</td>\n",
       "      <td>dorsal splint 2-5 weeks</td>\n",
       "    </tr>\n",
       "    <tr>\n",
       "      <th>...</th>\n",
       "      <td>...</td>\n",
       "      <td>...</td>\n",
       "      <td>...</td>\n",
       "      <td>...</td>\n",
       "      <td>...</td>\n",
       "    </tr>\n",
       "    <tr>\n",
       "      <th>685271</th>\n",
       "      <td>4139681</td>\n",
       "      <td>NCT03104712</td>\n",
       "      <td>Other</td>\n",
       "      <td>Rice + Pesto</td>\n",
       "      <td>50g available carbohydrate</td>\n",
       "    </tr>\n",
       "    <tr>\n",
       "      <th>685272</th>\n",
       "      <td>4139682</td>\n",
       "      <td>NCT03104465</td>\n",
       "      <td>Behavioral</td>\n",
       "      <td>Mindfulness Training</td>\n",
       "      <td>interactive. web-based mindfulness training co...</td>\n",
       "    </tr>\n",
       "    <tr>\n",
       "      <th>685273</th>\n",
       "      <td>4139683</td>\n",
       "      <td>NCT03104361</td>\n",
       "      <td>Biological</td>\n",
       "      <td>Platelet-Rich Plasma</td>\n",
       "      <td>Patients who meet all eligible requirements fo...</td>\n",
       "    </tr>\n",
       "    <tr>\n",
       "      <th>685274</th>\n",
       "      <td>4139684</td>\n",
       "      <td>NCT03104283</td>\n",
       "      <td>Drug</td>\n",
       "      <td>Apatinib</td>\n",
       "      <td>take apatinib orally until disease progression...</td>\n",
       "    </tr>\n",
       "    <tr>\n",
       "      <th>685275</th>\n",
       "      <td>4139685</td>\n",
       "      <td>NCT03104231</td>\n",
       "      <td>Other</td>\n",
       "      <td>three-dimensional (3D) movie</td>\n",
       "      <td>Brief VR-3D will be shown using the oculus gla...</td>\n",
       "    </tr>\n",
       "  </tbody>\n",
       "</table>\n",
       "<p>685276 rows × 5 columns</p>\n",
       "</div>"
      ],
      "text/plain": [
       "         int_id    int_nctid    int_type                      int_name  \\\n",
       "0       4547568  NCT01340339      Device                  Phototherapy   \n",
       "1       4547569  NCT01340339      Device                  Phototherapy   \n",
       "2       4547570  NCT01340365  Behavioral              Tai Chi Exercise   \n",
       "3       4547571  NCT01340365  Behavioral                       Tai Chi   \n",
       "4       4547572  NCT01340391      Device                      Omnicast   \n",
       "...         ...          ...         ...                           ...   \n",
       "685271  4139681  NCT03104712       Other                  Rice + Pesto   \n",
       "685272  4139682  NCT03104465  Behavioral          Mindfulness Training   \n",
       "685273  4139683  NCT03104361  Biological          Platelet-Rich Plasma   \n",
       "685274  4139684  NCT03104283        Drug                      Apatinib   \n",
       "685275  4139685  NCT03104231       Other  three-dimensional (3D) movie   \n",
       "\n",
       "                                          int_description  \n",
       "0       Fluorescent reverse phototherapy (7 white ligh...  \n",
       "1       super LED reverse phototherapy (17 bulbs arran...  \n",
       "2       Practicing Tai Chi exercise 4 times a week for...  \n",
       "3       Usual care, individuals attend testing session...  \n",
       "4                                 dorsal splint 2-5 weeks  \n",
       "...                                                   ...  \n",
       "685271                         50g available carbohydrate  \n",
       "685272  interactive. web-based mindfulness training co...  \n",
       "685273  Patients who meet all eligible requirements fo...  \n",
       "685274  take apatinib orally until disease progression...  \n",
       "685275  Brief VR-3D will be shown using the oculus gla...  \n",
       "\n",
       "[685276 rows x 5 columns]"
      ]
     },
     "execution_count": 5,
     "metadata": {},
     "output_type": "execute_result"
    }
   ],
   "source": [
    "interventions_df = interventions_df.rename(columns={'id': 'int_id',\n",
    "                                                    'nct_id': 'int_nctid',\n",
    "                                                    'intervention_type': 'int_type',\n",
    "                                                    'name': 'int_name',\n",
    "                                                    'description': 'int_description'})\n",
    "interventions_df"
   ]
  },
  {
   "cell_type": "code",
   "execution_count": 6,
   "metadata": {},
   "outputs": [],
   "source": [
    "interventions_df = interventions_df.drop(columns=['int_id', 'int_description'])"
   ]
  },
  {
   "cell_type": "code",
   "execution_count": 7,
   "metadata": {},
   "outputs": [
    {
     "data": {
      "text/html": [
       "<div>\n",
       "<style scoped>\n",
       "    .dataframe tbody tr th:only-of-type {\n",
       "        vertical-align: middle;\n",
       "    }\n",
       "\n",
       "    .dataframe tbody tr th {\n",
       "        vertical-align: top;\n",
       "    }\n",
       "\n",
       "    .dataframe thead th {\n",
       "        text-align: right;\n",
       "    }\n",
       "</style>\n",
       "<table border=\"1\" class=\"dataframe\">\n",
       "  <thead>\n",
       "    <tr style=\"text-align: right;\">\n",
       "      <th></th>\n",
       "      <th>con_id</th>\n",
       "      <th>con_nctid</th>\n",
       "      <th>con_name</th>\n",
       "      <th>con_downcase_name</th>\n",
       "    </tr>\n",
       "  </thead>\n",
       "  <tbody>\n",
       "    <tr>\n",
       "      <th>0</th>\n",
       "      <td>3072834</td>\n",
       "      <td>NCT03254264</td>\n",
       "      <td>Autism Spectrum Disorder</td>\n",
       "      <td>autism spectrum disorder</td>\n",
       "    </tr>\n",
       "    <tr>\n",
       "      <th>1</th>\n",
       "      <td>3072835</td>\n",
       "      <td>NCT03254329</td>\n",
       "      <td>Human Milk Nutrient Reference Values</td>\n",
       "      <td>human milk nutrient reference values</td>\n",
       "    </tr>\n",
       "    <tr>\n",
       "      <th>2</th>\n",
       "      <td>3349485</td>\n",
       "      <td>NCT03460652</td>\n",
       "      <td>ADHD</td>\n",
       "      <td>adhd</td>\n",
       "    </tr>\n",
       "    <tr>\n",
       "      <th>3</th>\n",
       "      <td>3349486</td>\n",
       "      <td>NCT03460899</td>\n",
       "      <td>Diabetes Mellitus With Hypoglycemia</td>\n",
       "      <td>diabetes mellitus with hypoglycemia</td>\n",
       "    </tr>\n",
       "    <tr>\n",
       "      <th>4</th>\n",
       "      <td>3072836</td>\n",
       "      <td>NCT03254342</td>\n",
       "      <td>Major Depressive Disorder</td>\n",
       "      <td>major depressive disorder</td>\n",
       "    </tr>\n",
       "    <tr>\n",
       "      <th>...</th>\n",
       "      <td>...</td>\n",
       "      <td>...</td>\n",
       "      <td>...</td>\n",
       "      <td>...</td>\n",
       "    </tr>\n",
       "    <tr>\n",
       "      <th>688783</th>\n",
       "      <td>3072052</td>\n",
       "      <td>NCT03261687</td>\n",
       "      <td>Pregnancy Related</td>\n",
       "      <td>pregnancy related</td>\n",
       "    </tr>\n",
       "    <tr>\n",
       "      <th>688784</th>\n",
       "      <td>3072053</td>\n",
       "      <td>NCT03261687</td>\n",
       "      <td>Pelvic Girdle Pain</td>\n",
       "      <td>pelvic girdle pain</td>\n",
       "    </tr>\n",
       "    <tr>\n",
       "      <th>688785</th>\n",
       "      <td>3072054</td>\n",
       "      <td>NCT03261622</td>\n",
       "      <td>Faecal Incontinence</td>\n",
       "      <td>faecal incontinence</td>\n",
       "    </tr>\n",
       "    <tr>\n",
       "      <th>688786</th>\n",
       "      <td>3072055</td>\n",
       "      <td>NCT03261622</td>\n",
       "      <td>Fecal Incontinence</td>\n",
       "      <td>fecal incontinence</td>\n",
       "    </tr>\n",
       "    <tr>\n",
       "      <th>688787</th>\n",
       "      <td>3072056</td>\n",
       "      <td>NCT03261934</td>\n",
       "      <td>Risk Assessment of Chronic Atrophic Gastritis ...</td>\n",
       "      <td>risk assessment of chronic atrophic gastritis ...</td>\n",
       "    </tr>\n",
       "  </tbody>\n",
       "</table>\n",
       "<p>688788 rows × 4 columns</p>\n",
       "</div>"
      ],
      "text/plain": [
       "         con_id    con_nctid  \\\n",
       "0       3072834  NCT03254264   \n",
       "1       3072835  NCT03254329   \n",
       "2       3349485  NCT03460652   \n",
       "3       3349486  NCT03460899   \n",
       "4       3072836  NCT03254342   \n",
       "...         ...          ...   \n",
       "688783  3072052  NCT03261687   \n",
       "688784  3072053  NCT03261687   \n",
       "688785  3072054  NCT03261622   \n",
       "688786  3072055  NCT03261622   \n",
       "688787  3072056  NCT03261934   \n",
       "\n",
       "                                                 con_name  \\\n",
       "0                                Autism Spectrum Disorder   \n",
       "1                    Human Milk Nutrient Reference Values   \n",
       "2                                                    ADHD   \n",
       "3                     Diabetes Mellitus With Hypoglycemia   \n",
       "4                               Major Depressive Disorder   \n",
       "...                                                   ...   \n",
       "688783                                  Pregnancy Related   \n",
       "688784                                 Pelvic Girdle Pain   \n",
       "688785                                Faecal Incontinence   \n",
       "688786                                 Fecal Incontinence   \n",
       "688787  Risk Assessment of Chronic Atrophic Gastritis ...   \n",
       "\n",
       "                                        con_downcase_name  \n",
       "0                                autism spectrum disorder  \n",
       "1                    human milk nutrient reference values  \n",
       "2                                                    adhd  \n",
       "3                     diabetes mellitus with hypoglycemia  \n",
       "4                               major depressive disorder  \n",
       "...                                                   ...  \n",
       "688783                                  pregnancy related  \n",
       "688784                                 pelvic girdle pain  \n",
       "688785                                faecal incontinence  \n",
       "688786                                 fecal incontinence  \n",
       "688787  risk assessment of chronic atrophic gastritis ...  \n",
       "\n",
       "[688788 rows x 4 columns]"
      ]
     },
     "execution_count": 7,
     "metadata": {},
     "output_type": "execute_result"
    }
   ],
   "source": [
    "conditions_df = conditions_df.rename(columns={'id': 'con_id',\n",
    "                                              'nct_id': 'con_nctid',\n",
    "                                              'name': 'con_name',\n",
    "                                              'downcase_name': 'con_downcase_name'})\n",
    "conditions_df"
   ]
  },
  {
   "cell_type": "code",
   "execution_count": 8,
   "metadata": {},
   "outputs": [],
   "source": [
    "conditions_df = conditions_df.drop(columns=['con_id', 'con_name'])"
   ]
  },
  {
   "cell_type": "code",
   "execution_count": 9,
   "metadata": {},
   "outputs": [
    {
     "data": {
      "text/html": [
       "<div>\n",
       "<style scoped>\n",
       "    .dataframe tbody tr th:only-of-type {\n",
       "        vertical-align: middle;\n",
       "    }\n",
       "\n",
       "    .dataframe tbody tr th {\n",
       "        vertical-align: top;\n",
       "    }\n",
       "\n",
       "    .dataframe thead th {\n",
       "        text-align: right;\n",
       "    }\n",
       "</style>\n",
       "<table border=\"1\" class=\"dataframe\">\n",
       "  <thead>\n",
       "    <tr style=\"text-align: right;\">\n",
       "      <th></th>\n",
       "      <th>browseint_id</th>\n",
       "      <th>browseint_nctid</th>\n",
       "      <th>browseint_meshterm</th>\n",
       "      <th>browseint_meshterm_downcase</th>\n",
       "      <th>browseint_meshtype</th>\n",
       "    </tr>\n",
       "  </thead>\n",
       "  <tbody>\n",
       "    <tr>\n",
       "      <th>0</th>\n",
       "      <td>4935968</td>\n",
       "      <td>NCT04327843</td>\n",
       "      <td>Haloperidol</td>\n",
       "      <td>haloperidol</td>\n",
       "      <td>mesh-list</td>\n",
       "    </tr>\n",
       "    <tr>\n",
       "      <th>1</th>\n",
       "      <td>4935969</td>\n",
       "      <td>NCT04327843</td>\n",
       "      <td>Haloperidol decanoate</td>\n",
       "      <td>haloperidol decanoate</td>\n",
       "      <td>mesh-list</td>\n",
       "    </tr>\n",
       "    <tr>\n",
       "      <th>2</th>\n",
       "      <td>4935970</td>\n",
       "      <td>NCT04327843</td>\n",
       "      <td>Antiemetics</td>\n",
       "      <td>antiemetics</td>\n",
       "      <td>mesh-ancestor</td>\n",
       "    </tr>\n",
       "    <tr>\n",
       "      <th>3</th>\n",
       "      <td>5198960</td>\n",
       "      <td>NCT00808223</td>\n",
       "      <td>Alefacept</td>\n",
       "      <td>alefacept</td>\n",
       "      <td>mesh-list</td>\n",
       "    </tr>\n",
       "    <tr>\n",
       "      <th>4</th>\n",
       "      <td>5198961</td>\n",
       "      <td>NCT00808223</td>\n",
       "      <td>Dermatologic Agents</td>\n",
       "      <td>dermatologic agents</td>\n",
       "      <td>mesh-ancestor</td>\n",
       "    </tr>\n",
       "    <tr>\n",
       "      <th>...</th>\n",
       "      <td>...</td>\n",
       "      <td>...</td>\n",
       "      <td>...</td>\n",
       "      <td>...</td>\n",
       "      <td>...</td>\n",
       "    </tr>\n",
       "    <tr>\n",
       "      <th>1335262</th>\n",
       "      <td>4400668</td>\n",
       "      <td>NCT03100786</td>\n",
       "      <td>Antineoplastic Agents, Hormonal</td>\n",
       "      <td>antineoplastic agents, hormonal</td>\n",
       "      <td>mesh-ancestor</td>\n",
       "    </tr>\n",
       "    <tr>\n",
       "      <th>1335263</th>\n",
       "      <td>4400669</td>\n",
       "      <td>NCT03100786</td>\n",
       "      <td>Antineoplastic Agents</td>\n",
       "      <td>antineoplastic agents</td>\n",
       "      <td>mesh-ancestor</td>\n",
       "    </tr>\n",
       "    <tr>\n",
       "      <th>1335264</th>\n",
       "      <td>4400670</td>\n",
       "      <td>NCT03100565</td>\n",
       "      <td>Lidocaine</td>\n",
       "      <td>lidocaine</td>\n",
       "      <td>mesh-list</td>\n",
       "    </tr>\n",
       "    <tr>\n",
       "      <th>1335265</th>\n",
       "      <td>4400671</td>\n",
       "      <td>NCT03100565</td>\n",
       "      <td>Anesthetics, Local</td>\n",
       "      <td>anesthetics, local</td>\n",
       "      <td>mesh-ancestor</td>\n",
       "    </tr>\n",
       "    <tr>\n",
       "      <th>1335266</th>\n",
       "      <td>4400672</td>\n",
       "      <td>NCT03100565</td>\n",
       "      <td>Anesthetics</td>\n",
       "      <td>anesthetics</td>\n",
       "      <td>mesh-ancestor</td>\n",
       "    </tr>\n",
       "  </tbody>\n",
       "</table>\n",
       "<p>1335267 rows × 5 columns</p>\n",
       "</div>"
      ],
      "text/plain": [
       "         browseint_id browseint_nctid               browseint_meshterm  \\\n",
       "0             4935968     NCT04327843                      Haloperidol   \n",
       "1             4935969     NCT04327843            Haloperidol decanoate   \n",
       "2             4935970     NCT04327843                      Antiemetics   \n",
       "3             5198960     NCT00808223                        Alefacept   \n",
       "4             5198961     NCT00808223              Dermatologic Agents   \n",
       "...               ...             ...                              ...   \n",
       "1335262       4400668     NCT03100786  Antineoplastic Agents, Hormonal   \n",
       "1335263       4400669     NCT03100786            Antineoplastic Agents   \n",
       "1335264       4400670     NCT03100565                        Lidocaine   \n",
       "1335265       4400671     NCT03100565               Anesthetics, Local   \n",
       "1335266       4400672     NCT03100565                      Anesthetics   \n",
       "\n",
       "             browseint_meshterm_downcase browseint_meshtype  \n",
       "0                            haloperidol          mesh-list  \n",
       "1                  haloperidol decanoate          mesh-list  \n",
       "2                            antiemetics      mesh-ancestor  \n",
       "3                              alefacept          mesh-list  \n",
       "4                    dermatologic agents      mesh-ancestor  \n",
       "...                                  ...                ...  \n",
       "1335262  antineoplastic agents, hormonal      mesh-ancestor  \n",
       "1335263            antineoplastic agents      mesh-ancestor  \n",
       "1335264                        lidocaine          mesh-list  \n",
       "1335265               anesthetics, local      mesh-ancestor  \n",
       "1335266                      anesthetics      mesh-ancestor  \n",
       "\n",
       "[1335267 rows x 5 columns]"
      ]
     },
     "execution_count": 9,
     "metadata": {},
     "output_type": "execute_result"
    }
   ],
   "source": [
    "browse_interventions_df = browse_interventions_df.rename(columns={'id': 'browseint_id',\n",
    "                                                                  'nct_id': 'browseint_nctid',\n",
    "                                                                  'mesh_term': 'browseint_meshterm',\n",
    "                                                                  'downcase_mesh_term': 'browseint_meshterm_downcase',\n",
    "                                                                  'mesh_type': 'browseint_meshtype'})\n",
    "browse_interventions_df"
   ]
  },
  {
   "cell_type": "code",
   "execution_count": 10,
   "metadata": {},
   "outputs": [],
   "source": [
    "browse_interventions_df = browse_interventions_df.drop(columns=['browseint_id', 'browseint_meshterm'])"
   ]
  },
  {
   "cell_type": "code",
   "execution_count": 11,
   "metadata": {},
   "outputs": [
    {
     "data": {
      "text/html": [
       "<div>\n",
       "<style scoped>\n",
       "    .dataframe tbody tr th:only-of-type {\n",
       "        vertical-align: middle;\n",
       "    }\n",
       "\n",
       "    .dataframe tbody tr th {\n",
       "        vertical-align: top;\n",
       "    }\n",
       "\n",
       "    .dataframe thead th {\n",
       "        text-align: right;\n",
       "    }\n",
       "</style>\n",
       "<table border=\"1\" class=\"dataframe\">\n",
       "  <thead>\n",
       "    <tr style=\"text-align: right;\">\n",
       "      <th></th>\n",
       "      <th>browsecon_id</th>\n",
       "      <th>browsecon_nctid</th>\n",
       "      <th>browsecon_meshterm</th>\n",
       "      <th>browsecon_meshterm_downcase</th>\n",
       "      <th>browsecon_meshtype</th>\n",
       "    </tr>\n",
       "  </thead>\n",
       "  <tbody>\n",
       "    <tr>\n",
       "      <th>0</th>\n",
       "      <td>9631397</td>\n",
       "      <td>NCT04035564</td>\n",
       "      <td>Hyponatremia</td>\n",
       "      <td>hyponatremia</td>\n",
       "      <td>mesh-list</td>\n",
       "    </tr>\n",
       "    <tr>\n",
       "      <th>1</th>\n",
       "      <td>9631398</td>\n",
       "      <td>NCT04035564</td>\n",
       "      <td>Water-Electrolyte Imbalance</td>\n",
       "      <td>water-electrolyte imbalance</td>\n",
       "      <td>mesh-ancestor</td>\n",
       "    </tr>\n",
       "    <tr>\n",
       "      <th>2</th>\n",
       "      <td>9631399</td>\n",
       "      <td>NCT04035564</td>\n",
       "      <td>Metabolic Diseases</td>\n",
       "      <td>metabolic diseases</td>\n",
       "      <td>mesh-ancestor</td>\n",
       "    </tr>\n",
       "    <tr>\n",
       "      <th>3</th>\n",
       "      <td>9631400</td>\n",
       "      <td>NCT04032652</td>\n",
       "      <td>Colitis</td>\n",
       "      <td>colitis</td>\n",
       "      <td>mesh-list</td>\n",
       "    </tr>\n",
       "    <tr>\n",
       "      <th>4</th>\n",
       "      <td>9631401</td>\n",
       "      <td>NCT04032652</td>\n",
       "      <td>Colitis, Ulcerative</td>\n",
       "      <td>colitis, ulcerative</td>\n",
       "      <td>mesh-list</td>\n",
       "    </tr>\n",
       "    <tr>\n",
       "      <th>...</th>\n",
       "      <td>...</td>\n",
       "      <td>...</td>\n",
       "      <td>...</td>\n",
       "      <td>...</td>\n",
       "      <td>...</td>\n",
       "    </tr>\n",
       "    <tr>\n",
       "      <th>2573556</th>\n",
       "      <td>8601072</td>\n",
       "      <td>NCT03213899</td>\n",
       "      <td>Disease Attributes</td>\n",
       "      <td>disease attributes</td>\n",
       "      <td>mesh-ancestor</td>\n",
       "    </tr>\n",
       "    <tr>\n",
       "      <th>2573557</th>\n",
       "      <td>8601073</td>\n",
       "      <td>NCT03213899</td>\n",
       "      <td>Pathologic Processes</td>\n",
       "      <td>pathologic processes</td>\n",
       "      <td>mesh-ancestor</td>\n",
       "    </tr>\n",
       "    <tr>\n",
       "      <th>2573558</th>\n",
       "      <td>8601074</td>\n",
       "      <td>NCT03214016</td>\n",
       "      <td>Hypertension</td>\n",
       "      <td>hypertension</td>\n",
       "      <td>mesh-list</td>\n",
       "    </tr>\n",
       "    <tr>\n",
       "      <th>2573559</th>\n",
       "      <td>8601075</td>\n",
       "      <td>NCT03214016</td>\n",
       "      <td>Vascular Diseases</td>\n",
       "      <td>vascular diseases</td>\n",
       "      <td>mesh-ancestor</td>\n",
       "    </tr>\n",
       "    <tr>\n",
       "      <th>2573560</th>\n",
       "      <td>8601076</td>\n",
       "      <td>NCT03214016</td>\n",
       "      <td>Cardiovascular Diseases</td>\n",
       "      <td>cardiovascular diseases</td>\n",
       "      <td>mesh-ancestor</td>\n",
       "    </tr>\n",
       "  </tbody>\n",
       "</table>\n",
       "<p>2573561 rows × 5 columns</p>\n",
       "</div>"
      ],
      "text/plain": [
       "         browsecon_id browsecon_nctid           browsecon_meshterm  \\\n",
       "0             9631397     NCT04035564                 Hyponatremia   \n",
       "1             9631398     NCT04035564  Water-Electrolyte Imbalance   \n",
       "2             9631399     NCT04035564           Metabolic Diseases   \n",
       "3             9631400     NCT04032652                      Colitis   \n",
       "4             9631401     NCT04032652          Colitis, Ulcerative   \n",
       "...               ...             ...                          ...   \n",
       "2573556       8601072     NCT03213899           Disease Attributes   \n",
       "2573557       8601073     NCT03213899         Pathologic Processes   \n",
       "2573558       8601074     NCT03214016                 Hypertension   \n",
       "2573559       8601075     NCT03214016            Vascular Diseases   \n",
       "2573560       8601076     NCT03214016      Cardiovascular Diseases   \n",
       "\n",
       "         browsecon_meshterm_downcase browsecon_meshtype  \n",
       "0                       hyponatremia          mesh-list  \n",
       "1        water-electrolyte imbalance      mesh-ancestor  \n",
       "2                 metabolic diseases      mesh-ancestor  \n",
       "3                            colitis          mesh-list  \n",
       "4                colitis, ulcerative          mesh-list  \n",
       "...                              ...                ...  \n",
       "2573556           disease attributes      mesh-ancestor  \n",
       "2573557         pathologic processes      mesh-ancestor  \n",
       "2573558                 hypertension          mesh-list  \n",
       "2573559            vascular diseases      mesh-ancestor  \n",
       "2573560      cardiovascular diseases      mesh-ancestor  \n",
       "\n",
       "[2573561 rows x 5 columns]"
      ]
     },
     "execution_count": 11,
     "metadata": {},
     "output_type": "execute_result"
    }
   ],
   "source": [
    "browse_conditions_df = browse_conditions_df.rename(columns={'id': 'browsecon_id',\n",
    "                                                            'nct_id': 'browsecon_nctid',\n",
    "                                                            'mesh_term': 'browsecon_meshterm',\n",
    "                                                            'downcase_mesh_term': 'browsecon_meshterm_downcase',\n",
    "                                                            'mesh_type': 'browsecon_meshtype'})\n",
    "browse_conditions_df"
   ]
  },
  {
   "cell_type": "code",
   "execution_count": 12,
   "metadata": {},
   "outputs": [],
   "source": [
    "browse_conditions_df = browse_conditions_df.drop(columns=['browsecon_id', 'browsecon_meshterm'])"
   ]
  },
  {
   "cell_type": "code",
   "execution_count": 13,
   "metadata": {},
   "outputs": [
    {
     "name": "stdout",
     "output_type": "stream",
     "text": [
      "350361\n",
      "95250\n",
      "4280\n",
      "3744\n"
     ]
    }
   ],
   "source": [
    "print(len(interventions_df['int_name'].unique()))\n",
    "print(len(conditions_df['con_downcase_name'].unique()))\n",
    "print(len(browse_conditions_df['browsecon_meshterm_downcase'].unique()))\n",
    "print(len(browse_interventions_df['browseint_meshterm_downcase'].unique()))"
   ]
  },
  {
   "cell_type": "code",
   "execution_count": null,
   "metadata": {},
   "outputs": [],
   "source": [
    "conditions_df\n"
   ]
  },
  {
   "cell_type": "code",
   "execution_count": 14,
   "metadata": {},
   "outputs": [],
   "source": [
    "df = pd.merge(conditions_df, interventions_df, left_on='con_nctid', right_on = 'int_nctid')"
   ]
  },
  {
   "cell_type": "code",
   "execution_count": null,
   "metadata": {},
   "outputs": [],
   "source": [
    "df.shape"
   ]
  },
  {
   "cell_type": "code",
   "execution_count": 15,
   "metadata": {},
   "outputs": [],
   "source": [
    "df_dedup = df.drop_duplicates(subset = ['con_downcase_name', 'int_name'],\n",
    "                                      keep = 'first').reset_index(drop = True)"
   ]
  },
  {
   "cell_type": "code",
   "execution_count": null,
   "metadata": {},
   "outputs": [],
   "source": [
    "df_dedup.shape"
   ]
  },
  {
   "cell_type": "code",
   "execution_count": null,
   "metadata": {},
   "outputs": [],
   "source": [
    "with pd.option_context('display.max_rows', None, 'display.max_columns', None):  # more options can be specified also\n",
    "    display(df_dedup.head(1000))"
   ]
  },
  {
   "cell_type": "code",
   "execution_count": null,
   "metadata": {},
   "outputs": [],
   "source": [
    "df_dedup[['con_downcase_name', 'int_name']].to_csv('ClinTrials_KG_edges.csv', sep ='\\t', index=False)\n"
   ]
  },
  {
   "cell_type": "markdown",
   "metadata": {},
   "source": [
    "# notes on creating edge file\n",
    "\n",
    "go to /proj/arivale/gglusman/KGs\n",
    "\n",
    "once there look into wellness/source/wellness_kg_edges_v1.6.tsv\n",
    "\n",
    "notice the first line: subject\tpredicate\tobject\trelation\tsubject_name\tobject_name\tcategory\tN\tType_of_relationship\tStrength_of_relationship\tqualifiers\tqualifier_value\tBonferroni_pval\n",
    "\n",
    "subject, predicate, object are required (maybe some others, don’t remember)\n",
    "\n",
    "…and they should be CURIEs\n",
    "\n",
    "once we map concepts to biolink, mesh etc we’ll have curies\n",
    "\n",
    "meanwhile, the content you have fits subject_name, object_name\n",
    "\n",
    "the predicate is what we made up… let’s say ‘evaluated_for’\n",
    "\n",
    "for short\n",
    "\n",
    "we’ll have to find a suitable biolink predicate, or suggest a new one\n",
    "\n",
    "so interventions would be subjects, and conditions would be objects\n",
    "\n",
    "looking at the several first lines in your file, I see some that make sense, others that seem to suggest there are data problems\n",
    "\n",
    "for example, “metastatic lung cancer\tPathways” -> Pathways doesn’t seem to be an intervention\n",
    "\n",
    "‘placebo’ we’ll have to suppress\n",
    "\n",
    "make sure to include the NCT id in a (non-required) column\n",
    "\n",
    "it’s essentially part of the provenance\n",
    "\n",
    "we’ll want to add multiple additional columns with things like FDA approval status, sample size, etc etc etc\n",
    "\n",
    "look also into EHR/source/ehr_risk_kg_edges_2021_05_07.tsv\n",
    "\n",
    "…and of course replace ‘edges’ -> ‘nodes’ for their cognate nodes files\n",
    "\n",
    "wellness/source/wellness_kg_edges_v1.6.tsv -> wellness/source/wellness_kg_nodes_v1.6.tsv\n",
    "\n",
    "drop \"control\"\n",
    "\n",
    "‘control’ is clear, ‘control group’ too… but ‘Control Ostomy Barrier’ is likely not a ‘control’\n"
   ]
  },
  {
   "cell_type": "markdown",
   "metadata": {},
   "source": [
    "# My own notes\n",
    "\n",
    "Use pool/multiprocess to make faster\n",
    "resolve multiple possible CURIEs per concept"
   ]
  },
  {
   "cell_type": "code",
   "execution_count": 16,
   "metadata": {},
   "outputs": [],
   "source": [
    "# first get only relevant columns from DB\n",
    "ct_extract = pd.DataFrame(df_dedup[['con_nctid', 'con_downcase_name', 'int_type', 'int_name']])\n",
    "ct_extract = ct_extract.rename(columns={'con_nctid': 'nctid'})\n",
    "# get CURIE column for nct_id column (https://bioregistry.io/registry/clinicaltrials)\n",
    "\n",
    "ct_extract['nctid_curie'] = ct_extract['nctid']\n",
    "ct_extract['nctid_curie'] = 'clinicaltrials:' + ct_extract['nctid'].astype(str)"
   ]
  },
  {
   "cell_type": "code",
   "execution_count": null,
   "metadata": {},
   "outputs": [],
   "source": [
    "ct_extract"
   ]
  },
  {
   "cell_type": "code",
   "execution_count": null,
   "metadata": {},
   "outputs": [],
   "source": [
    "# let's map all the conditions to BTE\n",
    "# NOTE: we are attempting to match to BTE terms, but many of the conditions terms are not standardized and are misspelled\n",
    "# First map as many terms as possible to BTE. Whatever is left over, will use other ontologies to create CURIEs\n"
   ]
  },
  {
   "cell_type": "code",
   "execution_count": null,
   "metadata": {},
   "outputs": [],
   "source": [
    "# recommedation to first format the output as close to sample as possible"
   ]
  },
  {
   "cell_type": "code",
   "execution_count": 17,
   "metadata": {},
   "outputs": [],
   "source": [
    "final_df = pd.DataFrame(columns=['subject','predicate','object','relation','subject_name','object_name','category'])"
   ]
  },
  {
   "cell_type": "code",
   "execution_count": 18,
   "metadata": {},
   "outputs": [],
   "source": [
    "# no_col_names_df.columns = col_names_df.columns\n",
    "# chosen predicate = \"related_to\", bc \"associated_with\" implies a statistical relationship \n",
    "final_df['subject'] = 'condition:' + ct_extract['con_downcase_name'].astype(str)\n",
    "final_df['predicate'] = 'biolink:related_to biolink:clinically_demonstrated_to biolink: hypothesized_to'\n",
    "final_df['object'] = 'intervention:' + ct_extract['int_name'].astype(str)   # this will not all be RxNorm CURIEs since some interventions are not drugs\n",
    "final_df['relation'] = 'RO:????'\n",
    "final_df.subject_name = ct_extract.con_downcase_name\n",
    "final_df.object_name = ct_extract.int_name\n",
    "final_df.category = 'biolink:Association'\n",
    "final_df['nctid'] = ct_extract['nctid']\n",
    "final_df['nctid_curie'] = ct_extract['nctid_curie']\n"
   ]
  },
  {
   "cell_type": "code",
   "execution_count": null,
   "metadata": {},
   "outputs": [],
   "source": [
    "final_df"
   ]
  },
  {
   "cell_type": "code",
   "execution_count": null,
   "metadata": {},
   "outputs": [],
   "source": [
    "psoriasis = final_df[final_df['subject_name'].str.contains('psoriasis')]\n",
    "psoriasis\n",
    "\n"
   ]
  },
  {
   "cell_type": "code",
   "execution_count": null,
   "metadata": {},
   "outputs": [],
   "source": [
    "zinc = final_df[final_df['object_name'].str.contains('zinc', na=False)]\n",
    "zinc"
   ]
  },
  {
   "cell_type": "code",
   "execution_count": null,
   "metadata": {},
   "outputs": [],
   "source": [
    "pd.set_option('display.max_rows', None)\n",
    "pd.set_option('display.max_columns', None)\n",
    "pd.set_option('display.width', None)\n",
    "pd.set_option('display.max_colwidth', None)\n",
    "zinc"
   ]
  },
  {
   "cell_type": "code",
   "execution_count": null,
   "metadata": {},
   "outputs": [],
   "source": [
    "psoriasis[['subject_name', 'object_name', 'nctid']].to_csv('psoriasis.csv', sep =',', index=False)\n",
    "# zinc[['subject_name', 'object_name', 'nctid']].to_csv('zinc.csv', sep ='\\t', index=False)\n"
   ]
  },
  {
   "cell_type": "code",
   "execution_count": null,
   "metadata": {},
   "outputs": [],
   "source": [
    "psoriasis_zinc = psoriasis[psoriasis['object_name'].str.contains('zn')]"
   ]
  },
  {
   "cell_type": "code",
   "execution_count": null,
   "metadata": {},
   "outputs": [],
   "source": [
    "psoriasis_zinc"
   ]
  },
  {
   "cell_type": "code",
   "execution_count": null,
   "metadata": {},
   "outputs": [],
   "source": [
    "final_df.to_csv('ClinTrials_KG_edges.csv', sep ='\\t', index=False)\n"
   ]
  },
  {
   "cell_type": "code",
   "execution_count": null,
   "metadata": {},
   "outputs": [],
   "source": [
    "# interventions will have to be mapped to more than 1 vocabulary unlike conditions, which seems more easily mapped to SNOMED\n",
    "# first look at the types of interventions (unique on int_type in ct_extract dataframe)"
   ]
  },
  {
   "cell_type": "code",
   "execution_count": 19,
   "metadata": {},
   "outputs": [],
   "source": [
    "# adding Folder_2/subfolder to the system path\n",
    "sys.path.insert(0, '/Volumes/TOSHIBA_EXT/ISB/clinical_trials/pymetamap-master')\n",
    "  \n",
    "from pymetamap import MetaMap\n",
    "\n",
    "# NOTE: YOU MUST START the SKR/Medpost Part-of-Speech Tagger Server and the Word Sense Disambiguation (WSD) Server IN TERMINAL\n",
    "\n",
    "# % ./bin/skrmedpostctl start\n",
    "# % ./bin/wsdserverctl start\n",
    "\n",
    "\n",
    "# stop these servers afterwards\n",
    "\n"
   ]
  },
  {
   "cell_type": "code",
   "execution_count": 302,
   "metadata": {},
   "outputs": [
    {
     "name": "stdout",
     "output_type": "stream",
     "text": [
      "/Users/Kamileh/Work/ISB/NCATS_BiomedicalTranslator/Projects/ClinicalTrials/ETL_Python\n",
      "../../../../../../../../Volumes/TOSHIBA_EXT/ISB/clinical_trials/public_mm/bin\n"
     ]
    }
   ],
   "source": [
    "# get the directory of the the module\n",
    "print(os.getcwd())\n",
    "# Path\n",
    "path = \"/Volumes/TOSHIBA_EXT/ISB/clinical_trials/public_mm/bin\"  \n",
    "# Path of Start directory\n",
    "start = os.getcwd()\n",
    "print(os.path.relpath(\"/Volumes/TOSHIBA_EXT/ISB/clinical_trials/public_mm/bin\", os.getcwd()))"
   ]
  },
  {
   "cell_type": "code",
   "execution_count": 20,
   "metadata": {},
   "outputs": [],
   "source": [
    "mm = MetaMap.get_instance('/Volumes/TOSHIBA_EXT/ISB/clinical_trials/public_mm/bin/metamap18')"
   ]
  },
  {
   "cell_type": "code",
   "execution_count": 22,
   "metadata": {},
   "outputs": [
    {
     "name": "stdout",
     "output_type": "stream",
     "text": [
      "ConceptMMI(index='USER', mm='MMI', score='13.22', preferred_name='Myocardial Infarction', cui='C0027051', semtypes='[dsyn]', trigger='[\"Infarction, Myocardial\"-tx-1-\"myocardial infarction\"-noun-0]', location='TX', pos_info='4/21', tree_codes='C14.280.647.500;C14.907.585.500')\n",
      "\n",
      "\n",
      "ConceptMMI(index='USER', mm='MMI', score='3.75', preferred_name='Electrocardiogram: myocardial infarction (finding)', cui='C0428953', semtypes='[lbtr]', trigger='[\"MYOCARDIAL INFARCTION\"-tx-1-\"myocardial infarction\"-noun-0]', location='TX', pos_info='4/21', tree_codes='')\n",
      "\n",
      "\n",
      "ConceptMMI(index='USER', mm='MMI', score='3.75', preferred_name='Myocardial Infarction ECG Assessment', cui='C3810814', semtypes='[diap]', trigger='[\"Myocardial Infarction\"-tx-1-\"myocardial infarction\"-noun-0]', location='TX', pos_info='4/21', tree_codes='')\n",
      "\n",
      "\n",
      "ConceptMMI(index='USER', mm='MMI', score='3.75', preferred_name='Myocardial Infarction, CTCAE', cui='C4552959', semtypes='[fndg]', trigger='[\"Myocardial infarction\"-tx-1-\"myocardial infarction\"-noun-0]', location='TX', pos_info='4/21', tree_codes='')\n",
      "\n",
      "\n",
      "ConceptMMI(index='USER', mm='MMI', score='3.75', preferred_name='Myocardial infarction:Finding:Point in time:^Patient:Ordinal', cui='C2926063', semtypes='[clna]', trigger='[\"Myocardial infarction\"-tx-1-\"myocardial infarction\"-noun-0]', location='TX', pos_info='4/21', tree_codes='')\n",
      "\n",
      "\n"
     ]
    }
   ],
   "source": [
    "sents = ['myocardial infarction']  # this has to be 1 sentence\n",
    "concepts,error = mm.extract_concepts(sents)\n",
    "for concept in concepts:\n",
    "    print(concept)\n",
    "    print(\"\\n\")"
   ]
  },
  {
   "cell_type": "code",
   "execution_count": 82,
   "metadata": {},
   "outputs": [],
   "source": [
    "error"
   ]
  },
  {
   "cell_type": "code",
   "execution_count": null,
   "metadata": {},
   "outputs": [],
   "source": [
    "# check char encoding, is ascii??\n",
    "    \n",
    "for ct_string in final_df['subject_name'][:40]:\n",
    "#     print(type(ct_string))\n",
    "    print(ct_string.isascii())\n",
    "    "
   ]
  },
  {
   "cell_type": "code",
   "execution_count": 27,
   "metadata": {},
   "outputs": [],
   "source": [
    "# MetaMap does not work on non-ascii char, so create dict with what non-ascii char should be replaced with\n",
    "\n",
    "# diseases = list(set(list(final_df['subject_name'])))\n",
    "ascii_char_dict = {\",\": ' ',\n",
    "                   ';': ' ',\n",
    "                   '；': ' ',\n",
    "                   '≥': ' greater than or equal to ',\n",
    "                   '≤': ' less than or equal to ',\n",
    "                   '<': ' less than or equal to ',\n",
    "                   '>': ' less than or equal to ',\n",
    "                   'ç': 'c',\n",
    "                   '®': ' ',\n",
    "                   '©': ' ',\n",
    "                   'ï': 'i',\n",
    "                   'ї': 'i',\n",
    "                   '̇': '',\n",
    "                   '\"̇': ' ',\n",
    "#                    '\"̇\"': ' ',\n",
    "                   '\"': ' ',\n",
    "                   '\\\"': ' ',\n",
    "                   'é': 'e',\n",
    "                   'è': 'e',\n",
    "                   'í': 'i',\n",
    "                   '₁': '1',\n",
    "                   'ı': '1',\n",
    "                   '，': ' ',\n",
    "                   'β': ' beta ',\n",
    "                   'ß': ' beta ',\n",
    "                   'ö': 'o',\n",
    "                   'ō': 'o',\n",
    "                   '´': \"\",\n",
    "                   '²': '2',\n",
    "                   'γ': ' gamma ',\n",
    "                   'α': ' alpha ',\n",
    "                   'ü': 'u',\n",
    "                   'μg': 'micrograms',\n",
    "                   'µg': 'micrograms',\n",
    "                   'µ': 'mu',\n",
    "                   'μ': 'mu',\n",
    "                   '•': ' ',\n",
    "                   '°': ' degrees ',\n",
    "                   'λ': ' lambda ',\n",
    "                   'ﬂ': 'fl',\n",
    "                   'ⅱ': '2',\n",
    "                   'δ': ' delta ',\n",
    "#                    'stage i': 'stage 1',\n",
    "#                    'stage ii': 'stage 2',\n",
    "#                    'stage iii': 'stage 3',\n",
    "                   'ⅲ': '3',\n",
    "                   '（': ' ',\n",
    "                   '）': ' ',\n",
    "                   '、': ' ',\n",
    "                   '¨': ' ',\n",
    "                   '™': ' ',\n",
    "                   '：': ' ',\n",
    "                   'œ': ' ',\n",
    "                   '／': ' ',\n",
    "                   '.': ' ',\n",
    "                   '±': ' ',\n",
    "                   'ő': 'o'\n",
    "                   \n",
    "                  }\n"
   ]
  },
  {
   "cell_type": "code",
   "execution_count": 23,
   "metadata": {},
   "outputs": [],
   "source": [
    "diseases = list(set(list(final_df['subject_name'])))\n",
    "interventions = list(filter(None, final_df['object_name'].unique()))"
   ]
  },
  {
   "cell_type": "code",
   "execution_count": 29,
   "metadata": {},
   "outputs": [],
   "source": [
    "import re\n",
    "non_ascii = \"[^\\x00-\\x7F]\"\n",
    "pattern = re.compile(r\"[^\\x00-\\x7F]\")\n",
    "\n",
    "\n",
    "def custom_make_translation(text, translation):\n",
    "    non_ascii_text = re.sub(pattern, ' ', text)\n",
    "    return non_ascii_text\n",
    "\n",
    "\n",
    "text = \"split-virion, non-adjuvanted H1N1 vaccine of 15 μg\"\n",
    "translated = custom_make_translation(text, ascii_char_dict)"
   ]
  },
  {
   "cell_type": "code",
   "execution_count": 30,
   "metadata": {},
   "outputs": [],
   "source": [
    "non_ascii = \"[^\\x00-\\x7F]\"\n",
    "pattern = re.compile(r\"[^\\x00-\\x7F]\")\n",
    "\n",
    "import re\n",
    "\n",
    "def custom_make_translation(text):\n",
    "    non_ascii_text = re.sub(pattern, ' ', text)\n",
    "    return non_ascii_text\n",
    "\n",
    "\n",
    "text = \"split-virion, non-adjuvanted H1N1 vaccine of 15 μg\"\n",
    "translated = custom_make_translation(text)"
   ]
  },
  {
   "cell_type": "code",
   "execution_count": 31,
   "metadata": {},
   "outputs": [
    {
     "data": {
      "text/plain": [
       "'split-virion, non-adjuvanted H1N1 vaccine of 15  g'"
      ]
     },
     "execution_count": 31,
     "metadata": {},
     "output_type": "execute_result"
    }
   ],
   "source": [
    "translated\n"
   ]
  },
  {
   "cell_type": "code",
   "execution_count": 32,
   "metadata": {},
   "outputs": [],
   "source": [
    "diseases_translated = dict((i, custom_make_translation(i)) for i in diseases)\n",
    "interventions_translated = dict((i, custom_make_translation(i)) for i in interventions)"
   ]
  },
  {
   "cell_type": "code",
   "execution_count": 33,
   "metadata": {},
   "outputs": [],
   "source": [
    "diseases_translated = dict((i, custom_make_translation(i)) for i in diseases[:20])\n",
    "interventions_translated = dict((i, custom_make_translation(i)) for i in interventions[:20])"
   ]
  },
  {
   "cell_type": "code",
   "execution_count": 34,
   "metadata": {},
   "outputs": [
    {
     "data": {
      "text/plain": [
       "{'Early Start Denver Model': 'Early Start Denver Model',\n",
       " \"'as-usual' intervention\": \"'as-usual' intervention\",\n",
       " 'Assessment of human milk nutrient composition': 'Assessment of human milk nutrient composition',\n",
       " 'KP415 oral capsule': 'KP415 oral capsule',\n",
       " 'Euglycaemic Clamp': 'Euglycaemic Clamp',\n",
       " 'Hyperinsulinaemic/Hypoglycaemic Clamp': 'Hyperinsulinaemic/Hypoglycaemic Clamp',\n",
       " 'VX-659/TEZ/IVA': 'VX-659/TEZ/IVA',\n",
       " 'TEZ/IVA': 'TEZ/IVA',\n",
       " 'IVA': 'IVA',\n",
       " 'Placebo': 'Placebo',\n",
       " 'MT-6548': 'MT-6548',\n",
       " 'Onasemnogene Abeparvovec-xioi': 'Onasemnogene Abeparvovec-xioi',\n",
       " 'Rimegepant': 'Rimegepant',\n",
       " '3D printed model': '3D printed model',\n",
       " 'Verbal Counselling': 'Verbal Counselling',\n",
       " 'Asymmetric STN-DBS': 'Asymmetric STN-DBS',\n",
       " 'Methacetin Breath Test': 'Methacetin Breath Test',\n",
       " 'Emricasan': 'Emricasan',\n",
       " 'Placebo oral capsule': 'Placebo oral capsule',\n",
       " 'High fiber sugar free biscuit': 'High fiber sugar free biscuit'}"
      ]
     },
     "execution_count": 34,
     "metadata": {},
     "output_type": "execute_result"
    }
   ],
   "source": [
    "interventions_translated"
   ]
  },
  {
   "cell_type": "code",
   "execution_count": 173,
   "metadata": {},
   "outputs": [],
   "source": [
    "# def run_metamap(input_term, source_restriction):\n",
    "#     concepts_dict = dict()\n",
    "#     try:\n",
    "#         concepts,error = mm.extract_concepts(sentences = [input_term], restrict_to_sources = source_restriction)\n",
    "#         concepts_dict[input_term] = concepts\n",
    "#     except:\n",
    "#         concepts_dict[input_term] = None \n",
    "#     return(concepts_dict)"
   ]
  },
  {
   "cell_type": "code",
   "execution_count": 46,
   "metadata": {},
   "outputs": [],
   "source": [
    "def run_metamap_orig(input_term):\n",
    "    concepts_dict = dict()\n",
    "    try:\n",
    "        concepts,error = mm.extract_concepts(sentences = [input_term])\n",
    "        concepts_dict[input_term] = concepts\n",
    "    except:\n",
    "        concepts_dict[input_term] = None \n",
    "    return(concepts_dict)"
   ]
  },
  {
   "cell_type": "code",
   "execution_count": 71,
   "metadata": {},
   "outputs": [],
   "source": [
    "def run_metamap(input_term, source_restriction):\n",
    "    concepts_dict = dict()\n",
    "    if all(x is None for x in source_restriction):\n",
    "        try:\n",
    "            concepts,error = mm.extract_concepts([input_term])\n",
    "            concepts_dict[input_term] = concepts\n",
    "        except:\n",
    "            concepts_dict[input_term] = None \n",
    "    else:\n",
    "        try:\n",
    "            concepts,error = mm.extract_concepts([input_term], restrict_to_sources=source_restriction)\n",
    "            concepts_dict[input_term] = concepts\n",
    "        except:\n",
    "            concepts_dict[input_term] = None \n",
    "    return(concepts_dict)"
   ]
  },
  {
   "cell_type": "code",
   "execution_count": 72,
   "metadata": {},
   "outputs": [],
   "source": [
    "number_of_processes = 4\n",
    "metamapped_diseases = multiprocessing.Pool(number_of_processes).starmap(run_metamap,\n",
    "                                                                        zip(list(diseases_translated.values()), [['SNOMEDCT_US', 'SNOMEDCT_VET', 'ICD10CM', 'ICD10CM', 'ICD10PCS', 'ICD9CM', 'ICD9CM']]*len(list(diseases_translated.values()))))\n",
    "metamapped_interventions = multiprocessing.Pool(number_of_processes).starmap(run_metamap, \n",
    "                                                                             zip(list(interventions_translated.values()),\n",
    "                                                                                 [[None]]*len(list(interventions_translated.values()))))\n",
    "                                                                             \n"
   ]
  },
  {
   "cell_type": "code",
   "execution_count": null,
   "metadata": {},
   "outputs": [],
   "source": []
  },
  {
   "cell_type": "code",
   "execution_count": null,
   "metadata": {},
   "outputs": [],
   "source": []
  },
  {
   "cell_type": "code",
   "execution_count": null,
   "metadata": {},
   "outputs": [],
   "source": []
  },
  {
   "cell_type": "code",
   "execution_count": null,
   "metadata": {},
   "outputs": [],
   "source": []
  },
  {
   "cell_type": "code",
   "execution_count": null,
   "metadata": {},
   "outputs": [],
   "source": []
  },
  {
   "cell_type": "code",
   "execution_count": null,
   "metadata": {},
   "outputs": [],
   "source": []
  },
  {
   "cell_type": "code",
   "execution_count": null,
   "metadata": {},
   "outputs": [],
   "source": []
  },
  {
   "cell_type": "code",
   "execution_count": null,
   "metadata": {},
   "outputs": [],
   "source": []
  },
  {
   "cell_type": "code",
   "execution_count": null,
   "metadata": {},
   "outputs": [],
   "source": []
  },
  {
   "cell_type": "code",
   "execution_count": null,
   "metadata": {},
   "outputs": [],
   "source": []
  },
  {
   "cell_type": "code",
   "execution_count": null,
   "metadata": {},
   "outputs": [],
   "source": []
  },
  {
   "cell_type": "code",
   "execution_count": null,
   "metadata": {},
   "outputs": [],
   "source": []
  },
  {
   "cell_type": "code",
   "execution_count": null,
   "metadata": {},
   "outputs": [],
   "source": []
  },
  {
   "cell_type": "code",
   "execution_count": null,
   "metadata": {},
   "outputs": [],
   "source": []
  },
  {
   "cell_type": "code",
   "execution_count": null,
   "metadata": {},
   "outputs": [],
   "source": []
  },
  {
   "cell_type": "code",
   "execution_count": null,
   "metadata": {},
   "outputs": [],
   "source": []
  },
  {
   "cell_type": "code",
   "execution_count": null,
   "metadata": {},
   "outputs": [],
   "source": []
  },
  {
   "cell_type": "code",
   "execution_count": null,
   "metadata": {},
   "outputs": [],
   "source": [
    "# link nct ids of studies that have the same disease and intervention pair---multiple studies may have studies the same intervention\n",
    "# restrict returned CUIs of metamapped concepts???"
   ]
  },
  {
   "cell_type": "code",
   "execution_count": null,
   "metadata": {},
   "outputs": [],
   "source": []
  },
  {
   "cell_type": "code",
   "execution_count": null,
   "metadata": {},
   "outputs": [],
   "source": []
  },
  {
   "cell_type": "code",
   "execution_count": null,
   "metadata": {},
   "outputs": [],
   "source": [
    "pd.set_option('display.max_rows', None)\n",
    "pd.set_option('display.max_columns', None)\n",
    "pd.set_option('display.width', None)\n",
    "pd.set_option('display.max_colwidth', None)\n",
    "mapped"
   ]
  },
  {
   "cell_type": "code",
   "execution_count": null,
   "metadata": {},
   "outputs": [],
   "source": []
  },
  {
   "cell_type": "code",
   "execution_count": null,
   "metadata": {},
   "outputs": [],
   "source": []
  },
  {
   "cell_type": "code",
   "execution_count": null,
   "metadata": {},
   "outputs": [],
   "source": []
  },
  {
   "cell_type": "code",
   "execution_count": null,
   "metadata": {},
   "outputs": [],
   "source": []
  },
  {
   "cell_type": "code",
   "execution_count": null,
   "metadata": {},
   "outputs": [],
   "source": []
  },
  {
   "cell_type": "code",
   "execution_count": null,
   "metadata": {},
   "outputs": [],
   "source": []
  },
  {
   "cell_type": "code",
   "execution_count": null,
   "metadata": {},
   "outputs": [],
   "source": []
  },
  {
   "cell_type": "code",
   "execution_count": null,
   "metadata": {},
   "outputs": [],
   "source": []
  },
  {
   "cell_type": "code",
   "execution_count": null,
   "metadata": {},
   "outputs": [],
   "source": []
  },
  {
   "cell_type": "code",
   "execution_count": null,
   "metadata": {},
   "outputs": [],
   "source": []
  },
  {
   "cell_type": "code",
   "execution_count": null,
   "metadata": {},
   "outputs": [],
   "source": []
  },
  {
   "cell_type": "code",
   "execution_count": null,
   "metadata": {},
   "outputs": [],
   "source": []
  },
  {
   "cell_type": "code",
   "execution_count": null,
   "metadata": {},
   "outputs": [],
   "source": []
  },
  {
   "cell_type": "code",
   "execution_count": null,
   "metadata": {},
   "outputs": [],
   "source": []
  },
  {
   "cell_type": "code",
   "execution_count": null,
   "metadata": {},
   "outputs": [],
   "source": []
  }
 ],
 "metadata": {
  "kernelspec": {
   "display_name": "Python 3",
   "language": "python",
   "name": "python3"
  },
  "language_info": {
   "codemirror_mode": {
    "name": "ipython",
    "version": 3
   },
   "file_extension": ".py",
   "mimetype": "text/x-python",
   "name": "python",
   "nbconvert_exporter": "python",
   "pygments_lexer": "ipython3",
   "version": "3.7.6"
  }
 },
 "nbformat": 4,
 "nbformat_minor": 4
}
