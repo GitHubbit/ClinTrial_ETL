{
 "cells": [
  {
   "cell_type": "code",
   "execution_count": 2,
   "metadata": {},
   "outputs": [],
   "source": [
    "# %%capture\n",
    "# !pip install git+https://github.com/biothings/biothings_explorer#egg=biothings_explorer"
   ]
  },
  {
   "cell_type": "code",
   "execution_count": 2,
   "metadata": {},
   "outputs": [],
   "source": [
    "import os\n",
    "import requests\n",
    "from urllib.request import urlopen\n",
    "from bs4 import BeautifulSoup\n",
    "from datetime import date\n",
    "import datetime as dt\n",
    "import pandas as pd\n",
    "import sys\n",
    "import csv\n",
    "import numpy as np\n",
    "import multiprocessing\n",
    "import re"
   ]
  },
  {
   "cell_type": "code",
   "execution_count": 3,
   "metadata": {},
   "outputs": [],
   "source": [
    "import psycopg2\n",
    "import pandas.io.sql as sqlio\n",
    "# from tabulate import tabulate"
   ]
  },
  {
   "cell_type": "code",
   "execution_count": 4,
   "metadata": {},
   "outputs": [],
   "source": [
    "import json\n",
    "import argparse\n",
    "import lxml\n",
    "import config\n",
    "import pickle\n",
    "\n",
    "# from Authentication import *\n",
    "import requests\n",
    "import json\n",
    "from requests.adapters import HTTPAdapter\n",
    "from requests.packages.urllib3.util.retry import Retry\n"
   ]
  },
  {
   "cell_type": "code",
   "execution_count": null,
   "metadata": {},
   "outputs": [],
   "source": [
    "url = \"https://aact.ctti-clinicaltrials.org/pipe_files\"\n",
    "response = requests.get(url)"
   ]
  },
  {
   "cell_type": "code",
   "execution_count": null,
   "metadata": {},
   "outputs": [],
   "source": [
    "from bs4 import BeautifulSoup\n",
    "soup = BeautifulSoup(response.text)\n",
    "# print(soup.prettify())"
   ]
  },
  {
   "cell_type": "code",
   "execution_count": null,
   "metadata": {},
   "outputs": [],
   "source": [
    "\n",
    "# https://aact.ctti-clinicaltrials.org/static/exported_files/monthly/20220301_pipe-delimited-export.zip\n",
    "# https://aact.ctti-clinicaltrials.org/static/exported_files/monthly/20220801_pipe-delimited-export.zip\n",
    "upload_dates = []\n",
    "zip_files = []\n",
    "links = []\n",
    "body = soup.find_all('td', attrs={'class': 'file-archive'}) #Find all\n",
    "for el in body:\n",
    "    tags = el.find('a')\n",
    "    try:\n",
    "        if 'href' in tags.attrs:   # looking for href inside anchor tag    \n",
    "            link = \"https://aact.ctti-clinicaltrials.org\" + tags.get('href')\n",
    "            links.append(link)\n",
    "            last_upload = link.split(\"/\")[-1]\n",
    "            zip_files.append(last_upload)\n",
    "            date_upload = last_upload.split(\"_\")[0]\n",
    "            upload_dates.append(date_upload)    # appending link to list of links\n",
    "    except:    # pass if list missing anchor tag or anchor tag does not has a href params \n",
    "        pass\n",
    "    \n",
    "print(upload_dates)\n",
    "\n",
    "upload_dates = [dt.datetime.strptime(date, '%Y%m%d').date() for date in upload_dates] # convert all strings in list into datetime objects\n"
   ]
  },
  {
   "cell_type": "code",
   "execution_count": null,
   "metadata": {},
   "outputs": [],
   "source": [
    "most_recent_date = max(upload_dates)\n",
    "# print(most_recent_date)\n",
    "\n",
    "today = dt.date.today()\n",
    "\n",
    "# UNCOMMENT LINE BELOW WHEN IN PRODUCTION, THIS IS FOR TESTING PURPOSES\n",
    "most_recent_date = min(upload_dates)\n",
    "\n",
    "# fix this to run entire script should the current date be \n",
    "if most_recent_date < today:\n",
    "#     date_file_df = pd.DataFrame(list(zip(upload_dates, zip_files, links)))\n",
    "#     print(links[0])\n",
    "    resp = urlopen(links[0])\n",
    "else:\n",
    "    print(\"Local instance of clinical trials data is already up to date.\")\n",
    "\n"
   ]
  },
  {
   "cell_type": "code",
   "execution_count": null,
   "metadata": {},
   "outputs": [],
   "source": [
    "pd.set_option('display.max_colwidth', 3000)\n",
    "# date_file_df[2]"
   ]
  },
  {
   "cell_type": "code",
   "execution_count": null,
   "metadata": {},
   "outputs": [],
   "source": [
    "os.getcwd()\n"
   ]
  },
  {
   "cell_type": "code",
   "execution_count": 4,
   "metadata": {},
   "outputs": [],
   "source": [
    "# connect to DB and get the column names of the table\n",
    "con = None\n",
    "con = psycopg2.connect(database=\"aact\")\n",
    "con.rollback()\n",
    "cursor = con.cursor()\n",
    "\n",
    "con.autocommit = True # SQL statement is treated as a transaction and is automatically committed right after it is executed\n",
    "# grab the conditions\n",
    "sql = '''SELECT * FROM ctgov.conditions;'''\n",
    "cursor.execute(sql)\n",
    "column_names = [desc[0] for desc in cursor.description]\n",
    "tuples = cursor.fetchall()\n",
    "conditions_df = pd.DataFrame(tuples, columns=column_names)\n",
    "\n",
    "#grab the browse_conditions\n",
    "sql = '''SELECT * FROM ctgov.browse_conditions;'''\n",
    "cursor.execute(sql)\n",
    "column_names = [desc[0] for desc in cursor.description]\n",
    "tuples = cursor.fetchall()\n",
    "browse_conditions_df = pd.DataFrame(tuples, columns=column_names)\n",
    "\n",
    "#grab the interventions\n",
    "sql = '''SELECT * FROM ctgov.interventions;'''\n",
    "cursor.execute(sql)\n",
    "column_names = [desc[0] for desc in cursor.description]\n",
    "tuples = cursor.fetchall()\n",
    "interventions_df = pd.DataFrame(tuples, columns=column_names)\n",
    "\n",
    "#grab the browse_interventions\n",
    "sql = '''SELECT * FROM ctgov.browse_interventions;'''\n",
    "cursor.execute(sql)\n",
    "column_names = [desc[0] for desc in cursor.description]\n",
    "tuples = cursor.fetchall()\n",
    "browse_interventions_df = pd.DataFrame(tuples, columns=column_names)\n",
    "\n",
    "con.close()\n"
   ]
  },
  {
   "cell_type": "code",
   "execution_count": 5,
   "metadata": {},
   "outputs": [
    {
     "data": {
      "text/html": [
       "<div>\n",
       "<style scoped>\n",
       "    .dataframe tbody tr th:only-of-type {\n",
       "        vertical-align: middle;\n",
       "    }\n",
       "\n",
       "    .dataframe tbody tr th {\n",
       "        vertical-align: top;\n",
       "    }\n",
       "\n",
       "    .dataframe thead th {\n",
       "        text-align: right;\n",
       "    }\n",
       "</style>\n",
       "<table border=\"1\" class=\"dataframe\">\n",
       "  <thead>\n",
       "    <tr style=\"text-align: right;\">\n",
       "      <th></th>\n",
       "      <th>int_id</th>\n",
       "      <th>int_nctid</th>\n",
       "      <th>int_type</th>\n",
       "      <th>int_name</th>\n",
       "      <th>int_description</th>\n",
       "    </tr>\n",
       "  </thead>\n",
       "  <tbody>\n",
       "    <tr>\n",
       "      <th>0</th>\n",
       "      <td>4547568</td>\n",
       "      <td>NCT01340339</td>\n",
       "      <td>Device</td>\n",
       "      <td>Phototherapy</td>\n",
       "      <td>Fluorescent reverse phototherapy (7 white ligh...</td>\n",
       "    </tr>\n",
       "    <tr>\n",
       "      <th>1</th>\n",
       "      <td>4547569</td>\n",
       "      <td>NCT01340339</td>\n",
       "      <td>Device</td>\n",
       "      <td>Phototherapy</td>\n",
       "      <td>super LED reverse phototherapy (17 bulbs arran...</td>\n",
       "    </tr>\n",
       "    <tr>\n",
       "      <th>2</th>\n",
       "      <td>4547570</td>\n",
       "      <td>NCT01340365</td>\n",
       "      <td>Behavioral</td>\n",
       "      <td>Tai Chi Exercise</td>\n",
       "      <td>Practicing Tai Chi exercise 4 times a week for...</td>\n",
       "    </tr>\n",
       "    <tr>\n",
       "      <th>3</th>\n",
       "      <td>4547571</td>\n",
       "      <td>NCT01340365</td>\n",
       "      <td>Behavioral</td>\n",
       "      <td>Tai Chi</td>\n",
       "      <td>Usual care, individuals attend testing session...</td>\n",
       "    </tr>\n",
       "    <tr>\n",
       "      <th>4</th>\n",
       "      <td>4547572</td>\n",
       "      <td>NCT01340391</td>\n",
       "      <td>Device</td>\n",
       "      <td>Omnicast</td>\n",
       "      <td>dorsal splint 2-5 weeks</td>\n",
       "    </tr>\n",
       "    <tr>\n",
       "      <th>...</th>\n",
       "      <td>...</td>\n",
       "      <td>...</td>\n",
       "      <td>...</td>\n",
       "      <td>...</td>\n",
       "      <td>...</td>\n",
       "    </tr>\n",
       "    <tr>\n",
       "      <th>685271</th>\n",
       "      <td>4139681</td>\n",
       "      <td>NCT03104712</td>\n",
       "      <td>Other</td>\n",
       "      <td>Rice + Pesto</td>\n",
       "      <td>50g available carbohydrate</td>\n",
       "    </tr>\n",
       "    <tr>\n",
       "      <th>685272</th>\n",
       "      <td>4139682</td>\n",
       "      <td>NCT03104465</td>\n",
       "      <td>Behavioral</td>\n",
       "      <td>Mindfulness Training</td>\n",
       "      <td>interactive. web-based mindfulness training co...</td>\n",
       "    </tr>\n",
       "    <tr>\n",
       "      <th>685273</th>\n",
       "      <td>4139683</td>\n",
       "      <td>NCT03104361</td>\n",
       "      <td>Biological</td>\n",
       "      <td>Platelet-Rich Plasma</td>\n",
       "      <td>Patients who meet all eligible requirements fo...</td>\n",
       "    </tr>\n",
       "    <tr>\n",
       "      <th>685274</th>\n",
       "      <td>4139684</td>\n",
       "      <td>NCT03104283</td>\n",
       "      <td>Drug</td>\n",
       "      <td>Apatinib</td>\n",
       "      <td>take apatinib orally until disease progression...</td>\n",
       "    </tr>\n",
       "    <tr>\n",
       "      <th>685275</th>\n",
       "      <td>4139685</td>\n",
       "      <td>NCT03104231</td>\n",
       "      <td>Other</td>\n",
       "      <td>three-dimensional (3D) movie</td>\n",
       "      <td>Brief VR-3D will be shown using the oculus gla...</td>\n",
       "    </tr>\n",
       "  </tbody>\n",
       "</table>\n",
       "<p>685276 rows × 5 columns</p>\n",
       "</div>"
      ],
      "text/plain": [
       "         int_id    int_nctid    int_type                      int_name  \\\n",
       "0       4547568  NCT01340339      Device                  Phototherapy   \n",
       "1       4547569  NCT01340339      Device                  Phototherapy   \n",
       "2       4547570  NCT01340365  Behavioral              Tai Chi Exercise   \n",
       "3       4547571  NCT01340365  Behavioral                       Tai Chi   \n",
       "4       4547572  NCT01340391      Device                      Omnicast   \n",
       "...         ...          ...         ...                           ...   \n",
       "685271  4139681  NCT03104712       Other                  Rice + Pesto   \n",
       "685272  4139682  NCT03104465  Behavioral          Mindfulness Training   \n",
       "685273  4139683  NCT03104361  Biological          Platelet-Rich Plasma   \n",
       "685274  4139684  NCT03104283        Drug                      Apatinib   \n",
       "685275  4139685  NCT03104231       Other  three-dimensional (3D) movie   \n",
       "\n",
       "                                          int_description  \n",
       "0       Fluorescent reverse phototherapy (7 white ligh...  \n",
       "1       super LED reverse phototherapy (17 bulbs arran...  \n",
       "2       Practicing Tai Chi exercise 4 times a week for...  \n",
       "3       Usual care, individuals attend testing session...  \n",
       "4                                 dorsal splint 2-5 weeks  \n",
       "...                                                   ...  \n",
       "685271                         50g available carbohydrate  \n",
       "685272  interactive. web-based mindfulness training co...  \n",
       "685273  Patients who meet all eligible requirements fo...  \n",
       "685274  take apatinib orally until disease progression...  \n",
       "685275  Brief VR-3D will be shown using the oculus gla...  \n",
       "\n",
       "[685276 rows x 5 columns]"
      ]
     },
     "execution_count": 5,
     "metadata": {},
     "output_type": "execute_result"
    }
   ],
   "source": [
    "interventions_df = interventions_df.rename(columns={'id': 'int_id',\n",
    "                                                    'nct_id': 'int_nctid',\n",
    "                                                    'intervention_type': 'int_type',\n",
    "                                                    'name': 'int_name',\n",
    "                                                    'description': 'int_description'})\n",
    "interventions_df"
   ]
  },
  {
   "cell_type": "code",
   "execution_count": 6,
   "metadata": {},
   "outputs": [],
   "source": [
    "interventions_df = interventions_df.drop(columns=['int_id', 'int_description'])"
   ]
  },
  {
   "cell_type": "code",
   "execution_count": 7,
   "metadata": {},
   "outputs": [
    {
     "data": {
      "text/html": [
       "<div>\n",
       "<style scoped>\n",
       "    .dataframe tbody tr th:only-of-type {\n",
       "        vertical-align: middle;\n",
       "    }\n",
       "\n",
       "    .dataframe tbody tr th {\n",
       "        vertical-align: top;\n",
       "    }\n",
       "\n",
       "    .dataframe thead th {\n",
       "        text-align: right;\n",
       "    }\n",
       "</style>\n",
       "<table border=\"1\" class=\"dataframe\">\n",
       "  <thead>\n",
       "    <tr style=\"text-align: right;\">\n",
       "      <th></th>\n",
       "      <th>con_id</th>\n",
       "      <th>con_nctid</th>\n",
       "      <th>con_name</th>\n",
       "      <th>con_downcase_name</th>\n",
       "    </tr>\n",
       "  </thead>\n",
       "  <tbody>\n",
       "    <tr>\n",
       "      <th>0</th>\n",
       "      <td>3072834</td>\n",
       "      <td>NCT03254264</td>\n",
       "      <td>Autism Spectrum Disorder</td>\n",
       "      <td>autism spectrum disorder</td>\n",
       "    </tr>\n",
       "    <tr>\n",
       "      <th>1</th>\n",
       "      <td>3072835</td>\n",
       "      <td>NCT03254329</td>\n",
       "      <td>Human Milk Nutrient Reference Values</td>\n",
       "      <td>human milk nutrient reference values</td>\n",
       "    </tr>\n",
       "    <tr>\n",
       "      <th>2</th>\n",
       "      <td>3349485</td>\n",
       "      <td>NCT03460652</td>\n",
       "      <td>ADHD</td>\n",
       "      <td>adhd</td>\n",
       "    </tr>\n",
       "    <tr>\n",
       "      <th>3</th>\n",
       "      <td>3349486</td>\n",
       "      <td>NCT03460899</td>\n",
       "      <td>Diabetes Mellitus With Hypoglycemia</td>\n",
       "      <td>diabetes mellitus with hypoglycemia</td>\n",
       "    </tr>\n",
       "    <tr>\n",
       "      <th>4</th>\n",
       "      <td>3072836</td>\n",
       "      <td>NCT03254342</td>\n",
       "      <td>Major Depressive Disorder</td>\n",
       "      <td>major depressive disorder</td>\n",
       "    </tr>\n",
       "    <tr>\n",
       "      <th>...</th>\n",
       "      <td>...</td>\n",
       "      <td>...</td>\n",
       "      <td>...</td>\n",
       "      <td>...</td>\n",
       "    </tr>\n",
       "    <tr>\n",
       "      <th>688783</th>\n",
       "      <td>3072052</td>\n",
       "      <td>NCT03261687</td>\n",
       "      <td>Pregnancy Related</td>\n",
       "      <td>pregnancy related</td>\n",
       "    </tr>\n",
       "    <tr>\n",
       "      <th>688784</th>\n",
       "      <td>3072053</td>\n",
       "      <td>NCT03261687</td>\n",
       "      <td>Pelvic Girdle Pain</td>\n",
       "      <td>pelvic girdle pain</td>\n",
       "    </tr>\n",
       "    <tr>\n",
       "      <th>688785</th>\n",
       "      <td>3072054</td>\n",
       "      <td>NCT03261622</td>\n",
       "      <td>Faecal Incontinence</td>\n",
       "      <td>faecal incontinence</td>\n",
       "    </tr>\n",
       "    <tr>\n",
       "      <th>688786</th>\n",
       "      <td>3072055</td>\n",
       "      <td>NCT03261622</td>\n",
       "      <td>Fecal Incontinence</td>\n",
       "      <td>fecal incontinence</td>\n",
       "    </tr>\n",
       "    <tr>\n",
       "      <th>688787</th>\n",
       "      <td>3072056</td>\n",
       "      <td>NCT03261934</td>\n",
       "      <td>Risk Assessment of Chronic Atrophic Gastritis ...</td>\n",
       "      <td>risk assessment of chronic atrophic gastritis ...</td>\n",
       "    </tr>\n",
       "  </tbody>\n",
       "</table>\n",
       "<p>688788 rows × 4 columns</p>\n",
       "</div>"
      ],
      "text/plain": [
       "         con_id    con_nctid  \\\n",
       "0       3072834  NCT03254264   \n",
       "1       3072835  NCT03254329   \n",
       "2       3349485  NCT03460652   \n",
       "3       3349486  NCT03460899   \n",
       "4       3072836  NCT03254342   \n",
       "...         ...          ...   \n",
       "688783  3072052  NCT03261687   \n",
       "688784  3072053  NCT03261687   \n",
       "688785  3072054  NCT03261622   \n",
       "688786  3072055  NCT03261622   \n",
       "688787  3072056  NCT03261934   \n",
       "\n",
       "                                                 con_name  \\\n",
       "0                                Autism Spectrum Disorder   \n",
       "1                    Human Milk Nutrient Reference Values   \n",
       "2                                                    ADHD   \n",
       "3                     Diabetes Mellitus With Hypoglycemia   \n",
       "4                               Major Depressive Disorder   \n",
       "...                                                   ...   \n",
       "688783                                  Pregnancy Related   \n",
       "688784                                 Pelvic Girdle Pain   \n",
       "688785                                Faecal Incontinence   \n",
       "688786                                 Fecal Incontinence   \n",
       "688787  Risk Assessment of Chronic Atrophic Gastritis ...   \n",
       "\n",
       "                                        con_downcase_name  \n",
       "0                                autism spectrum disorder  \n",
       "1                    human milk nutrient reference values  \n",
       "2                                                    adhd  \n",
       "3                     diabetes mellitus with hypoglycemia  \n",
       "4                               major depressive disorder  \n",
       "...                                                   ...  \n",
       "688783                                  pregnancy related  \n",
       "688784                                 pelvic girdle pain  \n",
       "688785                                faecal incontinence  \n",
       "688786                                 fecal incontinence  \n",
       "688787  risk assessment of chronic atrophic gastritis ...  \n",
       "\n",
       "[688788 rows x 4 columns]"
      ]
     },
     "execution_count": 7,
     "metadata": {},
     "output_type": "execute_result"
    }
   ],
   "source": [
    "conditions_df = conditions_df.rename(columns={'id': 'con_id',\n",
    "                                              'nct_id': 'con_nctid',\n",
    "                                              'name': 'con_name',\n",
    "                                              'downcase_name': 'con_downcase_name'})\n",
    "conditions_df"
   ]
  },
  {
   "cell_type": "code",
   "execution_count": 8,
   "metadata": {},
   "outputs": [],
   "source": [
    "conditions_df = conditions_df.drop(columns=['con_id', 'con_name'])"
   ]
  },
  {
   "cell_type": "code",
   "execution_count": 9,
   "metadata": {},
   "outputs": [
    {
     "data": {
      "text/html": [
       "<div>\n",
       "<style scoped>\n",
       "    .dataframe tbody tr th:only-of-type {\n",
       "        vertical-align: middle;\n",
       "    }\n",
       "\n",
       "    .dataframe tbody tr th {\n",
       "        vertical-align: top;\n",
       "    }\n",
       "\n",
       "    .dataframe thead th {\n",
       "        text-align: right;\n",
       "    }\n",
       "</style>\n",
       "<table border=\"1\" class=\"dataframe\">\n",
       "  <thead>\n",
       "    <tr style=\"text-align: right;\">\n",
       "      <th></th>\n",
       "      <th>browseint_id</th>\n",
       "      <th>browseint_nctid</th>\n",
       "      <th>browseint_meshterm</th>\n",
       "      <th>browseint_meshterm_downcase</th>\n",
       "      <th>browseint_meshtype</th>\n",
       "    </tr>\n",
       "  </thead>\n",
       "  <tbody>\n",
       "    <tr>\n",
       "      <th>0</th>\n",
       "      <td>4935968</td>\n",
       "      <td>NCT04327843</td>\n",
       "      <td>Haloperidol</td>\n",
       "      <td>haloperidol</td>\n",
       "      <td>mesh-list</td>\n",
       "    </tr>\n",
       "    <tr>\n",
       "      <th>1</th>\n",
       "      <td>4935969</td>\n",
       "      <td>NCT04327843</td>\n",
       "      <td>Haloperidol decanoate</td>\n",
       "      <td>haloperidol decanoate</td>\n",
       "      <td>mesh-list</td>\n",
       "    </tr>\n",
       "    <tr>\n",
       "      <th>2</th>\n",
       "      <td>4935970</td>\n",
       "      <td>NCT04327843</td>\n",
       "      <td>Antiemetics</td>\n",
       "      <td>antiemetics</td>\n",
       "      <td>mesh-ancestor</td>\n",
       "    </tr>\n",
       "    <tr>\n",
       "      <th>3</th>\n",
       "      <td>5198960</td>\n",
       "      <td>NCT00808223</td>\n",
       "      <td>Alefacept</td>\n",
       "      <td>alefacept</td>\n",
       "      <td>mesh-list</td>\n",
       "    </tr>\n",
       "    <tr>\n",
       "      <th>4</th>\n",
       "      <td>5198961</td>\n",
       "      <td>NCT00808223</td>\n",
       "      <td>Dermatologic Agents</td>\n",
       "      <td>dermatologic agents</td>\n",
       "      <td>mesh-ancestor</td>\n",
       "    </tr>\n",
       "    <tr>\n",
       "      <th>...</th>\n",
       "      <td>...</td>\n",
       "      <td>...</td>\n",
       "      <td>...</td>\n",
       "      <td>...</td>\n",
       "      <td>...</td>\n",
       "    </tr>\n",
       "    <tr>\n",
       "      <th>1335262</th>\n",
       "      <td>4400668</td>\n",
       "      <td>NCT03100786</td>\n",
       "      <td>Antineoplastic Agents, Hormonal</td>\n",
       "      <td>antineoplastic agents, hormonal</td>\n",
       "      <td>mesh-ancestor</td>\n",
       "    </tr>\n",
       "    <tr>\n",
       "      <th>1335263</th>\n",
       "      <td>4400669</td>\n",
       "      <td>NCT03100786</td>\n",
       "      <td>Antineoplastic Agents</td>\n",
       "      <td>antineoplastic agents</td>\n",
       "      <td>mesh-ancestor</td>\n",
       "    </tr>\n",
       "    <tr>\n",
       "      <th>1335264</th>\n",
       "      <td>4400670</td>\n",
       "      <td>NCT03100565</td>\n",
       "      <td>Lidocaine</td>\n",
       "      <td>lidocaine</td>\n",
       "      <td>mesh-list</td>\n",
       "    </tr>\n",
       "    <tr>\n",
       "      <th>1335265</th>\n",
       "      <td>4400671</td>\n",
       "      <td>NCT03100565</td>\n",
       "      <td>Anesthetics, Local</td>\n",
       "      <td>anesthetics, local</td>\n",
       "      <td>mesh-ancestor</td>\n",
       "    </tr>\n",
       "    <tr>\n",
       "      <th>1335266</th>\n",
       "      <td>4400672</td>\n",
       "      <td>NCT03100565</td>\n",
       "      <td>Anesthetics</td>\n",
       "      <td>anesthetics</td>\n",
       "      <td>mesh-ancestor</td>\n",
       "    </tr>\n",
       "  </tbody>\n",
       "</table>\n",
       "<p>1335267 rows × 5 columns</p>\n",
       "</div>"
      ],
      "text/plain": [
       "         browseint_id browseint_nctid               browseint_meshterm  \\\n",
       "0             4935968     NCT04327843                      Haloperidol   \n",
       "1             4935969     NCT04327843            Haloperidol decanoate   \n",
       "2             4935970     NCT04327843                      Antiemetics   \n",
       "3             5198960     NCT00808223                        Alefacept   \n",
       "4             5198961     NCT00808223              Dermatologic Agents   \n",
       "...               ...             ...                              ...   \n",
       "1335262       4400668     NCT03100786  Antineoplastic Agents, Hormonal   \n",
       "1335263       4400669     NCT03100786            Antineoplastic Agents   \n",
       "1335264       4400670     NCT03100565                        Lidocaine   \n",
       "1335265       4400671     NCT03100565               Anesthetics, Local   \n",
       "1335266       4400672     NCT03100565                      Anesthetics   \n",
       "\n",
       "             browseint_meshterm_downcase browseint_meshtype  \n",
       "0                            haloperidol          mesh-list  \n",
       "1                  haloperidol decanoate          mesh-list  \n",
       "2                            antiemetics      mesh-ancestor  \n",
       "3                              alefacept          mesh-list  \n",
       "4                    dermatologic agents      mesh-ancestor  \n",
       "...                                  ...                ...  \n",
       "1335262  antineoplastic agents, hormonal      mesh-ancestor  \n",
       "1335263            antineoplastic agents      mesh-ancestor  \n",
       "1335264                        lidocaine          mesh-list  \n",
       "1335265               anesthetics, local      mesh-ancestor  \n",
       "1335266                      anesthetics      mesh-ancestor  \n",
       "\n",
       "[1335267 rows x 5 columns]"
      ]
     },
     "execution_count": 9,
     "metadata": {},
     "output_type": "execute_result"
    }
   ],
   "source": [
    "browse_interventions_df = browse_interventions_df.rename(columns={'id': 'browseint_id',\n",
    "                                                                  'nct_id': 'browseint_nctid',\n",
    "                                                                  'mesh_term': 'browseint_meshterm',\n",
    "                                                                  'downcase_mesh_term': 'browseint_meshterm_downcase',\n",
    "                                                                  'mesh_type': 'browseint_meshtype'})\n",
    "browse_interventions_df"
   ]
  },
  {
   "cell_type": "code",
   "execution_count": 10,
   "metadata": {},
   "outputs": [],
   "source": [
    "browse_interventions_df = browse_interventions_df.drop(columns=['browseint_id', 'browseint_meshterm'])"
   ]
  },
  {
   "cell_type": "code",
   "execution_count": 11,
   "metadata": {},
   "outputs": [
    {
     "data": {
      "text/html": [
       "<div>\n",
       "<style scoped>\n",
       "    .dataframe tbody tr th:only-of-type {\n",
       "        vertical-align: middle;\n",
       "    }\n",
       "\n",
       "    .dataframe tbody tr th {\n",
       "        vertical-align: top;\n",
       "    }\n",
       "\n",
       "    .dataframe thead th {\n",
       "        text-align: right;\n",
       "    }\n",
       "</style>\n",
       "<table border=\"1\" class=\"dataframe\">\n",
       "  <thead>\n",
       "    <tr style=\"text-align: right;\">\n",
       "      <th></th>\n",
       "      <th>browsecon_id</th>\n",
       "      <th>browsecon_nctid</th>\n",
       "      <th>browsecon_meshterm</th>\n",
       "      <th>browsecon_meshterm_downcase</th>\n",
       "      <th>browsecon_meshtype</th>\n",
       "    </tr>\n",
       "  </thead>\n",
       "  <tbody>\n",
       "    <tr>\n",
       "      <th>0</th>\n",
       "      <td>9631397</td>\n",
       "      <td>NCT04035564</td>\n",
       "      <td>Hyponatremia</td>\n",
       "      <td>hyponatremia</td>\n",
       "      <td>mesh-list</td>\n",
       "    </tr>\n",
       "    <tr>\n",
       "      <th>1</th>\n",
       "      <td>9631398</td>\n",
       "      <td>NCT04035564</td>\n",
       "      <td>Water-Electrolyte Imbalance</td>\n",
       "      <td>water-electrolyte imbalance</td>\n",
       "      <td>mesh-ancestor</td>\n",
       "    </tr>\n",
       "    <tr>\n",
       "      <th>2</th>\n",
       "      <td>9631399</td>\n",
       "      <td>NCT04035564</td>\n",
       "      <td>Metabolic Diseases</td>\n",
       "      <td>metabolic diseases</td>\n",
       "      <td>mesh-ancestor</td>\n",
       "    </tr>\n",
       "    <tr>\n",
       "      <th>3</th>\n",
       "      <td>9631400</td>\n",
       "      <td>NCT04032652</td>\n",
       "      <td>Colitis</td>\n",
       "      <td>colitis</td>\n",
       "      <td>mesh-list</td>\n",
       "    </tr>\n",
       "    <tr>\n",
       "      <th>4</th>\n",
       "      <td>9631401</td>\n",
       "      <td>NCT04032652</td>\n",
       "      <td>Colitis, Ulcerative</td>\n",
       "      <td>colitis, ulcerative</td>\n",
       "      <td>mesh-list</td>\n",
       "    </tr>\n",
       "    <tr>\n",
       "      <th>...</th>\n",
       "      <td>...</td>\n",
       "      <td>...</td>\n",
       "      <td>...</td>\n",
       "      <td>...</td>\n",
       "      <td>...</td>\n",
       "    </tr>\n",
       "    <tr>\n",
       "      <th>2573556</th>\n",
       "      <td>8601072</td>\n",
       "      <td>NCT03213899</td>\n",
       "      <td>Disease Attributes</td>\n",
       "      <td>disease attributes</td>\n",
       "      <td>mesh-ancestor</td>\n",
       "    </tr>\n",
       "    <tr>\n",
       "      <th>2573557</th>\n",
       "      <td>8601073</td>\n",
       "      <td>NCT03213899</td>\n",
       "      <td>Pathologic Processes</td>\n",
       "      <td>pathologic processes</td>\n",
       "      <td>mesh-ancestor</td>\n",
       "    </tr>\n",
       "    <tr>\n",
       "      <th>2573558</th>\n",
       "      <td>8601074</td>\n",
       "      <td>NCT03214016</td>\n",
       "      <td>Hypertension</td>\n",
       "      <td>hypertension</td>\n",
       "      <td>mesh-list</td>\n",
       "    </tr>\n",
       "    <tr>\n",
       "      <th>2573559</th>\n",
       "      <td>8601075</td>\n",
       "      <td>NCT03214016</td>\n",
       "      <td>Vascular Diseases</td>\n",
       "      <td>vascular diseases</td>\n",
       "      <td>mesh-ancestor</td>\n",
       "    </tr>\n",
       "    <tr>\n",
       "      <th>2573560</th>\n",
       "      <td>8601076</td>\n",
       "      <td>NCT03214016</td>\n",
       "      <td>Cardiovascular Diseases</td>\n",
       "      <td>cardiovascular diseases</td>\n",
       "      <td>mesh-ancestor</td>\n",
       "    </tr>\n",
       "  </tbody>\n",
       "</table>\n",
       "<p>2573561 rows × 5 columns</p>\n",
       "</div>"
      ],
      "text/plain": [
       "         browsecon_id browsecon_nctid           browsecon_meshterm  \\\n",
       "0             9631397     NCT04035564                 Hyponatremia   \n",
       "1             9631398     NCT04035564  Water-Electrolyte Imbalance   \n",
       "2             9631399     NCT04035564           Metabolic Diseases   \n",
       "3             9631400     NCT04032652                      Colitis   \n",
       "4             9631401     NCT04032652          Colitis, Ulcerative   \n",
       "...               ...             ...                          ...   \n",
       "2573556       8601072     NCT03213899           Disease Attributes   \n",
       "2573557       8601073     NCT03213899         Pathologic Processes   \n",
       "2573558       8601074     NCT03214016                 Hypertension   \n",
       "2573559       8601075     NCT03214016            Vascular Diseases   \n",
       "2573560       8601076     NCT03214016      Cardiovascular Diseases   \n",
       "\n",
       "         browsecon_meshterm_downcase browsecon_meshtype  \n",
       "0                       hyponatremia          mesh-list  \n",
       "1        water-electrolyte imbalance      mesh-ancestor  \n",
       "2                 metabolic diseases      mesh-ancestor  \n",
       "3                            colitis          mesh-list  \n",
       "4                colitis, ulcerative          mesh-list  \n",
       "...                              ...                ...  \n",
       "2573556           disease attributes      mesh-ancestor  \n",
       "2573557         pathologic processes      mesh-ancestor  \n",
       "2573558                 hypertension          mesh-list  \n",
       "2573559            vascular diseases      mesh-ancestor  \n",
       "2573560      cardiovascular diseases      mesh-ancestor  \n",
       "\n",
       "[2573561 rows x 5 columns]"
      ]
     },
     "execution_count": 11,
     "metadata": {},
     "output_type": "execute_result"
    }
   ],
   "source": [
    "browse_conditions_df = browse_conditions_df.rename(columns={'id': 'browsecon_id',\n",
    "                                                            'nct_id': 'browsecon_nctid',\n",
    "                                                            'mesh_term': 'browsecon_meshterm',\n",
    "                                                            'downcase_mesh_term': 'browsecon_meshterm_downcase',\n",
    "                                                            'mesh_type': 'browsecon_meshtype'})\n",
    "browse_conditions_df"
   ]
  },
  {
   "cell_type": "code",
   "execution_count": 12,
   "metadata": {},
   "outputs": [],
   "source": [
    "browse_conditions_df = browse_conditions_df.drop(columns=['browsecon_id', 'browsecon_meshterm'])"
   ]
  },
  {
   "cell_type": "code",
   "execution_count": 13,
   "metadata": {},
   "outputs": [
    {
     "name": "stdout",
     "output_type": "stream",
     "text": [
      "350361\n",
      "95250\n",
      "4280\n",
      "3744\n"
     ]
    }
   ],
   "source": [
    "print(len(interventions_df['int_name'].unique()))\n",
    "print(len(conditions_df['con_downcase_name'].unique()))\n",
    "print(len(browse_conditions_df['browsecon_meshterm_downcase'].unique()))\n",
    "print(len(browse_interventions_df['browseint_meshterm_downcase'].unique()))"
   ]
  },
  {
   "cell_type": "code",
   "execution_count": null,
   "metadata": {},
   "outputs": [],
   "source": [
    "conditions_df\n"
   ]
  },
  {
   "cell_type": "code",
   "execution_count": 14,
   "metadata": {},
   "outputs": [],
   "source": [
    "df = pd.merge(conditions_df, interventions_df, left_on='con_nctid', right_on = 'int_nctid')"
   ]
  },
  {
   "cell_type": "code",
   "execution_count": null,
   "metadata": {},
   "outputs": [],
   "source": [
    "df.shape"
   ]
  },
  {
   "cell_type": "code",
   "execution_count": 15,
   "metadata": {},
   "outputs": [],
   "source": [
    "df_dedup = df.drop_duplicates(subset = ['con_downcase_name', 'int_name'],\n",
    "                                      keep = 'first').reset_index(drop = True)"
   ]
  },
  {
   "cell_type": "code",
   "execution_count": null,
   "metadata": {},
   "outputs": [],
   "source": [
    "df_dedup.shape"
   ]
  },
  {
   "cell_type": "code",
   "execution_count": null,
   "metadata": {},
   "outputs": [],
   "source": [
    "with pd.option_context('display.max_rows', None, 'display.max_columns', None):  # more options can be specified also\n",
    "    display(df_dedup.head(1000))"
   ]
  },
  {
   "cell_type": "code",
   "execution_count": null,
   "metadata": {},
   "outputs": [],
   "source": [
    "df_dedup[['con_downcase_name', 'int_name']].to_csv('ClinTrials_KG_edges.csv', sep ='\\t', index=False)\n"
   ]
  },
  {
   "cell_type": "markdown",
   "metadata": {},
   "source": [
    "# notes on creating edge file\n",
    "\n",
    "go to /proj/arivale/gglusman/KGs\n",
    "\n",
    "once there look into wellness/source/wellness_kg_edges_v1.6.tsv\n",
    "\n",
    "notice the first line: subject\tpredicate\tobject\trelation\tsubject_name\tobject_name\tcategory\tN\tType_of_relationship\tStrength_of_relationship\tqualifiers\tqualifier_value\tBonferroni_pval\n",
    "\n",
    "subject, predicate, object are required (maybe some others, don’t remember)\n",
    "\n",
    "…and they should be CURIEs\n",
    "\n",
    "once we map concepts to biolink, mesh etc we’ll have curies\n",
    "\n",
    "meanwhile, the content you have fits subject_name, object_name\n",
    "\n",
    "the predicate is what we made up… let’s say ‘evaluated_for’\n",
    "\n",
    "for short\n",
    "\n",
    "we’ll have to find a suitable biolink predicate, or suggest a new one\n",
    "\n",
    "so interventions would be subjects, and conditions would be objects\n",
    "\n",
    "looking at the several first lines in your file, I see some that make sense, others that seem to suggest there are data problems\n",
    "\n",
    "for example, “metastatic lung cancer\tPathways” -> Pathways doesn’t seem to be an intervention\n",
    "\n",
    "‘placebo’ we’ll have to suppress\n",
    "\n",
    "make sure to include the NCT id in a (non-required) column\n",
    "\n",
    "it’s essentially part of the provenance\n",
    "\n",
    "we’ll want to add multiple additional columns with things like FDA approval status, sample size, etc etc etc\n",
    "\n",
    "look also into EHR/source/ehr_risk_kg_edges_2021_05_07.tsv\n",
    "\n",
    "…and of course replace ‘edges’ -> ‘nodes’ for their cognate nodes files\n",
    "\n",
    "wellness/source/wellness_kg_edges_v1.6.tsv -> wellness/source/wellness_kg_nodes_v1.6.tsv\n",
    "\n",
    "drop \"control\"\n",
    "\n",
    "‘control’ is clear, ‘control group’ too… but ‘Control Ostomy Barrier’ is likely not a ‘control’\n"
   ]
  },
  {
   "cell_type": "markdown",
   "metadata": {},
   "source": [
    "# My own notes\n",
    "\n",
    "Use pool/multiprocess to make faster\n",
    "resolve multiple possible CURIEs per concept"
   ]
  },
  {
   "cell_type": "code",
   "execution_count": 16,
   "metadata": {},
   "outputs": [],
   "source": [
    "# first get only relevant columns from DB\n",
    "ct_extract = pd.DataFrame(df_dedup[['con_nctid', 'con_downcase_name', 'int_type', 'int_name']])\n",
    "ct_extract = ct_extract.rename(columns={'con_nctid': 'nctid'})\n",
    "# get CURIE column for nct_id column (https://bioregistry.io/registry/clinicaltrials)\n",
    "\n",
    "ct_extract['nctid_curie'] = ct_extract['nctid']\n",
    "ct_extract['nctid_curie'] = 'clinicaltrials:' + ct_extract['nctid'].astype(str)"
   ]
  },
  {
   "cell_type": "code",
   "execution_count": null,
   "metadata": {},
   "outputs": [],
   "source": [
    "ct_extract"
   ]
  },
  {
   "cell_type": "code",
   "execution_count": null,
   "metadata": {},
   "outputs": [],
   "source": [
    "# let's map all the conditions to BTE\n",
    "# NOTE: we are attempting to match to BTE terms, but many of the conditions terms are not standardized and are misspelled\n",
    "# First map as many terms as possible to BTE. Whatever is left over, will use other ontologies to create CURIEs\n"
   ]
  },
  {
   "cell_type": "code",
   "execution_count": null,
   "metadata": {},
   "outputs": [],
   "source": [
    "# recommedation to first format the output as close to sample as possible"
   ]
  },
  {
   "cell_type": "code",
   "execution_count": 17,
   "metadata": {},
   "outputs": [],
   "source": [
    "ct_extract = pd.DataFrame(columns=['subject','predicate','object','relation','subject_name','object_name','category'])"
   ]
  },
  {
   "cell_type": "code",
   "execution_count": 18,
   "metadata": {},
   "outputs": [],
   "source": [
    "# no_col_names_df.columns = col_names_df.columns\n",
    "# chosen predicate = \"related_to\", bc \"associated_with\" implies a statistical relationship \n",
    "final_df['subject'] = 'condition:' + ct_extract['con_downcase_name'].astype(str)\n",
    "final_df['predicate'] = 'biolink:related_to biolink:clinically_demonstrated_to biolink: hypothesized_to'\n",
    "final_df['object'] = 'intervention:' + ct_extract['int_name'].astype(str)   # this will not all be RxNorm CURIEs since some interventions are not drugs\n",
    "final_df['relation'] = 'RO:????'\n",
    "final_df.subject_name = ct_extract.con_downcase_name\n",
    "final_df.object_name = ct_extract.int_name\n",
    "final_df.category = 'biolink:Association'\n",
    "final_df['nctid'] = ct_extract['nctid']\n",
    "final_df['nctid_curie'] = ct_extract['nctid_curie']\n"
   ]
  },
  {
   "cell_type": "code",
   "execution_count": null,
   "metadata": {},
   "outputs": [],
   "source": [
    "ct_extract"
   ]
  },
  {
   "cell_type": "code",
   "execution_count": null,
   "metadata": {},
   "outputs": [],
   "source": [
    "psoriasis_zinc"
   ]
  },
  {
   "cell_type": "code",
   "execution_count": null,
   "metadata": {},
   "outputs": [],
   "source": [
    "ct_extract.to_csv('ClinTrials_KG_edges.csv', sep ='\\t', index=False)\n"
   ]
  },
  {
   "cell_type": "code",
   "execution_count": null,
   "metadata": {},
   "outputs": [],
   "source": [
    "# interventions will have to be mapped to more than 1 vocabulary unlike conditions, which seems more easily mapped to SNOMED\n",
    "# first look at the types of interventions (unique on int_type in ct_extract dataframe)"
   ]
  },
  {
   "cell_type": "code",
   "execution_count": 19,
   "metadata": {},
   "outputs": [],
   "source": [
    "# adding Folder_2/subfolder to the system path\n",
    "sys.path.insert(0, '/Volumes/TOSHIBA_EXT/ISB/clinical_trials/pymetamap-master')\n",
    "  \n",
    "from pymetamap import MetaMap\n",
    "\n",
    "# NOTE: YOU MUST START the SKR/Medpost Part-of-Speech Tagger Server and the Word Sense Disambiguation (WSD) Server IN TERMINAL\n",
    "\n",
    "# % ./bin/skrmedpostctl start\n",
    "# % ./bin/wsdserverctl start\n",
    "\n",
    "\n",
    "# stop these servers afterwards\n",
    "\n"
   ]
  },
  {
   "cell_type": "code",
   "execution_count": null,
   "metadata": {},
   "outputs": [],
   "source": [
    "import os\n",
    "\n",
    "# For pausing\n",
    "from time import sleep\n",
    "\n",
    "# Setup UMLS Server\n",
    "metamap_base_dir = '/gwshare/umls_2021/metamap/public_mm/'\n",
    "metamap_bin_dir = 'bin/metamap20'\n",
    "metamap_pos_server_dir = 'bin/skrmedpostctl'\n",
    "metamap_wsd_server_dir = 'bin/wsdserverctl'\n",
    "\n",
    "# Start servers\n",
    "os.system(metamap_base_dir + metamap_pos_server_dir + ' start') # Part of speech tagger\n",
    "os.system(metamap_base_dir + metamap_wsd_server_dir + ' start') # Word sense disambiguation \n",
    "\n",
    "# Sleep a bit to give time for these servers to start up\n",
    "sleep(60)\n"
   ]
  },
  {
   "cell_type": "code",
   "execution_count": 302,
   "metadata": {},
   "outputs": [
    {
     "name": "stdout",
     "output_type": "stream",
     "text": [
      "/Users/Kamileh/Work/ISB/NCATS_BiomedicalTranslator/Projects/ClinicalTrials/ETL_Python\n",
      "../../../../../../../../Volumes/TOSHIBA_EXT/ISB/clinical_trials/public_mm/bin\n"
     ]
    }
   ],
   "source": [
    "# get the directory of the the module\n",
    "print(os.getcwd())\n",
    "# Path\n",
    "path = \"/Volumes/TOSHIBA_EXT/ISB/clinical_trials/public_mm/bin\"  \n",
    "# Path of Start directory\n",
    "start = os.getcwd()\n",
    "print(os.path.relpath(\"/Volumes/TOSHIBA_EXT/ISB/clinical_trials/public_mm/bin\", os.getcwd()))"
   ]
  },
  {
   "cell_type": "code",
   "execution_count": 20,
   "metadata": {},
   "outputs": [],
   "source": [
    "mm = MetaMap.get_instance('/Volumes/TOSHIBA_EXT/ISB/clinical_trials/public_mm/bin/metamap18')"
   ]
  },
  {
   "cell_type": "code",
   "execution_count": 22,
   "metadata": {},
   "outputs": [
    {
     "name": "stdout",
     "output_type": "stream",
     "text": [
      "ConceptMMI(index='USER', mm='MMI', score='13.22', preferred_name='Myocardial Infarction', cui='C0027051', semtypes='[dsyn]', trigger='[\"Infarction, Myocardial\"-tx-1-\"myocardial infarction\"-noun-0]', location='TX', pos_info='4/21', tree_codes='C14.280.647.500;C14.907.585.500')\n",
      "\n",
      "\n",
      "ConceptMMI(index='USER', mm='MMI', score='3.75', preferred_name='Electrocardiogram: myocardial infarction (finding)', cui='C0428953', semtypes='[lbtr]', trigger='[\"MYOCARDIAL INFARCTION\"-tx-1-\"myocardial infarction\"-noun-0]', location='TX', pos_info='4/21', tree_codes='')\n",
      "\n",
      "\n",
      "ConceptMMI(index='USER', mm='MMI', score='3.75', preferred_name='Myocardial Infarction ECG Assessment', cui='C3810814', semtypes='[diap]', trigger='[\"Myocardial Infarction\"-tx-1-\"myocardial infarction\"-noun-0]', location='TX', pos_info='4/21', tree_codes='')\n",
      "\n",
      "\n",
      "ConceptMMI(index='USER', mm='MMI', score='3.75', preferred_name='Myocardial Infarction, CTCAE', cui='C4552959', semtypes='[fndg]', trigger='[\"Myocardial infarction\"-tx-1-\"myocardial infarction\"-noun-0]', location='TX', pos_info='4/21', tree_codes='')\n",
      "\n",
      "\n",
      "ConceptMMI(index='USER', mm='MMI', score='3.75', preferred_name='Myocardial infarction:Finding:Point in time:^Patient:Ordinal', cui='C2926063', semtypes='[clna]', trigger='[\"Myocardial infarction\"-tx-1-\"myocardial infarction\"-noun-0]', location='TX', pos_info='4/21', tree_codes='')\n",
      "\n",
      "\n"
     ]
    }
   ],
   "source": [
    "sents = ['myocardial infarction']  # this has to be 1 sentence\n",
    "concepts,error = mm.extract_concepts(sents)\n",
    "for concept in concepts:\n",
    "    print(concept)\n",
    "    print(\"\\n\")"
   ]
  },
  {
   "cell_type": "code",
   "execution_count": 82,
   "metadata": {},
   "outputs": [],
   "source": [
    "error"
   ]
  },
  {
   "cell_type": "code",
   "execution_count": null,
   "metadata": {},
   "outputs": [],
   "source": [
    "# check char encoding, is ascii??\n",
    "    \n",
    "for ct_string in final_df['subject_name'][:40]:\n",
    "#     print(type(ct_string))\n",
    "    print(ct_string.isascii())\n",
    "    "
   ]
  },
  {
   "cell_type": "code",
   "execution_count": 23,
   "metadata": {},
   "outputs": [],
   "source": [
    "diseases = list(set(list(ct_extract['subject_name'])))\n",
    "interventions = list(filter(None, ct_extract['object_name'].unique()))"
   ]
  },
  {
   "cell_type": "code",
   "execution_count": 81,
   "metadata": {},
   "outputs": [],
   "source": [
    "# remove non-ASCII char! MetaMap does not like non-ASCII...\n",
    "\n",
    "import re\n",
    "non_ascii = \"[^\\x00-\\x7F]\"\n",
    "pattern = re.compile(r\"[^\\x00-\\x7F]\")\n",
    "\n",
    "\n",
    "def custom_make_translation(text, translation):\n",
    "    non_ascii_text = re.sub(pattern, ' ', text)\n",
    "    return non_ascii_text\n",
    "\n",
    "\n",
    "text = \"split-virion, non-adjuvanted H1N1 vaccine of 15 μg\"\n",
    "translated = custom_make_translation(text, ascii_char_dict)"
   ]
  },
  {
   "cell_type": "code",
   "execution_count": 83,
   "metadata": {},
   "outputs": [],
   "source": [
    "import re\n",
    "\n",
    "non_ascii = \"[^\\x00-\\x7F]\"\n",
    "pattern = re.compile(r\"[^\\x00-\\x7F]\")\n",
    "\n",
    "def custom_make_translation(text):\n",
    "    non_ascii_text = re.sub(pattern, ' ', text)\n",
    "    return non_ascii_text\n",
    "\n",
    "\n",
    "text = \"split-virion, non-adjuvanted H1N1 vaccine of 15 μg\"\n",
    "translated = custom_make_translation(text)"
   ]
  },
  {
   "cell_type": "code",
   "execution_count": 84,
   "metadata": {},
   "outputs": [
    {
     "data": {
      "text/plain": [
       "'split-virion, non-adjuvanted H1N1 vaccine of 15  g'"
      ]
     },
     "execution_count": 84,
     "metadata": {},
     "output_type": "execute_result"
    }
   ],
   "source": [
    "translated\n"
   ]
  },
  {
   "cell_type": "code",
   "execution_count": 86,
   "metadata": {},
   "outputs": [],
   "source": [
    "diseases_translated = dict((i, custom_make_translation(i)) for i in diseases)\n",
    "interventions_translated = dict((i, custom_make_translation(i)) for i in interventions)"
   ]
  },
  {
   "cell_type": "code",
   "execution_count": 33,
   "metadata": {},
   "outputs": [],
   "source": [
    "# diseases_translated = dict((i, custom_make_translation(i)) for i in diseases[:20])\n",
    "# interventions_translated = dict((i, custom_make_translation(i)) for i in interventions[:20])"
   ]
  },
  {
   "cell_type": "code",
   "execution_count": 34,
   "metadata": {},
   "outputs": [
    {
     "data": {
      "text/plain": [
       "{'Early Start Denver Model': 'Early Start Denver Model',\n",
       " \"'as-usual' intervention\": \"'as-usual' intervention\",\n",
       " 'Assessment of human milk nutrient composition': 'Assessment of human milk nutrient composition',\n",
       " 'KP415 oral capsule': 'KP415 oral capsule',\n",
       " 'Euglycaemic Clamp': 'Euglycaemic Clamp',\n",
       " 'Hyperinsulinaemic/Hypoglycaemic Clamp': 'Hyperinsulinaemic/Hypoglycaemic Clamp',\n",
       " 'VX-659/TEZ/IVA': 'VX-659/TEZ/IVA',\n",
       " 'TEZ/IVA': 'TEZ/IVA',\n",
       " 'IVA': 'IVA',\n",
       " 'Placebo': 'Placebo',\n",
       " 'MT-6548': 'MT-6548',\n",
       " 'Onasemnogene Abeparvovec-xioi': 'Onasemnogene Abeparvovec-xioi',\n",
       " 'Rimegepant': 'Rimegepant',\n",
       " '3D printed model': '3D printed model',\n",
       " 'Verbal Counselling': 'Verbal Counselling',\n",
       " 'Asymmetric STN-DBS': 'Asymmetric STN-DBS',\n",
       " 'Methacetin Breath Test': 'Methacetin Breath Test',\n",
       " 'Emricasan': 'Emricasan',\n",
       " 'Placebo oral capsule': 'Placebo oral capsule',\n",
       " 'High fiber sugar free biscuit': 'High fiber sugar free biscuit'}"
      ]
     },
     "execution_count": 34,
     "metadata": {},
     "output_type": "execute_result"
    }
   ],
   "source": [
    "interventions_translated"
   ]
  },
  {
   "cell_type": "code",
   "execution_count": 173,
   "metadata": {},
   "outputs": [],
   "source": [
    "# def run_metamap(input_term, source_restriction):\n",
    "#     concepts_dict = dict()\n",
    "#     try:\n",
    "#         concepts,error = mm.extract_concepts(sentences = [input_term], restrict_to_sources = source_restriction)\n",
    "#         concepts_dict[input_term] = concepts\n",
    "#     except:\n",
    "#         concepts_dict[input_term] = None \n",
    "#     return(concepts_dict)"
   ]
  },
  {
   "cell_type": "code",
   "execution_count": 46,
   "metadata": {},
   "outputs": [],
   "source": [
    "def run_metamap_orig(input_term):\n",
    "    concepts_dict = dict()\n",
    "    try:\n",
    "        concepts,error = mm.extract_concepts(sentences = [input_term])\n",
    "        concepts_dict[input_term] = concepts\n",
    "    except:\n",
    "        concepts_dict[input_term] = None \n",
    "    return(concepts_dict)"
   ]
  },
  {
   "cell_type": "code",
   "execution_count": 87,
   "metadata": {},
   "outputs": [],
   "source": [
    "def run_metamap(input_term, source_restriction):\n",
    "    concepts_dict = dict()\n",
    "    if all(x is None for x in source_restriction):\n",
    "        try:\n",
    "            concepts,error = mm.extract_concepts([input_term],\n",
    "                                                 word_sense_disambiguation = True,\n",
    "                                                 prune = 10,\n",
    "                                                 composite_phrase = 1)\n",
    "            concepts_dict[input_term] = concepts\n",
    "        except:\n",
    "            concepts_dict[input_term] = None \n",
    "    else:\n",
    "        try:\n",
    "            concepts,error = mm.extract_concepts([input_term],\n",
    "                                                 word_sense_disambiguation = True,\n",
    "                                                 restrict_to_sources=source_restriction,\n",
    "                                                 prune = 10,\n",
    "                                                 composite_phrase = 1)\n",
    "            concepts_dict[input_term] = concepts\n",
    "        except:\n",
    "            concepts_dict[input_term] = None \n",
    "    return(concepts_dict)"
   ]
  },
  {
   "cell_type": "code",
   "execution_count": null,
   "metadata": {},
   "outputs": [],
   "source": [
    "import multiprocessing\n",
    "\n",
    "num_workers = multiprocessing.cpu_count()  \n",
    "\n",
    "# pool = multiprocessing.Pool(num_workers)\n",
    "# for task in tasks:\n",
    "#     pool.apply_async(func, args = (task,))\n",
    "\n",
    "# pool.close()\n",
    "# pool.join()"
   ]
  },
  {
   "cell_type": "code",
   "execution_count": 88,
   "metadata": {},
   "outputs": [],
   "source": [
    "number_of_processes = 4\n",
    "metamapped_diseases = multiprocessing.Pool(number_of_processes).starmap(run_metamap,\n",
    "                                                                        zip(list(diseases_translated.values()), [['SNOMEDCT_US', 'SNOMEDCT_VET', 'ICD10CM', 'ICD10CM', 'ICD10PCS', 'ICD9CM', 'ICD9CM']]*len(list(diseases_translated.values()))))\n",
    "metamapped_interventions = multiprocessing.Pool(number_of_processes).starmap(run_metamap, \n",
    "                                                                             zip(list(interventions_translated.values()),\n",
    "                                                                                 [[None]]*len(list(interventions_translated.values()))))\n",
    "                                                                             \n"
   ]
  },
  {
   "cell_type": "code",
   "execution_count": null,
   "metadata": {},
   "outputs": [],
   "source": [
    "started at 7:04 pm on June 7th"
   ]
  },
  {
   "cell_type": "code",
   "execution_count": 89,
   "metadata": {},
   "outputs": [
    {
     "ename": "AttributeError",
     "evalue": "module 'datetime' has no attribute 'now'",
     "output_type": "error",
     "traceback": [
      "\u001b[0;31m----------------------------------------------------------------------\u001b[0m",
      "\u001b[0;31mAttributeError\u001b[0m                       Traceback (most recent call last)",
      "\u001b[0;32m<ipython-input-89-906ef51dc044>\u001b[0m in \u001b[0;36m<module>\u001b[0;34m\u001b[0m\n\u001b[1;32m      1\u001b[0m \u001b[0;32mimport\u001b[0m \u001b[0mdatetime\u001b[0m\u001b[0;34m\u001b[0m\u001b[0;34m\u001b[0m\u001b[0m\n\u001b[1;32m      2\u001b[0m \u001b[0;34m\u001b[0m\u001b[0m\n\u001b[0;32m----> 3\u001b[0;31m \u001b[0mdt_string\u001b[0m \u001b[0;34m=\u001b[0m \u001b[0mdatetime\u001b[0m\u001b[0;34m.\u001b[0m\u001b[0mnow\u001b[0m\u001b[0;34m(\u001b[0m\u001b[0;34m)\u001b[0m\u001b[0;34m.\u001b[0m\u001b[0mstrftime\u001b[0m\u001b[0;34m(\u001b[0m\u001b[0;34m\"%d/%m/%Y %H:%M:%S\"\u001b[0m\u001b[0;34m)\u001b[0m\u001b[0;34m\u001b[0m\u001b[0;34m\u001b[0m\u001b[0m\n\u001b[0m\u001b[1;32m      4\u001b[0m \u001b[0mprint\u001b[0m\u001b[0;34m(\u001b[0m\u001b[0;34m\"date and time =\"\u001b[0m\u001b[0;34m,\u001b[0m \u001b[0mdt_string\u001b[0m\u001b[0;34m)\u001b[0m\u001b[0;34m\u001b[0m\u001b[0;34m\u001b[0m\u001b[0m\n",
      "\u001b[0;31mAttributeError\u001b[0m: module 'datetime' has no attribute 'now'"
     ]
    }
   ],
   "source": [
    "import datetime\n",
    "\n",
    "dt_string = datetime.now().strftime(\"%d/%m/%Y %H:%M:%S\")\n",
    "print(\"date and time =\", dt_string)\t"
   ]
  },
  {
   "cell_type": "code",
   "execution_count": null,
   "metadata": {},
   "outputs": [],
   "source": [
    "add prune threshold"
   ]
  },
  {
   "cell_type": "code",
   "execution_count": 69,
   "metadata": {},
   "outputs": [
    {
     "data": {
      "text/plain": [
       "[{'infertile high-risk patients with polycystic ovaries': [ConceptMMI(index='USER', mm='MMI', score='22.36', preferred_name='Polycystic Ovary Syndrome', cui='C0032460', semtypes='[dsyn]', trigger='[\"Polycystic ovary syndrome\"-tx-1-\"polycystic ovaries\"-noun-0]', location='TX', pos_info='38/18', tree_codes='C04.182.612.765;C13.351.500.056.630.580.765;C19.391.630.580.765'),\n",
       "   ConceptMMI(index='USER', mm='MMI', score='12.88', preferred_name='Infertility', cui='C0021359', semtypes='[patf]', trigger='[\"Infertility\"-tx-1-\"infertile\"-adj-0]', location='TX', pos_info='4/9', tree_codes='C12.294.365;C13.351.500.365'),\n",
       "   ConceptMMI(index='USER', mm='MMI', score='6.70', preferred_name='Patients', cui='C0030705', semtypes='[podg]', trigger='[\"Patient\"-tx-1-\"patients\"-noun-0]', location='TX', pos_info='24/8', tree_codes='M01.643'),\n",
       "   ConceptMMI(index='USER', mm='MMI', score='3.57', preferred_name='High risk', cui='C4319571', semtypes='[fndg]', trigger='[\"High risk\"-tx-1-\"high-risk\"-noun-0]', location='TX', pos_info='14/9', tree_codes=''),\n",
       "   ConceptMMI(index='USER', mm='MMI', score='3.57', preferred_name='High risk of', cui='C0332167', semtypes='[fndg]', trigger='[\"High risk of\"-tx-1-\"high-risk\"-noun-0]', location='TX', pos_info='14/9', tree_codes='')]},\n",
       " {'anaesthetic induction': [ConceptMMI(index='USER', mm='MMI', score='19.25', preferred_name='Anesthetics', cui='C0002932', semtypes='[phsu]', trigger='[\"Anesthetic, NOS\"-tx-1-\"anaesthetic\"-adj-0]', location='TX', pos_info='4/11', tree_codes='D27.505.696.277.100;D27.505.954.427.210.100'),\n",
       "   ConceptMMI(index='USER', mm='MMI', score='3.63', preferred_name='Induce (action)', cui='C0205263', semtypes='[ftcn]', trigger='[\"Induced\"-tx-1-\"induction\"-noun-0]', location='TX', pos_info='16/9', tree_codes='')]}]"
      ]
     },
     "execution_count": 69,
     "metadata": {},
     "output_type": "execute_result"
    }
   ],
   "source": [
    "metamapped_diseases[:2]"
   ]
  },
  {
   "cell_type": "code",
   "execution_count": 92,
   "metadata": {},
   "outputs": [],
   "source": [
    "# import pickle\n",
    "# import json\n",
    "\n",
    "# # write mapped diseases and interventions to pickle file\n",
    "# with open('metamapped_diseases.txt', 'wb') as file:\n",
    "#     pickle.dump(metamapped_diseases, file)\n",
    "# with open('metamapped_interventions.txt', 'wb') as file:\n",
    "#     pickle.dump(metamapped_interventions, file)\n",
    "\n",
    "# # write mapped diseases and interventions to human readable file\n",
    "# with open('readable_metamapped_diseases.txt', 'w') as file:\n",
    "#     file.write(json.dumps(metamapped_diseases, indent=4))\n",
    "# with open('readable_metamapped_interventions.txt', 'w') as file:\n",
    "#     file.write(json.dumps(metamapped_interventions, indent=4))"
   ]
  },
  {
   "cell_type": "code",
   "execution_count": 143,
   "metadata": {},
   "outputs": [],
   "source": [
    "with open('metamapped_diseases.txt', 'rb') as f:\n",
    "    metamapped_diseases = pickle.load(f)\n",
    "    \n",
    "with open('metamapped_interventions.txt', 'rb') as f:\n",
    "    metamapped_interventions = pickle.load(f)"
   ]
  },
  {
   "cell_type": "code",
   "execution_count": 122,
   "metadata": {},
   "outputs": [
    {
     "name": "stdout",
     "output_type": "stream",
     "text": [
      "{'infertile high-risk patients with polycystic ovaries': [ConceptMMI(index='USER', mm='MMI', score='22.36', preferred_name='Polycystic Ovary Syndrome', cui='C0032460', semtypes='[dsyn]', trigger='[\"Polycystic ovary syndrome\"-tx-1-\"polycystic ovaries\"-noun-0]', location='TX', pos_info='38/18', tree_codes='C04.182.612.765;C13.351.500.056.630.580.765;C19.391.630.580.765'), ConceptMMI(index='USER', mm='MMI', score='12.88', preferred_name='Infertility', cui='C0021359', semtypes='[patf]', trigger='[\"Infertility\"-tx-1-\"infertile\"-adj-0]', location='TX', pos_info='4/9', tree_codes='C12.294.365;C13.351.500.365'), ConceptMMI(index='USER', mm='MMI', score='6.70', preferred_name='Patients', cui='C0030705', semtypes='[podg]', trigger='[\"Patient\"-tx-1-\"patients\"-noun-0]', location='TX', pos_info='24/8', tree_codes='M01.643'), ConceptMMI(index='USER', mm='MMI', score='3.57', preferred_name='High risk', cui='C4319571', semtypes='[fndg]', trigger='[\"High risk\"-tx-1-\"high-risk\"-noun-0]', location='TX', pos_info='14/9', tree_codes=''), ConceptMMI(index='USER', mm='MMI', score='3.57', preferred_name='High risk of', cui='C0332167', semtypes='[fndg]', trigger='[\"High risk of\"-tx-1-\"high-risk\"-noun-0]', location='TX', pos_info='14/9', tree_codes='')]}\n",
      "\n",
      "\n",
      "Polycystic Ovary Syndrome\n",
      "Infertility\n",
      "Patients\n",
      "High risk\n",
      "High risk of\n",
      "{'anaesthetic induction': [ConceptMMI(index='USER', mm='MMI', score='19.25', preferred_name='Anesthetics', cui='C0002932', semtypes='[phsu]', trigger='[\"Anesthetic, NOS\"-tx-1-\"anaesthetic\"-adj-0]', location='TX', pos_info='4/11', tree_codes='D27.505.696.277.100;D27.505.954.427.210.100'), ConceptMMI(index='USER', mm='MMI', score='3.63', preferred_name='Induce (action)', cui='C0205263', semtypes='[ftcn]', trigger='[\"Induced\"-tx-1-\"induction\"-noun-0]', location='TX', pos_info='16/9', tree_codes='')]}\n",
      "\n",
      "\n",
      "Anesthetics\n",
      "Induce (action)\n"
     ]
    }
   ],
   "source": [
    "klist = ['preferred_name', 'cui', 'semtypes', 'pos_info']\n",
    "from collections import namedtuple\n",
    "\n",
    "for disease in metamapped_diseases[:2]:\n",
    "    print(disease)\n",
    "    print(\"\\n\")\n",
    "#     df = pd.DataFrame()\n",
    "#     df['input_disease'] = disease.keys()\n",
    "#     key = disease.keys()\n",
    "#     print(key)\n",
    "#     print(disease.get()\n",
    "    for key in disease:\n",
    "#         print(disease[key])\n",
    "        for concept in disease[key]:\n",
    "#             print(concept)\n",
    "#             test = { i : concept[i] for i in range(0, len(concept) ) }\n",
    "            concept = concept._asdict()\n",
    "            print(concept.get('preferred_name'))\n",
    "#             print(test)\n",
    "#             print(concept['preferred_name'])\n",
    "#             concept = namedtuple(concept[0])\n",
    "\n",
    "#             concept = collections.namedtuple(concept)\n",
    "#             print(type(concept))\n",
    "           \n",
    "#             for i in concept:\n",
    "#                 print(i)\n",
    "    \n",
    "#         conc_list = [conc_dict.get(kk) for kk in klist]\n",
    "#         conc_list = [disease.get(kk) for kk in klist]\n",
    "#         print(conc_list)\n",
    "        \n",
    "\n",
    "#     print(df)\n",
    "        \n"
   ]
  },
  {
   "cell_type": "code",
   "execution_count": 144,
   "metadata": {},
   "outputs": [],
   "source": [
    "\n",
    "from collections import namedtuple\n",
    "\n",
    "# with open(\"metamapped_diseases_qual_control.csv\", \"w\") as file:\n",
    "#     csv.excel.delimiter=','\n",
    "\n",
    "#     writer = csv.writer(file, dialect=csv.excel)\n",
    "#     writer.writerow(['input_disease', 'metamapped_disease_name', 'metamap_cui', 'metamap_score', 'metamap_semtypes'])\n",
    "#     for disease in metamapped_diseases:\n",
    "#         for key in disease:\n",
    "#             for concept in disease[key]:\n",
    "#                 concept = concept._asdict()\n",
    "#     #             concept.get('preferred_name')\n",
    "#                 row = [key]\n",
    "#                 row.extend([concept.get(k) for k in ['preferred_name', 'cui', 'score', 'semtypes']])\n",
    "#                 writer.writerow(row)\n",
    "\n",
    "with open(\"metamapped_interventions_qual_control.csv\", \"w\") as file:\n",
    "    csv.excel.delimiter=','\n",
    "    writer = csv.writer(file, dialect=csv.excel)\n",
    "    writer.writerow(['input_disease', 'metamapped_disease_name', 'metamap_cui', 'metamap_score', 'metamap_semtypes'])\n",
    "    for intervention in metamapped_interventions:\n",
    "        for key in intervention:\n",
    "            for concept in intervention[key]:\n",
    "                concept = concept._asdict()\n",
    "    #             concept.get('preferred_name')\n",
    "                row = [key]\n",
    "                row.extend([concept.get(k) for k in ['preferred_name', 'cui', 'score', 'semtypes']])\n",
    "                writer.writerow(row)\n",
    "               \n"
   ]
  },
  {
   "cell_type": "code",
   "execution_count": 25,
   "metadata": {},
   "outputs": [
    {
     "data": {
      "text/plain": [
       "[{'infertile high-risk patients with polycystic ovaries': [ConceptMMI(index='USER', mm='MMI', score='22.36', preferred_name='Polycystic Ovary Syndrome', cui='C0032460', semtypes='[dsyn]', trigger='[\"Polycystic ovary syndrome\"-tx-1-\"polycystic ovaries\"-noun-0]', location='TX', pos_info='38/18', tree_codes='C04.182.612.765;C13.351.500.056.630.580.765;C19.391.630.580.765'),\n",
       "   ConceptMMI(index='USER', mm='MMI', score='12.88', preferred_name='Infertility', cui='C0021359', semtypes='[patf]', trigger='[\"Infertility\"-tx-1-\"infertile\"-adj-0]', location='TX', pos_info='4/9', tree_codes='C12.294.365;C13.351.500.365'),\n",
       "   ConceptMMI(index='USER', mm='MMI', score='6.70', preferred_name='Patients', cui='C0030705', semtypes='[podg]', trigger='[\"Patient\"-tx-1-\"patients\"-noun-0]', location='TX', pos_info='24/8', tree_codes='M01.643'),\n",
       "   ConceptMMI(index='USER', mm='MMI', score='3.57', preferred_name='High risk', cui='C4319571', semtypes='[fndg]', trigger='[\"High risk\"-tx-1-\"high-risk\"-noun-0]', location='TX', pos_info='14/9', tree_codes=''),\n",
       "   ConceptMMI(index='USER', mm='MMI', score='3.57', preferred_name='High risk of', cui='C0332167', semtypes='[fndg]', trigger='[\"High risk of\"-tx-1-\"high-risk\"-noun-0]', location='TX', pos_info='14/9', tree_codes='')]},\n",
       " {'anaesthetic induction': [ConceptMMI(index='USER', mm='MMI', score='19.25', preferred_name='Anesthetics', cui='C0002932', semtypes='[phsu]', trigger='[\"Anesthetic, NOS\"-tx-1-\"anaesthetic\"-adj-0]', location='TX', pos_info='4/11', tree_codes='D27.505.696.277.100;D27.505.954.427.210.100'),\n",
       "   ConceptMMI(index='USER', mm='MMI', score='3.63', preferred_name='Induce (action)', cui='C0205263', semtypes='[ftcn]', trigger='[\"Induced\"-tx-1-\"induction\"-noun-0]', location='TX', pos_info='16/9', tree_codes='')]}]"
      ]
     },
     "execution_count": 25,
     "metadata": {},
     "output_type": "execute_result"
    }
   ],
   "source": [
    "from pyspark.sql import Row\n",
    "spark.createDataFrame(Row(**x) for x in mylist).show(truncate=False)"
   ]
  },
  {
   "cell_type": "code",
   "execution_count": 81,
   "metadata": {},
   "outputs": [
    {
     "ename": "ModuleNotFoundError",
     "evalue": "No module named 'pyspark'",
     "output_type": "error",
     "traceback": [
      "\u001b[0;31m----------------------------------------------------------------------\u001b[0m",
      "\u001b[0;31mModuleNotFoundError\u001b[0m                  Traceback (most recent call last)",
      "\u001b[0;32m<ipython-input-81-664c074b6e67>\u001b[0m in \u001b[0;36m<module>\u001b[0;34m\u001b[0m\n\u001b[0;32m----> 1\u001b[0;31m \u001b[0;32mimport\u001b[0m \u001b[0mpyspark\u001b[0m\u001b[0;34m\u001b[0m\u001b[0;34m\u001b[0m\u001b[0m\n\u001b[0m\u001b[1;32m      2\u001b[0m \u001b[0;31m# from pyspark.sql import Row\u001b[0m\u001b[0;34m\u001b[0m\u001b[0;34m\u001b[0m\u001b[0;34m\u001b[0m\u001b[0m\n\u001b[1;32m      3\u001b[0m \u001b[0;34m\u001b[0m\u001b[0m\n\u001b[1;32m      4\u001b[0m \u001b[0;31m# test = spark.createDataFrame(Row(**x) for x in metamapped_diseases[:20]).show(truncate=False)\u001b[0m\u001b[0;34m\u001b[0m\u001b[0;34m\u001b[0m\u001b[0;34m\u001b[0m\u001b[0m\n",
      "\u001b[0;31mModuleNotFoundError\u001b[0m: No module named 'pyspark'"
     ]
    }
   ],
   "source": [
    "import pyspark\n",
    "# from pyspark.sql import Row\n",
    "\n",
    "# test = spark.createDataFrame(Row(**x) for x in metamapped_diseases[:20]).show(truncate=False)"
   ]
  },
  {
   "cell_type": "code",
   "execution_count": 82,
   "metadata": {},
   "outputs": [
    {
     "ename": "Py4JJavaError",
     "evalue": "An error occurred while calling None.org.apache.spark.api.java.JavaSparkContext.\n: java.lang.IllegalAccessError: class org.apache.spark.storage.StorageUtils$ (in unnamed module @0x40f9161a) cannot access class sun.nio.ch.DirectBuffer (in module java.base) because module java.base does not export sun.nio.ch to unnamed module @0x40f9161a\n\tat org.apache.spark.storage.StorageUtils$.<init>(StorageUtils.scala:213)\n\tat org.apache.spark.storage.StorageUtils$.<clinit>(StorageUtils.scala)\n\tat org.apache.spark.storage.BlockManagerMasterEndpoint.<init>(BlockManagerMasterEndpoint.scala:110)\n\tat org.apache.spark.SparkEnv$.$anonfun$create$9(SparkEnv.scala:348)\n\tat org.apache.spark.SparkEnv$.registerOrLookupEndpoint$1(SparkEnv.scala:287)\n\tat org.apache.spark.SparkEnv$.create(SparkEnv.scala:336)\n\tat org.apache.spark.SparkEnv$.createDriverEnv(SparkEnv.scala:191)\n\tat org.apache.spark.SparkContext.createSparkEnv(SparkContext.scala:277)\n\tat org.apache.spark.SparkContext.<init>(SparkContext.scala:460)\n\tat org.apache.spark.api.java.JavaSparkContext.<init>(JavaSparkContext.scala:58)\n\tat java.base/jdk.internal.reflect.NativeConstructorAccessorImpl.newInstance0(Native Method)\n\tat java.base/jdk.internal.reflect.NativeConstructorAccessorImpl.newInstance(NativeConstructorAccessorImpl.java:78)\n\tat java.base/jdk.internal.reflect.DelegatingConstructorAccessorImpl.newInstance(DelegatingConstructorAccessorImpl.java:45)\n\tat java.base/java.lang.reflect.Constructor.newInstanceWithCaller(Constructor.java:499)\n\tat java.base/java.lang.reflect.Constructor.newInstance(Constructor.java:480)\n\tat py4j.reflection.MethodInvoker.invoke(MethodInvoker.java:247)\n\tat py4j.reflection.ReflectionEngine.invoke(ReflectionEngine.java:357)\n\tat py4j.Gateway.invoke(Gateway.java:238)\n\tat py4j.commands.ConstructorCommand.invokeConstructor(ConstructorCommand.java:80)\n\tat py4j.commands.ConstructorCommand.execute(ConstructorCommand.java:69)\n\tat py4j.ClientServerConnection.waitForCommands(ClientServerConnection.java:182)\n\tat py4j.ClientServerConnection.run(ClientServerConnection.java:106)\n\tat java.base/java.lang.Thread.run(Thread.java:831)\n",
     "output_type": "error",
     "traceback": [
      "\u001b[0;31m----------------------------------------------------------------------\u001b[0m",
      "\u001b[0;31mPy4JJavaError\u001b[0m                        Traceback (most recent call last)",
      "\u001b[0;32m<ipython-input-82-3ed0714a2698>\u001b[0m in \u001b[0;36m<module>\u001b[0;34m\u001b[0m\n\u001b[1;32m      4\u001b[0m \u001b[0;32mimport\u001b[0m \u001b[0mpyspark\u001b[0m\u001b[0;34m\u001b[0m\u001b[0;34m\u001b[0m\u001b[0m\n\u001b[1;32m      5\u001b[0m \u001b[0;32mfrom\u001b[0m \u001b[0mpyspark\u001b[0m\u001b[0;34m.\u001b[0m\u001b[0msql\u001b[0m \u001b[0;32mimport\u001b[0m \u001b[0mSparkSession\u001b[0m\u001b[0;34m\u001b[0m\u001b[0;34m\u001b[0m\u001b[0m\n\u001b[0;32m----> 6\u001b[0;31m \u001b[0mspark\u001b[0m \u001b[0;34m=\u001b[0m \u001b[0mSparkSession\u001b[0m\u001b[0;34m.\u001b[0m\u001b[0mbuilder\u001b[0m\u001b[0;34m.\u001b[0m\u001b[0mmaster\u001b[0m\u001b[0;34m(\u001b[0m\u001b[0;34m\"local[1]\"\u001b[0m\u001b[0;34m)\u001b[0m\u001b[0;34m.\u001b[0m\u001b[0mappName\u001b[0m\u001b[0;34m(\u001b[0m\u001b[0;34m\"SparkByExamples.com\"\u001b[0m\u001b[0;34m)\u001b[0m\u001b[0;34m.\u001b[0m\u001b[0mgetOrCreate\u001b[0m\u001b[0;34m(\u001b[0m\u001b[0;34m)\u001b[0m\u001b[0;34m\u001b[0m\u001b[0;34m\u001b[0m\u001b[0m\n\u001b[0m",
      "\u001b[0;32m/usr/local/opt/apache-spark/libexec/python/pyspark/sql/session.py\u001b[0m in \u001b[0;36mgetOrCreate\u001b[0;34m(self)\u001b[0m\n\u001b[1;32m    226\u001b[0m                             \u001b[0msparkConf\u001b[0m\u001b[0;34m.\u001b[0m\u001b[0mset\u001b[0m\u001b[0;34m(\u001b[0m\u001b[0mkey\u001b[0m\u001b[0;34m,\u001b[0m \u001b[0mvalue\u001b[0m\u001b[0;34m)\u001b[0m\u001b[0;34m\u001b[0m\u001b[0;34m\u001b[0m\u001b[0m\n\u001b[1;32m    227\u001b[0m                         \u001b[0;31m# This SparkContext may be an existing one.\u001b[0m\u001b[0;34m\u001b[0m\u001b[0;34m\u001b[0m\u001b[0;34m\u001b[0m\u001b[0m\n\u001b[0;32m--> 228\u001b[0;31m                         \u001b[0msc\u001b[0m \u001b[0;34m=\u001b[0m \u001b[0mSparkContext\u001b[0m\u001b[0;34m.\u001b[0m\u001b[0mgetOrCreate\u001b[0m\u001b[0;34m(\u001b[0m\u001b[0msparkConf\u001b[0m\u001b[0;34m)\u001b[0m\u001b[0;34m\u001b[0m\u001b[0;34m\u001b[0m\u001b[0m\n\u001b[0m\u001b[1;32m    229\u001b[0m                     \u001b[0;31m# Do not update `SparkConf` for existing `SparkContext`, as it's shared\u001b[0m\u001b[0;34m\u001b[0m\u001b[0;34m\u001b[0m\u001b[0;34m\u001b[0m\u001b[0m\n\u001b[1;32m    230\u001b[0m                     \u001b[0;31m# by all sessions.\u001b[0m\u001b[0;34m\u001b[0m\u001b[0;34m\u001b[0m\u001b[0;34m\u001b[0m\u001b[0m\n",
      "\u001b[0;32m/usr/local/opt/apache-spark/libexec/python/pyspark/context.py\u001b[0m in \u001b[0;36mgetOrCreate\u001b[0;34m(cls, conf)\u001b[0m\n\u001b[1;32m    390\u001b[0m         \u001b[0;32mwith\u001b[0m \u001b[0mSparkContext\u001b[0m\u001b[0;34m.\u001b[0m\u001b[0m_lock\u001b[0m\u001b[0;34m:\u001b[0m\u001b[0;34m\u001b[0m\u001b[0;34m\u001b[0m\u001b[0m\n\u001b[1;32m    391\u001b[0m             \u001b[0;32mif\u001b[0m \u001b[0mSparkContext\u001b[0m\u001b[0;34m.\u001b[0m\u001b[0m_active_spark_context\u001b[0m \u001b[0;32mis\u001b[0m \u001b[0;32mNone\u001b[0m\u001b[0;34m:\u001b[0m\u001b[0;34m\u001b[0m\u001b[0;34m\u001b[0m\u001b[0m\n\u001b[0;32m--> 392\u001b[0;31m                 \u001b[0mSparkContext\u001b[0m\u001b[0;34m(\u001b[0m\u001b[0mconf\u001b[0m\u001b[0;34m=\u001b[0m\u001b[0mconf\u001b[0m \u001b[0;32mor\u001b[0m \u001b[0mSparkConf\u001b[0m\u001b[0;34m(\u001b[0m\u001b[0;34m)\u001b[0m\u001b[0;34m)\u001b[0m\u001b[0;34m\u001b[0m\u001b[0;34m\u001b[0m\u001b[0m\n\u001b[0m\u001b[1;32m    393\u001b[0m             \u001b[0;32mreturn\u001b[0m \u001b[0mSparkContext\u001b[0m\u001b[0;34m.\u001b[0m\u001b[0m_active_spark_context\u001b[0m\u001b[0;34m\u001b[0m\u001b[0;34m\u001b[0m\u001b[0m\n\u001b[1;32m    394\u001b[0m \u001b[0;34m\u001b[0m\u001b[0m\n",
      "\u001b[0;32m/usr/local/opt/apache-spark/libexec/python/pyspark/context.py\u001b[0m in \u001b[0;36m__init__\u001b[0;34m(self, master, appName, sparkHome, pyFiles, environment, batchSize, serializer, conf, gateway, jsc, profiler_cls)\u001b[0m\n\u001b[1;32m    145\u001b[0m         \u001b[0;32mtry\u001b[0m\u001b[0;34m:\u001b[0m\u001b[0;34m\u001b[0m\u001b[0;34m\u001b[0m\u001b[0m\n\u001b[1;32m    146\u001b[0m             self._do_init(master, appName, sparkHome, pyFiles, environment, batchSize, serializer,\n\u001b[0;32m--> 147\u001b[0;31m                           conf, jsc, profiler_cls)\n\u001b[0m\u001b[1;32m    148\u001b[0m         \u001b[0;32mexcept\u001b[0m\u001b[0;34m:\u001b[0m\u001b[0;34m\u001b[0m\u001b[0;34m\u001b[0m\u001b[0m\n\u001b[1;32m    149\u001b[0m             \u001b[0;31m# If an error occurs, clean up in order to allow future SparkContext creation:\u001b[0m\u001b[0;34m\u001b[0m\u001b[0;34m\u001b[0m\u001b[0;34m\u001b[0m\u001b[0m\n",
      "\u001b[0;32m/usr/local/opt/apache-spark/libexec/python/pyspark/context.py\u001b[0m in \u001b[0;36m_do_init\u001b[0;34m(self, master, appName, sparkHome, pyFiles, environment, batchSize, serializer, conf, jsc, profiler_cls)\u001b[0m\n\u001b[1;32m    207\u001b[0m \u001b[0;34m\u001b[0m\u001b[0m\n\u001b[1;32m    208\u001b[0m         \u001b[0;31m# Create the Java SparkContext through Py4J\u001b[0m\u001b[0;34m\u001b[0m\u001b[0;34m\u001b[0m\u001b[0;34m\u001b[0m\u001b[0m\n\u001b[0;32m--> 209\u001b[0;31m         \u001b[0mself\u001b[0m\u001b[0;34m.\u001b[0m\u001b[0m_jsc\u001b[0m \u001b[0;34m=\u001b[0m \u001b[0mjsc\u001b[0m \u001b[0;32mor\u001b[0m \u001b[0mself\u001b[0m\u001b[0;34m.\u001b[0m\u001b[0m_initialize_context\u001b[0m\u001b[0;34m(\u001b[0m\u001b[0mself\u001b[0m\u001b[0;34m.\u001b[0m\u001b[0m_conf\u001b[0m\u001b[0;34m.\u001b[0m\u001b[0m_jconf\u001b[0m\u001b[0;34m)\u001b[0m\u001b[0;34m\u001b[0m\u001b[0;34m\u001b[0m\u001b[0m\n\u001b[0m\u001b[1;32m    210\u001b[0m         \u001b[0;31m# Reset the SparkConf to the one actually used by the SparkContext in JVM.\u001b[0m\u001b[0;34m\u001b[0m\u001b[0;34m\u001b[0m\u001b[0;34m\u001b[0m\u001b[0m\n\u001b[1;32m    211\u001b[0m         \u001b[0mself\u001b[0m\u001b[0;34m.\u001b[0m\u001b[0m_conf\u001b[0m \u001b[0;34m=\u001b[0m \u001b[0mSparkConf\u001b[0m\u001b[0;34m(\u001b[0m\u001b[0m_jconf\u001b[0m\u001b[0;34m=\u001b[0m\u001b[0mself\u001b[0m\u001b[0;34m.\u001b[0m\u001b[0m_jsc\u001b[0m\u001b[0;34m.\u001b[0m\u001b[0msc\u001b[0m\u001b[0;34m(\u001b[0m\u001b[0;34m)\u001b[0m\u001b[0;34m.\u001b[0m\u001b[0mconf\u001b[0m\u001b[0;34m(\u001b[0m\u001b[0;34m)\u001b[0m\u001b[0;34m)\u001b[0m\u001b[0;34m\u001b[0m\u001b[0;34m\u001b[0m\u001b[0m\n",
      "\u001b[0;32m/usr/local/opt/apache-spark/libexec/python/pyspark/context.py\u001b[0m in \u001b[0;36m_initialize_context\u001b[0;34m(self, jconf)\u001b[0m\n\u001b[1;32m    327\u001b[0m         \u001b[0mInitialize\u001b[0m \u001b[0mSparkContext\u001b[0m \u001b[0;32min\u001b[0m \u001b[0mfunction\u001b[0m \u001b[0mto\u001b[0m \u001b[0mallow\u001b[0m \u001b[0msubclass\u001b[0m \u001b[0mspecific\u001b[0m \u001b[0minitialization\u001b[0m\u001b[0;34m\u001b[0m\u001b[0;34m\u001b[0m\u001b[0m\n\u001b[1;32m    328\u001b[0m         \"\"\"\n\u001b[0;32m--> 329\u001b[0;31m         \u001b[0;32mreturn\u001b[0m \u001b[0mself\u001b[0m\u001b[0;34m.\u001b[0m\u001b[0m_jvm\u001b[0m\u001b[0;34m.\u001b[0m\u001b[0mJavaSparkContext\u001b[0m\u001b[0;34m(\u001b[0m\u001b[0mjconf\u001b[0m\u001b[0;34m)\u001b[0m\u001b[0;34m\u001b[0m\u001b[0;34m\u001b[0m\u001b[0m\n\u001b[0m\u001b[1;32m    330\u001b[0m \u001b[0;34m\u001b[0m\u001b[0m\n\u001b[1;32m    331\u001b[0m     \u001b[0;34m@\u001b[0m\u001b[0mclassmethod\u001b[0m\u001b[0;34m\u001b[0m\u001b[0;34m\u001b[0m\u001b[0m\n",
      "\u001b[0;32m/usr/local/opt/apache-spark/libexec/python/lib/py4j-0.10.9.3-src.zip/py4j/java_gateway.py\u001b[0m in \u001b[0;36m__call__\u001b[0;34m(self, *args)\u001b[0m\n\u001b[1;32m   1584\u001b[0m         \u001b[0manswer\u001b[0m \u001b[0;34m=\u001b[0m \u001b[0mself\u001b[0m\u001b[0;34m.\u001b[0m\u001b[0m_gateway_client\u001b[0m\u001b[0;34m.\u001b[0m\u001b[0msend_command\u001b[0m\u001b[0;34m(\u001b[0m\u001b[0mcommand\u001b[0m\u001b[0;34m)\u001b[0m\u001b[0;34m\u001b[0m\u001b[0;34m\u001b[0m\u001b[0m\n\u001b[1;32m   1585\u001b[0m         return_value = get_return_value(\n\u001b[0;32m-> 1586\u001b[0;31m             answer, self._gateway_client, None, self._fqn)\n\u001b[0m\u001b[1;32m   1587\u001b[0m \u001b[0;34m\u001b[0m\u001b[0m\n\u001b[1;32m   1588\u001b[0m         \u001b[0;32mfor\u001b[0m \u001b[0mtemp_arg\u001b[0m \u001b[0;32min\u001b[0m \u001b[0mtemp_args\u001b[0m\u001b[0;34m:\u001b[0m\u001b[0;34m\u001b[0m\u001b[0;34m\u001b[0m\u001b[0m\n",
      "\u001b[0;32m/usr/local/opt/apache-spark/libexec/python/lib/py4j-0.10.9.3-src.zip/py4j/protocol.py\u001b[0m in \u001b[0;36mget_return_value\u001b[0;34m(answer, gateway_client, target_id, name)\u001b[0m\n\u001b[1;32m    326\u001b[0m                 raise Py4JJavaError(\n\u001b[1;32m    327\u001b[0m                     \u001b[0;34m\"An error occurred while calling {0}{1}{2}.\\n\"\u001b[0m\u001b[0;34m.\u001b[0m\u001b[0;34m\u001b[0m\u001b[0;34m\u001b[0m\u001b[0m\n\u001b[0;32m--> 328\u001b[0;31m                     format(target_id, \".\", name), value)\n\u001b[0m\u001b[1;32m    329\u001b[0m             \u001b[0;32melse\u001b[0m\u001b[0;34m:\u001b[0m\u001b[0;34m\u001b[0m\u001b[0;34m\u001b[0m\u001b[0m\n\u001b[1;32m    330\u001b[0m                 raise Py4JError(\n",
      "\u001b[0;31mPy4JJavaError\u001b[0m: An error occurred while calling None.org.apache.spark.api.java.JavaSparkContext.\n: java.lang.IllegalAccessError: class org.apache.spark.storage.StorageUtils$ (in unnamed module @0x40f9161a) cannot access class sun.nio.ch.DirectBuffer (in module java.base) because module java.base does not export sun.nio.ch to unnamed module @0x40f9161a\n\tat org.apache.spark.storage.StorageUtils$.<init>(StorageUtils.scala:213)\n\tat org.apache.spark.storage.StorageUtils$.<clinit>(StorageUtils.scala)\n\tat org.apache.spark.storage.BlockManagerMasterEndpoint.<init>(BlockManagerMasterEndpoint.scala:110)\n\tat org.apache.spark.SparkEnv$.$anonfun$create$9(SparkEnv.scala:348)\n\tat org.apache.spark.SparkEnv$.registerOrLookupEndpoint$1(SparkEnv.scala:287)\n\tat org.apache.spark.SparkEnv$.create(SparkEnv.scala:336)\n\tat org.apache.spark.SparkEnv$.createDriverEnv(SparkEnv.scala:191)\n\tat org.apache.spark.SparkContext.createSparkEnv(SparkContext.scala:277)\n\tat org.apache.spark.SparkContext.<init>(SparkContext.scala:460)\n\tat org.apache.spark.api.java.JavaSparkContext.<init>(JavaSparkContext.scala:58)\n\tat java.base/jdk.internal.reflect.NativeConstructorAccessorImpl.newInstance0(Native Method)\n\tat java.base/jdk.internal.reflect.NativeConstructorAccessorImpl.newInstance(NativeConstructorAccessorImpl.java:78)\n\tat java.base/jdk.internal.reflect.DelegatingConstructorAccessorImpl.newInstance(DelegatingConstructorAccessorImpl.java:45)\n\tat java.base/java.lang.reflect.Constructor.newInstanceWithCaller(Constructor.java:499)\n\tat java.base/java.lang.reflect.Constructor.newInstance(Constructor.java:480)\n\tat py4j.reflection.MethodInvoker.invoke(MethodInvoker.java:247)\n\tat py4j.reflection.ReflectionEngine.invoke(ReflectionEngine.java:357)\n\tat py4j.Gateway.invoke(Gateway.java:238)\n\tat py4j.commands.ConstructorCommand.invokeConstructor(ConstructorCommand.java:80)\n\tat py4j.commands.ConstructorCommand.execute(ConstructorCommand.java:69)\n\tat py4j.ClientServerConnection.waitForCommands(ClientServerConnection.java:182)\n\tat py4j.ClientServerConnection.run(ClientServerConnection.java:106)\n\tat java.base/java.lang.Thread.run(Thread.java:831)\n"
     ]
    }
   ],
   "source": [
    "import findspark\n",
    "findspark.init()\n",
    "\n",
    "import pyspark\n",
    "from pyspark.sql import SparkSession\n",
    "spark = SparkSession.builder.master(\"local[1]\").appName(\"SparkByExamples.com\").getOrCreate()\n"
   ]
  },
  {
   "cell_type": "code",
   "execution_count": null,
   "metadata": {},
   "outputs": [],
   "source": []
  },
  {
   "cell_type": "code",
   "execution_count": null,
   "metadata": {},
   "outputs": [],
   "source": [
    "# link nct ids of studies that have the same disease and intervention pair---multiple studies may have studies the same intervention\n",
    "# restrict returned CUIs of metamapped concepts???"
   ]
  },
  {
   "cell_type": "code",
   "execution_count": null,
   "metadata": {},
   "outputs": [],
   "source": []
  },
  {
   "cell_type": "code",
   "execution_count": null,
   "metadata": {},
   "outputs": [],
   "source": []
  },
  {
   "cell_type": "code",
   "execution_count": null,
   "metadata": {},
   "outputs": [],
   "source": [
    "pd.set_option('display.max_rows', None)\n",
    "pd.set_option('display.max_columns', None)\n",
    "pd.set_option('display.width', None)\n",
    "pd.set_option('display.max_colwidth', None)\n",
    "mapped"
   ]
  },
  {
   "cell_type": "code",
   "execution_count": null,
   "metadata": {},
   "outputs": [],
   "source": []
  },
  {
   "cell_type": "code",
   "execution_count": null,
   "metadata": {},
   "outputs": [],
   "source": []
  },
  {
   "cell_type": "code",
   "execution_count": null,
   "metadata": {},
   "outputs": [],
   "source": []
  },
  {
   "cell_type": "code",
   "execution_count": null,
   "metadata": {},
   "outputs": [],
   "source": []
  },
  {
   "cell_type": "code",
   "execution_count": null,
   "metadata": {},
   "outputs": [],
   "source": []
  },
  {
   "cell_type": "code",
   "execution_count": null,
   "metadata": {},
   "outputs": [],
   "source": []
  },
  {
   "cell_type": "code",
   "execution_count": null,
   "metadata": {},
   "outputs": [],
   "source": []
  },
  {
   "cell_type": "code",
   "execution_count": null,
   "metadata": {},
   "outputs": [],
   "source": []
  },
  {
   "cell_type": "code",
   "execution_count": null,
   "metadata": {},
   "outputs": [],
   "source": []
  },
  {
   "cell_type": "code",
   "execution_count": null,
   "metadata": {},
   "outputs": [],
   "source": []
  },
  {
   "cell_type": "code",
   "execution_count": null,
   "metadata": {},
   "outputs": [],
   "source": []
  },
  {
   "cell_type": "code",
   "execution_count": null,
   "metadata": {},
   "outputs": [],
   "source": []
  },
  {
   "cell_type": "code",
   "execution_count": null,
   "metadata": {},
   "outputs": [],
   "source": []
  },
  {
   "cell_type": "code",
   "execution_count": null,
   "metadata": {},
   "outputs": [],
   "source": []
  },
  {
   "cell_type": "code",
   "execution_count": null,
   "metadata": {},
   "outputs": [],
   "source": []
  }
 ],
 "metadata": {
  "kernelspec": {
   "display_name": "Python 3",
   "language": "python",
   "name": "python3"
  },
  "language_info": {
   "codemirror_mode": {
    "name": "ipython",
    "version": 3
   },
   "file_extension": ".py",
   "mimetype": "text/x-python",
   "name": "python",
   "nbconvert_exporter": "python",
   "pygments_lexer": "ipython3",
   "version": "3.7.6"
  }
 },
 "nbformat": 4,
 "nbformat_minor": 4
}
