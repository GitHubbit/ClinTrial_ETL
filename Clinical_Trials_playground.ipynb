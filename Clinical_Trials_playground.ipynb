{
 "cells": [
  {
   "cell_type": "code",
   "execution_count": null,
   "metadata": {},
   "outputs": [],
   "source": [
    "# %%capture\n",
    "# !pip install git+https://github.com/biothings/biothings_explorer#egg=biothings_explorer"
   ]
  },
  {
   "cell_type": "code",
   "execution_count": 1,
   "metadata": {},
   "outputs": [],
   "source": [
    "import os\n",
    "import requests\n",
    "from urllib.request import urlopen\n",
    "from bs4 import BeautifulSoup\n",
    "from datetime import date\n",
    "import datetime as dt\n",
    "import pandas as pd\n",
    "import sys\n",
    "import csv\n",
    "import numpy as np\n",
    "import multiprocessing"
   ]
  },
  {
   "cell_type": "code",
   "execution_count": 2,
   "metadata": {},
   "outputs": [],
   "source": [
    "import psycopg2\n",
    "import pandas.io.sql as sqlio\n",
    "# from tabulate import tabulate"
   ]
  },
  {
   "cell_type": "code",
   "execution_count": 3,
   "metadata": {},
   "outputs": [],
   "source": [
    "import json\n",
    "import argparse\n",
    "import lxml\n",
    "import config\n",
    "\n",
    "# from Authentication import *\n",
    "import requests\n",
    "import json\n",
    "from requests.adapters import HTTPAdapter\n",
    "from requests.packages.urllib3.util.retry import Retry\n"
   ]
  },
  {
   "cell_type": "code",
   "execution_count": null,
   "metadata": {},
   "outputs": [],
   "source": [
    "url = \"https://aact.ctti-clinicaltrials.org/pipe_files\"\n",
    "response = requests.get(url)"
   ]
  },
  {
   "cell_type": "code",
   "execution_count": null,
   "metadata": {},
   "outputs": [],
   "source": [
    "from bs4 import BeautifulSoup\n",
    "soup = BeautifulSoup(response.text)\n",
    "# print(soup.prettify())"
   ]
  },
  {
   "cell_type": "code",
   "execution_count": null,
   "metadata": {},
   "outputs": [],
   "source": [
    "\n",
    "# https://aact.ctti-clinicaltrials.org/static/exported_files/monthly/20220301_pipe-delimited-export.zip\n",
    "# https://aact.ctti-clinicaltrials.org/static/exported_files/monthly/20220801_pipe-delimited-export.zip\n",
    "upload_dates = []\n",
    "zip_files = []\n",
    "links = []\n",
    "body = soup.find_all('td', attrs={'class': 'file-archive'}) #Find all\n",
    "for el in body:\n",
    "    tags = el.find('a')\n",
    "    try:\n",
    "        if 'href' in tags.attrs:   # looking for href inside anchor tag    \n",
    "            link = \"https://aact.ctti-clinicaltrials.org\" + tags.get('href')\n",
    "            links.append(link)\n",
    "            last_upload = link.split(\"/\")[-1]\n",
    "            zip_files.append(last_upload)\n",
    "            date_upload = last_upload.split(\"_\")[0]\n",
    "            upload_dates.append(date_upload)    # appending link to list of links\n",
    "    except:    # pass if list missing anchor tag or anchor tag does not has a href params \n",
    "        pass\n",
    "    \n",
    "print(upload_dates)\n",
    "\n",
    "upload_dates = [dt.datetime.strptime(date, '%Y%m%d').date() for date in upload_dates] # convert all strings in list into datetime objects\n"
   ]
  },
  {
   "cell_type": "code",
   "execution_count": null,
   "metadata": {},
   "outputs": [],
   "source": [
    "most_recent_date = max(upload_dates)\n",
    "# print(most_recent_date)\n",
    "\n",
    "today = dt.date.today()\n",
    "\n",
    "# UNCOMMENT LINE BELOW WHEN IN PRODUCTION, THIS IS FOR TESTING PURPOSES\n",
    "most_recent_date = min(upload_dates)\n",
    "\n",
    "# fix this to run entire script should the current date be \n",
    "if most_recent_date < today:\n",
    "#     date_file_df = pd.DataFrame(list(zip(upload_dates, zip_files, links)))\n",
    "#     print(links[0])\n",
    "    resp = urlopen(links[0])\n",
    "else:\n",
    "    print(\"Local instance of clinical trials data is already up to date.\")\n",
    "\n"
   ]
  },
  {
   "cell_type": "code",
   "execution_count": null,
   "metadata": {},
   "outputs": [],
   "source": [
    "pd.set_option('display.max_colwidth', 3000)\n",
    "# date_file_df[2]"
   ]
  },
  {
   "cell_type": "code",
   "execution_count": null,
   "metadata": {},
   "outputs": [],
   "source": [
    "os.getcwd()\n"
   ]
  },
  {
   "cell_type": "code",
   "execution_count": 4,
   "metadata": {},
   "outputs": [],
   "source": [
    "# connect to DB and get the column names of the table\n",
    "con = None\n",
    "con = psycopg2.connect(database=\"aact\")\n",
    "con.rollback()\n",
    "cursor = con.cursor()\n",
    "\n",
    "con.autocommit = True # SQL statement is treated as a transaction and is automatically committed right after it is executed\n",
    "# grab the conditions\n",
    "sql = '''SELECT * FROM ctgov.conditions;'''\n",
    "cursor.execute(sql)\n",
    "column_names = [desc[0] for desc in cursor.description]\n",
    "tuples = cursor.fetchall()\n",
    "conditions_df = pd.DataFrame(tuples, columns=column_names)\n",
    "\n",
    "#grab the browse_conditions\n",
    "sql = '''SELECT * FROM ctgov.browse_conditions;'''\n",
    "cursor.execute(sql)\n",
    "column_names = [desc[0] for desc in cursor.description]\n",
    "tuples = cursor.fetchall()\n",
    "browse_conditions_df = pd.DataFrame(tuples, columns=column_names)\n",
    "\n",
    "#grab the interventions\n",
    "sql = '''SELECT * FROM ctgov.interventions;'''\n",
    "cursor.execute(sql)\n",
    "column_names = [desc[0] for desc in cursor.description]\n",
    "tuples = cursor.fetchall()\n",
    "interventions_df = pd.DataFrame(tuples, columns=column_names)\n",
    "\n",
    "#grab the browse_interventions\n",
    "sql = '''SELECT * FROM ctgov.browse_interventions;'''\n",
    "cursor.execute(sql)\n",
    "column_names = [desc[0] for desc in cursor.description]\n",
    "tuples = cursor.fetchall()\n",
    "browse_interventions_df = pd.DataFrame(tuples, columns=column_names)\n",
    "\n",
    "con.close()\n"
   ]
  },
  {
   "cell_type": "code",
   "execution_count": 5,
   "metadata": {},
   "outputs": [
    {
     "data": {
      "text/html": [
       "<div>\n",
       "<style scoped>\n",
       "    .dataframe tbody tr th:only-of-type {\n",
       "        vertical-align: middle;\n",
       "    }\n",
       "\n",
       "    .dataframe tbody tr th {\n",
       "        vertical-align: top;\n",
       "    }\n",
       "\n",
       "    .dataframe thead th {\n",
       "        text-align: right;\n",
       "    }\n",
       "</style>\n",
       "<table border=\"1\" class=\"dataframe\">\n",
       "  <thead>\n",
       "    <tr style=\"text-align: right;\">\n",
       "      <th></th>\n",
       "      <th>int_id</th>\n",
       "      <th>int_nctid</th>\n",
       "      <th>int_type</th>\n",
       "      <th>int_name</th>\n",
       "      <th>int_description</th>\n",
       "    </tr>\n",
       "  </thead>\n",
       "  <tbody>\n",
       "    <tr>\n",
       "      <th>0</th>\n",
       "      <td>4547568</td>\n",
       "      <td>NCT01340339</td>\n",
       "      <td>Device</td>\n",
       "      <td>Phototherapy</td>\n",
       "      <td>Fluorescent reverse phototherapy (7 white ligh...</td>\n",
       "    </tr>\n",
       "    <tr>\n",
       "      <th>1</th>\n",
       "      <td>4547569</td>\n",
       "      <td>NCT01340339</td>\n",
       "      <td>Device</td>\n",
       "      <td>Phototherapy</td>\n",
       "      <td>super LED reverse phototherapy (17 bulbs arran...</td>\n",
       "    </tr>\n",
       "    <tr>\n",
       "      <th>2</th>\n",
       "      <td>4547570</td>\n",
       "      <td>NCT01340365</td>\n",
       "      <td>Behavioral</td>\n",
       "      <td>Tai Chi Exercise</td>\n",
       "      <td>Practicing Tai Chi exercise 4 times a week for...</td>\n",
       "    </tr>\n",
       "    <tr>\n",
       "      <th>3</th>\n",
       "      <td>4547571</td>\n",
       "      <td>NCT01340365</td>\n",
       "      <td>Behavioral</td>\n",
       "      <td>Tai Chi</td>\n",
       "      <td>Usual care, individuals attend testing session...</td>\n",
       "    </tr>\n",
       "    <tr>\n",
       "      <th>4</th>\n",
       "      <td>4547572</td>\n",
       "      <td>NCT01340391</td>\n",
       "      <td>Device</td>\n",
       "      <td>Omnicast</td>\n",
       "      <td>dorsal splint 2-5 weeks</td>\n",
       "    </tr>\n",
       "    <tr>\n",
       "      <th>...</th>\n",
       "      <td>...</td>\n",
       "      <td>...</td>\n",
       "      <td>...</td>\n",
       "      <td>...</td>\n",
       "      <td>...</td>\n",
       "    </tr>\n",
       "    <tr>\n",
       "      <th>685271</th>\n",
       "      <td>4139681</td>\n",
       "      <td>NCT03104712</td>\n",
       "      <td>Other</td>\n",
       "      <td>Rice + Pesto</td>\n",
       "      <td>50g available carbohydrate</td>\n",
       "    </tr>\n",
       "    <tr>\n",
       "      <th>685272</th>\n",
       "      <td>4139682</td>\n",
       "      <td>NCT03104465</td>\n",
       "      <td>Behavioral</td>\n",
       "      <td>Mindfulness Training</td>\n",
       "      <td>interactive. web-based mindfulness training co...</td>\n",
       "    </tr>\n",
       "    <tr>\n",
       "      <th>685273</th>\n",
       "      <td>4139683</td>\n",
       "      <td>NCT03104361</td>\n",
       "      <td>Biological</td>\n",
       "      <td>Platelet-Rich Plasma</td>\n",
       "      <td>Patients who meet all eligible requirements fo...</td>\n",
       "    </tr>\n",
       "    <tr>\n",
       "      <th>685274</th>\n",
       "      <td>4139684</td>\n",
       "      <td>NCT03104283</td>\n",
       "      <td>Drug</td>\n",
       "      <td>Apatinib</td>\n",
       "      <td>take apatinib orally until disease progression...</td>\n",
       "    </tr>\n",
       "    <tr>\n",
       "      <th>685275</th>\n",
       "      <td>4139685</td>\n",
       "      <td>NCT03104231</td>\n",
       "      <td>Other</td>\n",
       "      <td>three-dimensional (3D) movie</td>\n",
       "      <td>Brief VR-3D will be shown using the oculus gla...</td>\n",
       "    </tr>\n",
       "  </tbody>\n",
       "</table>\n",
       "<p>685276 rows × 5 columns</p>\n",
       "</div>"
      ],
      "text/plain": [
       "         int_id    int_nctid    int_type                      int_name  \\\n",
       "0       4547568  NCT01340339      Device                  Phototherapy   \n",
       "1       4547569  NCT01340339      Device                  Phototherapy   \n",
       "2       4547570  NCT01340365  Behavioral              Tai Chi Exercise   \n",
       "3       4547571  NCT01340365  Behavioral                       Tai Chi   \n",
       "4       4547572  NCT01340391      Device                      Omnicast   \n",
       "...         ...          ...         ...                           ...   \n",
       "685271  4139681  NCT03104712       Other                  Rice + Pesto   \n",
       "685272  4139682  NCT03104465  Behavioral          Mindfulness Training   \n",
       "685273  4139683  NCT03104361  Biological          Platelet-Rich Plasma   \n",
       "685274  4139684  NCT03104283        Drug                      Apatinib   \n",
       "685275  4139685  NCT03104231       Other  three-dimensional (3D) movie   \n",
       "\n",
       "                                          int_description  \n",
       "0       Fluorescent reverse phototherapy (7 white ligh...  \n",
       "1       super LED reverse phototherapy (17 bulbs arran...  \n",
       "2       Practicing Tai Chi exercise 4 times a week for...  \n",
       "3       Usual care, individuals attend testing session...  \n",
       "4                                 dorsal splint 2-5 weeks  \n",
       "...                                                   ...  \n",
       "685271                         50g available carbohydrate  \n",
       "685272  interactive. web-based mindfulness training co...  \n",
       "685273  Patients who meet all eligible requirements fo...  \n",
       "685274  take apatinib orally until disease progression...  \n",
       "685275  Brief VR-3D will be shown using the oculus gla...  \n",
       "\n",
       "[685276 rows x 5 columns]"
      ]
     },
     "execution_count": 5,
     "metadata": {},
     "output_type": "execute_result"
    }
   ],
   "source": [
    "interventions_df = interventions_df.rename(columns={'id': 'int_id',\n",
    "                                                    'nct_id': 'int_nctid',\n",
    "                                                    'intervention_type': 'int_type',\n",
    "                                                    'name': 'int_name',\n",
    "                                                    'description': 'int_description'})\n",
    "interventions_df"
   ]
  },
  {
   "cell_type": "code",
   "execution_count": 6,
   "metadata": {},
   "outputs": [],
   "source": [
    "interventions_df = interventions_df.drop(columns=['int_id', 'int_description'])"
   ]
  },
  {
   "cell_type": "code",
   "execution_count": 7,
   "metadata": {},
   "outputs": [
    {
     "data": {
      "text/html": [
       "<div>\n",
       "<style scoped>\n",
       "    .dataframe tbody tr th:only-of-type {\n",
       "        vertical-align: middle;\n",
       "    }\n",
       "\n",
       "    .dataframe tbody tr th {\n",
       "        vertical-align: top;\n",
       "    }\n",
       "\n",
       "    .dataframe thead th {\n",
       "        text-align: right;\n",
       "    }\n",
       "</style>\n",
       "<table border=\"1\" class=\"dataframe\">\n",
       "  <thead>\n",
       "    <tr style=\"text-align: right;\">\n",
       "      <th></th>\n",
       "      <th>con_id</th>\n",
       "      <th>con_nctid</th>\n",
       "      <th>con_name</th>\n",
       "      <th>con_downcase_name</th>\n",
       "    </tr>\n",
       "  </thead>\n",
       "  <tbody>\n",
       "    <tr>\n",
       "      <th>0</th>\n",
       "      <td>3072834</td>\n",
       "      <td>NCT03254264</td>\n",
       "      <td>Autism Spectrum Disorder</td>\n",
       "      <td>autism spectrum disorder</td>\n",
       "    </tr>\n",
       "    <tr>\n",
       "      <th>1</th>\n",
       "      <td>3072835</td>\n",
       "      <td>NCT03254329</td>\n",
       "      <td>Human Milk Nutrient Reference Values</td>\n",
       "      <td>human milk nutrient reference values</td>\n",
       "    </tr>\n",
       "    <tr>\n",
       "      <th>2</th>\n",
       "      <td>3349485</td>\n",
       "      <td>NCT03460652</td>\n",
       "      <td>ADHD</td>\n",
       "      <td>adhd</td>\n",
       "    </tr>\n",
       "    <tr>\n",
       "      <th>3</th>\n",
       "      <td>3349486</td>\n",
       "      <td>NCT03460899</td>\n",
       "      <td>Diabetes Mellitus With Hypoglycemia</td>\n",
       "      <td>diabetes mellitus with hypoglycemia</td>\n",
       "    </tr>\n",
       "    <tr>\n",
       "      <th>4</th>\n",
       "      <td>3072836</td>\n",
       "      <td>NCT03254342</td>\n",
       "      <td>Major Depressive Disorder</td>\n",
       "      <td>major depressive disorder</td>\n",
       "    </tr>\n",
       "    <tr>\n",
       "      <th>...</th>\n",
       "      <td>...</td>\n",
       "      <td>...</td>\n",
       "      <td>...</td>\n",
       "      <td>...</td>\n",
       "    </tr>\n",
       "    <tr>\n",
       "      <th>688783</th>\n",
       "      <td>3072052</td>\n",
       "      <td>NCT03261687</td>\n",
       "      <td>Pregnancy Related</td>\n",
       "      <td>pregnancy related</td>\n",
       "    </tr>\n",
       "    <tr>\n",
       "      <th>688784</th>\n",
       "      <td>3072053</td>\n",
       "      <td>NCT03261687</td>\n",
       "      <td>Pelvic Girdle Pain</td>\n",
       "      <td>pelvic girdle pain</td>\n",
       "    </tr>\n",
       "    <tr>\n",
       "      <th>688785</th>\n",
       "      <td>3072054</td>\n",
       "      <td>NCT03261622</td>\n",
       "      <td>Faecal Incontinence</td>\n",
       "      <td>faecal incontinence</td>\n",
       "    </tr>\n",
       "    <tr>\n",
       "      <th>688786</th>\n",
       "      <td>3072055</td>\n",
       "      <td>NCT03261622</td>\n",
       "      <td>Fecal Incontinence</td>\n",
       "      <td>fecal incontinence</td>\n",
       "    </tr>\n",
       "    <tr>\n",
       "      <th>688787</th>\n",
       "      <td>3072056</td>\n",
       "      <td>NCT03261934</td>\n",
       "      <td>Risk Assessment of Chronic Atrophic Gastritis ...</td>\n",
       "      <td>risk assessment of chronic atrophic gastritis ...</td>\n",
       "    </tr>\n",
       "  </tbody>\n",
       "</table>\n",
       "<p>688788 rows × 4 columns</p>\n",
       "</div>"
      ],
      "text/plain": [
       "         con_id    con_nctid  \\\n",
       "0       3072834  NCT03254264   \n",
       "1       3072835  NCT03254329   \n",
       "2       3349485  NCT03460652   \n",
       "3       3349486  NCT03460899   \n",
       "4       3072836  NCT03254342   \n",
       "...         ...          ...   \n",
       "688783  3072052  NCT03261687   \n",
       "688784  3072053  NCT03261687   \n",
       "688785  3072054  NCT03261622   \n",
       "688786  3072055  NCT03261622   \n",
       "688787  3072056  NCT03261934   \n",
       "\n",
       "                                                 con_name  \\\n",
       "0                                Autism Spectrum Disorder   \n",
       "1                    Human Milk Nutrient Reference Values   \n",
       "2                                                    ADHD   \n",
       "3                     Diabetes Mellitus With Hypoglycemia   \n",
       "4                               Major Depressive Disorder   \n",
       "...                                                   ...   \n",
       "688783                                  Pregnancy Related   \n",
       "688784                                 Pelvic Girdle Pain   \n",
       "688785                                Faecal Incontinence   \n",
       "688786                                 Fecal Incontinence   \n",
       "688787  Risk Assessment of Chronic Atrophic Gastritis ...   \n",
       "\n",
       "                                        con_downcase_name  \n",
       "0                                autism spectrum disorder  \n",
       "1                    human milk nutrient reference values  \n",
       "2                                                    adhd  \n",
       "3                     diabetes mellitus with hypoglycemia  \n",
       "4                               major depressive disorder  \n",
       "...                                                   ...  \n",
       "688783                                  pregnancy related  \n",
       "688784                                 pelvic girdle pain  \n",
       "688785                                faecal incontinence  \n",
       "688786                                 fecal incontinence  \n",
       "688787  risk assessment of chronic atrophic gastritis ...  \n",
       "\n",
       "[688788 rows x 4 columns]"
      ]
     },
     "execution_count": 7,
     "metadata": {},
     "output_type": "execute_result"
    }
   ],
   "source": [
    "conditions_df = conditions_df.rename(columns={'id': 'con_id',\n",
    "                                              'nct_id': 'con_nctid',\n",
    "                                              'name': 'con_name',\n",
    "                                              'downcase_name': 'con_downcase_name'})\n",
    "conditions_df"
   ]
  },
  {
   "cell_type": "code",
   "execution_count": 8,
   "metadata": {},
   "outputs": [],
   "source": [
    "conditions_df = conditions_df.drop(columns=['con_id', 'con_name'])"
   ]
  },
  {
   "cell_type": "code",
   "execution_count": 9,
   "metadata": {},
   "outputs": [
    {
     "data": {
      "text/html": [
       "<div>\n",
       "<style scoped>\n",
       "    .dataframe tbody tr th:only-of-type {\n",
       "        vertical-align: middle;\n",
       "    }\n",
       "\n",
       "    .dataframe tbody tr th {\n",
       "        vertical-align: top;\n",
       "    }\n",
       "\n",
       "    .dataframe thead th {\n",
       "        text-align: right;\n",
       "    }\n",
       "</style>\n",
       "<table border=\"1\" class=\"dataframe\">\n",
       "  <thead>\n",
       "    <tr style=\"text-align: right;\">\n",
       "      <th></th>\n",
       "      <th>browseint_id</th>\n",
       "      <th>browseint_nctid</th>\n",
       "      <th>browseint_meshterm</th>\n",
       "      <th>browseint_meshterm_downcase</th>\n",
       "      <th>browseint_meshtype</th>\n",
       "    </tr>\n",
       "  </thead>\n",
       "  <tbody>\n",
       "    <tr>\n",
       "      <th>0</th>\n",
       "      <td>4935968</td>\n",
       "      <td>NCT04327843</td>\n",
       "      <td>Haloperidol</td>\n",
       "      <td>haloperidol</td>\n",
       "      <td>mesh-list</td>\n",
       "    </tr>\n",
       "    <tr>\n",
       "      <th>1</th>\n",
       "      <td>4935969</td>\n",
       "      <td>NCT04327843</td>\n",
       "      <td>Haloperidol decanoate</td>\n",
       "      <td>haloperidol decanoate</td>\n",
       "      <td>mesh-list</td>\n",
       "    </tr>\n",
       "    <tr>\n",
       "      <th>2</th>\n",
       "      <td>4935970</td>\n",
       "      <td>NCT04327843</td>\n",
       "      <td>Antiemetics</td>\n",
       "      <td>antiemetics</td>\n",
       "      <td>mesh-ancestor</td>\n",
       "    </tr>\n",
       "    <tr>\n",
       "      <th>3</th>\n",
       "      <td>5198960</td>\n",
       "      <td>NCT00808223</td>\n",
       "      <td>Alefacept</td>\n",
       "      <td>alefacept</td>\n",
       "      <td>mesh-list</td>\n",
       "    </tr>\n",
       "    <tr>\n",
       "      <th>4</th>\n",
       "      <td>5198961</td>\n",
       "      <td>NCT00808223</td>\n",
       "      <td>Dermatologic Agents</td>\n",
       "      <td>dermatologic agents</td>\n",
       "      <td>mesh-ancestor</td>\n",
       "    </tr>\n",
       "    <tr>\n",
       "      <th>...</th>\n",
       "      <td>...</td>\n",
       "      <td>...</td>\n",
       "      <td>...</td>\n",
       "      <td>...</td>\n",
       "      <td>...</td>\n",
       "    </tr>\n",
       "    <tr>\n",
       "      <th>1335262</th>\n",
       "      <td>4400668</td>\n",
       "      <td>NCT03100786</td>\n",
       "      <td>Antineoplastic Agents, Hormonal</td>\n",
       "      <td>antineoplastic agents, hormonal</td>\n",
       "      <td>mesh-ancestor</td>\n",
       "    </tr>\n",
       "    <tr>\n",
       "      <th>1335263</th>\n",
       "      <td>4400669</td>\n",
       "      <td>NCT03100786</td>\n",
       "      <td>Antineoplastic Agents</td>\n",
       "      <td>antineoplastic agents</td>\n",
       "      <td>mesh-ancestor</td>\n",
       "    </tr>\n",
       "    <tr>\n",
       "      <th>1335264</th>\n",
       "      <td>4400670</td>\n",
       "      <td>NCT03100565</td>\n",
       "      <td>Lidocaine</td>\n",
       "      <td>lidocaine</td>\n",
       "      <td>mesh-list</td>\n",
       "    </tr>\n",
       "    <tr>\n",
       "      <th>1335265</th>\n",
       "      <td>4400671</td>\n",
       "      <td>NCT03100565</td>\n",
       "      <td>Anesthetics, Local</td>\n",
       "      <td>anesthetics, local</td>\n",
       "      <td>mesh-ancestor</td>\n",
       "    </tr>\n",
       "    <tr>\n",
       "      <th>1335266</th>\n",
       "      <td>4400672</td>\n",
       "      <td>NCT03100565</td>\n",
       "      <td>Anesthetics</td>\n",
       "      <td>anesthetics</td>\n",
       "      <td>mesh-ancestor</td>\n",
       "    </tr>\n",
       "  </tbody>\n",
       "</table>\n",
       "<p>1335267 rows × 5 columns</p>\n",
       "</div>"
      ],
      "text/plain": [
       "         browseint_id browseint_nctid               browseint_meshterm  \\\n",
       "0             4935968     NCT04327843                      Haloperidol   \n",
       "1             4935969     NCT04327843            Haloperidol decanoate   \n",
       "2             4935970     NCT04327843                      Antiemetics   \n",
       "3             5198960     NCT00808223                        Alefacept   \n",
       "4             5198961     NCT00808223              Dermatologic Agents   \n",
       "...               ...             ...                              ...   \n",
       "1335262       4400668     NCT03100786  Antineoplastic Agents, Hormonal   \n",
       "1335263       4400669     NCT03100786            Antineoplastic Agents   \n",
       "1335264       4400670     NCT03100565                        Lidocaine   \n",
       "1335265       4400671     NCT03100565               Anesthetics, Local   \n",
       "1335266       4400672     NCT03100565                      Anesthetics   \n",
       "\n",
       "             browseint_meshterm_downcase browseint_meshtype  \n",
       "0                            haloperidol          mesh-list  \n",
       "1                  haloperidol decanoate          mesh-list  \n",
       "2                            antiemetics      mesh-ancestor  \n",
       "3                              alefacept          mesh-list  \n",
       "4                    dermatologic agents      mesh-ancestor  \n",
       "...                                  ...                ...  \n",
       "1335262  antineoplastic agents, hormonal      mesh-ancestor  \n",
       "1335263            antineoplastic agents      mesh-ancestor  \n",
       "1335264                        lidocaine          mesh-list  \n",
       "1335265               anesthetics, local      mesh-ancestor  \n",
       "1335266                      anesthetics      mesh-ancestor  \n",
       "\n",
       "[1335267 rows x 5 columns]"
      ]
     },
     "execution_count": 9,
     "metadata": {},
     "output_type": "execute_result"
    }
   ],
   "source": [
    "browse_interventions_df = browse_interventions_df.rename(columns={'id': 'browseint_id',\n",
    "                                                                  'nct_id': 'browseint_nctid',\n",
    "                                                                  'mesh_term': 'browseint_meshterm',\n",
    "                                                                  'downcase_mesh_term': 'browseint_meshterm_downcase',\n",
    "                                                                  'mesh_type': 'browseint_meshtype'})\n",
    "browse_interventions_df"
   ]
  },
  {
   "cell_type": "code",
   "execution_count": 10,
   "metadata": {},
   "outputs": [],
   "source": [
    "browse_interventions_df = browse_interventions_df.drop(columns=['browseint_id', 'browseint_meshterm'])"
   ]
  },
  {
   "cell_type": "code",
   "execution_count": 11,
   "metadata": {},
   "outputs": [
    {
     "data": {
      "text/html": [
       "<div>\n",
       "<style scoped>\n",
       "    .dataframe tbody tr th:only-of-type {\n",
       "        vertical-align: middle;\n",
       "    }\n",
       "\n",
       "    .dataframe tbody tr th {\n",
       "        vertical-align: top;\n",
       "    }\n",
       "\n",
       "    .dataframe thead th {\n",
       "        text-align: right;\n",
       "    }\n",
       "</style>\n",
       "<table border=\"1\" class=\"dataframe\">\n",
       "  <thead>\n",
       "    <tr style=\"text-align: right;\">\n",
       "      <th></th>\n",
       "      <th>browsecon_id</th>\n",
       "      <th>browsecon_nctid</th>\n",
       "      <th>browsecon_meshterm</th>\n",
       "      <th>browsecon_meshterm_downcase</th>\n",
       "      <th>browsecon_meshtype</th>\n",
       "    </tr>\n",
       "  </thead>\n",
       "  <tbody>\n",
       "    <tr>\n",
       "      <th>0</th>\n",
       "      <td>9631397</td>\n",
       "      <td>NCT04035564</td>\n",
       "      <td>Hyponatremia</td>\n",
       "      <td>hyponatremia</td>\n",
       "      <td>mesh-list</td>\n",
       "    </tr>\n",
       "    <tr>\n",
       "      <th>1</th>\n",
       "      <td>9631398</td>\n",
       "      <td>NCT04035564</td>\n",
       "      <td>Water-Electrolyte Imbalance</td>\n",
       "      <td>water-electrolyte imbalance</td>\n",
       "      <td>mesh-ancestor</td>\n",
       "    </tr>\n",
       "    <tr>\n",
       "      <th>2</th>\n",
       "      <td>9631399</td>\n",
       "      <td>NCT04035564</td>\n",
       "      <td>Metabolic Diseases</td>\n",
       "      <td>metabolic diseases</td>\n",
       "      <td>mesh-ancestor</td>\n",
       "    </tr>\n",
       "    <tr>\n",
       "      <th>3</th>\n",
       "      <td>9631400</td>\n",
       "      <td>NCT04032652</td>\n",
       "      <td>Colitis</td>\n",
       "      <td>colitis</td>\n",
       "      <td>mesh-list</td>\n",
       "    </tr>\n",
       "    <tr>\n",
       "      <th>4</th>\n",
       "      <td>9631401</td>\n",
       "      <td>NCT04032652</td>\n",
       "      <td>Colitis, Ulcerative</td>\n",
       "      <td>colitis, ulcerative</td>\n",
       "      <td>mesh-list</td>\n",
       "    </tr>\n",
       "    <tr>\n",
       "      <th>...</th>\n",
       "      <td>...</td>\n",
       "      <td>...</td>\n",
       "      <td>...</td>\n",
       "      <td>...</td>\n",
       "      <td>...</td>\n",
       "    </tr>\n",
       "    <tr>\n",
       "      <th>2573556</th>\n",
       "      <td>8601072</td>\n",
       "      <td>NCT03213899</td>\n",
       "      <td>Disease Attributes</td>\n",
       "      <td>disease attributes</td>\n",
       "      <td>mesh-ancestor</td>\n",
       "    </tr>\n",
       "    <tr>\n",
       "      <th>2573557</th>\n",
       "      <td>8601073</td>\n",
       "      <td>NCT03213899</td>\n",
       "      <td>Pathologic Processes</td>\n",
       "      <td>pathologic processes</td>\n",
       "      <td>mesh-ancestor</td>\n",
       "    </tr>\n",
       "    <tr>\n",
       "      <th>2573558</th>\n",
       "      <td>8601074</td>\n",
       "      <td>NCT03214016</td>\n",
       "      <td>Hypertension</td>\n",
       "      <td>hypertension</td>\n",
       "      <td>mesh-list</td>\n",
       "    </tr>\n",
       "    <tr>\n",
       "      <th>2573559</th>\n",
       "      <td>8601075</td>\n",
       "      <td>NCT03214016</td>\n",
       "      <td>Vascular Diseases</td>\n",
       "      <td>vascular diseases</td>\n",
       "      <td>mesh-ancestor</td>\n",
       "    </tr>\n",
       "    <tr>\n",
       "      <th>2573560</th>\n",
       "      <td>8601076</td>\n",
       "      <td>NCT03214016</td>\n",
       "      <td>Cardiovascular Diseases</td>\n",
       "      <td>cardiovascular diseases</td>\n",
       "      <td>mesh-ancestor</td>\n",
       "    </tr>\n",
       "  </tbody>\n",
       "</table>\n",
       "<p>2573561 rows × 5 columns</p>\n",
       "</div>"
      ],
      "text/plain": [
       "         browsecon_id browsecon_nctid           browsecon_meshterm  \\\n",
       "0             9631397     NCT04035564                 Hyponatremia   \n",
       "1             9631398     NCT04035564  Water-Electrolyte Imbalance   \n",
       "2             9631399     NCT04035564           Metabolic Diseases   \n",
       "3             9631400     NCT04032652                      Colitis   \n",
       "4             9631401     NCT04032652          Colitis, Ulcerative   \n",
       "...               ...             ...                          ...   \n",
       "2573556       8601072     NCT03213899           Disease Attributes   \n",
       "2573557       8601073     NCT03213899         Pathologic Processes   \n",
       "2573558       8601074     NCT03214016                 Hypertension   \n",
       "2573559       8601075     NCT03214016            Vascular Diseases   \n",
       "2573560       8601076     NCT03214016      Cardiovascular Diseases   \n",
       "\n",
       "         browsecon_meshterm_downcase browsecon_meshtype  \n",
       "0                       hyponatremia          mesh-list  \n",
       "1        water-electrolyte imbalance      mesh-ancestor  \n",
       "2                 metabolic diseases      mesh-ancestor  \n",
       "3                            colitis          mesh-list  \n",
       "4                colitis, ulcerative          mesh-list  \n",
       "...                              ...                ...  \n",
       "2573556           disease attributes      mesh-ancestor  \n",
       "2573557         pathologic processes      mesh-ancestor  \n",
       "2573558                 hypertension          mesh-list  \n",
       "2573559            vascular diseases      mesh-ancestor  \n",
       "2573560      cardiovascular diseases      mesh-ancestor  \n",
       "\n",
       "[2573561 rows x 5 columns]"
      ]
     },
     "execution_count": 11,
     "metadata": {},
     "output_type": "execute_result"
    }
   ],
   "source": [
    "browse_conditions_df = browse_conditions_df.rename(columns={'id': 'browsecon_id',\n",
    "                                                            'nct_id': 'browsecon_nctid',\n",
    "                                                            'mesh_term': 'browsecon_meshterm',\n",
    "                                                            'downcase_mesh_term': 'browsecon_meshterm_downcase',\n",
    "                                                            'mesh_type': 'browsecon_meshtype'})\n",
    "browse_conditions_df"
   ]
  },
  {
   "cell_type": "code",
   "execution_count": 12,
   "metadata": {},
   "outputs": [],
   "source": [
    "browse_conditions_df = browse_conditions_df.drop(columns=['browsecon_id', 'browsecon_meshterm'])"
   ]
  },
  {
   "cell_type": "code",
   "execution_count": 13,
   "metadata": {},
   "outputs": [
    {
     "name": "stdout",
     "output_type": "stream",
     "text": [
      "350361\n",
      "95250\n",
      "4280\n",
      "3744\n"
     ]
    }
   ],
   "source": [
    "print(len(interventions_df['int_name'].unique()))\n",
    "print(len(conditions_df['con_downcase_name'].unique()))\n",
    "print(len(browse_conditions_df['browsecon_meshterm_downcase'].unique()))\n",
    "print(len(browse_interventions_df['browseint_meshterm_downcase'].unique()))"
   ]
  },
  {
   "cell_type": "code",
   "execution_count": null,
   "metadata": {},
   "outputs": [],
   "source": [
    "conditions_df\n"
   ]
  },
  {
   "cell_type": "code",
   "execution_count": 14,
   "metadata": {},
   "outputs": [],
   "source": [
    "df = pd.merge(conditions_df, interventions_df, left_on='con_nctid', right_on = 'int_nctid')"
   ]
  },
  {
   "cell_type": "code",
   "execution_count": null,
   "metadata": {},
   "outputs": [],
   "source": [
    "df.shape"
   ]
  },
  {
   "cell_type": "code",
   "execution_count": 15,
   "metadata": {},
   "outputs": [],
   "source": [
    "df_dedup = df.drop_duplicates(subset = ['con_downcase_name', 'int_name'],\n",
    "                                      keep = 'first').reset_index(drop = True)"
   ]
  },
  {
   "cell_type": "code",
   "execution_count": null,
   "metadata": {},
   "outputs": [],
   "source": [
    "df_dedup.shape"
   ]
  },
  {
   "cell_type": "code",
   "execution_count": null,
   "metadata": {},
   "outputs": [],
   "source": [
    "with pd.option_context('display.max_rows', None, 'display.max_columns', None):  # more options can be specified also\n",
    "    display(df_dedup.head(1000))"
   ]
  },
  {
   "cell_type": "code",
   "execution_count": null,
   "metadata": {},
   "outputs": [],
   "source": [
    "df_dedup[['con_downcase_name', 'int_name']].to_csv('ClinTrials_KG_edges.csv', sep ='\\t', index=False)\n"
   ]
  },
  {
   "cell_type": "markdown",
   "metadata": {},
   "source": [
    "# notes on creating edge file\n",
    "\n",
    "go to /proj/arivale/gglusman/KGs\n",
    "\n",
    "once there look into wellness/source/wellness_kg_edges_v1.6.tsv\n",
    "\n",
    "notice the first line: subject\tpredicate\tobject\trelation\tsubject_name\tobject_name\tcategory\tN\tType_of_relationship\tStrength_of_relationship\tqualifiers\tqualifier_value\tBonferroni_pval\n",
    "\n",
    "subject, predicate, object are required (maybe some others, don’t remember)\n",
    "\n",
    "…and they should be CURIEs\n",
    "\n",
    "once we map concepts to biolink, mesh etc we’ll have curies\n",
    "\n",
    "meanwhile, the content you have fits subject_name, object_name\n",
    "\n",
    "the predicate is what we made up… let’s say ‘evaluated_for’\n",
    "\n",
    "for short\n",
    "\n",
    "we’ll have to find a suitable biolink predicate, or suggest a new one\n",
    "\n",
    "so interventions would be subjects, and conditions would be objects\n",
    "\n",
    "looking at the several first lines in your file, I see some that make sense, others that seem to suggest there are data problems\n",
    "\n",
    "for example, “metastatic lung cancer\tPathways” -> Pathways doesn’t seem to be an intervention\n",
    "\n",
    "‘placebo’ we’ll have to suppress\n",
    "\n",
    "make sure to include the NCT id in a (non-required) column\n",
    "\n",
    "it’s essentially part of the provenance\n",
    "\n",
    "we’ll want to add multiple additional columns with things like FDA approval status, sample size, etc etc etc\n",
    "\n",
    "look also into EHR/source/ehr_risk_kg_edges_2021_05_07.tsv\n",
    "\n",
    "…and of course replace ‘edges’ -> ‘nodes’ for their cognate nodes files\n",
    "\n",
    "wellness/source/wellness_kg_edges_v1.6.tsv -> wellness/source/wellness_kg_nodes_v1.6.tsv\n",
    "\n",
    "drop \"control\"\n",
    "\n",
    "‘control’ is clear, ‘control group’ too… but ‘Control Ostomy Barrier’ is likely not a ‘control’\n"
   ]
  },
  {
   "cell_type": "markdown",
   "metadata": {},
   "source": [
    "# My own notes\n",
    "\n",
    "Use pool/multiprocess to make faster\n",
    "resolve multiple possible CURIEs per concept"
   ]
  },
  {
   "cell_type": "code",
   "execution_count": 16,
   "metadata": {},
   "outputs": [],
   "source": [
    "# first get only relevant columns from DB\n",
    "ct_extract = pd.DataFrame(df_dedup[['con_nctid', 'con_downcase_name', 'int_type', 'int_name']])\n",
    "ct_extract = ct_extract.rename(columns={'con_nctid': 'nctid'})\n",
    "# get CURIE column for nct_id column (https://bioregistry.io/registry/clinicaltrials)\n",
    "\n",
    "ct_extract['nctid_curie'] = ct_extract['nctid']\n",
    "ct_extract['nctid_curie'] = 'clinicaltrials:' + ct_extract['nctid'].astype(str)"
   ]
  },
  {
   "cell_type": "code",
   "execution_count": null,
   "metadata": {},
   "outputs": [],
   "source": [
    "ct_extract"
   ]
  },
  {
   "cell_type": "code",
   "execution_count": null,
   "metadata": {},
   "outputs": [],
   "source": [
    "# let's map all the conditions to BTE\n",
    "# NOTE: we are attempting to match to BTE terms, but many of the conditions terms are not standardized and are misspelled\n",
    "# First map as many terms as possible to BTE. Whatever is left over, will use other ontologies to create CURIEs\n"
   ]
  },
  {
   "cell_type": "code",
   "execution_count": null,
   "metadata": {},
   "outputs": [],
   "source": [
    "# recommedation to first format the output as close to sample as possible"
   ]
  },
  {
   "cell_type": "code",
   "execution_count": 17,
   "metadata": {},
   "outputs": [],
   "source": [
    "final_df = pd.DataFrame(columns=['subject','predicate','object','relation','subject_name','object_name','category'])"
   ]
  },
  {
   "cell_type": "code",
   "execution_count": 18,
   "metadata": {},
   "outputs": [],
   "source": [
    "# no_col_names_df.columns = col_names_df.columns\n",
    "# chosen predicate = \"related_to\", bc \"associated_with\" implies a statistical relationship \n",
    "final_df['subject'] = 'condition:' + ct_extract['con_downcase_name'].astype(str)\n",
    "final_df['predicate'] = 'biolink:related_to biolink:clinically_demonstrated_to biolink: hypothesized_to'\n",
    "final_df['object'] = 'intervention:' + ct_extract['int_name'].astype(str)   # this will not all be RxNorm CURIEs since some interventions are not drugs\n",
    "final_df['relation'] = 'RO:????'\n",
    "final_df.subject_name = ct_extract.con_downcase_name\n",
    "final_df.object_name = ct_extract.int_name\n",
    "final_df.category = 'biolink:Association'\n",
    "final_df['nctid'] = ct_extract['nctid']\n",
    "final_df['nctid_curie'] = ct_extract['nctid_curie']\n"
   ]
  },
  {
   "cell_type": "code",
   "execution_count": null,
   "metadata": {},
   "outputs": [],
   "source": [
    "final_df"
   ]
  },
  {
   "cell_type": "code",
   "execution_count": null,
   "metadata": {},
   "outputs": [],
   "source": [
    "psoriasis = final_df[final_df['subject_name'].str.contains('psoriasis')]\n",
    "psoriasis\n",
    "\n"
   ]
  },
  {
   "cell_type": "code",
   "execution_count": null,
   "metadata": {},
   "outputs": [],
   "source": [
    "zinc = final_df[final_df['object_name'].str.contains('zinc', na=False)]\n",
    "zinc"
   ]
  },
  {
   "cell_type": "code",
   "execution_count": null,
   "metadata": {},
   "outputs": [],
   "source": [
    "pd.set_option('display.max_rows', None)\n",
    "pd.set_option('display.max_columns', None)\n",
    "pd.set_option('display.width', None)\n",
    "pd.set_option('display.max_colwidth', None)\n",
    "zinc"
   ]
  },
  {
   "cell_type": "code",
   "execution_count": null,
   "metadata": {},
   "outputs": [],
   "source": [
    "psoriasis[['subject_name', 'object_name', 'nctid']].to_csv('psoriasis.csv', sep =',', index=False)\n",
    "# zinc[['subject_name', 'object_name', 'nctid']].to_csv('zinc.csv', sep ='\\t', index=False)\n"
   ]
  },
  {
   "cell_type": "code",
   "execution_count": null,
   "metadata": {},
   "outputs": [],
   "source": [
    "psoriasis_zinc = psoriasis[psoriasis['object_name'].str.contains('zn')]"
   ]
  },
  {
   "cell_type": "code",
   "execution_count": null,
   "metadata": {},
   "outputs": [],
   "source": [
    "psoriasis_zinc"
   ]
  },
  {
   "cell_type": "code",
   "execution_count": null,
   "metadata": {},
   "outputs": [],
   "source": [
    "final_df.to_csv('ClinTrials_KG_edges.csv', sep ='\\t', index=False)\n"
   ]
  },
  {
   "cell_type": "code",
   "execution_count": null,
   "metadata": {},
   "outputs": [],
   "source": [
    "# interventions will have to be mapped to more than 1 vocabulary unlike conditions, which seems more easily mapped to SNOMED\n",
    "# first look at the types of interventions (unique on int_type in ct_extract dataframe)"
   ]
  },
  {
   "cell_type": "code",
   "execution_count": 19,
   "metadata": {},
   "outputs": [],
   "source": [
    "# adding Folder_2/subfolder to the system path\n",
    "sys.path.insert(0, '/Volumes/TOSHIBA_EXT/ISB/clinical_trials/pymetamap-master')\n",
    "  \n",
    "from pymetamap import MetaMap\n",
    "\n",
    "# NOTE: YOU MUST START the SKR/Medpost Part-of-Speech Tagger Server and the Word Sense Disambiguation (WSD) Server IN TERMINAL\n",
    "\n",
    "# % ./bin/skrmedpostctl start\n",
    "# % ./bin/wsdserverctl start\n",
    "\n",
    "\n",
    "# stop these servers afterwards\n",
    "\n"
   ]
  },
  {
   "cell_type": "code",
   "execution_count": null,
   "metadata": {},
   "outputs": [],
   "source": [
    "# get the directory of the the module\n",
    "print(os.getcwd())\n",
    "# Path\n",
    "path = \"/Volumes/TOSHIBA_EXT/ISB/clinical_trials/public_mm/bin\"  \n",
    "# Path of Start directory\n",
    "start = os.getcwd()\n",
    "print(os.path.relpath(\"/Volumes/TOSHIBA_EXT/ISB/clinical_trials/public_mm/bin\", os.getcwd()))"
   ]
  },
  {
   "cell_type": "code",
   "execution_count": 20,
   "metadata": {},
   "outputs": [],
   "source": [
    "mm = MetaMap.get_instance('/Volumes/TOSHIBA_EXT/ISB/clinical_trials/public_mm/bin/metamap18')"
   ]
  },
  {
   "cell_type": "code",
   "execution_count": null,
   "metadata": {},
   "outputs": [],
   "source": [
    "sents = ['myocardial infarction', 'this is from a clinical trial in which' ]  # this has to be 1 sentence\n",
    "concepts,error = mm.extract_concepts(sents)\n",
    "for concept in concepts:\n",
    "    print(concept)\n",
    "    print(\"\\n\")"
   ]
  },
  {
   "cell_type": "code",
   "execution_count": null,
   "metadata": {},
   "outputs": [],
   "source": [
    "concepts"
   ]
  },
  {
   "cell_type": "code",
   "execution_count": null,
   "metadata": {},
   "outputs": [],
   "source": [
    "# check char encoding, is ascii??\n",
    "    \n",
    "for ct_string in final_df['subject_name'][:40]:\n",
    "#     print(type(ct_string))\n",
    "    print(ct_string.isascii())\n",
    "    "
   ]
  },
  {
   "cell_type": "code",
   "execution_count": 21,
   "metadata": {},
   "outputs": [],
   "source": [
    "# MetaMap does not work on non-ascii char, so create dict with what non-ascii char should be replaced with\n",
    "\n",
    "# diseases = list(set(list(final_df['subject_name'])))\n",
    "ascii_char_dict = {\",\": ' ',\n",
    "                   ';': ' ',\n",
    "                   '；': ' ',\n",
    "                   '≥': ' greater than or equal to ',\n",
    "                   '≤': ' less than or equal to ',\n",
    "                   '<': ' less than or equal to ',\n",
    "                   '>': ' less than or equal to ',\n",
    "                   'ç': 'c',\n",
    "                   '®': ' ',\n",
    "                   '©': ' ',\n",
    "                   'ï': 'i',\n",
    "                   '̇': '',\n",
    "                   '\"̇': ' ',\n",
    "#                    '\"̇\"': ' ',\n",
    "                   '\"': ' ',\n",
    "                   '\\\"': ' ',\n",
    "                   'é': 'e',\n",
    "                   'è': 'e',\n",
    "                   'í': 'i',\n",
    "                   '₁': '1',\n",
    "                   'ı': '1',\n",
    "                   '，': ' ',\n",
    "                   'β': ' beta ',\n",
    "                   'ß': ' beta ',\n",
    "                   'ö': 'o',\n",
    "                   'ō': 'o',\n",
    "                   '´': \"\",\n",
    "                   '²': '2',\n",
    "                   'γ': ' gamma ',\n",
    "                   'α': ' alpha ',\n",
    "                   'ü': 'u',\n",
    "                   'μg': 'micrograms',\n",
    "                   'µg': 'micrograms',\n",
    "                   'µ': 'mu',\n",
    "                   'μ': 'mu',\n",
    "                   '•': ' ',\n",
    "                   '°': ' degrees ',\n",
    "                   'λ': ' lambda ',\n",
    "                   'ﬂ': 'fl',\n",
    "                   'ⅱ': '2',\n",
    "                   'δ': ' delta ',\n",
    "#                    'stage i': 'stage 1',\n",
    "#                    'stage ii': 'stage 2',\n",
    "#                    'stage iii': 'stage 3',\n",
    "                   'ⅲ': '3',\n",
    "                   '（': ' ',\n",
    "                   '）': ' ',\n",
    "                   '、': ' ',\n",
    "                   '¨': ' ',\n",
    "                   '™': ' ',\n",
    "                   '：': ' ',\n",
    "                   'œ': ' ',\n",
    "                   '／': ' ',\n",
    "                   '.': ' '\n",
    "                   \n",
    "                  }\n"
   ]
  },
  {
   "cell_type": "code",
   "execution_count": 22,
   "metadata": {},
   "outputs": [],
   "source": [
    "diseases = list(set(list(final_df['subject_name'])))\n",
    "interventions = list(filter(None, final_df['object_name'].unique()))"
   ]
  },
  {
   "cell_type": "code",
   "execution_count": 23,
   "metadata": {},
   "outputs": [],
   "source": [
    "# test = final_df.apply(lambda row: custom_make_translation(row['subject_name'], ascii_char_dict), axis=1)\n",
    "# test.to_csv('test_ascii_stripper.csv', sep ='\\t', index=False)\n",
    "\n",
    "import re\n",
    "\n",
    "def custom_make_translation(text, translation):\n",
    "    regex = re.compile('|'.join(map(re.escape, translation)))\n",
    "    regexed_text = regex.sub(lambda match: translation[match.group(0)], text)\n",
    "#     translated_text = regexed_text.encode('ascii', 'replace')\n",
    "    return regexed_text\n",
    "\n",
    "text = \"split-virion, non-adjuvanted H1N1 vaccine of 15 μg\"\n",
    "translated = custom_make_translation(text, ascii_char_dict)\n"
   ]
  },
  {
   "cell_type": "code",
   "execution_count": 24,
   "metadata": {},
   "outputs": [],
   "source": [
    "diseases_translated = dict((i, custom_make_translation(i, ascii_char_dict)) for i in diseases)\n",
    "interventions_translated = dict((i, custom_make_translation(i, ascii_char_dict)) for i in interventions)"
   ]
  },
  {
   "cell_type": "code",
   "execution_count": null,
   "metadata": {},
   "outputs": [],
   "source": [
    "diseases_translated"
   ]
  },
  {
   "cell_type": "code",
   "execution_count": 25,
   "metadata": {},
   "outputs": [],
   "source": [
    "# make sure SKR/Medpost Part-of-Speech Tagger Server and the Word Sense Disambiguation (WSD) Server are running\n",
    "def run_metamap(input_text):\n",
    "    concepts,error = mm.extract_concepts([input_text])\n",
    "    return input_text, concepts\n",
    "    \n"
   ]
  },
  {
   "cell_type": "code",
   "execution_count": null,
   "metadata": {},
   "outputs": [],
   "source": [
    "1 from multiprocessing.pool import ThreadPool\n",
    "  2 \n",
    "  3 def fun(i, u = None): #this function needs i to be a dict, or else it fails!\n",
    "  4     print(i)\n",
    "  5     assert(type(i) == dict)\n",
    "  6     return i[0]\n",
    "  7 \n",
    "  8 pool = ThreadPool()\n",
    "  9 dictionary = {'bread':'butter', 'pb':'j'} #Needed a comma here\n",
    " 10 assert(type(dictionary) == dict)         #            v\n",
    " 11 async_workers = [pool.apply_async(fun, args=(dictionary,)) for i in range(10)] #we want it to pass in dictionary as an argument\n",
    " 12 pool.close()\n",
    " 13 pool.join()\n",
    " 14 input() #funny thing; none of the workers start no matter how long I wait here, even though the documentation says it should be\n",
    " 15 for i in async_workers:\n",
    " 16     print(i.get()) #crashes here"
   ]
  },
  {
   "cell_type": "code",
   "execution_count": null,
   "metadata": {},
   "outputs": [],
   "source": [
    "import multiprocessing\n",
    "\n",
    "\n",
    "def worker(procnum, return_dict):\n",
    "    \"\"\"worker function\"\"\"\n",
    "    print(str(procnum) + \" represent!\")\n",
    "    return_dict[procnum] = procnum\n",
    "\n",
    "\n",
    "if __name__ == \"__main__\":\n",
    "    manager = multiprocessing.Manager()\n",
    "    return_dict = manager.dict()\n",
    "    jobs = []\n",
    "    for i in range(5):\n",
    "        p = multiprocessing.Process(target=worker, args=(i, return_dict))\n",
    "        jobs.append(p)\n",
    "        p.start()\n",
    "\n",
    "    for proc in jobs:\n",
    "        proc.join()\n",
    "    print(return_dict.values())\n"
   ]
  },
  {
   "cell_type": "code",
   "execution_count": null,
   "metadata": {},
   "outputs": [],
   "source": [
    "import multiprocessing\n",
    "\n",
    "\n",
    "def worker(procnum, return_dict):\n",
    "    \"\"\"worker function\"\"\"\n",
    "    print(str(procnum) + \" represent!\")\n",
    "    return_dict[procnum] = procnum\n",
    "\n",
    "\n",
    "if __name__ == \"__main__\":\n",
    "    manager = multiprocessing.Manager()\n",
    "    return_dict = manager.dict()\n",
    "    jobs = []\n",
    "    for i in range(5):\n",
    "        p = multiprocessing.Process(target=worker, args=(i, return_dict))\n",
    "        jobs.append(p)\n",
    "        p.start()\n",
    "\n",
    "    for proc in jobs:\n",
    "        proc.join()\n",
    "    print(return_dict.values())"
   ]
  },
  {
   "cell_type": "code",
   "execution_count": null,
   "metadata": {},
   "outputs": [],
   "source": [
    "#!/usr/bin/env python3\n",
    "from functools import partial\n",
    "from itertools import repeat\n",
    "from multiprocessing import Pool, freeze_support\n",
    "\n",
    "def func(a, b):\n",
    "    return a + b\n",
    "\n",
    "def main():\n",
    "    a_args = [1,2,3]\n",
    "    second_arg = 1\n",
    "    with Pool() as pool:\n",
    "        L = pool.starmap(func, [(1, 1), (2, 1), (3, 1)])\n",
    "        M = pool.starmap(func, zip(a_args, repeat(second_arg)))\n",
    "        N = pool.map(partial(func, b=second_arg), a_args)\n",
    "        assert L == M == N\n",
    "\n",
    "if __name__==\"__main__\":\n",
    "    freeze_support()\n",
    "    main()"
   ]
  },
  {
   "cell_type": "code",
   "execution_count": null,
   "metadata": {},
   "outputs": [],
   "source": [
    "import multiprocessing\n",
    "\n",
    "\n",
    "# make sure SKR/Medpost Part-of-Speech Tagger Server and the Word Sense Disambiguation (WSD) Server are running\n",
    "def run_metamap(input_text):\n",
    "    concepts,error = mm.extract_concepts([input_text])\n",
    "    return input_text, concepts\n",
    "\n",
    "# def worker(procnum, return_dict):\n",
    "    \"\"\"worker function\"\"\"\n",
    "    print(str(procnum) + \" represent!\")\n",
    "    return_dict[procnum] = procnum\n",
    "\n",
    "    \n",
    "if __name__ == \"__main__\":\n",
    "    manager = multiprocessing.Manager()\n",
    "    return_dict = manager.dict()\n",
    "    jobs = []\n",
    "    for k,v in diseases_translated.items():\n",
    "        p = multiprocessing.Process(target=run_metamap, args=(v))\n",
    "        jobs.append(p)\n",
    "        p.start()\n",
    "\n",
    "    for proc in jobs:\n",
    "        proc.join()\n",
    "    print(return_dict.values())"
   ]
  },
  {
   "cell_type": "code",
   "execution_count": null,
   "metadata": {},
   "outputs": [],
   "source": [
    "\n",
    "Use shared variable to communicate. For example like this:\n",
    "\n",
    "import multiprocessing\n",
    "\n",
    "\n",
    "def worker(procnum, return_dict):\n",
    "    \"\"\"worker function\"\"\"\n",
    "    print(str(procnum) + \" represent!\")\n",
    "    return_dict[procnum] = procnum\n",
    "\n",
    "\n",
    "if __name__ == \"__main__\":\n",
    "    manager = multiprocessing.Manager()\n",
    "    return_dict = manager.dict()\n",
    "    jobs = []\n",
    "    for i in range(5):\n",
    "        p = multiprocessing.Process(target=worker, args=(i, return_dict))\n",
    "        jobs.append(p)\n",
    "        p.start()\n",
    "\n",
    "    for proc in jobs:\n",
    "        proc.join()\n",
    "    print(return_dict.values())"
   ]
  },
  {
   "cell_type": "code",
   "execution_count": 47,
   "metadata": {},
   "outputs": [
    {
     "data": {
      "text/plain": [
       "{'schizophreniform disorder': 'schizophreniform disorder',\n",
       " 'high fat meal - adjusted insulin dose +30 percent': 'high fat meal - adjusted insulin dose +30 percent',\n",
       " 'non nutritive sweeteners consumption': 'non nutritive sweeteners consumption',\n",
       " 'venous occlusion': 'venous occlusion',\n",
       " 'drug dependence,': 'drug dependence ',\n",
       " 'lumbar spine fusion': 'lumbar spine fusion',\n",
       " 'cystic fibrosis, pulmonary': 'cystic fibrosis  pulmonary',\n",
       " 'deep neck space infections': 'deep neck space infections',\n",
       " 'mature b-cell lymphoma': 'mature b-cell lymphoma',\n",
       " 'high grade squamous intra-epithelial lesion (hsil)': 'high grade squamous intra-epithelial lesion (hsil)',\n",
       " 'non st segment elevation mi and unstable angina': 'non st segment elevation mi and unstable angina',\n",
       " 'strabismic amblyopia': 'strabismic amblyopia',\n",
       " 'body mass index quantitative trait locus 7 disorder': 'body mass index quantitative trait locus 7 disorder',\n",
       " 'growth retardation': 'growth retardation',\n",
       " 'sedation during': 'sedation during',\n",
       " 'systolic and diastolic blood pressure levels': 'systolic and diastolic blood pressure levels',\n",
       " 'muscle diseases': 'muscle diseases',\n",
       " 'advanced or metastatic esophageal squamous cell cancer without previous systemic chemotherapy': 'advanced or metastatic esophageal squamous cell cancer without previous systemic chemotherapy',\n",
       " 'rhytides': 'rhytides',\n",
       " 'major neurocognitive disorder with aggressive behavior': 'major neurocognitive disorder with aggressive behavior'}"
      ]
     },
     "execution_count": 47,
     "metadata": {},
     "output_type": "execute_result"
    }
   ],
   "source": [
    "import itertools\n",
    "test_dict = dict(itertools.islice(diseases_translated.items(), 20)) \n",
    "test_dict"
   ]
  },
  {
   "cell_type": "code",
   "execution_count": 45,
   "metadata": {},
   "outputs": [
    {
     "name": "stdout",
     "output_type": "stream",
     "text": [
      "{'schizophreniform disorder': [ConceptMMI(index='USER', mm='MMI', score='10.06', preferred_name='Schizophreniform Disorders', cui='C0036358', semtypes='[mobd]', trigger='[\"Schizophreniform Disorder\"-tx-1-\"schizophreniform disorder\"-noun-0]', location='TX', pos_info='4/25', tree_codes='F03.700.675')], 'sedation during': [ConceptMMI(index='USER', mm='MMI', score='3.59', preferred_name='Sedated state', cui='C0235195', semtypes='[fndg]', trigger='[\"Sedation\"-tx-1-\"sedation\"-noun-0]', location='TX', pos_info='4/8', tree_codes=''), ConceptMMI(index='USER', mm='MMI', score='3.59', preferred_name='Sedation procedure', cui='C0344106', semtypes='[topp]', trigger='[\"Sedation\"-tx-1-\"sedation\"-noun-0]', location='TX', pos_info='4/8', tree_codes='')], 'strabismic amblyopia': [ConceptMMI(index='USER', mm='MMI', score='19.52', preferred_name='Amblyopia, Suppression', cui='C0750903', semtypes='[dsyn]', trigger='[\"Amblyopia, strabismic\"-tx-1-\"strabismic amblyopia\"-noun-0]', location='TX', pos_info='4/20', tree_codes='C10.228.140.055;C10.597.751.941.073;C11.966.073;C23.888.592.763.941.073')], 'rhytides': [ConceptMMI(index='USER', mm='MMI', score='9.99', preferred_name='Skin Wrinkling', cui='C0037301', semtypes='[fndg]', trigger='[\"rhytides\"-tx-1-\"rhytides\"-noun-0]', location='TX', pos_info='4/8', tree_codes='G13.750.804'), ConceptMMI(index='USER', mm='MMI', score='3.68', preferred_name='Wrinkled structure', cui='C2729169', semtypes='[anab]', trigger='[\"Rhytides\"-tx-1-\"rhytides\"-noun-0]', location='TX', pos_info='4/8', tree_codes='')], 'growth retardation': [ConceptMMI(index='USER', mm='MMI', score='3.75', preferred_name='Growth retardation', cui='C0151686', semtypes='[patf]', trigger='[\"GROWTH RETARDATION\"-tx-1-\"growth retardation\"-noun-0]', location='TX', pos_info='4/18', tree_codes='')], 'lumbar spine fusion': [ConceptMMI(index='USER', mm='MMI', score='3.81', preferred_name='Lumbar spinal fusion', cui='C0186045', semtypes='[topp]', trigger='[\"lumbar spine fusion\"-tx-1-\"lumbar spine fusion\"-noun-0]', location='TX', pos_info='4/19', tree_codes='')], 'venous occlusion': [ConceptMMI(index='USER', mm='MMI', score='3.75', preferred_name='Venoocclusive disease', cui='C0948441', semtypes='[dsyn]', trigger='[\"VENOUS OCCLUSION\"-tx-1-\"venous occlusion\"-noun-0]', location='TX', pos_info='4/16', tree_codes=''), ConceptMMI(index='USER', mm='MMI', score='3.75', preferred_name='Venous occlusion', cui='C4281554', semtypes='[topp]', trigger='[\"Venous occlusion\"-tx-1-\"venous occlusion\"-noun-0]', location='TX', pos_info='4/16', tree_codes='')], 'cystic fibrosis  pulmonary': [ConceptMMI(index='USER', mm='MMI', score='10.06', preferred_name='Cystic Fibrosis', cui='C0010674', semtypes='[dsyn]', trigger='[\"CYSTIC FIBROSIS\"-tx-1-\"cystic fibrosis\"-noun-0]', location='TX', pos_info='4/15', tree_codes='C06.689.202;C08.381.187;C16.320.190;C16.614.213'), ConceptMMI(index='USER', mm='MMI', score='8.34', preferred_name='Lung', cui='C0024109', semtypes='[bpoc]', trigger='[\"pulmonary\"-tx-1-\"pulmonary\"-adj-0]', location='TX', pos_info='21/9', tree_codes='A04.411'), ConceptMMI(index='USER', mm='MMI', score='5.18', preferred_name='Pulmonary (intended site)', cui='C4522268', semtypes='[fndg]', trigger='[\"Pulmonary\"-tx-1-\"pulmonary\"-adj-0]', location='TX', pos_info='21/9', tree_codes=''), ConceptMMI(index='USER', mm='MMI', score='5.18', preferred_name='Pulmonary (qualifier value)', cui='C2709248', semtypes='[qlco]', trigger='[\"Pulmonary\"-tx-1-\"pulmonary\"-adj-0]', location='TX', pos_info='21/9', tree_codes=''), ConceptMMI(index='USER', mm='MMI', score='5.18', preferred_name='Pulmonary:-:Point in time:^Patient:-', cui='C2707265', semtypes='[clna]', trigger='[\"Pulmonary\"-tx-1-\"pulmonary\"-adj-0]', location='TX', pos_info='21/9', tree_codes='')], 'muscle diseases': [ConceptMMI(index='USER', mm='MMI', score='10.06', preferred_name='Myopathy', cui='C0026848', semtypes='[dsyn]', trigger='[\"Muscle Diseases\"-tx-1-\"muscle diseases\"-noun-0]', location='TX', pos_info='4/15', tree_codes='C05.651;C10.668.491')], 'mature b-cell lymphoma': [ConceptMMI(index='USER', mm='MMI', score='3.85', preferred_name='Mature B-Cell Non-Hodgkin Lymphoma', cui='C1334634', semtypes='[neop]', trigger='[\"Mature B-Cell Lymphoma\"-tx-1-\"mature b-cell lymphoma\"-noun-0]', location='TX', pos_info='4/22', tree_codes='')], 'drug dependence ': [ConceptMMI(index='USER', mm='MMI', score='6.91', preferred_name='Drug Dependence', cui='C1510472', semtypes='[mobd]', trigger='[\"DRUG DEPENDENCE\"-tx-1-\"drug dependence\"-noun-0]', location='TX', pos_info='4/15', tree_codes='C25.775;F03.900')], 'non nutritive sweeteners consumption': [ConceptMMI(index='USER', mm='MMI', score='25.60', preferred_name='Non-Nutritive Sweeteners', cui='C3658246', semtypes='[chvf]', trigger='[\"Non-Nutritive Sweeteners\"-tx-1-\"non nutritive sweeteners\"-noun-0]', location='TX', pos_info='4/24', tree_codes='D27.720.372.300.353.609.500;G07.203.300.514.500.400.700.500;J02.500.514.500.400.700.500'), ConceptMMI(index='USER', mm='MMI', score='3.60', preferred_name='Consumption of goods', cui='C0009830', semtypes='[acty]', trigger='[\"Consumption\"-tx-1-\"consumption\"-noun-0]', location='TX', pos_info='29/11', tree_codes=''), ConceptMMI(index='USER', mm='MMI', score='3.60', preferred_name='biologic consumption', cui='C1947907', semtypes='[phsf]', trigger='[\"Consumption\"-tx-1-\"consumption\"-noun-1]', location='TX', pos_info='29/11', tree_codes='')], 'deep neck space infections': [ConceptMMI(index='USER', mm='MMI', score='6.76', preferred_name='Infection', cui='C3714514', semtypes='[patf]', trigger='[\"Infections\"-tx-1-\"infections\"-noun-0]', location='TX', pos_info='20/10', tree_codes='C01.539'), ConceptMMI(index='USER', mm='MMI', score='6.61', preferred_name='Neck', cui='C0027530', semtypes='[blor]', trigger='[\"NECK\"-tx-1-\"neck\"-noun-0]', location='TX', pos_info='9/4', tree_codes='A01.598'), ConceptMMI(index='USER', mm='MMI', score='3.46', preferred_name='Deep (qualifier value)', cui='C0205125', semtypes='[spco]', trigger='[\"DEEP\"-tx-1-\"deep\"-adj-0]', location='TX', pos_info='4/4', tree_codes=''), ConceptMMI(index='USER', mm='MMI', score='3.46', preferred_name='Deep Resection Margin', cui='C4318566', semtypes='[clna]', trigger='[\"Deep\"-tx-1-\"deep\"-adj-0]', location='TX', pos_info='4/4', tree_codes=''), ConceptMMI(index='USER', mm='MMI', score='3.46', preferred_name='Space - property', cui='C1883067', semtypes='[spco]', trigger='[\"Space\"-tx-1-\"space\"-noun-0]', location='TX', pos_info='14/5', tree_codes=''), ConceptMMI(index='USER', mm='MMI', score='3.46', preferred_name='dendritic spine neck', cui='C3159206', semtypes='[celc]', trigger='[\"neck\"-tx-1-\"neck\"-noun-0]', location='TX', pos_info='9/4', tree_codes='')], 'major neurocognitive disorder with aggressive behavior': [ConceptMMI(index='USER', mm='MMI', score='3.88', preferred_name='Major neurocognitive disorder with aggressive behavior', cui='C4268194', semtypes='[mobd]', trigger='[\"Major neurocognitive disorder with aggressive behavior\"-tx-1-\"major neurocognitive disorder with aggressive behavior\"-noun-0]', location='TX', pos_info='4/54', tree_codes='')], 'body mass index quantitative trait locus 7 disorder': [ConceptMMI(index='USER', mm='MMI', score='9.90', preferred_name='Disease', cui='C0012634', semtypes='[dsyn]', trigger='[\"Disorder\"-tx-1-\"disorder\"-noun-0]', location='TX', pos_info='47/8', tree_codes='C23.550.288'), ConceptMMI(index='USER', mm='MMI', score='3.56', preferred_name='BODY MASS INDEX QUANTITATIVE TRAIT LOCUS 7', cui='C2675358', semtypes='[fndg]', trigger='[\"BODY MASS INDEX QUANTITATIVE TRAIT LOCUS 7\"-tx-1-\"body mass index quantitative trait locus 7\"-noun-0]', location='TX', pos_info='4/42', tree_codes='')], 'high grade squamous intra-epithelial lesion (hsil)': [ConceptMMI(index='USER', mm='MMI', score='46.23', preferred_name='High-Grade Squamous Intraepithelial Lesions', cui='C0333875', semtypes='[neop]', trigger='[\"HSIL\"-tx-1-\"hsil\"-noun-0,\"High-Grade Squamous Intraepithelial Lesion\"-tx-1-\"high grade squamous intra-epithelial lesion\"-noun-0]', location='TX', pos_info='49/4;4/43', tree_codes='C04.834.818.500;C13.351.500.852.593.074.500;C23.149.750')], 'non st segment elevation mi and unstable angina': [ConceptMMI(index='USER', mm='MMI', score='24.11', preferred_name='Angina, Unstable', cui='C0002965', semtypes='[dsyn]', trigger='[\"Angina, Unstable\"-tx-1-\"unstable angina\"-noun-1]', location='TX', pos_info='36/15', tree_codes='C14.280.647.187.150;C14.907.585.187.150;C23.888.592.612.233.500.150'), ConceptMMI(index='USER', mm='MMI', score='3.68', preferred_name='ST segment elevation (finding)', cui='C0520886', semtypes='[fndg]', trigger='[\"ST Segment Elevation\"-tx-1-\"st segment elevation\"-noun-1]', location='TX', pos_info='8/20', tree_codes=''), ConceptMMI(index='USER', mm='MMI', score='3.60', preferred_name='Myocardial Infarction ECG Assessment', cui='C3810814', semtypes='[diap]', trigger='[\"MI\"-tx-1-\"mi\"-noun-0]', location='TX', pos_info='29/2', tree_codes=''), ConceptMMI(index='USER', mm='MMI', score='3.60', preferred_name='Negation', cui='C1518422', semtypes='[ftcn]', trigger='[\"Non\"-tx-1-\"non\"-noun-0]', location='TX', pos_info='4/3', tree_codes='')], 'systolic and diastolic blood pressure levels': [ConceptMMI(index='USER', mm='MMI', score='17.80', preferred_name='Systole', cui='C0039155', semtypes='[tmco]', trigger='[\"Systolic\"-tx-1-\"systolic\"-adj-0]', location='TX', pos_info='4/8', tree_codes='G09.330.580.880;G11.427.494.570.880'), ConceptMMI(index='USER', mm='MMI', score='3.81', preferred_name='Diastolic blood pressure', cui='C0428883', semtypes='[clna]', trigger='[\"Diastolic Blood Pressure\"-tx-1-\"diastolic blood pressure\"-noun-0]', location='TX', pos_info='17/24', tree_codes=''), ConceptMMI(index='USER', mm='MMI', score='3.81', preferred_name='Diastolic blood pressure measurement', cui='C1305849', semtypes='[diap]', trigger='[\"diastolic blood pressure\"-tx-1-\"diastolic blood pressure\"-noun-0]', location='TX', pos_info='17/24', tree_codes=''), ConceptMMI(index='USER', mm='MMI', score='3.61', preferred_name='Levels (qualifier value)', cui='C0441889', semtypes='[qlco]', trigger='[\"Levels\"-tx-1-\"levels\"-noun-0]', location='TX', pos_info='42/6', tree_codes='')], 'high fat meal - adjusted insulin dose +30 percent': [ConceptMMI(index='USER', mm='MMI', score='22.38', preferred_name='Insulin', cui='C0021641', semtypes='[aapp,horm,phsu]', trigger='[\"INSULIN\"-tx-1-\"insulin\"-noun-0]', location='TX', pos_info='29/7', tree_codes='D06.472.699.587.200.500.625;D12.644.548.586.200.500.625'), ConceptMMI(index='USER', mm='MMI', score='12.95', preferred_name='Hyperinsulinism', cui='C0020459', semtypes='[dsyn]', trigger='[\"high insulin\"-tx-1-\"high insulin\"-noun-0]', location='TX', pos_info='4/4,29/7', tree_codes='C18.452.394.968'), ConceptMMI(index='USER', mm='MMI', score='12.91', preferred_name='Meal (occasion for eating)', cui='C1998602', semtypes='[dora]', trigger='[\"Meal\"-tx-1-\"meal\"-noun-0]', location='TX', pos_info='13/4', tree_codes='G07.203.300.590;J02.500.590'), ConceptMMI(index='USER', mm='MMI', score='12.91', preferred_name='Palmitic Acid', cui='C0030234', semtypes='[bacs,orch]', trigger='[\"FAT\"-tx-1-\"fat\"-noun-0]', location='TX', pos_info='9/3', tree_codes='D10.251.694.750'), ConceptMMI(index='USER', mm='MMI', score='3.59', preferred_name='Percent (qualifier value)', cui='C0439165', semtypes='[qnco]', trigger='[\"PERCENT\"-tx-1-\"percent\"-noun-0]', location='TX', pos_info='46/7', tree_codes=''), ConceptMMI(index='USER', mm='MMI', score='3.50', preferred_name='High dose', cui='C0444956', semtypes='[qnco]', trigger='[\"High dose\"-tx-1-\"high dose\"-noun-0]', location='TX', pos_info='4/4,37/4', tree_codes=''), ConceptMMI(index='USER', mm='MMI', score='3.46', preferred_name='Insulin regular:Mass:Pt:Dose:Qn', cui='C0366513', semtypes='[clna]', trigger='[\"Insulin Dose\"-tx-1-\"insulin dose\"-noun-0]', location='TX', pos_info='29/12', tree_codes=''), ConceptMMI(index='USER', mm='MMI', score='3.45', preferred_name='30%', cui='C3842588', semtypes='[qnco]', trigger='[\"30%\"-tx-1-\"30\"-integer-0]', location='TX', pos_info='43/2', tree_codes=''), ConceptMMI(index='USER', mm='MMI', score='3.45', preferred_name='Abnormally high', cui='C1299351', semtypes='[qlco]', trigger='[\"High\"-tx-1-\"high\"-noun-0]', location='TX', pos_info='4/4', tree_codes=''), ConceptMMI(index='USER', mm='MMI', score='3.45', preferred_name='Adjustment Action', cui='C0456081', semtypes='[ftcn]', trigger='[\"Adjusted\"-tx-1-\"adjusted\"-adj-0]', location='TX', pos_info='20/8', tree_codes=''), ConceptMMI(index='USER', mm='MMI', score='3.45', preferred_name='Dosage', cui='C0178602', semtypes='[qnco]', trigger='[\"DOSE\"-tx-1-\"dose\"-noun-0]', location='TX', pos_info='37/4', tree_codes=''), ConceptMMI(index='USER', mm='MMI', score='3.45', preferred_name='Dose number:Number:Point in time:^Patient:Quantitative', cui='C1114758', semtypes='[clna]', trigger='[\"Dose #\"-tx-1-\"dose\"-noun-0]', location='TX', pos_info='37/4', tree_codes=''), ConceptMMI(index='USER', mm='MMI', score='3.45', preferred_name='FAT1 wt Allele', cui='C1708004', semtypes='[gngm]', trigger='[\"FAT\"-tx-1-\"fat\"-noun-0]', location='TX', pos_info='9/3', tree_codes=''), ConceptMMI(index='USER', mm='MMI', score='3.45', preferred_name='High', cui='C0205250', semtypes='[qlco]', trigger='[\"High\"-tx-1-\"high\"-noun-0]', location='TX', pos_info='4/4', tree_codes=''), ConceptMMI(index='USER', mm='MMI', score='3.45', preferred_name='High Level', cui='C4321237', semtypes='[fndg]', trigger='[\"High\"-tx-1-\"high\"-noun-0]', location='TX', pos_info='4/4', tree_codes=''), ConceptMMI(index='USER', mm='MMI', score='3.45', preferred_name='High Mitosis-Karyorrhexis Index', cui='C3889660', semtypes='[qnco]', trigger='[\"High\"-tx-1-\"high\"-noun-0]', location='TX', pos_info='4/4', tree_codes=''), ConceptMMI(index='USER', mm='MMI', score='3.45', preferred_name='IPSS Risk Category High', cui='C4522209', semtypes='[inpr]', trigger='[\"High\"-tx-1-\"high\"-noun-0]', location='TX', pos_info='4/4', tree_codes=''), ConceptMMI(index='USER', mm='MMI', score='3.45', preferred_name='Insulin Drug Class', cui='C3714501', semtypes='[horm,phsu]', trigger='[\"INSULIN\"-tx-1-\"insulin\"-noun-0]', location='TX', pos_info='29/7', tree_codes=''), ConceptMMI(index='USER', mm='MMI', score='3.45', preferred_name='Insulin [EPC]', cui='C1579433', semtypes='[phsu]', trigger='[\"Insulin\"-tx-1-\"insulin\"-noun-0]', location='TX', pos_info='29/7', tree_codes=''), ConceptMMI(index='USER', mm='MMI', score='3.45', preferred_name='Obese build', cui='C0424612', semtypes='[orga]', trigger='[\"FAT\"-tx-1-\"fat\"-noun-0]', location='TX', pos_info='9/3', tree_codes=''), ConceptMMI(index='USER', mm='MMI', score='3.45', preferred_name='Platelet Glycoprotein 4, human', cui='C3887682', semtypes='[aapp,rcpt]', trigger='[\"FAT\"-tx-1-\"fat\"-noun-0]', location='TX', pos_info='9/3', tree_codes=''), ConceptMMI(index='USER', mm='MMI', score='3.45', preferred_name='Recombinant Insulin', cui='C1533581', semtypes='[aapp,horm,phsu]', trigger='[\"INSULIN\"-tx-1-\"insulin\"-noun-0]', location='TX', pos_info='29/7', tree_codes=''), ConceptMMI(index='USER', mm='MMI', score='3.45', preferred_name='Unit dose', cui='C0869039', semtypes='[qnco]', trigger='[\"Dose\"-tx-1-\"dose\"-noun-0]', location='TX', pos_info='37/4', tree_codes=''), ConceptMMI(index='USER', mm='MMI', score='3.45', preferred_name='Value Above Reference Range', cui='C2700149', semtypes='[inpr]', trigger='[\"HIGH\"-tx-1-\"high\"-noun-0]', location='TX', pos_info='4/4', tree_codes=''), ConceptMMI(index='USER', mm='MMI', score='3.45', preferred_name='high - ActExposureLevelCode', cui='C3887512', semtypes='[idcn]', trigger='[\"high\"-tx-1-\"high\"-noun-0]', location='TX', pos_info='4/4', tree_codes='')], 'advanced or metastatic esophageal squamous cell cancer without previous systemic chemotherapy': [ConceptMMI(index='USER', mm='MMI', score='5.18', preferred_name='Advanced phase', cui='C0205179', semtypes='[qlco]', trigger='[\"Advanced\"-tx-1-\"advanced\"-verb-0]', location='TX', pos_info='4/8', tree_codes=''), ConceptMMI(index='USER', mm='MMI', score='3.63', preferred_name='Stage IV Esophageal Squamous Cell Carcinoma', cui='C1142025', semtypes='[neop]', trigger='[\"Metastatic Esophageal Squamous Cell Carcinoma\"-tx-1-\"metastatic esophageal squamous cell cancer\"-noun-1]', location='TX', pos_info='16/42', tree_codes=''), ConceptMMI(index='USER', mm='MMI', score='3.43', preferred_name='Systemic Chemotherapy', cui='C1883256', semtypes='[topp]', trigger='[\"Systemic Chemotherapy\"-tx-1-\"systemic chemotherapy\"-noun-0]', location='TX', pos_info='76/21', tree_codes=''), ConceptMMI(index='USER', mm='MMI', score='3.42', preferred_name='Act Relationship Subset - previous', cui='C1552607', semtypes='[tmco]', trigger='[\"previous\"-tx-1-\"previous\"-adj-0]', location='TX', pos_info='67/8', tree_codes=''), ConceptMMI(index='USER', mm='MMI', score='3.42', preferred_name='Previous', cui='C0205156', semtypes='[tmco]', trigger='[\"Previous\"-tx-1-\"previous\"-adj-0]', location='TX', pos_info='67/8', tree_codes='')]}\n",
      "Duration with multiprocessing:  27.84127116203308\n"
     ]
    }
   ],
   "source": [
    "\n",
    "# Use shared variable to communicate. For example like this:\n",
    "\n",
    "import multiprocessing\n",
    "import time\n",
    "\n",
    "# def worker(procnum, return_dict):\n",
    "#     \"\"\"worker function\"\"\"\n",
    "#     print(str(procnum) + \" represent!\")\n",
    "#     return_dict[procnum] = procnum\n",
    "    \n",
    "def run_metamap(input_text, return_dict):\n",
    "    concepts,error = mm.extract_concepts([input_text])\n",
    "    return_dict[input_text] = concepts\n",
    "\n",
    "if __name__ == \"__main__\":\n",
    "    starttime1 = time.time()\n",
    "    manager = multiprocessing.Manager()\n",
    "    return_dict = manager.dict()\n",
    "    jobs = []\n",
    "    for k,v in test_dict.items():\n",
    "        p = multiprocessing.Process(target=run_metamap, args=(v, return_dict))\n",
    "        jobs.append(p)\n",
    "        p.start()\n",
    "\n",
    "    for proc in jobs:\n",
    "        proc.join()\n",
    "    endtime1 = time.time()    \n",
    "    print(return_dict)\n",
    "    print(\"Duration with multiprocessing: \", endtime1-starttime1)"
   ]
  },
  {
   "cell_type": "code",
   "execution_count": null,
   "metadata": {},
   "outputs": [],
   "source": []
  },
  {
   "cell_type": "code",
   "execution_count": 46,
   "metadata": {},
   "outputs": [
    {
     "name": "stdout",
     "output_type": "stream",
     "text": [
      "Duration without:  20.68429923057556\n"
     ]
    }
   ],
   "source": [
    "def run_metamap(input_text):\n",
    "    concepts_dict = dict()\n",
    "    concepts,error = mm.extract_concepts([input_text])\n",
    "    concepts_dict[input_text] = concepts\n",
    "    return(concepts_dict)\n",
    "\n",
    "starttime1 = time.time()\n",
    "master_dict = dict()\n",
    "for k,v in test_dict.items():\n",
    "    concepts_dict = run_metamap(v)\n",
    "    master_dict[k] = concepts_dict\n",
    "endtime1 = time.time()    \n",
    "print(\"Duration without: \", endtime1-starttime1)\n",
    "        \n"
   ]
  },
  {
   "cell_type": "code",
   "execution_count": 40,
   "metadata": {},
   "outputs": [
    {
     "data": {
      "text/plain": [
       "{'schizophreniform disorder': {'schizophreniform disorder': [ConceptMMI(index='USER', mm='MMI', score='10.06', preferred_name='Schizophreniform Disorders', cui='C0036358', semtypes='[mobd]', trigger='[\"Schizophreniform Disorder\"-tx-1-\"schizophreniform disorder\"-noun-0]', location='TX', pos_info='4/25', tree_codes='F03.700.675')]},\n",
       " 'high fat meal - adjusted insulin dose +30 percent': {'high fat meal - adjusted insulin dose +30 percent': [ConceptMMI(index='USER', mm='MMI', score='22.38', preferred_name='Insulin', cui='C0021641', semtypes='[aapp,horm,phsu]', trigger='[\"INSULIN\"-tx-1-\"insulin\"-noun-0]', location='TX', pos_info='29/7', tree_codes='D06.472.699.587.200.500.625;D12.644.548.586.200.500.625'),\n",
       "   ConceptMMI(index='USER', mm='MMI', score='12.95', preferred_name='Hyperinsulinism', cui='C0020459', semtypes='[dsyn]', trigger='[\"high insulin\"-tx-1-\"high insulin\"-noun-0]', location='TX', pos_info='4/4,29/7', tree_codes='C18.452.394.968'),\n",
       "   ConceptMMI(index='USER', mm='MMI', score='12.91', preferred_name='Meal (occasion for eating)', cui='C1998602', semtypes='[dora]', trigger='[\"Meal\"-tx-1-\"meal\"-noun-0]', location='TX', pos_info='13/4', tree_codes='G07.203.300.590;J02.500.590'),\n",
       "   ConceptMMI(index='USER', mm='MMI', score='12.91', preferred_name='Palmitic Acid', cui='C0030234', semtypes='[bacs,orch]', trigger='[\"FAT\"-tx-1-\"fat\"-noun-0]', location='TX', pos_info='9/3', tree_codes='D10.251.694.750'),\n",
       "   ConceptMMI(index='USER', mm='MMI', score='3.59', preferred_name='Percent (qualifier value)', cui='C0439165', semtypes='[qnco]', trigger='[\"PERCENT\"-tx-1-\"percent\"-noun-0]', location='TX', pos_info='46/7', tree_codes=''),\n",
       "   ConceptMMI(index='USER', mm='MMI', score='3.50', preferred_name='High dose', cui='C0444956', semtypes='[qnco]', trigger='[\"High dose\"-tx-1-\"high dose\"-noun-0]', location='TX', pos_info='4/4,37/4', tree_codes=''),\n",
       "   ConceptMMI(index='USER', mm='MMI', score='3.46', preferred_name='Insulin regular:Mass:Pt:Dose:Qn', cui='C0366513', semtypes='[clna]', trigger='[\"Insulin Dose\"-tx-1-\"insulin dose\"-noun-0]', location='TX', pos_info='29/12', tree_codes=''),\n",
       "   ConceptMMI(index='USER', mm='MMI', score='3.45', preferred_name='30%', cui='C3842588', semtypes='[qnco]', trigger='[\"30%\"-tx-1-\"30\"-integer-0]', location='TX', pos_info='43/2', tree_codes=''),\n",
       "   ConceptMMI(index='USER', mm='MMI', score='3.45', preferred_name='Abnormally high', cui='C1299351', semtypes='[qlco]', trigger='[\"High\"-tx-1-\"high\"-noun-0]', location='TX', pos_info='4/4', tree_codes=''),\n",
       "   ConceptMMI(index='USER', mm='MMI', score='3.45', preferred_name='Adjustment Action', cui='C0456081', semtypes='[ftcn]', trigger='[\"Adjusted\"-tx-1-\"adjusted\"-adj-0]', location='TX', pos_info='20/8', tree_codes=''),\n",
       "   ConceptMMI(index='USER', mm='MMI', score='3.45', preferred_name='Dosage', cui='C0178602', semtypes='[qnco]', trigger='[\"DOSE\"-tx-1-\"dose\"-noun-0]', location='TX', pos_info='37/4', tree_codes=''),\n",
       "   ConceptMMI(index='USER', mm='MMI', score='3.45', preferred_name='Dose number:Number:Point in time:^Patient:Quantitative', cui='C1114758', semtypes='[clna]', trigger='[\"Dose #\"-tx-1-\"dose\"-noun-0]', location='TX', pos_info='37/4', tree_codes=''),\n",
       "   ConceptMMI(index='USER', mm='MMI', score='3.45', preferred_name='FAT1 wt Allele', cui='C1708004', semtypes='[gngm]', trigger='[\"FAT\"-tx-1-\"fat\"-noun-0]', location='TX', pos_info='9/3', tree_codes=''),\n",
       "   ConceptMMI(index='USER', mm='MMI', score='3.45', preferred_name='High', cui='C0205250', semtypes='[qlco]', trigger='[\"High\"-tx-1-\"high\"-noun-0]', location='TX', pos_info='4/4', tree_codes=''),\n",
       "   ConceptMMI(index='USER', mm='MMI', score='3.45', preferred_name='High Level', cui='C4321237', semtypes='[fndg]', trigger='[\"High\"-tx-1-\"high\"-noun-0]', location='TX', pos_info='4/4', tree_codes=''),\n",
       "   ConceptMMI(index='USER', mm='MMI', score='3.45', preferred_name='High Mitosis-Karyorrhexis Index', cui='C3889660', semtypes='[qnco]', trigger='[\"High\"-tx-1-\"high\"-noun-0]', location='TX', pos_info='4/4', tree_codes=''),\n",
       "   ConceptMMI(index='USER', mm='MMI', score='3.45', preferred_name='IPSS Risk Category High', cui='C4522209', semtypes='[inpr]', trigger='[\"High\"-tx-1-\"high\"-noun-0]', location='TX', pos_info='4/4', tree_codes=''),\n",
       "   ConceptMMI(index='USER', mm='MMI', score='3.45', preferred_name='Insulin Drug Class', cui='C3714501', semtypes='[horm,phsu]', trigger='[\"INSULIN\"-tx-1-\"insulin\"-noun-0]', location='TX', pos_info='29/7', tree_codes=''),\n",
       "   ConceptMMI(index='USER', mm='MMI', score='3.45', preferred_name='Insulin [EPC]', cui='C1579433', semtypes='[phsu]', trigger='[\"Insulin\"-tx-1-\"insulin\"-noun-0]', location='TX', pos_info='29/7', tree_codes=''),\n",
       "   ConceptMMI(index='USER', mm='MMI', score='3.45', preferred_name='Obese build', cui='C0424612', semtypes='[orga]', trigger='[\"FAT\"-tx-1-\"fat\"-noun-0]', location='TX', pos_info='9/3', tree_codes=''),\n",
       "   ConceptMMI(index='USER', mm='MMI', score='3.45', preferred_name='Platelet Glycoprotein 4, human', cui='C3887682', semtypes='[aapp,rcpt]', trigger='[\"FAT\"-tx-1-\"fat\"-noun-0]', location='TX', pos_info='9/3', tree_codes=''),\n",
       "   ConceptMMI(index='USER', mm='MMI', score='3.45', preferred_name='Recombinant Insulin', cui='C1533581', semtypes='[aapp,horm,phsu]', trigger='[\"INSULIN\"-tx-1-\"insulin\"-noun-0]', location='TX', pos_info='29/7', tree_codes=''),\n",
       "   ConceptMMI(index='USER', mm='MMI', score='3.45', preferred_name='Unit dose', cui='C0869039', semtypes='[qnco]', trigger='[\"Dose\"-tx-1-\"dose\"-noun-0]', location='TX', pos_info='37/4', tree_codes=''),\n",
       "   ConceptMMI(index='USER', mm='MMI', score='3.45', preferred_name='Value Above Reference Range', cui='C2700149', semtypes='[inpr]', trigger='[\"HIGH\"-tx-1-\"high\"-noun-0]', location='TX', pos_info='4/4', tree_codes=''),\n",
       "   ConceptMMI(index='USER', mm='MMI', score='3.45', preferred_name='high - ActExposureLevelCode', cui='C3887512', semtypes='[idcn]', trigger='[\"high\"-tx-1-\"high\"-noun-0]', location='TX', pos_info='4/4', tree_codes='')]},\n",
       " 'non nutritive sweeteners consumption': {'non nutritive sweeteners consumption': [ConceptMMI(index='USER', mm='MMI', score='25.60', preferred_name='Non-Nutritive Sweeteners', cui='C3658246', semtypes='[chvf]', trigger='[\"Non-Nutritive Sweeteners\"-tx-1-\"non nutritive sweeteners\"-noun-0]', location='TX', pos_info='4/24', tree_codes='D27.720.372.300.353.609.500;G07.203.300.514.500.400.700.500;J02.500.514.500.400.700.500'),\n",
       "   ConceptMMI(index='USER', mm='MMI', score='3.60', preferred_name='Consumption of goods', cui='C0009830', semtypes='[acty]', trigger='[\"Consumption\"-tx-1-\"consumption\"-noun-0]', location='TX', pos_info='29/11', tree_codes=''),\n",
       "   ConceptMMI(index='USER', mm='MMI', score='3.60', preferred_name='biologic consumption', cui='C1947907', semtypes='[phsf]', trigger='[\"Consumption\"-tx-1-\"consumption\"-noun-1]', location='TX', pos_info='29/11', tree_codes='')]},\n",
       " 'venous occlusion': {'venous occlusion': [ConceptMMI(index='USER', mm='MMI', score='3.75', preferred_name='Venoocclusive disease', cui='C0948441', semtypes='[dsyn]', trigger='[\"VENOUS OCCLUSION\"-tx-1-\"venous occlusion\"-noun-0]', location='TX', pos_info='4/16', tree_codes=''),\n",
       "   ConceptMMI(index='USER', mm='MMI', score='3.75', preferred_name='Venous occlusion', cui='C4281554', semtypes='[topp]', trigger='[\"Venous occlusion\"-tx-1-\"venous occlusion\"-noun-0]', location='TX', pos_info='4/16', tree_codes='')]},\n",
       " 'drug dependence,': {'drug dependence ': [ConceptMMI(index='USER', mm='MMI', score='6.91', preferred_name='Drug Dependence', cui='C1510472', semtypes='[mobd]', trigger='[\"DRUG DEPENDENCE\"-tx-1-\"drug dependence\"-noun-0]', location='TX', pos_info='4/15', tree_codes='C25.775;F03.900')]},\n",
       " 'lumbar spine fusion': {'lumbar spine fusion': [ConceptMMI(index='USER', mm='MMI', score='3.81', preferred_name='Lumbar spinal fusion', cui='C0186045', semtypes='[topp]', trigger='[\"lumbar spine fusion\"-tx-1-\"lumbar spine fusion\"-noun-0]', location='TX', pos_info='4/19', tree_codes='')]},\n",
       " 'cystic fibrosis, pulmonary': {'cystic fibrosis  pulmonary': [ConceptMMI(index='USER', mm='MMI', score='10.06', preferred_name='Cystic Fibrosis', cui='C0010674', semtypes='[dsyn]', trigger='[\"CYSTIC FIBROSIS\"-tx-1-\"cystic fibrosis\"-noun-0]', location='TX', pos_info='4/15', tree_codes='C06.689.202;C08.381.187;C16.320.190;C16.614.213'),\n",
       "   ConceptMMI(index='USER', mm='MMI', score='8.34', preferred_name='Lung', cui='C0024109', semtypes='[bpoc]', trigger='[\"pulmonary\"-tx-1-\"pulmonary\"-adj-0]', location='TX', pos_info='21/9', tree_codes='A04.411'),\n",
       "   ConceptMMI(index='USER', mm='MMI', score='5.18', preferred_name='Pulmonary (intended site)', cui='C4522268', semtypes='[fndg]', trigger='[\"Pulmonary\"-tx-1-\"pulmonary\"-adj-0]', location='TX', pos_info='21/9', tree_codes=''),\n",
       "   ConceptMMI(index='USER', mm='MMI', score='5.18', preferred_name='Pulmonary (qualifier value)', cui='C2709248', semtypes='[qlco]', trigger='[\"Pulmonary\"-tx-1-\"pulmonary\"-adj-0]', location='TX', pos_info='21/9', tree_codes=''),\n",
       "   ConceptMMI(index='USER', mm='MMI', score='5.18', preferred_name='Pulmonary:-:Point in time:^Patient:-', cui='C2707265', semtypes='[clna]', trigger='[\"Pulmonary\"-tx-1-\"pulmonary\"-adj-0]', location='TX', pos_info='21/9', tree_codes='')]},\n",
       " 'deep neck space infections': {'deep neck space infections': [ConceptMMI(index='USER', mm='MMI', score='6.76', preferred_name='Infection', cui='C3714514', semtypes='[patf]', trigger='[\"Infections\"-tx-1-\"infections\"-noun-0]', location='TX', pos_info='20/10', tree_codes='C01.539'),\n",
       "   ConceptMMI(index='USER', mm='MMI', score='6.61', preferred_name='Neck', cui='C0027530', semtypes='[blor]', trigger='[\"NECK\"-tx-1-\"neck\"-noun-0]', location='TX', pos_info='9/4', tree_codes='A01.598'),\n",
       "   ConceptMMI(index='USER', mm='MMI', score='3.46', preferred_name='Deep (qualifier value)', cui='C0205125', semtypes='[spco]', trigger='[\"DEEP\"-tx-1-\"deep\"-adj-0]', location='TX', pos_info='4/4', tree_codes=''),\n",
       "   ConceptMMI(index='USER', mm='MMI', score='3.46', preferred_name='Deep Resection Margin', cui='C4318566', semtypes='[clna]', trigger='[\"Deep\"-tx-1-\"deep\"-adj-0]', location='TX', pos_info='4/4', tree_codes=''),\n",
       "   ConceptMMI(index='USER', mm='MMI', score='3.46', preferred_name='Space - property', cui='C1883067', semtypes='[spco]', trigger='[\"Space\"-tx-1-\"space\"-noun-0]', location='TX', pos_info='14/5', tree_codes=''),\n",
       "   ConceptMMI(index='USER', mm='MMI', score='3.46', preferred_name='dendritic spine neck', cui='C3159206', semtypes='[celc]', trigger='[\"neck\"-tx-1-\"neck\"-noun-0]', location='TX', pos_info='9/4', tree_codes='')]},\n",
       " 'mature b-cell lymphoma': {'mature b-cell lymphoma': [ConceptMMI(index='USER', mm='MMI', score='3.85', preferred_name='Mature B-Cell Non-Hodgkin Lymphoma', cui='C1334634', semtypes='[neop]', trigger='[\"Mature B-Cell Lymphoma\"-tx-1-\"mature b-cell lymphoma\"-noun-0]', location='TX', pos_info='4/22', tree_codes='')]},\n",
       " 'high grade squamous intra-epithelial lesion (hsil)': {'high grade squamous intra-epithelial lesion (hsil)': [ConceptMMI(index='USER', mm='MMI', score='46.23', preferred_name='High-Grade Squamous Intraepithelial Lesions', cui='C0333875', semtypes='[neop]', trigger='[\"HSIL\"-tx-1-\"hsil\"-noun-0,\"High-Grade Squamous Intraepithelial Lesion\"-tx-1-\"high grade squamous intra-epithelial lesion\"-noun-0]', location='TX', pos_info='49/4;4/43', tree_codes='C04.834.818.500;C13.351.500.852.593.074.500;C23.149.750')]},\n",
       " 'non st segment elevation mi and unstable angina': {'non st segment elevation mi and unstable angina': [ConceptMMI(index='USER', mm='MMI', score='24.11', preferred_name='Angina, Unstable', cui='C0002965', semtypes='[dsyn]', trigger='[\"Angina, Unstable\"-tx-1-\"unstable angina\"-noun-1]', location='TX', pos_info='36/15', tree_codes='C14.280.647.187.150;C14.907.585.187.150;C23.888.592.612.233.500.150'),\n",
       "   ConceptMMI(index='USER', mm='MMI', score='3.68', preferred_name='ST segment elevation (finding)', cui='C0520886', semtypes='[fndg]', trigger='[\"ST Segment Elevation\"-tx-1-\"st segment elevation\"-noun-1]', location='TX', pos_info='8/20', tree_codes=''),\n",
       "   ConceptMMI(index='USER', mm='MMI', score='3.60', preferred_name='Myocardial Infarction ECG Assessment', cui='C3810814', semtypes='[diap]', trigger='[\"MI\"-tx-1-\"mi\"-noun-0]', location='TX', pos_info='29/2', tree_codes=''),\n",
       "   ConceptMMI(index='USER', mm='MMI', score='3.60', preferred_name='Negation', cui='C1518422', semtypes='[ftcn]', trigger='[\"Non\"-tx-1-\"non\"-noun-0]', location='TX', pos_info='4/3', tree_codes='')]},\n",
       " 'strabismic amblyopia': {'strabismic amblyopia': [ConceptMMI(index='USER', mm='MMI', score='19.52', preferred_name='Amblyopia, Suppression', cui='C0750903', semtypes='[dsyn]', trigger='[\"Amblyopia, strabismic\"-tx-1-\"strabismic amblyopia\"-noun-0]', location='TX', pos_info='4/20', tree_codes='C10.228.140.055;C10.597.751.941.073;C11.966.073;C23.888.592.763.941.073')]},\n",
       " 'body mass index quantitative trait locus 7 disorder': {'body mass index quantitative trait locus 7 disorder': [ConceptMMI(index='USER', mm='MMI', score='9.90', preferred_name='Disease', cui='C0012634', semtypes='[dsyn]', trigger='[\"Disorder\"-tx-1-\"disorder\"-noun-0]', location='TX', pos_info='47/8', tree_codes='C23.550.288'),\n",
       "   ConceptMMI(index='USER', mm='MMI', score='3.56', preferred_name='BODY MASS INDEX QUANTITATIVE TRAIT LOCUS 7', cui='C2675358', semtypes='[fndg]', trigger='[\"BODY MASS INDEX QUANTITATIVE TRAIT LOCUS 7\"-tx-1-\"body mass index quantitative trait locus 7\"-noun-0]', location='TX', pos_info='4/42', tree_codes='')]},\n",
       " 'growth retardation': {'growth retardation': [ConceptMMI(index='USER', mm='MMI', score='3.75', preferred_name='Growth retardation', cui='C0151686', semtypes='[patf]', trigger='[\"GROWTH RETARDATION\"-tx-1-\"growth retardation\"-noun-0]', location='TX', pos_info='4/18', tree_codes='')]},\n",
       " 'sedation during': {'sedation during': [ConceptMMI(index='USER', mm='MMI', score='3.59', preferred_name='Sedated state', cui='C0235195', semtypes='[fndg]', trigger='[\"Sedation\"-tx-1-\"sedation\"-noun-0]', location='TX', pos_info='4/8', tree_codes=''),\n",
       "   ConceptMMI(index='USER', mm='MMI', score='3.59', preferred_name='Sedation procedure', cui='C0344106', semtypes='[topp]', trigger='[\"Sedation\"-tx-1-\"sedation\"-noun-0]', location='TX', pos_info='4/8', tree_codes='')]},\n",
       " 'systolic and diastolic blood pressure levels': {'systolic and diastolic blood pressure levels': [ConceptMMI(index='USER', mm='MMI', score='17.80', preferred_name='Systole', cui='C0039155', semtypes='[tmco]', trigger='[\"Systolic\"-tx-1-\"systolic\"-adj-0]', location='TX', pos_info='4/8', tree_codes='G09.330.580.880;G11.427.494.570.880'),\n",
       "   ConceptMMI(index='USER', mm='MMI', score='3.81', preferred_name='Diastolic blood pressure', cui='C0428883', semtypes='[clna]', trigger='[\"Diastolic Blood Pressure\"-tx-1-\"diastolic blood pressure\"-noun-0]', location='TX', pos_info='17/24', tree_codes=''),\n",
       "   ConceptMMI(index='USER', mm='MMI', score='3.81', preferred_name='Diastolic blood pressure measurement', cui='C1305849', semtypes='[diap]', trigger='[\"diastolic blood pressure\"-tx-1-\"diastolic blood pressure\"-noun-0]', location='TX', pos_info='17/24', tree_codes=''),\n",
       "   ConceptMMI(index='USER', mm='MMI', score='3.61', preferred_name='Levels (qualifier value)', cui='C0441889', semtypes='[qlco]', trigger='[\"Levels\"-tx-1-\"levels\"-noun-0]', location='TX', pos_info='42/6', tree_codes='')]},\n",
       " 'muscle diseases': {'muscle diseases': [ConceptMMI(index='USER', mm='MMI', score='10.06', preferred_name='Myopathy', cui='C0026848', semtypes='[dsyn]', trigger='[\"Muscle Diseases\"-tx-1-\"muscle diseases\"-noun-0]', location='TX', pos_info='4/15', tree_codes='C05.651;C10.668.491')]},\n",
       " 'advanced or metastatic esophageal squamous cell cancer without previous systemic chemotherapy': {'advanced or metastatic esophageal squamous cell cancer without previous systemic chemotherapy': [ConceptMMI(index='USER', mm='MMI', score='5.18', preferred_name='Advanced phase', cui='C0205179', semtypes='[qlco]', trigger='[\"Advanced\"-tx-1-\"advanced\"-verb-0]', location='TX', pos_info='4/8', tree_codes=''),\n",
       "   ConceptMMI(index='USER', mm='MMI', score='3.63', preferred_name='Stage IV Esophageal Squamous Cell Carcinoma', cui='C1142025', semtypes='[neop]', trigger='[\"Metastatic Esophageal Squamous Cell Carcinoma\"-tx-1-\"metastatic esophageal squamous cell cancer\"-noun-1]', location='TX', pos_info='16/42', tree_codes=''),\n",
       "   ConceptMMI(index='USER', mm='MMI', score='3.43', preferred_name='Systemic Chemotherapy', cui='C1883256', semtypes='[topp]', trigger='[\"Systemic Chemotherapy\"-tx-1-\"systemic chemotherapy\"-noun-0]', location='TX', pos_info='76/21', tree_codes=''),\n",
       "   ConceptMMI(index='USER', mm='MMI', score='3.42', preferred_name='Act Relationship Subset - previous', cui='C1552607', semtypes='[tmco]', trigger='[\"previous\"-tx-1-\"previous\"-adj-0]', location='TX', pos_info='67/8', tree_codes=''),\n",
       "   ConceptMMI(index='USER', mm='MMI', score='3.42', preferred_name='Previous', cui='C0205156', semtypes='[tmco]', trigger='[\"Previous\"-tx-1-\"previous\"-adj-0]', location='TX', pos_info='67/8', tree_codes='')]},\n",
       " 'rhytides': {'rhytides': [ConceptMMI(index='USER', mm='MMI', score='9.99', preferred_name='Skin Wrinkling', cui='C0037301', semtypes='[fndg]', trigger='[\"rhytides\"-tx-1-\"rhytides\"-noun-0]', location='TX', pos_info='4/8', tree_codes='G13.750.804'),\n",
       "   ConceptMMI(index='USER', mm='MMI', score='3.68', preferred_name='Wrinkled structure', cui='C2729169', semtypes='[anab]', trigger='[\"Rhytides\"-tx-1-\"rhytides\"-noun-0]', location='TX', pos_info='4/8', tree_codes='')]},\n",
       " 'major neurocognitive disorder with aggressive behavior': {'major neurocognitive disorder with aggressive behavior': [ConceptMMI(index='USER', mm='MMI', score='3.88', preferred_name='Major neurocognitive disorder with aggressive behavior', cui='C4268194', semtypes='[mobd]', trigger='[\"Major neurocognitive disorder with aggressive behavior\"-tx-1-\"major neurocognitive disorder with aggressive behavior\"-noun-0]', location='TX', pos_info='4/54', tree_codes='')]}}"
      ]
     },
     "execution_count": 40,
     "metadata": {},
     "output_type": "execute_result"
    }
   ],
   "source": [
    "master_dict"
   ]
  },
  {
   "cell_type": "code",
   "execution_count": null,
   "metadata": {},
   "outputs": [],
   "source": [
    "from multiprocessing import Pool\n",
    "\n",
    "def func(x):\n",
    "    return x*x\n",
    "\n",
    "if __name__ == '__main__':\n",
    "    with Pool(4) as p:\n",
    "        print(p.map(func, [1, 2, 3]))"
   ]
  },
  {
   "cell_type": "code",
   "execution_count": null,
   "metadata": {},
   "outputs": [],
   "source": [
    "from multiprocessing import Pool\n",
    "\n",
    "def run_metamap(input_text):\n",
    "    concepts_dict = dict()\n",
    "    concepts,error = mm.extract_concepts([input_text])\n",
    "    concepts_dict[input_text] = concepts\n",
    "#     return(concepts_dict)\n",
    "\n",
    "if __name__ == '__main__':\n",
    "    startime = time.time() \n",
    "    manager = multiprocessing.Manager()\n",
    "    result = manager.dict()\n",
    "    with Pool(2) as p:\n",
    "        print(p.map(run_metamap, test_dict.values()))\n",
    "    endtime = time.time()    \n"
   ]
  },
  {
   "cell_type": "code",
   "execution_count": null,
   "metadata": {},
   "outputs": [],
   "source": [
    "from multiprocessing import Pool\n",
    "\n",
    "def func(x):\n",
    "    return x*x\n",
    "\n",
    "if __name__ == '__main__':\n",
    "    with Pool(5) as p:\n",
    "        print(p.map(func, [1, 2, 3]))"
   ]
  },
  {
   "cell_type": "code",
   "execution_count": 48,
   "metadata": {},
   "outputs": [],
   "source": [
    "import multiprocessing\n",
    "def createpdf(data):\n",
    "    return (\"This is my pdf data: %s\\n\" % data, 0)\n",
    "\n",
    "\n",
    "data = [ \"My data\", \"includes\", \"strings and\", \"numbers like\", 42, \"and\", 3.14]\n",
    "number_of_processes = 5\n",
    "results = multiprocessing.Pool(number_of_processes).map(createpdf, data)\n",
    "outputs = [result[0] for result in results]\n",
    "pdfoutput = \"\".join(outputs)"
   ]
  },
  {
   "cell_type": "code",
   "execution_count": 49,
   "metadata": {},
   "outputs": [
    {
     "data": {
      "text/plain": [
       "'This is my pdf data: My data\\nThis is my pdf data: includes\\nThis is my pdf data: strings and\\nThis is my pdf data: numbers like\\nThis is my pdf data: 42\\nThis is my pdf data: and\\nThis is my pdf data: 3.14\\n'"
      ]
     },
     "execution_count": 49,
     "metadata": {},
     "output_type": "execute_result"
    }
   ],
   "source": [
    "pdfoutput"
   ]
  },
  {
   "cell_type": "code",
   "execution_count": 54,
   "metadata": {},
   "outputs": [],
   "source": [
    "def run_metamap(input_text):\n",
    "    concepts_dict = dict()\n",
    "    concepts,error = mm.extract_concepts([input_text])\n",
    "    concepts_dict[input_text] = concepts\n",
    "    return(concepts_dict)"
   ]
  },
  {
   "cell_type": "code",
   "execution_count": 55,
   "metadata": {},
   "outputs": [
    {
     "name": "stdout",
     "output_type": "stream",
     "text": [
      "{'schizophreniform disorder': [ConceptMMI(index='USER', mm='MMI', score='10.06', preferred_name='Schizophreniform Disorders', cui='C0036358', semtypes='[mobd]', trigger='[\"Schizophreniform Disorder\"-tx-1-\"schizophreniform disorder\"-noun-0]', location='TX', pos_info='4/25', tree_codes='F03.700.675')]}\n",
      "{'high fat meal - adjusted insulin dose +30 percent': [ConceptMMI(index='USER', mm='MMI', score='22.38', preferred_name='Insulin', cui='C0021641', semtypes='[aapp,horm,phsu]', trigger='[\"INSULIN\"-tx-1-\"insulin\"-noun-0]', location='TX', pos_info='29/7', tree_codes='D06.472.699.587.200.500.625;D12.644.548.586.200.500.625'), ConceptMMI(index='USER', mm='MMI', score='12.95', preferred_name='Hyperinsulinism', cui='C0020459', semtypes='[dsyn]', trigger='[\"high insulin\"-tx-1-\"high insulin\"-noun-0]', location='TX', pos_info='4/4,29/7', tree_codes='C18.452.394.968'), ConceptMMI(index='USER', mm='MMI', score='12.91', preferred_name='Meal (occasion for eating)', cui='C1998602', semtypes='[dora]', trigger='[\"Meal\"-tx-1-\"meal\"-noun-0]', location='TX', pos_info='13/4', tree_codes='G07.203.300.590;J02.500.590'), ConceptMMI(index='USER', mm='MMI', score='12.91', preferred_name='Palmitic Acid', cui='C0030234', semtypes='[bacs,orch]', trigger='[\"FAT\"-tx-1-\"fat\"-noun-0]', location='TX', pos_info='9/3', tree_codes='D10.251.694.750'), ConceptMMI(index='USER', mm='MMI', score='3.59', preferred_name='Percent (qualifier value)', cui='C0439165', semtypes='[qnco]', trigger='[\"PERCENT\"-tx-1-\"percent\"-noun-0]', location='TX', pos_info='46/7', tree_codes=''), ConceptMMI(index='USER', mm='MMI', score='3.50', preferred_name='High dose', cui='C0444956', semtypes='[qnco]', trigger='[\"High dose\"-tx-1-\"high dose\"-noun-0]', location='TX', pos_info='4/4,37/4', tree_codes=''), ConceptMMI(index='USER', mm='MMI', score='3.46', preferred_name='Insulin regular:Mass:Pt:Dose:Qn', cui='C0366513', semtypes='[clna]', trigger='[\"Insulin Dose\"-tx-1-\"insulin dose\"-noun-0]', location='TX', pos_info='29/12', tree_codes=''), ConceptMMI(index='USER', mm='MMI', score='3.45', preferred_name='30%', cui='C3842588', semtypes='[qnco]', trigger='[\"30%\"-tx-1-\"30\"-integer-0]', location='TX', pos_info='43/2', tree_codes=''), ConceptMMI(index='USER', mm='MMI', score='3.45', preferred_name='Abnormally high', cui='C1299351', semtypes='[qlco]', trigger='[\"High\"-tx-1-\"high\"-noun-0]', location='TX', pos_info='4/4', tree_codes=''), ConceptMMI(index='USER', mm='MMI', score='3.45', preferred_name='Adjustment Action', cui='C0456081', semtypes='[ftcn]', trigger='[\"Adjusted\"-tx-1-\"adjusted\"-adj-0]', location='TX', pos_info='20/8', tree_codes=''), ConceptMMI(index='USER', mm='MMI', score='3.45', preferred_name='Dosage', cui='C0178602', semtypes='[qnco]', trigger='[\"DOSE\"-tx-1-\"dose\"-noun-0]', location='TX', pos_info='37/4', tree_codes=''), ConceptMMI(index='USER', mm='MMI', score='3.45', preferred_name='Dose number:Number:Point in time:^Patient:Quantitative', cui='C1114758', semtypes='[clna]', trigger='[\"Dose #\"-tx-1-\"dose\"-noun-0]', location='TX', pos_info='37/4', tree_codes=''), ConceptMMI(index='USER', mm='MMI', score='3.45', preferred_name='FAT1 wt Allele', cui='C1708004', semtypes='[gngm]', trigger='[\"FAT\"-tx-1-\"fat\"-noun-0]', location='TX', pos_info='9/3', tree_codes=''), ConceptMMI(index='USER', mm='MMI', score='3.45', preferred_name='High', cui='C0205250', semtypes='[qlco]', trigger='[\"High\"-tx-1-\"high\"-noun-0]', location='TX', pos_info='4/4', tree_codes=''), ConceptMMI(index='USER', mm='MMI', score='3.45', preferred_name='High Level', cui='C4321237', semtypes='[fndg]', trigger='[\"High\"-tx-1-\"high\"-noun-0]', location='TX', pos_info='4/4', tree_codes=''), ConceptMMI(index='USER', mm='MMI', score='3.45', preferred_name='High Mitosis-Karyorrhexis Index', cui='C3889660', semtypes='[qnco]', trigger='[\"High\"-tx-1-\"high\"-noun-0]', location='TX', pos_info='4/4', tree_codes=''), ConceptMMI(index='USER', mm='MMI', score='3.45', preferred_name='IPSS Risk Category High', cui='C4522209', semtypes='[inpr]', trigger='[\"High\"-tx-1-\"high\"-noun-0]', location='TX', pos_info='4/4', tree_codes=''), ConceptMMI(index='USER', mm='MMI', score='3.45', preferred_name='Insulin Drug Class', cui='C3714501', semtypes='[horm,phsu]', trigger='[\"INSULIN\"-tx-1-\"insulin\"-noun-0]', location='TX', pos_info='29/7', tree_codes=''), ConceptMMI(index='USER', mm='MMI', score='3.45', preferred_name='Insulin [EPC]', cui='C1579433', semtypes='[phsu]', trigger='[\"Insulin\"-tx-1-\"insulin\"-noun-0]', location='TX', pos_info='29/7', tree_codes=''), ConceptMMI(index='USER', mm='MMI', score='3.45', preferred_name='Obese build', cui='C0424612', semtypes='[orga]', trigger='[\"FAT\"-tx-1-\"fat\"-noun-0]', location='TX', pos_info='9/3', tree_codes=''), ConceptMMI(index='USER', mm='MMI', score='3.45', preferred_name='Platelet Glycoprotein 4, human', cui='C3887682', semtypes='[aapp,rcpt]', trigger='[\"FAT\"-tx-1-\"fat\"-noun-0]', location='TX', pos_info='9/3', tree_codes=''), ConceptMMI(index='USER', mm='MMI', score='3.45', preferred_name='Recombinant Insulin', cui='C1533581', semtypes='[aapp,horm,phsu]', trigger='[\"INSULIN\"-tx-1-\"insulin\"-noun-0]', location='TX', pos_info='29/7', tree_codes=''), ConceptMMI(index='USER', mm='MMI', score='3.45', preferred_name='Unit dose', cui='C0869039', semtypes='[qnco]', trigger='[\"Dose\"-tx-1-\"dose\"-noun-0]', location='TX', pos_info='37/4', tree_codes=''), ConceptMMI(index='USER', mm='MMI', score='3.45', preferred_name='Value Above Reference Range', cui='C2700149', semtypes='[inpr]', trigger='[\"HIGH\"-tx-1-\"high\"-noun-0]', location='TX', pos_info='4/4', tree_codes=''), ConceptMMI(index='USER', mm='MMI', score='3.45', preferred_name='high - ActExposureLevelCode', cui='C3887512', semtypes='[idcn]', trigger='[\"high\"-tx-1-\"high\"-noun-0]', location='TX', pos_info='4/4', tree_codes='')]}\n",
      "{'non nutritive sweeteners consumption': [ConceptMMI(index='USER', mm='MMI', score='25.60', preferred_name='Non-Nutritive Sweeteners', cui='C3658246', semtypes='[chvf]', trigger='[\"Non-Nutritive Sweeteners\"-tx-1-\"non nutritive sweeteners\"-noun-0]', location='TX', pos_info='4/24', tree_codes='D27.720.372.300.353.609.500;G07.203.300.514.500.400.700.500;J02.500.514.500.400.700.500'), ConceptMMI(index='USER', mm='MMI', score='3.60', preferred_name='Consumption of goods', cui='C0009830', semtypes='[acty]', trigger='[\"Consumption\"-tx-1-\"consumption\"-noun-0]', location='TX', pos_info='29/11', tree_codes=''), ConceptMMI(index='USER', mm='MMI', score='3.60', preferred_name='biologic consumption', cui='C1947907', semtypes='[phsf]', trigger='[\"Consumption\"-tx-1-\"consumption\"-noun-1]', location='TX', pos_info='29/11', tree_codes='')]}\n",
      "{'venous occlusion': [ConceptMMI(index='USER', mm='MMI', score='3.75', preferred_name='Venoocclusive disease', cui='C0948441', semtypes='[dsyn]', trigger='[\"VENOUS OCCLUSION\"-tx-1-\"venous occlusion\"-noun-0]', location='TX', pos_info='4/16', tree_codes=''), ConceptMMI(index='USER', mm='MMI', score='3.75', preferred_name='Venous occlusion', cui='C4281554', semtypes='[topp]', trigger='[\"Venous occlusion\"-tx-1-\"venous occlusion\"-noun-0]', location='TX', pos_info='4/16', tree_codes='')]}\n",
      "{'drug dependence ': [ConceptMMI(index='USER', mm='MMI', score='6.91', preferred_name='Drug Dependence', cui='C1510472', semtypes='[mobd]', trigger='[\"DRUG DEPENDENCE\"-tx-1-\"drug dependence\"-noun-0]', location='TX', pos_info='4/15', tree_codes='C25.775;F03.900')]}\n",
      "{'lumbar spine fusion': [ConceptMMI(index='USER', mm='MMI', score='3.81', preferred_name='Lumbar spinal fusion', cui='C0186045', semtypes='[topp]', trigger='[\"lumbar spine fusion\"-tx-1-\"lumbar spine fusion\"-noun-0]', location='TX', pos_info='4/19', tree_codes='')]}\n",
      "{'cystic fibrosis  pulmonary': [ConceptMMI(index='USER', mm='MMI', score='10.06', preferred_name='Cystic Fibrosis', cui='C0010674', semtypes='[dsyn]', trigger='[\"CYSTIC FIBROSIS\"-tx-1-\"cystic fibrosis\"-noun-0]', location='TX', pos_info='4/15', tree_codes='C06.689.202;C08.381.187;C16.320.190;C16.614.213'), ConceptMMI(index='USER', mm='MMI', score='8.34', preferred_name='Lung', cui='C0024109', semtypes='[bpoc]', trigger='[\"pulmonary\"-tx-1-\"pulmonary\"-adj-0]', location='TX', pos_info='21/9', tree_codes='A04.411'), ConceptMMI(index='USER', mm='MMI', score='5.18', preferred_name='Pulmonary (intended site)', cui='C4522268', semtypes='[fndg]', trigger='[\"Pulmonary\"-tx-1-\"pulmonary\"-adj-0]', location='TX', pos_info='21/9', tree_codes=''), ConceptMMI(index='USER', mm='MMI', score='5.18', preferred_name='Pulmonary (qualifier value)', cui='C2709248', semtypes='[qlco]', trigger='[\"Pulmonary\"-tx-1-\"pulmonary\"-adj-0]', location='TX', pos_info='21/9', tree_codes=''), ConceptMMI(index='USER', mm='MMI', score='5.18', preferred_name='Pulmonary:-:Point in time:^Patient:-', cui='C2707265', semtypes='[clna]', trigger='[\"Pulmonary\"-tx-1-\"pulmonary\"-adj-0]', location='TX', pos_info='21/9', tree_codes='')]}\n",
      "{'deep neck space infections': [ConceptMMI(index='USER', mm='MMI', score='6.76', preferred_name='Infection', cui='C3714514', semtypes='[patf]', trigger='[\"Infections\"-tx-1-\"infections\"-noun-0]', location='TX', pos_info='20/10', tree_codes='C01.539'), ConceptMMI(index='USER', mm='MMI', score='6.61', preferred_name='Neck', cui='C0027530', semtypes='[blor]', trigger='[\"NECK\"-tx-1-\"neck\"-noun-0]', location='TX', pos_info='9/4', tree_codes='A01.598'), ConceptMMI(index='USER', mm='MMI', score='3.46', preferred_name='Deep (qualifier value)', cui='C0205125', semtypes='[spco]', trigger='[\"DEEP\"-tx-1-\"deep\"-adj-0]', location='TX', pos_info='4/4', tree_codes=''), ConceptMMI(index='USER', mm='MMI', score='3.46', preferred_name='Deep Resection Margin', cui='C4318566', semtypes='[clna]', trigger='[\"Deep\"-tx-1-\"deep\"-adj-0]', location='TX', pos_info='4/4', tree_codes=''), ConceptMMI(index='USER', mm='MMI', score='3.46', preferred_name='Space - property', cui='C1883067', semtypes='[spco]', trigger='[\"Space\"-tx-1-\"space\"-noun-0]', location='TX', pos_info='14/5', tree_codes=''), ConceptMMI(index='USER', mm='MMI', score='3.46', preferred_name='dendritic spine neck', cui='C3159206', semtypes='[celc]', trigger='[\"neck\"-tx-1-\"neck\"-noun-0]', location='TX', pos_info='9/4', tree_codes='')]}\n",
      "{'mature b-cell lymphoma': [ConceptMMI(index='USER', mm='MMI', score='3.85', preferred_name='Mature B-Cell Non-Hodgkin Lymphoma', cui='C1334634', semtypes='[neop]', trigger='[\"Mature B-Cell Lymphoma\"-tx-1-\"mature b-cell lymphoma\"-noun-0]', location='TX', pos_info='4/22', tree_codes='')]}\n",
      "{'high grade squamous intra-epithelial lesion (hsil)': [ConceptMMI(index='USER', mm='MMI', score='46.23', preferred_name='High-Grade Squamous Intraepithelial Lesions', cui='C0333875', semtypes='[neop]', trigger='[\"HSIL\"-tx-1-\"hsil\"-noun-0,\"High-Grade Squamous Intraepithelial Lesion\"-tx-1-\"high grade squamous intra-epithelial lesion\"-noun-0]', location='TX', pos_info='49/4;4/43', tree_codes='C04.834.818.500;C13.351.500.852.593.074.500;C23.149.750')]}\n",
      "{'non st segment elevation mi and unstable angina': [ConceptMMI(index='USER', mm='MMI', score='24.11', preferred_name='Angina, Unstable', cui='C0002965', semtypes='[dsyn]', trigger='[\"Angina, Unstable\"-tx-1-\"unstable angina\"-noun-1]', location='TX', pos_info='36/15', tree_codes='C14.280.647.187.150;C14.907.585.187.150;C23.888.592.612.233.500.150'), ConceptMMI(index='USER', mm='MMI', score='3.68', preferred_name='ST segment elevation (finding)', cui='C0520886', semtypes='[fndg]', trigger='[\"ST Segment Elevation\"-tx-1-\"st segment elevation\"-noun-1]', location='TX', pos_info='8/20', tree_codes=''), ConceptMMI(index='USER', mm='MMI', score='3.60', preferred_name='Myocardial Infarction ECG Assessment', cui='C3810814', semtypes='[diap]', trigger='[\"MI\"-tx-1-\"mi\"-noun-0]', location='TX', pos_info='29/2', tree_codes=''), ConceptMMI(index='USER', mm='MMI', score='3.60', preferred_name='Negation', cui='C1518422', semtypes='[ftcn]', trigger='[\"Non\"-tx-1-\"non\"-noun-0]', location='TX', pos_info='4/3', tree_codes='')]}\n",
      "{'strabismic amblyopia': [ConceptMMI(index='USER', mm='MMI', score='19.52', preferred_name='Amblyopia, Suppression', cui='C0750903', semtypes='[dsyn]', trigger='[\"Amblyopia, strabismic\"-tx-1-\"strabismic amblyopia\"-noun-0]', location='TX', pos_info='4/20', tree_codes='C10.228.140.055;C10.597.751.941.073;C11.966.073;C23.888.592.763.941.073')]}\n",
      "{'body mass index quantitative trait locus 7 disorder': [ConceptMMI(index='USER', mm='MMI', score='9.90', preferred_name='Disease', cui='C0012634', semtypes='[dsyn]', trigger='[\"Disorder\"-tx-1-\"disorder\"-noun-0]', location='TX', pos_info='47/8', tree_codes='C23.550.288'), ConceptMMI(index='USER', mm='MMI', score='3.56', preferred_name='BODY MASS INDEX QUANTITATIVE TRAIT LOCUS 7', cui='C2675358', semtypes='[fndg]', trigger='[\"BODY MASS INDEX QUANTITATIVE TRAIT LOCUS 7\"-tx-1-\"body mass index quantitative trait locus 7\"-noun-0]', location='TX', pos_info='4/42', tree_codes='')]}\n",
      "{'growth retardation': [ConceptMMI(index='USER', mm='MMI', score='3.75', preferred_name='Growth retardation', cui='C0151686', semtypes='[patf]', trigger='[\"GROWTH RETARDATION\"-tx-1-\"growth retardation\"-noun-0]', location='TX', pos_info='4/18', tree_codes='')]}\n",
      "{'sedation during': [ConceptMMI(index='USER', mm='MMI', score='3.59', preferred_name='Sedated state', cui='C0235195', semtypes='[fndg]', trigger='[\"Sedation\"-tx-1-\"sedation\"-noun-0]', location='TX', pos_info='4/8', tree_codes=''), ConceptMMI(index='USER', mm='MMI', score='3.59', preferred_name='Sedation procedure', cui='C0344106', semtypes='[topp]', trigger='[\"Sedation\"-tx-1-\"sedation\"-noun-0]', location='TX', pos_info='4/8', tree_codes='')]}\n",
      "{'systolic and diastolic blood pressure levels': [ConceptMMI(index='USER', mm='MMI', score='17.80', preferred_name='Systole', cui='C0039155', semtypes='[tmco]', trigger='[\"Systolic\"-tx-1-\"systolic\"-adj-0]', location='TX', pos_info='4/8', tree_codes='G09.330.580.880;G11.427.494.570.880'), ConceptMMI(index='USER', mm='MMI', score='3.81', preferred_name='Diastolic blood pressure', cui='C0428883', semtypes='[clna]', trigger='[\"Diastolic Blood Pressure\"-tx-1-\"diastolic blood pressure\"-noun-0]', location='TX', pos_info='17/24', tree_codes=''), ConceptMMI(index='USER', mm='MMI', score='3.81', preferred_name='Diastolic blood pressure measurement', cui='C1305849', semtypes='[diap]', trigger='[\"diastolic blood pressure\"-tx-1-\"diastolic blood pressure\"-noun-0]', location='TX', pos_info='17/24', tree_codes=''), ConceptMMI(index='USER', mm='MMI', score='3.61', preferred_name='Levels (qualifier value)', cui='C0441889', semtypes='[qlco]', trigger='[\"Levels\"-tx-1-\"levels\"-noun-0]', location='TX', pos_info='42/6', tree_codes='')]}\n",
      "{'muscle diseases': [ConceptMMI(index='USER', mm='MMI', score='10.06', preferred_name='Myopathy', cui='C0026848', semtypes='[dsyn]', trigger='[\"Muscle Diseases\"-tx-1-\"muscle diseases\"-noun-0]', location='TX', pos_info='4/15', tree_codes='C05.651;C10.668.491')]}\n",
      "{'advanced or metastatic esophageal squamous cell cancer without previous systemic chemotherapy': [ConceptMMI(index='USER', mm='MMI', score='5.18', preferred_name='Advanced phase', cui='C0205179', semtypes='[qlco]', trigger='[\"Advanced\"-tx-1-\"advanced\"-verb-0]', location='TX', pos_info='4/8', tree_codes=''), ConceptMMI(index='USER', mm='MMI', score='3.63', preferred_name='Stage IV Esophageal Squamous Cell Carcinoma', cui='C1142025', semtypes='[neop]', trigger='[\"Metastatic Esophageal Squamous Cell Carcinoma\"-tx-1-\"metastatic esophageal squamous cell cancer\"-noun-1]', location='TX', pos_info='16/42', tree_codes=''), ConceptMMI(index='USER', mm='MMI', score='3.43', preferred_name='Systemic Chemotherapy', cui='C1883256', semtypes='[topp]', trigger='[\"Systemic Chemotherapy\"-tx-1-\"systemic chemotherapy\"-noun-0]', location='TX', pos_info='76/21', tree_codes=''), ConceptMMI(index='USER', mm='MMI', score='3.42', preferred_name='Act Relationship Subset - previous', cui='C1552607', semtypes='[tmco]', trigger='[\"previous\"-tx-1-\"previous\"-adj-0]', location='TX', pos_info='67/8', tree_codes=''), ConceptMMI(index='USER', mm='MMI', score='3.42', preferred_name='Previous', cui='C0205156', semtypes='[tmco]', trigger='[\"Previous\"-tx-1-\"previous\"-adj-0]', location='TX', pos_info='67/8', tree_codes='')]}\n",
      "{'rhytides': [ConceptMMI(index='USER', mm='MMI', score='9.99', preferred_name='Skin Wrinkling', cui='C0037301', semtypes='[fndg]', trigger='[\"rhytides\"-tx-1-\"rhytides\"-noun-0]', location='TX', pos_info='4/8', tree_codes='G13.750.804'), ConceptMMI(index='USER', mm='MMI', score='3.68', preferred_name='Wrinkled structure', cui='C2729169', semtypes='[anab]', trigger='[\"Rhytides\"-tx-1-\"rhytides\"-noun-0]', location='TX', pos_info='4/8', tree_codes='')]}\n",
      "{'major neurocognitive disorder with aggressive behavior': [ConceptMMI(index='USER', mm='MMI', score='3.88', preferred_name='Major neurocognitive disorder with aggressive behavior', cui='C4268194', semtypes='[mobd]', trigger='[\"Major neurocognitive disorder with aggressive behavior\"-tx-1-\"major neurocognitive disorder with aggressive behavior\"-noun-0]', location='TX', pos_info='4/54', tree_codes='')]}\n"
     ]
    }
   ],
   "source": [
    "number_of_processes = 4\n",
    "results = multiprocessing.Pool(number_of_processes).map(run_metamap, test_dict.values())\n",
    "for result in results:\n",
    "    print(result)"
   ]
  },
  {
   "cell_type": "code",
   "execution_count": null,
   "metadata": {},
   "outputs": [],
   "source": [
    "outputs"
   ]
  },
  {
   "cell_type": "code",
   "execution_count": null,
   "metadata": {},
   "outputs": [],
   "source": []
  },
  {
   "cell_type": "code",
   "execution_count": null,
   "metadata": {},
   "outputs": [],
   "source": []
  },
  {
   "cell_type": "code",
   "execution_count": null,
   "metadata": {},
   "outputs": [],
   "source": [
    "# final_df['col1'].map(di).fillna(final_df['col1'])\n",
    "final_df['processed_interventions'] = final_df['object_name'].map(interventions_mappings).fillna(final_df['object_name'])\n"
   ]
  },
  {
   "cell_type": "code",
   "execution_count": null,
   "metadata": {},
   "outputs": [],
   "source": [
    "final_df"
   ]
  },
  {
   "cell_type": "code",
   "execution_count": null,
   "metadata": {},
   "outputs": [],
   "source": []
  },
  {
   "cell_type": "code",
   "execution_count": null,
   "metadata": {},
   "outputs": [],
   "source": []
  },
  {
   "cell_type": "code",
   "execution_count": null,
   "metadata": {},
   "outputs": [],
   "source": []
  },
  {
   "cell_type": "code",
   "execution_count": null,
   "metadata": {},
   "outputs": [],
   "source": []
  },
  {
   "cell_type": "code",
   "execution_count": null,
   "metadata": {},
   "outputs": [],
   "source": []
  },
  {
   "cell_type": "code",
   "execution_count": null,
   "metadata": {},
   "outputs": [],
   "source": []
  },
  {
   "cell_type": "code",
   "execution_count": null,
   "metadata": {},
   "outputs": [],
   "source": []
  },
  {
   "cell_type": "code",
   "execution_count": null,
   "metadata": {},
   "outputs": [],
   "source": []
  },
  {
   "cell_type": "code",
   "execution_count": null,
   "metadata": {},
   "outputs": [],
   "source": []
  },
  {
   "cell_type": "code",
   "execution_count": null,
   "metadata": {},
   "outputs": [],
   "source": []
  },
  {
   "cell_type": "code",
   "execution_count": null,
   "metadata": {},
   "outputs": [],
   "source": []
  },
  {
   "cell_type": "code",
   "execution_count": null,
   "metadata": {},
   "outputs": [],
   "source": []
  },
  {
   "cell_type": "code",
   "execution_count": null,
   "metadata": {},
   "outputs": [],
   "source": [
    "orig_and_process_interventions = pd.DataFrame(list(zip(interventions, result)))\n",
    "orig_and_process_interventions.columns = ['input_intervention', 'processed_intervention']"
   ]
  },
  {
   "cell_type": "code",
   "execution_count": null,
   "metadata": {},
   "outputs": [],
   "source": [
    "orig_and_process_interventions"
   ]
  },
  {
   "cell_type": "code",
   "execution_count": null,
   "metadata": {},
   "outputs": [],
   "source": [
    "orig_and_process_interventions.to_csv('processed_interventions_check.csv', sep ='\\t', index=False)\n",
    "\n"
   ]
  },
  {
   "cell_type": "code",
   "execution_count": null,
   "metadata": {},
   "outputs": [],
   "source": [
    "# loop through list of interventions, separate the intervention string into char, use dictionary lookup to pick out non-ascii char and replace in string with value from dict    \n",
    "processed_interventions = [''.join([ascii_char_dict.get(item,item) for item in list(interventions)]) for intervention in interventions]\n"
   ]
  },
  {
   "cell_type": "code",
   "execution_count": null,
   "metadata": {},
   "outputs": [],
   "source": [
    "# encode any remaining non-ascii characters\n",
    "interventions_deascii = [intervention.encode('ascii', 'ignore').decode('ascii') for intervention in processed_interventions]\n",
    "   \n",
    "orig_and_process_interventions = pd.DataFrame(list(zip(interventions, interventions_deascii)))\n",
    "orig_and_process_interventions.columns = ['input_intervention', 'processed_intervention']\n",
    "orig_and_process_interventions[:100]\n"
   ]
  },
  {
   "cell_type": "code",
   "execution_count": null,
   "metadata": {},
   "outputs": [],
   "source": [
    "# interventions = final_df['object_name'].unique()\n",
    "# print(type(interventions))\n",
    "# len(interventions)\n"
   ]
  },
  {
   "cell_type": "code",
   "execution_count": null,
   "metadata": {},
   "outputs": [],
   "source": [
    "print(interventions[131405])"
   ]
  },
  {
   "cell_type": "code",
   "execution_count": null,
   "metadata": {},
   "outputs": [],
   "source": [
    "print(\"how many unique interventions: \" + str(len(interventions)))\n",
    "print(\"how many unique diseases: \" + str(len(diseases)))"
   ]
  },
  {
   "cell_type": "code",
   "execution_count": null,
   "metadata": {},
   "outputs": [],
   "source": [
    "###### COMMENT TO REVERT TO ORIGINAL SIZED DATA SETS, THESE CELLS CREATE SUBSETS OF DATA FOR TESTING PURPOSES\n",
    "\n",
    "orig_and_process_diseases = orig_and_process_diseases[:200]\n",
    "orig_and_process_interventions = orig_and_process_interventions[:200]"
   ]
  },
  {
   "cell_type": "code",
   "execution_count": null,
   "metadata": {},
   "outputs": [],
   "source": [
    "with open('processed_diseases_check.csv','w') as out:\n",
    "    csv_out=csv.writer(out)\n",
    "    csv_out.writerow(['original_disease','disease_de_ascii'])\n",
    "    for row in orig_and_process_diseases:\n",
    "        csv_out.writerow(row)\n"
   ]
  },
  {
   "cell_type": "code",
   "execution_count": null,
   "metadata": {},
   "outputs": [],
   "source": [
    "# testing metamap on small subsets\n",
    "diseases_mapped = []\n",
    "\n",
    "for disease in diseases_deascii[6150:6250]:\n",
    "    disease = [disease]\n",
    "    concepts,error = mm.extract_concepts(disease)\n",
    "#     disease_concepts.append(concepts)\n",
    "    disease_mapped = [disease, concepts]\n",
    "    diseases_mapped.append(disease_mapped)\n",
    "\n",
    "mapped_diseases_df = pd.DataFrame(diseases_mapped)  \n",
    "mapped_diseases_df"
   ]
  },
  {
   "cell_type": "code",
   "execution_count": null,
   "metadata": {},
   "outputs": [],
   "source": [
    "def run_metamap(orig_and_process_diseases_slice):\n",
    "    mapped_slice = [] \n",
    "    for index, row in orig_and_process_diseases_slice.iterrows():\n",
    "        disease = [row['processed_disease']]  \n",
    "        concepts,error = mm.extract_concepts(disease)\n",
    "        mapped_row = [row['input_disease'], row['processed_disease'], concepts]\n",
    "        mapped_slice.append(mapped_row)\n",
    "    return(mapped_slice)\n",
    "        \n",
    "\n",
    "mappings = pd.DataFrame(columns=['input_disease', 'processed_disease', 'metamapped_disease'])\n",
    "for i in range(0, len(orig_and_process_diseases), 100):\n",
    "# for i in range(0, 200, 10):\n",
    "    mapped = run_metamap(orig_and_process_diseases[i:i+100])\n",
    "    mapped = pd.DataFrame(mapped, columns=['input_disease', 'processed_disease', 'metamapped_disease'])\n",
    "    mappings = mappings.append(mapped)\n",
    "    print(\"index at: \" + str(i))\n",
    "  \n"
   ]
  },
  {
   "cell_type": "code",
   "execution_count": null,
   "metadata": {},
   "outputs": [],
   "source": [
    "mappings.to_pickle('mappings.pkl')\n"
   ]
  },
  {
   "cell_type": "code",
   "execution_count": null,
   "metadata": {},
   "outputs": [],
   "source": [
    "mappings \n"
   ]
  },
  {
   "cell_type": "code",
   "execution_count": null,
   "metadata": {},
   "outputs": [],
   "source": [
    "print(len(mappings))"
   ]
  },
  {
   "cell_type": "code",
   "execution_count": null,
   "metadata": {},
   "outputs": [],
   "source": [
    "# sample_mappings = mappings"
   ]
  },
  {
   "cell_type": "code",
   "execution_count": null,
   "metadata": {},
   "outputs": [],
   "source": [
    "sample_mappings"
   ]
  },
  {
   "cell_type": "code",
   "execution_count": null,
   "metadata": {},
   "outputs": [],
   "source": [
    "pd.set_option('display.max_rows', None)\n",
    "pd.set_option('display.max_columns', None)\n",
    "pd.set_option('display.width', None)\n",
    "pd.set_option('display.max_colwidth', None)\n",
    "mapped"
   ]
  },
  {
   "cell_type": "code",
   "execution_count": null,
   "metadata": {},
   "outputs": [],
   "source": [
    "# use pooling to multiprocess\n",
    "\n",
    "import psutil \n",
    "print(psutil.cpu_count(logical = False))\n",
    "print(psutil.cpu_count(logical = True))\n"
   ]
  },
  {
   "cell_type": "code",
   "execution_count": null,
   "metadata": {},
   "outputs": [],
   "source": [
    "# create batch functions to run"
   ]
  },
  {
   "cell_type": "code",
   "execution_count": null,
   "metadata": {},
   "outputs": [],
   "source": [
    "import multiprocessing\n",
    "\n",
    "process_list = []\n",
    "for i in range(2):\n",
    "    p =  multiprocessing.Process(target=run_metamap)\n",
    "    p.start()\n",
    "    process_list.append(p)\n",
    "\n",
    "for process in process_list:\n",
    "    process.join()"
   ]
  },
  {
   "cell_type": "code",
   "execution_count": null,
   "metadata": {},
   "outputs": [],
   "source": [
    "# create function to run metamap faster and allow pooling\n",
    "def run_metamap(orig_and_process_diseases_slice):\n",
    "    mapped_slice = [] \n",
    "    for index, row in orig_and_process_diseases_slice.iterrows():\n",
    "        disease = [row['processed_disease']]  \n",
    "        concepts,error = mm.extract_concepts(disease)\n",
    "        mapped_row = [row['input_disease'], row['processed_disease'], concepts]\n",
    "        mapped_slice.append(mapped_row)\n",
    "    return(mapped_slice)\n",
    "        \n",
    "def batch_create(orig_and_process_diseases):\n",
    "    mappings = pd.DataFrame(columns=['input_disease', 'processed_disease', 'metamapped_disease'])\n",
    "    for i in range(0, len(orig_and_process_diseases), 100):\n",
    "    # for i in range(0, 200, 10):\n",
    "        mapped = run_metamap(orig_and_process_diseases[i:i+100])\n",
    "        mapped = pd.DataFrame(mapped, columns=['input_disease', 'processed_disease', 'metamapped_disease'])\n",
    "        mappings = mappings.append(mapped)\n",
    "        print(\"index at: \" + str(i))"
   ]
  },
  {
   "cell_type": "code",
   "execution_count": null,
   "metadata": {},
   "outputs": [],
   "source": [
    "batch_create(orig_and_process_diseases)"
   ]
  },
  {
   "cell_type": "code",
   "execution_count": null,
   "metadata": {},
   "outputs": [],
   "source": [
    "\n",
    "process_list = []\n",
    "for i in range(2):\n",
    "    p =  multiprocessing.Process(target=batch_create(orig_and_process_diseases))\n",
    "    p.start()\n",
    "    process_list.append(p)\n",
    "\n",
    "for process in process_list:\n",
    "    process.join()"
   ]
  },
  {
   "cell_type": "code",
   "execution_count": null,
   "metadata": {},
   "outputs": [],
   "source": [
    "target1 = batch_create(orig_and_process_diseases) \n",
    "target2 = batch_create(orig_and_process_interventions) "
   ]
  },
  {
   "cell_type": "code",
   "execution_count": null,
   "metadata": {},
   "outputs": [],
   "source": []
  },
  {
   "cell_type": "code",
   "execution_count": null,
   "metadata": {},
   "outputs": [],
   "source": [
    "# diseases_mappings = dict((i, run_metamap(i)) for i in diseases[:5])\n",
    "diseases_mappings = {k:run_metamap(v) for k, v in diseases_translated.items()}\n",
    "diseases_mappings\n",
    "interventions_mappings = {k:run_metamap(v) for k, v in interventions_translated.items()}\n",
    "interventions_mappings"
   ]
  },
  {
   "cell_type": "code",
   "execution_count": null,
   "metadata": {},
   "outputs": [],
   "source": []
  },
  {
   "cell_type": "code",
   "execution_count": null,
   "metadata": {},
   "outputs": [],
   "source": []
  },
  {
   "cell_type": "code",
   "execution_count": null,
   "metadata": {},
   "outputs": [],
   "source": [
    "my_list = [i for i in range(10123)]\n",
    "for i in range(0, len(my_list), 100)\n",
    "    process_list(my_list[i:i+100])\n",
    "\n",
    "\n",
    "def process_list(my_list)\n",
    "    url = 'https://api.example.com'\n",
    "    data = {'update_list': my_list}\n",
    "    headers = {'auth': auth}\n",
    "    r = requests.put(url, data=json.dumps(data), headers=headers)"
   ]
  },
  {
   "cell_type": "code",
   "execution_count": null,
   "metadata": {},
   "outputs": [],
   "source": [
    "# DON'T FORGET TO CHANGE PYMASTER SCRIPT TO OUTPUT SNOMED ONLY TERMS"
   ]
  },
  {
   "cell_type": "code",
   "execution_count": null,
   "metadata": {},
   "outputs": [],
   "source": []
  },
  {
   "cell_type": "code",
   "execution_count": null,
   "metadata": {},
   "outputs": [],
   "source": []
  },
  {
   "cell_type": "code",
   "execution_count": null,
   "metadata": {},
   "outputs": [],
   "source": []
  },
  {
   "cell_type": "code",
   "execution_count": null,
   "metadata": {},
   "outputs": [],
   "source": []
  },
  {
   "cell_type": "code",
   "execution_count": null,
   "metadata": {},
   "outputs": [],
   "source": []
  },
  {
   "cell_type": "code",
   "execution_count": null,
   "metadata": {},
   "outputs": [],
   "source": []
  },
  {
   "cell_type": "code",
   "execution_count": null,
   "metadata": {},
   "outputs": [],
   "source": []
  },
  {
   "cell_type": "code",
   "execution_count": null,
   "metadata": {},
   "outputs": [],
   "source": []
  },
  {
   "cell_type": "code",
   "execution_count": null,
   "metadata": {},
   "outputs": [],
   "source": []
  },
  {
   "cell_type": "code",
   "execution_count": null,
   "metadata": {},
   "outputs": [],
   "source": []
  },
  {
   "cell_type": "code",
   "execution_count": null,
   "metadata": {},
   "outputs": [],
   "source": []
  },
  {
   "cell_type": "code",
   "execution_count": null,
   "metadata": {},
   "outputs": [],
   "source": []
  },
  {
   "cell_type": "code",
   "execution_count": null,
   "metadata": {},
   "outputs": [],
   "source": []
  },
  {
   "cell_type": "code",
   "execution_count": null,
   "metadata": {},
   "outputs": [],
   "source": []
  }
 ],
 "metadata": {
  "kernelspec": {
   "display_name": "Python 3",
   "language": "python",
   "name": "python3"
  },
  "language_info": {
   "codemirror_mode": {
    "name": "ipython",
    "version": 3
   },
   "file_extension": ".py",
   "mimetype": "text/x-python",
   "name": "python",
   "nbconvert_exporter": "python",
   "pygments_lexer": "ipython3",
   "version": "3.7.6"
  }
 },
 "nbformat": 4,
 "nbformat_minor": 4
}
